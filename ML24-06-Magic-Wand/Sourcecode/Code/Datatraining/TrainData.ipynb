{
  "nbformat": 4,
  "nbformat_minor": 0,
  "metadata": {
    "colab": {
      "provenance": []
    },
    "kernelspec": {
      "name": "python3",
      "display_name": "Python 3"
    },
    "language_info": {
      "name": "python"
    }
  },
  "cells": [
    {
      "cell_type": "code",
      "execution_count": null,
      "metadata": {
        "colab": {
          "base_uri": "https://localhost:8080/"
        },
        "id": "hfNOi-z70XMq",
        "outputId": "7bbf629e-6bac-4dbb-c37f-660bc5df1441"
      },
      "outputs": [
        {
          "output_type": "stream",
          "name": "stdout",
          "text": [
            "Hit:1 http://archive.ubuntu.com/ubuntu jammy InRelease\n",
            "Get:2 http://archive.ubuntu.com/ubuntu jammy-updates InRelease [119 kB]\n",
            "Hit:3 http://archive.ubuntu.com/ubuntu jammy-backports InRelease\n",
            "Get:4 http://security.ubuntu.com/ubuntu jammy-security InRelease [110 kB]\n",
            "Get:5 https://cloud.r-project.org/bin/linux/ubuntu jammy-cran40/ InRelease [3,626 B]\n",
            "Hit:6 https://developer.download.nvidia.com/compute/cuda/repos/ubuntu2204/x86_64  InRelease\n",
            "Get:7 https://ppa.launchpadcontent.net/c2d4u.team/c2d4u4.0+/ubuntu jammy InRelease [18.1 kB]\n",
            "Hit:8 https://ppa.launchpadcontent.net/deadsnakes/ppa/ubuntu jammy InRelease\n",
            "Hit:9 https://ppa.launchpadcontent.net/graphics-drivers/ppa/ubuntu jammy InRelease\n",
            "Hit:10 https://ppa.launchpadcontent.net/ubuntugis/ppa/ubuntu jammy InRelease\n",
            "Get:11 http://archive.ubuntu.com/ubuntu jammy-updates/multiverse amd64 Packages [50.4 kB]\n",
            "Get:12 http://archive.ubuntu.com/ubuntu jammy-updates/main amd64 Packages [1,617 kB]\n",
            "Get:13 http://archive.ubuntu.com/ubuntu jammy-updates/universe amd64 Packages [1,309 kB]\n",
            "Get:14 http://security.ubuntu.com/ubuntu jammy-security/universe amd64 Packages [1,049 kB]\n",
            "Get:15 https://ppa.launchpadcontent.net/c2d4u.team/c2d4u4.0+/ubuntu jammy/main Sources [2,263 kB]\n",
            "Get:16 http://security.ubuntu.com/ubuntu jammy-security/main amd64 Packages [1,340 kB]\n",
            "Get:17 https://ppa.launchpadcontent.net/c2d4u.team/c2d4u4.0+/ubuntu jammy/main amd64 Packages [1,161 kB]\n",
            "Fetched 9,041 kB in 5s (1,804 kB/s)\n",
            "Reading package lists... Done\n"
          ]
        }
      ],
      "source": [
        "import tensorflow as tf\n",
        "from tensorflow import keras\n",
        "from tensorflow.keras import layers\n",
        "from tensorflow.keras.preprocessing import image_dataset_from_directory\n",
        "from google.colab import files\n",
        "from IPython.display import Image, display\n",
        "import numpy as np\n",
        "import pandas as pd\n",
        "import matplotlib.pyplot as plt\n",
        "from pathlib import Path\n",
        "import shutil\n",
        "import PIL\n",
        "import math\n",
        "import glob\n",
        "import json\n",
        "import os\n",
        "!apt-get update && apt-get -qq install xxd"
      ]
    },
    {
      "cell_type": "code",
      "source": [
        "# Define filenames and set up directory structure\n",
        "MODELS_DIR = 'models'\n",
        "if not os.path.exists(MODELS_DIR):\n",
        "  os.mkdir(MODELS_DIR)\n",
        "SAVED_MODEL_FILENAME = os.path.join(MODELS_DIR, \"magic_wand\")\n",
        "FLOAT_TFL_MODEL_FILENAME = os.path.join(MODELS_DIR, \"magic_wand_float.tfl\")\n",
        "QUANTIZED_TFL_MODEL_FILENAME = os.path.join(MODELS_DIR, \"magic_wand.tfl\")\n",
        "TFL_CC_MODEL_FILENAME = os.path.join(MODELS_DIR, \"magic_wand.cc\")\n",
        "\n",
        "DATASET_DIR =  'dataset'\n",
        "if not os.path.exists(DATASET_DIR):\n",
        "  os.mkdir(DATASET_DIR)\n",
        "TRAIN_DIR = os.path.join(DATASET_DIR, \"train\")\n",
        "VAL_DIR = os.path.join(DATASET_DIR, \"validation\")\n",
        "TEST_DIR = os.path.join(DATASET_DIR, \"test\")\n",
        "!rm -rf sample_data\n",
        "\n",
        "CHKPT_DIR =  'checkpoints'\n",
        "if not os.path.exists(CHKPT_DIR):\n",
        "  os.mkdir(CHKPT_DIR)"
      ],
      "metadata": {
        "id": "oVq47p6T0ugg"
      },
      "execution_count": null,
      "outputs": []
    },
    {
      "cell_type": "code",
      "source": [
        "# Train Split\n",
        "TEST_PERCENTAGE = 10\n",
        "VALIDATION_PERCENTAGE = 10\n",
        "TRAIN_PERCENTAGE = 100 - (TEST_PERCENTAGE + VALIDATION_PERCENTAGE)"
      ],
      "metadata": {
        "id": "pDFZr_Y10zUq"
      },
      "execution_count": null,
      "outputs": []
    },
    {
      "cell_type": "code",
      "source": [
        "# Upload your files\n",
        "os.chdir(\"/content/dataset\")\n",
        "uploaded = files.upload()\n",
        "os.chdir(\"/content\")"
      ],
      "metadata": {
        "colab": {
          "base_uri": "https://localhost:8080/",
          "height": 73
        },
        "id": "E0vm3U4RRN35",
        "outputId": "326cdedb-7220-4d9b-a6ae-d8a6e7df8d62"
      },
      "execution_count": null,
      "outputs": [
        {
          "output_type": "display_data",
          "data": {
            "text/plain": [
              "<IPython.core.display.HTML object>"
            ],
            "text/html": [
              "\n",
              "     <input type=\"file\" id=\"files-ffbce667-4cbc-44ca-aa56-97c51c036b89\" name=\"files[]\" multiple disabled\n",
              "        style=\"border:none\" />\n",
              "     <output id=\"result-ffbce667-4cbc-44ca-aa56-97c51c036b89\">\n",
              "      Upload widget is only available when the cell has been executed in the\n",
              "      current browser session. Please rerun this cell to enable.\n",
              "      </output>\n",
              "      <script>// Copyright 2017 Google LLC\n",
              "//\n",
              "// Licensed under the Apache License, Version 2.0 (the \"License\");\n",
              "// you may not use this file except in compliance with the License.\n",
              "// You may obtain a copy of the License at\n",
              "//\n",
              "//      http://www.apache.org/licenses/LICENSE-2.0\n",
              "//\n",
              "// Unless required by applicable law or agreed to in writing, software\n",
              "// distributed under the License is distributed on an \"AS IS\" BASIS,\n",
              "// WITHOUT WARRANTIES OR CONDITIONS OF ANY KIND, either express or implied.\n",
              "// See the License for the specific language governing permissions and\n",
              "// limitations under the License.\n",
              "\n",
              "/**\n",
              " * @fileoverview Helpers for google.colab Python module.\n",
              " */\n",
              "(function(scope) {\n",
              "function span(text, styleAttributes = {}) {\n",
              "  const element = document.createElement('span');\n",
              "  element.textContent = text;\n",
              "  for (const key of Object.keys(styleAttributes)) {\n",
              "    element.style[key] = styleAttributes[key];\n",
              "  }\n",
              "  return element;\n",
              "}\n",
              "\n",
              "// Max number of bytes which will be uploaded at a time.\n",
              "const MAX_PAYLOAD_SIZE = 100 * 1024;\n",
              "\n",
              "function _uploadFiles(inputId, outputId) {\n",
              "  const steps = uploadFilesStep(inputId, outputId);\n",
              "  const outputElement = document.getElementById(outputId);\n",
              "  // Cache steps on the outputElement to make it available for the next call\n",
              "  // to uploadFilesContinue from Python.\n",
              "  outputElement.steps = steps;\n",
              "\n",
              "  return _uploadFilesContinue(outputId);\n",
              "}\n",
              "\n",
              "// This is roughly an async generator (not supported in the browser yet),\n",
              "// where there are multiple asynchronous steps and the Python side is going\n",
              "// to poll for completion of each step.\n",
              "// This uses a Promise to block the python side on completion of each step,\n",
              "// then passes the result of the previous step as the input to the next step.\n",
              "function _uploadFilesContinue(outputId) {\n",
              "  const outputElement = document.getElementById(outputId);\n",
              "  const steps = outputElement.steps;\n",
              "\n",
              "  const next = steps.next(outputElement.lastPromiseValue);\n",
              "  return Promise.resolve(next.value.promise).then((value) => {\n",
              "    // Cache the last promise value to make it available to the next\n",
              "    // step of the generator.\n",
              "    outputElement.lastPromiseValue = value;\n",
              "    return next.value.response;\n",
              "  });\n",
              "}\n",
              "\n",
              "/**\n",
              " * Generator function which is called between each async step of the upload\n",
              " * process.\n",
              " * @param {string} inputId Element ID of the input file picker element.\n",
              " * @param {string} outputId Element ID of the output display.\n",
              " * @return {!Iterable<!Object>} Iterable of next steps.\n",
              " */\n",
              "function* uploadFilesStep(inputId, outputId) {\n",
              "  const inputElement = document.getElementById(inputId);\n",
              "  inputElement.disabled = false;\n",
              "\n",
              "  const outputElement = document.getElementById(outputId);\n",
              "  outputElement.innerHTML = '';\n",
              "\n",
              "  const pickedPromise = new Promise((resolve) => {\n",
              "    inputElement.addEventListener('change', (e) => {\n",
              "      resolve(e.target.files);\n",
              "    });\n",
              "  });\n",
              "\n",
              "  const cancel = document.createElement('button');\n",
              "  inputElement.parentElement.appendChild(cancel);\n",
              "  cancel.textContent = 'Cancel upload';\n",
              "  const cancelPromise = new Promise((resolve) => {\n",
              "    cancel.onclick = () => {\n",
              "      resolve(null);\n",
              "    };\n",
              "  });\n",
              "\n",
              "  // Wait for the user to pick the files.\n",
              "  const files = yield {\n",
              "    promise: Promise.race([pickedPromise, cancelPromise]),\n",
              "    response: {\n",
              "      action: 'starting',\n",
              "    }\n",
              "  };\n",
              "\n",
              "  cancel.remove();\n",
              "\n",
              "  // Disable the input element since further picks are not allowed.\n",
              "  inputElement.disabled = true;\n",
              "\n",
              "  if (!files) {\n",
              "    return {\n",
              "      response: {\n",
              "        action: 'complete',\n",
              "      }\n",
              "    };\n",
              "  }\n",
              "\n",
              "  for (const file of files) {\n",
              "    const li = document.createElement('li');\n",
              "    li.append(span(file.name, {fontWeight: 'bold'}));\n",
              "    li.append(span(\n",
              "        `(${file.type || 'n/a'}) - ${file.size} bytes, ` +\n",
              "        `last modified: ${\n",
              "            file.lastModifiedDate ? file.lastModifiedDate.toLocaleDateString() :\n",
              "                                    'n/a'} - `));\n",
              "    const percent = span('0% done');\n",
              "    li.appendChild(percent);\n",
              "\n",
              "    outputElement.appendChild(li);\n",
              "\n",
              "    const fileDataPromise = new Promise((resolve) => {\n",
              "      const reader = new FileReader();\n",
              "      reader.onload = (e) => {\n",
              "        resolve(e.target.result);\n",
              "      };\n",
              "      reader.readAsArrayBuffer(file);\n",
              "    });\n",
              "    // Wait for the data to be ready.\n",
              "    let fileData = yield {\n",
              "      promise: fileDataPromise,\n",
              "      response: {\n",
              "        action: 'continue',\n",
              "      }\n",
              "    };\n",
              "\n",
              "    // Use a chunked sending to avoid message size limits. See b/62115660.\n",
              "    let position = 0;\n",
              "    do {\n",
              "      const length = Math.min(fileData.byteLength - position, MAX_PAYLOAD_SIZE);\n",
              "      const chunk = new Uint8Array(fileData, position, length);\n",
              "      position += length;\n",
              "\n",
              "      const base64 = btoa(String.fromCharCode.apply(null, chunk));\n",
              "      yield {\n",
              "        response: {\n",
              "          action: 'append',\n",
              "          file: file.name,\n",
              "          data: base64,\n",
              "        },\n",
              "      };\n",
              "\n",
              "      let percentDone = fileData.byteLength === 0 ?\n",
              "          100 :\n",
              "          Math.round((position / fileData.byteLength) * 100);\n",
              "      percent.textContent = `${percentDone}% done`;\n",
              "\n",
              "    } while (position < fileData.byteLength);\n",
              "  }\n",
              "\n",
              "  // All done.\n",
              "  yield {\n",
              "    response: {\n",
              "      action: 'complete',\n",
              "    }\n",
              "  };\n",
              "}\n",
              "\n",
              "scope.google = scope.google || {};\n",
              "scope.google.colab = scope.google.colab || {};\n",
              "scope.google.colab._files = {\n",
              "  _uploadFiles,\n",
              "  _uploadFilesContinue,\n",
              "};\n",
              "})(self);\n",
              "</script> "
            ]
          },
          "metadata": {}
        },
        {
          "output_type": "stream",
          "name": "stdout",
          "text": [
            "Saving wanddata.json to wanddata.json\n"
          ]
        }
      ]
    },
    {
      "cell_type": "code",
      "source": [
        "NUM_GESTURES = 3 # UPDATE THIS WITH THE NUMBER OF UNIQUE GESTURES IN YOUR DATASET #"
      ],
      "metadata": {
        "id": "hf0-M_SX0_n6"
      },
      "execution_count": null,
      "outputs": []
    },
    {
      "cell_type": "code",
      "source": [
        "dataset_jsons = DATASET_DIR + \"/*.json\"\n",
        "strokes = []\n",
        "for filename in glob.glob(dataset_jsons):\n",
        "  with open(filename, \"r\") as file:\n",
        "    file_contents = file.read()\n",
        "  file_data = json.loads(file_contents)\n",
        "  for stroke in file_data[\"strokes\"]:\n",
        "    stroke[\"filename\"] = filename\n",
        "    strokes.append(stroke)"
      ],
      "metadata": {
        "id": "Rcj24GXR1A4c"
      },
      "execution_count": null,
      "outputs": []
    },
    {
      "cell_type": "code",
      "source": [
        "# Helper function to visualize the data\n",
        "def plot_stroke(stroke):\n",
        "  x_array = []\n",
        "  y_array = []\n",
        "  for coords in stroke[\"strokePoints\"]:\n",
        "    x_array.append(coords[\"x\"])\n",
        "    y_array.append(coords[\"y\"])\n",
        "\n",
        "  fig = plt.figure(figsize=(12.8, 4.8))\n",
        "  fig.suptitle(stroke[\"label\"])\n",
        "\n",
        "  ax = fig.add_subplot(131)\n",
        "  ax.set_xlabel('x')\n",
        "  ax.set_ylabel('y')\n",
        "  ax.set_xlim(-0.4, 0.4)\n",
        "  ax.set_ylim(-0.4, 0.4)\n",
        "  ax.plot(x_array, y_array)\n",
        "\n",
        "  plt.show()"
      ],
      "metadata": {
        "id": "8-vjwDVE1A6Z"
      },
      "execution_count": null,
      "outputs": []
    },
    {
      "cell_type": "code",
      "source": [
        "# Display a stroke from the strokes python variable\n",
        "plot_stroke(strokes[11])"
      ],
      "metadata": {
        "colab": {
          "base_uri": "https://localhost:8080/",
          "height": 497
        },
        "id": "nF9lx2oU1A8f",
        "outputId": "56b08894-5b01-4265-e173-ed7d61dc2979"
      },
      "execution_count": null,
      "outputs": [
        {
          "output_type": "display_data",
          "data": {
            "text/plain": [
              "<Figure size 1280x480 with 1 Axes>"
            ],
            "image/png": "[encoded data removed]"
          },
          "metadata": {}
        }
      ]
    },
    {
      "cell_type": "code",
      "source": [
        "\n",
        "FIXED_POINT = 256\n",
        "\n",
        "def mul_fp(a, b):\n",
        "  return (a * b) / FIXED_POINT\n",
        "\n",
        "def div_fp(a, b):\n",
        "  if b == 0:\n",
        "    b = 1\n",
        "  return (a * FIXED_POINT) / b\n",
        "\n",
        "def float_to_fp(a):\n",
        "  return math.floor(a * FIXED_POINT)\n",
        "\n",
        "def norm_to_coord_fp(a, range_fp, half_size_fp):\n",
        "  a_fp = float_to_fp(a)\n",
        "  norm_fp = div_fp(a_fp, range_fp)\n",
        "  return mul_fp(norm_fp, half_size_fp) + half_size_fp\n",
        "\n",
        "def round_fp_to_int(a):\n",
        "  return math.floor((a + (FIXED_POINT / 2)) / FIXED_POINT)\n",
        "\n",
        "def gate(a, min, max):\n",
        "  if a < min:\n",
        "    return min\n",
        "  elif a > max:\n",
        "    return max\n",
        "  else:\n",
        "    return a\n",
        "\n",
        "def rasterize_stroke(stroke_points, x_range, y_range, width, height):\n",
        "  num_channels = 3\n",
        "  buffer_byte_count = height * width * num_channels\n",
        "  buffer = bytearray(buffer_byte_count)\n",
        "\n",
        "  width_fp = width * FIXED_POINT\n",
        "  height_fp = height * FIXED_POINT\n",
        "  half_width_fp = width_fp / 2\n",
        "  half_height_fp = height_fp / 2\n",
        "  x_range_fp = float_to_fp(x_range)\n",
        "  y_range_fp = float_to_fp(y_range)\n",
        "\n",
        "  t_inc_fp = FIXED_POINT / len(stroke_points)\n",
        "\n",
        "  one_half_fp = (FIXED_POINT / 2)\n",
        "\n",
        "  for point_index in range(len(stroke_points) - 1):\n",
        "    start_point = stroke_points[point_index]\n",
        "    end_point = stroke_points[point_index + 1]\n",
        "    start_x_fp = norm_to_coord_fp(start_point[\"x\"], x_range_fp, half_width_fp)\n",
        "    start_y_fp = norm_to_coord_fp(-start_point[\"y\"], y_range_fp, half_height_fp)\n",
        "    end_x_fp = norm_to_coord_fp(end_point[\"x\"], x_range_fp, half_width_fp)\n",
        "    end_y_fp = norm_to_coord_fp(-end_point[\"y\"], y_range_fp, half_height_fp)\n",
        "    delta_x_fp = end_x_fp - start_x_fp\n",
        "    delta_y_fp = end_y_fp - start_y_fp\n",
        "\n",
        "    t_fp = point_index * t_inc_fp\n",
        "    if t_fp < one_half_fp:\n",
        "      local_t_fp = div_fp(t_fp, one_half_fp)\n",
        "      one_minus_t_fp = FIXED_POINT - local_t_fp\n",
        "      red = round_fp_to_int(one_minus_t_fp * 255)\n",
        "      green = round_fp_to_int(local_t_fp * 255)\n",
        "      blue = 0\n",
        "    else:\n",
        "      local_t_fp = div_fp(t_fp - one_half_fp, one_half_fp)\n",
        "      one_minus_t_fp = FIXED_POINT - local_t_fp\n",
        "      red = 0\n",
        "      green = round_fp_to_int(one_minus_t_fp * 255)\n",
        "      blue = round_fp_to_int(local_t_fp * 255)\n",
        "    red = gate(red, 0, 255)\n",
        "    green = gate(green, 0, 255)\n",
        "    blue = gate(blue, 0, 255)\n",
        "\n",
        "    if abs(delta_x_fp) > abs(delta_y_fp):\n",
        "      line_length = abs(round_fp_to_int(delta_x_fp))\n",
        "      if delta_x_fp > 0:\n",
        "        x_inc_fp = 1 * FIXED_POINT\n",
        "        y_inc_fp = div_fp(delta_y_fp, delta_x_fp)\n",
        "      else:\n",
        "        x_inc_fp = -1 * FIXED_POINT\n",
        "        y_inc_fp = -div_fp(delta_y_fp, delta_x_fp)\n",
        "    else:\n",
        "      line_length = abs(round_fp_to_int(delta_y_fp))\n",
        "      if delta_y_fp > 0:\n",
        "        y_inc_fp = 1 * FIXED_POINT\n",
        "        x_inc_fp = div_fp(delta_x_fp, delta_y_fp)\n",
        "      else:\n",
        "        y_inc_fp = -1 * FIXED_POINT\n",
        "        x_inc_fp = -div_fp(delta_x_fp, delta_y_fp)\n",
        "    for i in range(line_length + 1):\n",
        "      x_fp = start_x_fp + (i * x_inc_fp)\n",
        "      y_fp = start_y_fp + (i * y_inc_fp)\n",
        "      x = round_fp_to_int(x_fp)\n",
        "      y = round_fp_to_int(y_fp)\n",
        "      if (x < 0) or (x >= width) or (y < 0) or (y >= height):\n",
        "        continue\n",
        "      buffer_index = (y * width * num_channels) + (x * num_channels)\n",
        "      buffer[buffer_index + 0] = red\n",
        "      buffer[buffer_index + 1] = green\n",
        "      buffer[buffer_index + 2] = blue\n",
        "\n",
        "  np_buffer = np.frombuffer(buffer, dtype=np.uint8).reshape(height, width, num_channels)\n",
        "\n",
        "  return np_buffer"
      ],
      "metadata": {
        "id": "mzm8HcsfApER"
      },
      "execution_count": null,
      "outputs": []
    },
    {
      "cell_type": "code",
      "source": [
        "X_RANGE = 0.6\n",
        "Y_RANGE = 0.6\n",
        "\n",
        "def ensure_empty_dir(dirname):\n",
        "  dirpath = Path(dirname)\n",
        "  if dirpath.exists() and dirpath.is_dir():\n",
        "    shutil.rmtree(dirpath)\n",
        "  dirpath.mkdir()\n",
        "\n",
        "def augment_points(points, move_range, scale_range, rotate_range):\n",
        "  move_x = np.random.uniform(low=-move_range, high=move_range)\n",
        "  move_y = np.random.uniform(low=-move_range, high=move_range)\n",
        "  scale = np.random.uniform(low=1.0-scale_range, high=1.0+scale_range)\n",
        "  rotate = np.random.uniform(low=-rotate_range, high=rotate_range)\n",
        "\n",
        "  x_axis_x = math.cos(rotate) * scale\n",
        "  x_axis_y = math.sin(rotate) * scale\n",
        "\n",
        "  y_axis_x = -math.sin(rotate) * scale\n",
        "  y_axis_y = math.cos(rotate) * scale\n",
        "\n",
        "  new_points = []\n",
        "  for point in points:\n",
        "    old_x = point[\"x\"]\n",
        "    old_y = point[\"y\"]\n",
        "    new_x = (x_axis_x * old_x) + (x_axis_y * old_y) + move_x\n",
        "    new_y = (y_axis_x * old_x) + (y_axis_y * old_y) + move_y\n",
        "    new_points.append({\"x\": new_x, \"y\": new_y})\n",
        "\n",
        "  return new_points\n",
        "\n",
        "def save_strokes_as_images(strokes, root_folder, width, height, augment_count):\n",
        "  ensure_empty_dir(root_folder)\n",
        "  labels = set()\n",
        "  for stroke in strokes:\n",
        "    labels.add(stroke[\"label\"].lower())\n",
        "  for label in labels:\n",
        "    label_path = Path(root_folder, label)\n",
        "    ensure_empty_dir(label_path)\n",
        "\n",
        "  label_counts = {}\n",
        "  for stroke in strokes:\n",
        "    points = stroke[\"strokePoints\"]\n",
        "    label = stroke[\"label\"].lower()\n",
        "    if label == \"\":\n",
        "      raise Exception(\"Missing label for %s:%d\" % (stroke[\"filename\"], stroke[\"index\"]))\n",
        "    if label not in label_counts:\n",
        "      label_counts[label] = 0\n",
        "    label_count = label_counts[label]\n",
        "    label_counts[label] += 1\n",
        "    raster = rasterize_stroke(points, X_RANGE, Y_RANGE, width, height)\n",
        "    image = PIL.Image.fromarray(raster)\n",
        "    image.save(Path(root_folder, label, str(label_count) + \".png\"))\n",
        "    for i in range(augment_count):\n",
        "      augmented_points = augment_points(points, 0.1, 0.1, 0.3)\n",
        "      raster = rasterize_stroke(augmented_points, X_RANGE, Y_RANGE, width, height)\n",
        "      image = PIL.Image.fromarray(raster)\n",
        "      image.save(Path(root_folder, label, str(label_count) + \"_a\" + str(i) + \".png\"))\n",
        "  return labels\n"
      ],
      "metadata": {
        "id": "ysByVCFPBAr6"
      },
      "execution_count": null,
      "outputs": []
    },
    {
      "cell_type": "code",
      "source": [
        "strokes = [stroke for stroke in strokes if 'label' in stroke and stroke['label'] != '']\n"
      ],
      "metadata": {
        "id": "CNyxgrcYF3OR"
      },
      "execution_count": null,
      "outputs": []
    },
    {
      "cell_type": "code",
      "source": [
        "IMAGE_WIDTH = 32\n",
        "IMAGE_HEIGHT = 32\n",
        "\n",
        "shuffled_strokes = strokes\n",
        "np.random.shuffle(shuffled_strokes)\n",
        "\n",
        "test_count = math.floor((len(shuffled_strokes) * TEST_PERCENTAGE) / 100)\n",
        "validation_count = math.floor((len(shuffled_strokes) * VALIDATION_PERCENTAGE) / 100)\n",
        "test_strokes = shuffled_strokes[0:test_count]\n",
        "validation_strokes = shuffled_strokes[test_count:(test_count + validation_count)]\n",
        "train_strokes = shuffled_strokes[(test_count + validation_count):]\n",
        "\n",
        "labels_test  = save_strokes_as_images(test_strokes, TEST_DIR, IMAGE_WIDTH, IMAGE_HEIGHT, 10)\n",
        "labels_val   = save_strokes_as_images(validation_strokes, VAL_DIR, IMAGE_WIDTH, IMAGE_HEIGHT, 0)\n",
        "labels_train = save_strokes_as_images(train_strokes, TRAIN_DIR, IMAGE_WIDTH, IMAGE_HEIGHT, 10)"
      ],
      "metadata": {
        "id": "8tdzvRgDBNPq"
      },
      "execution_count": null,
      "outputs": []
    },
    {
      "cell_type": "code",
      "source": [
        "labels = sorted(labels_test.union(labels_val).union(labels_train))\n",
        "# get the conversion from label string to int\n",
        "labelToInt = {}\n",
        "currInt = 0\n",
        "for label in labels:\n",
        "  labelToInt[label] = currInt\n",
        "  currInt = currInt + 1\n",
        "intToLabel = {v: k for k, v in labelToInt.items()}\n",
        "print(intToLabel)\n"
      ],
      "metadata": {
        "colab": {
          "base_uri": "https://localhost:8080/"
        },
        "id": "J-wwZ5eOCoi3",
        "outputId": "984bafdc-4f04-4a0d-a7d1-6738d85437b2"
      },
      "execution_count": null,
      "outputs": [
        {
          "output_type": "stream",
          "name": "stdout",
          "text": [
            "{0: 'l', 1: 'o', 2: 'w'}\n"
          ]
        }
      ]
    },
    {
      "cell_type": "code",
      "source": [
        "\"\"\"If you'd like to visualize the difference between a stroke and its rasterized output image, run the cell below!\"\"\"\n",
        "\n",
        "plot_stroke(strokes[0])\n",
        "raster = rasterize_stroke(strokes[0][\"strokePoints\"], 0.5, 0.5, 32, 32)\n",
        "PIL.Image.fromarray(raster).resize((512, 512), PIL.Image.NEAREST)"
      ],
      "metadata": {
        "colab": {
          "base_uri": "https://localhost:8080/",
          "height": 1000
        },
        "id": "vuU1l71r3a7z",
        "outputId": "ac1fe8ca-e43c-41e1-a5a0-0097ad0c1724"
      },
      "execution_count": null,
      "outputs": [
        {
          "output_type": "display_data",
          "data": {
            "text/plain": [
              "<Figure size 1280x480 with 1 Axes>"
            ],
            "image/png": "[encoded data removed]"
          },
          "metadata": {}
        },
        {
          "output_type": "execute_result",
          "data": {
            "text/plain": [
              "<PIL.Image.Image image mode=RGB size=512x512>"
            ],
            "image/png": "[encoded data removed]"
          },
          "metadata": {},
          "execution_count": 15
        }
      ]
    },
    {
      "cell_type": "code",
      "source": [
        "\"\"\"Finally, we'll generate a dataset in ```Keras```.\"\"\"\n",
        "\n",
        "validation_ds = image_dataset_from_directory(\n",
        "    directory=VAL_DIR,\n",
        "    labels='inferred',\n",
        "    label_mode='categorical',\n",
        "    batch_size=32,\n",
        "    image_size=(IMAGE_WIDTH, IMAGE_HEIGHT)).prefetch(buffer_size=32)\n",
        "\n",
        "train_ds = image_dataset_from_directory(\n",
        "    directory=TRAIN_DIR,\n",
        "    labels='inferred',\n",
        "    label_mode='categorical',\n",
        "    batch_size=32,\n",
        "    image_size=(IMAGE_WIDTH, IMAGE_HEIGHT)).prefetch(buffer_size=32)\n",
        "\n",
        "# Plot 9 of our final dataset items\n",
        "plt.figure(figsize=(10, 10))\n",
        "for images, labels in train_ds.take(1):\n",
        "  for i in range(9):\n",
        "    ax = plt.subplot(3, 3, i + 1)\n",
        "    plt.imshow(images[i].numpy().astype(\"uint8\"))\n",
        "    plt.axis(\"off\")"
      ],
      "metadata": {
        "colab": {
          "base_uri": "https://localhost:8080/",
          "height": 842
        },
        "id": "ZJzv73yu3a-Q",
        "outputId": "024eab81-f8cb-4004-b480-8f4488f1daa5"
      },
      "execution_count": null,
      "outputs": [
        {
          "output_type": "stream",
          "name": "stdout",
          "text": [
            "Found 18 files belonging to 3 classes.\n",
            "Found 1595 files belonging to 3 classes.\n"
          ]
        },
        {
          "output_type": "display_data",
          "data": {
            "text/plain": [
              "<Figure size 1000x1000 with 9 Axes>"
            ],
            "image/png": "[encoded data removed]"
          },
          "metadata": {}
        }
      ]
    },
    {
      "cell_type": "code",
      "source": [
        "def make_model(input_shape, num_classes):\n",
        "    inputs = keras.Input(shape=input_shape)\n",
        "\n",
        "    # Entry block\n",
        "    x = layers.experimental.preprocessing.Rescaling(1.0 / 255)(inputs)\n",
        "    x = layers.Conv2D(16, 3, strides=2, padding=\"same\")(x)\n",
        "    x = layers.BatchNormalization()(x)\n",
        "    x = layers.Activation(\"relu\")(x)\n",
        "    x = layers.Dropout(0.5)(x)\n",
        "\n",
        "    x = layers.Conv2D(32, 3, strides=2, padding=\"same\")(x)\n",
        "    x = layers.BatchNormalization()(x)\n",
        "    x = layers.Activation(\"relu\")(x)\n",
        "    x = layers.Dropout(0.5)(x)\n",
        "\n",
        "    x = layers.Conv2D(64, 3, strides=2, padding=\"same\")(x)\n",
        "    x = layers.BatchNormalization()(x)\n",
        "    x = layers.Activation(\"relu\")(x)\n",
        "    x = layers.Dropout(0.5)(x)\n",
        "\n",
        "    x = layers.GlobalAveragePooling2D()(x)\n",
        "    activation = \"softmax\"\n",
        "    units = num_classes\n",
        "\n",
        "    x = layers.Dropout(0.5)(x)\n",
        "    outputs = layers.Dense(units, activation=activation)(x)\n",
        "    return keras.Model(inputs, outputs)\n",
        "\n",
        "model = make_model(input_shape=(IMAGE_WIDTH, IMAGE_HEIGHT, 3), num_classes=NUM_GESTURES)\n"
      ],
      "metadata": {
        "id": "kUX-hF-k3bAX"
      },
      "execution_count": null,
      "outputs": []
    },
    {
      "cell_type": "code",
      "source": [
        "# View the model layers as a diagram\n",
        "keras.utils.plot_model(model, show_shapes=True)"
      ],
      "metadata": {
        "colab": {
          "base_uri": "https://localhost:8080/",
          "height": 1000
        },
        "id": "6zDbsA-j33Hr",
        "outputId": "eaec9b5c-f3f6-4e85-bc92-493061f236ca"
      },
      "execution_count": null,
      "outputs": [
        {
          "output_type": "execute_result",
          "data": {
            "image/png": "[encoded data removed]",
            "text/plain": [
              "<IPython.core.display.Image object>"
            ]
          },
          "metadata": {},
          "execution_count": 18
        }
      ]
    },
    {
      "cell_type": "code",
      "source": [
        "# How many epochs to train for, we have found ~30 to be a good starting point\n",
        "EPOCHS = 30\n",
        "\n",
        "# Callback to save model checkpoints for future inspection or training\n",
        "checkpointFileLoc = CHKPT_DIR + \"/save_at_{epoch:02d}.h5\"\n",
        "modelCheckpointCallback = keras.callbacks.ModelCheckpoint(checkpointFileLoc)\n",
        "\n",
        "# Compile the model!\n",
        "model.compile(\n",
        "    optimizer=keras.optimizers.Adam(1e-3),\n",
        "    loss=\"binary_crossentropy\",\n",
        "    metrics=[\"accuracy\"],\n",
        ")"
      ],
      "metadata": {
        "id": "XUk-GyAy33O7"
      },
      "execution_count": null,
      "outputs": []
    },
    {
      "cell_type": "code",
      "source": [
        "# Run training\n",
        "history = model.fit(train_ds, epochs=EPOCHS, validation_data=validation_ds,\n",
        "                    callbacks=[modelCheckpointCallback])"
      ],
      "metadata": {
        "colab": {
          "base_uri": "https://localhost:8080/"
        },
        "id": "rJaLpHUd33Uq",
        "outputId": "e583d637-9f17-4261-df1e-34d9a7202df1"
      },
      "execution_count": null,
      "outputs": [
        {
          "output_type": "stream",
          "name": "stdout",
          "text": [
            "Epoch 1/30\n",
            "50/50 [==============================] - 3s 25ms/step - loss: 0.6522 - accuracy: 0.4251 - val_loss: 0.6627 - val_accuracy: 0.3333\n"
          ]
        },
        {
          "output_type": "stream",
          "name": "stderr",
          "text": [
            "/usr/local/lib/python3.10/dist-packages/keras/src/engine/training.py:3103: UserWarning: You are saving your model as an HDF5 file via `model.save()`. This file format is considered legacy. We recommend using instead the native Keras format, e.g. `model.save('my_model.keras')`.\n",
            "  saving_api.save_model(\n"
          ]
        },
        {
          "output_type": "stream",
          "name": "stdout",
          "text": [
            "Epoch 2/30\n",
            "50/50 [==============================] - 1s 28ms/step - loss: 0.6014 - accuracy: 0.5085 - val_loss: 0.7112 - val_accuracy: 0.3333\n",
            "Epoch 3/30\n",
            "50/50 [==============================] - 1s 20ms/step - loss: 0.5674 - accuracy: 0.5442 - val_loss: 0.7956 - val_accuracy: 0.3333\n",
            "Epoch 4/30\n",
            "50/50 [==============================] - 1s 20ms/step - loss: 0.5501 - accuracy: 0.5799 - val_loss: 0.8501 - val_accuracy: 0.3333\n",
            "Epoch 5/30\n",
            "50/50 [==============================] - 1s 23ms/step - loss: 0.5355 - accuracy: 0.5987 - val_loss: 0.8789 - val_accuracy: 0.3333\n",
            "Epoch 6/30\n",
            "50/50 [==============================] - 2s 34ms/step - loss: 0.5221 - accuracy: 0.6138 - val_loss: 0.8478 - val_accuracy: 0.3333\n",
            "Epoch 7/30\n",
            "50/50 [==============================] - 1s 20ms/step - loss: 0.4968 - accuracy: 0.6414 - val_loss: 0.7933 - val_accuracy: 0.3333\n",
            "Epoch 8/30\n",
            "50/50 [==============================] - 1s 20ms/step - loss: 0.4924 - accuracy: 0.6458 - val_loss: 0.7120 - val_accuracy: 0.3889\n",
            "Epoch 9/30\n",
            "50/50 [==============================] - 1s 18ms/step - loss: 0.4753 - accuracy: 0.6646 - val_loss: 0.6336 - val_accuracy: 0.3889\n",
            "Epoch 10/30\n",
            "50/50 [==============================] - 1s 20ms/step - loss: 0.4781 - accuracy: 0.6777 - val_loss: 0.5376 - val_accuracy: 0.5556\n",
            "Epoch 11/30\n",
            "50/50 [==============================] - 1s 17ms/step - loss: 0.4512 - accuracy: 0.6991 - val_loss: 0.4595 - val_accuracy: 0.7222\n",
            "Epoch 12/30\n",
            "50/50 [==============================] - 1s 20ms/step - loss: 0.4562 - accuracy: 0.6771 - val_loss: 0.4296 - val_accuracy: 0.7778\n",
            "Epoch 13/30\n",
            "50/50 [==============================] - 1s 18ms/step - loss: 0.4414 - accuracy: 0.6859 - val_loss: 0.4159 - val_accuracy: 0.7778\n",
            "Epoch 14/30\n",
            "50/50 [==============================] - 1s 20ms/step - loss: 0.4353 - accuracy: 0.6865 - val_loss: 0.4040 - val_accuracy: 0.7778\n",
            "Epoch 15/30\n",
            "50/50 [==============================] - 1s 29ms/step - loss: 0.4258 - accuracy: 0.7204 - val_loss: 0.3903 - val_accuracy: 0.7778\n",
            "Epoch 16/30\n",
            "50/50 [==============================] - 1s 24ms/step - loss: 0.4191 - accuracy: 0.7241 - val_loss: 0.4168 - val_accuracy: 0.7222\n",
            "Epoch 17/30\n",
            "50/50 [==============================] - 1s 18ms/step - loss: 0.4288 - accuracy: 0.7166 - val_loss: 0.4529 - val_accuracy: 0.7222\n",
            "Epoch 18/30\n",
            "50/50 [==============================] - 1s 21ms/step - loss: 0.4240 - accuracy: 0.7154 - val_loss: 0.3907 - val_accuracy: 0.7222\n",
            "Epoch 19/30\n",
            "50/50 [==============================] - 1s 19ms/step - loss: 0.4149 - accuracy: 0.7091 - val_loss: 0.3788 - val_accuracy: 0.7778\n",
            "Epoch 20/30\n",
            "50/50 [==============================] - 1s 18ms/step - loss: 0.4169 - accuracy: 0.7160 - val_loss: 0.5183 - val_accuracy: 0.5556\n",
            "Epoch 21/30\n",
            "50/50 [==============================] - 1s 24ms/step - loss: 0.4048 - accuracy: 0.7223 - val_loss: 0.4799 - val_accuracy: 0.6111\n",
            "Epoch 22/30\n",
            "50/50 [==============================] - 1s 24ms/step - loss: 0.4218 - accuracy: 0.7166 - val_loss: 0.6437 - val_accuracy: 0.4444\n",
            "Epoch 23/30\n",
            "50/50 [==============================] - 1s 22ms/step - loss: 0.4029 - accuracy: 0.7292 - val_loss: 0.4855 - val_accuracy: 0.7222\n",
            "Epoch 24/30\n",
            "50/50 [==============================] - 1s 20ms/step - loss: 0.3952 - accuracy: 0.7379 - val_loss: 0.5238 - val_accuracy: 0.6667\n",
            "Epoch 25/30\n",
            "50/50 [==============================] - 2s 33ms/step - loss: 0.3894 - accuracy: 0.7354 - val_loss: 0.5853 - val_accuracy: 0.4444\n",
            "Epoch 26/30\n",
            "50/50 [==============================] - 2s 33ms/step - loss: 0.3894 - accuracy: 0.7348 - val_loss: 0.6071 - val_accuracy: 0.4444\n",
            "Epoch 27/30\n",
            "50/50 [==============================] - 1s 18ms/step - loss: 0.3966 - accuracy: 0.7266 - val_loss: 0.6756 - val_accuracy: 0.5000\n",
            "Epoch 28/30\n",
            "50/50 [==============================] - 1s 21ms/step - loss: 0.3920 - accuracy: 0.7373 - val_loss: 0.4926 - val_accuracy: 0.6111\n",
            "Epoch 29/30\n",
            "50/50 [==============================] - 1s 18ms/step - loss: 0.3928 - accuracy: 0.7323 - val_loss: 0.3946 - val_accuracy: 0.7778\n",
            "Epoch 30/30\n",
            "50/50 [==============================] - 1s 22ms/step - loss: 0.3800 - accuracy: 0.7367 - val_loss: 0.4313 - val_accuracy: 0.7778\n"
          ]
        }
      ]
    },
    {
      "cell_type": "code",
      "source": [
        "# Run training\n",
        "history = model.fit(train_ds, epochs=EPOCHS, validation_data=validation_ds,\n",
        "                    callbacks=[modelCheckpointCallback])"
      ],
      "metadata": {
        "colab": {
          "base_uri": "https://localhost:8080/"
        },
        "id": "UvK_Txih33aY",
        "outputId": "d804a6c6-5662-4799-e85b-54a3c2d2e77b"
      },
      "execution_count": null,
      "outputs": [
        {
          "output_type": "stream",
          "name": "stdout",
          "text": [
            "Epoch 1/30\n",
            "50/50 [==============================] - 1s 25ms/step - loss: 0.3786 - accuracy: 0.7467 - val_loss: 0.6483 - val_accuracy: 0.5556\n",
            "Epoch 2/30\n",
            "50/50 [==============================] - 1s 27ms/step - loss: 0.3852 - accuracy: 0.7386 - val_loss: 0.5141 - val_accuracy: 0.6111\n",
            "Epoch 3/30\n",
            "50/50 [==============================] - 1s 20ms/step - loss: 0.3873 - accuracy: 0.7404 - val_loss: 0.6527 - val_accuracy: 0.6111\n",
            "Epoch 4/30\n",
            "50/50 [==============================] - 1s 20ms/step - loss: 0.3640 - accuracy: 0.7636 - val_loss: 0.4322 - val_accuracy: 0.6111\n",
            "Epoch 5/30\n",
            "50/50 [==============================] - 1s 19ms/step - loss: 0.3712 - accuracy: 0.7498 - val_loss: 0.4229 - val_accuracy: 0.5556\n",
            "Epoch 6/30\n",
            "50/50 [==============================] - 1s 18ms/step - loss: 0.3788 - accuracy: 0.7442 - val_loss: 0.3561 - val_accuracy: 0.7778\n",
            "Epoch 7/30\n",
            "50/50 [==============================] - 1s 20ms/step - loss: 0.3663 - accuracy: 0.7605 - val_loss: 0.3587 - val_accuracy: 0.7778\n",
            "Epoch 8/30\n",
            "50/50 [==============================] - 1s 20ms/step - loss: 0.3726 - accuracy: 0.7599 - val_loss: 0.3395 - val_accuracy: 0.7778\n",
            "Epoch 9/30\n",
            "50/50 [==============================] - 1s 20ms/step - loss: 0.3698 - accuracy: 0.7486 - val_loss: 0.3459 - val_accuracy: 0.7778\n",
            "Epoch 10/30\n",
            "50/50 [==============================] - 1s 25ms/step - loss: 0.3829 - accuracy: 0.7429 - val_loss: 0.4097 - val_accuracy: 0.6111\n",
            "Epoch 11/30\n",
            "50/50 [==============================] - 2s 30ms/step - loss: 0.3667 - accuracy: 0.7517 - val_loss: 0.3940 - val_accuracy: 0.7778\n",
            "Epoch 12/30\n",
            "50/50 [==============================] - 1s 18ms/step - loss: 0.3599 - accuracy: 0.7592 - val_loss: 0.3407 - val_accuracy: 0.8333\n",
            "Epoch 13/30\n",
            "50/50 [==============================] - 1s 18ms/step - loss: 0.3512 - accuracy: 0.7649 - val_loss: 0.3420 - val_accuracy: 0.7778\n",
            "Epoch 14/30\n",
            "50/50 [==============================] - 1s 18ms/step - loss: 0.3591 - accuracy: 0.7649 - val_loss: 0.3335 - val_accuracy: 0.7778\n",
            "Epoch 15/30\n",
            "50/50 [==============================] - 1s 18ms/step - loss: 0.3680 - accuracy: 0.7530 - val_loss: 0.3365 - val_accuracy: 0.7778\n",
            "Epoch 16/30\n",
            "50/50 [==============================] - 1s 18ms/step - loss: 0.3651 - accuracy: 0.7492 - val_loss: 0.3684 - val_accuracy: 0.7778\n",
            "Epoch 17/30\n",
            "50/50 [==============================] - 1s 17ms/step - loss: 0.3599 - accuracy: 0.7586 - val_loss: 0.3850 - val_accuracy: 0.7778\n",
            "Epoch 18/30\n",
            "50/50 [==============================] - 1s 18ms/step - loss: 0.3520 - accuracy: 0.7668 - val_loss: 0.3453 - val_accuracy: 0.7778\n",
            "Epoch 19/30\n",
            "50/50 [==============================] - 1s 18ms/step - loss: 0.3617 - accuracy: 0.7561 - val_loss: 0.3551 - val_accuracy: 0.7778\n",
            "Epoch 20/30\n",
            "50/50 [==============================] - 1s 23ms/step - loss: 0.3555 - accuracy: 0.7630 - val_loss: 0.3447 - val_accuracy: 0.7778\n",
            "Epoch 21/30\n",
            "50/50 [==============================] - 2s 31ms/step - loss: 0.3680 - accuracy: 0.7542 - val_loss: 0.3383 - val_accuracy: 0.7778\n",
            "Epoch 22/30\n",
            "50/50 [==============================] - 2s 32ms/step - loss: 0.3554 - accuracy: 0.7455 - val_loss: 0.3404 - val_accuracy: 0.7778\n",
            "Epoch 23/30\n",
            "50/50 [==============================] - 1s 19ms/step - loss: 0.3442 - accuracy: 0.7624 - val_loss: 0.3925 - val_accuracy: 0.7222\n",
            "Epoch 24/30\n",
            "50/50 [==============================] - 1s 18ms/step - loss: 0.3525 - accuracy: 0.7580 - val_loss: 0.6148 - val_accuracy: 0.5000\n",
            "Epoch 25/30\n",
            "50/50 [==============================] - 1s 20ms/step - loss: 0.3455 - accuracy: 0.7718 - val_loss: 0.4205 - val_accuracy: 0.7778\n",
            "Epoch 26/30\n",
            "50/50 [==============================] - 1s 19ms/step - loss: 0.3532 - accuracy: 0.7705 - val_loss: 0.4653 - val_accuracy: 0.6111\n",
            "Epoch 27/30\n",
            "50/50 [==============================] - 1s 20ms/step - loss: 0.3471 - accuracy: 0.7881 - val_loss: 0.4241 - val_accuracy: 0.7222\n",
            "Epoch 28/30\n",
            "50/50 [==============================] - 1s 20ms/step - loss: 0.3417 - accuracy: 0.7755 - val_loss: 0.4146 - val_accuracy: 0.7778\n",
            "Epoch 29/30\n",
            "50/50 [==============================] - 1s 18ms/step - loss: 0.3541 - accuracy: 0.7718 - val_loss: 0.3666 - val_accuracy: 0.7778\n",
            "Epoch 30/30\n",
            "50/50 [==============================] - 1s 19ms/step - loss: 0.3442 - accuracy: 0.7624 - val_loss: 0.3358 - val_accuracy: 0.7778\n"
          ]
        }
      ]
    },
    {
      "cell_type": "code",
      "source": [
        "# save the model file\n",
        "model.save(SAVED_MODEL_FILENAME)"
      ],
      "metadata": {
        "id": "8N_poNc0JbBr"
      },
      "execution_count": null,
      "outputs": []
    },
    {
      "cell_type": "code",
      "source": [
        "SCORE_THRESHOLD = 0.75 # Confidence threshold to discard an image as \"unknown\"\n",
        "\n",
        "def predict_image(model, filename):\n",
        "  img = keras.preprocessing.image.load_img(filename, target_size=(IMAGE_WIDTH, IMAGE_HEIGHT))\n",
        "  img_array = keras.preprocessing.image.img_to_array(img)\n",
        "  img_array = tf.expand_dims(img_array, 0)  # Create batch axis\n",
        "  predictions = model.predict(img_array).flatten()\n",
        "  predicted_label_index = np.argmax(predictions)\n",
        "  predicted_score = predictions[predicted_label_index]\n",
        "  return (predicted_label_index, predicted_score)\n",
        "\n",
        "correct_count = 0\n",
        "wrong_count = 0\n",
        "discarded_count = 0\n",
        "for label_dir in glob.glob(TEST_DIR + \"/*\"):\n",
        "  label = label_dir.replace(TEST_DIR + \"/\", \"\")\n",
        "  print(\"Testing Gesture: \",label,\" with datasize: \",len(glob.glob(label_dir + \"/*.png\")))\n",
        "  for filename in glob.glob(label_dir + \"/*.png\"):\n",
        "    index, score = predict_image(model, filename)\n",
        "    if score < SCORE_THRESHOLD:\n",
        "      discarded_count += 1\n",
        "      continue\n",
        "    if index == labelToInt[label]:\n",
        "      correct_count += 1\n",
        "    else:\n",
        "      wrong_count += 1\n",
        "      print(label,index,score)\n",
        "      print(\"[%s] expected, [%s] found with score [%f]\" % (label, intToLabel[index], score))\n",
        "      display(Image(filename=filename))\n",
        "\n",
        "if correct_count + wrong_count == 0:\n",
        "  print(\"All images marked as unknown!\")\n",
        "else:\n",
        "  correct_percentage = (correct_count / (correct_count + wrong_count)) * 100\n",
        "  print(\"%.1f%% correct (N=%d, %d unknown)\" % (correct_percentage, (correct_count + wrong_count), discarded_count))\n"
      ],
      "metadata": {
        "colab": {
          "base_uri": "https://localhost:8080/",
          "height": 1000
        },
        "id": "ceVUwuIT4BqI",
        "outputId": "bd5bdc66-42ec-4898-ab5a-3c2d45c2a2f3"
      },
      "execution_count": null,
      "outputs": [
        {
          "output_type": "stream",
          "name": "stdout",
          "text": [
            "Testing Gesture:  l  with datasize:  77\n",
            "1/1 [==============================] - 0s 145ms/step\n",
            "1/1 [==============================] - 0s 20ms/step\n",
            "l 2 0.9999994\n",
            "[l] expected, [w] found with score [0.999999]\n"
          ]
        },
        {
          "output_type": "display_data",
          "data": {
            "image/png": "[encoded data removed]",
            "text/plain": [
              "<IPython.core.display.Image object>"
            ]
          },
          "metadata": {}
        },
        {
          "output_type": "stream",
          "name": "stdout",
          "text": [
            "1/1 [==============================] - 0s 20ms/step\n",
            "1/1 [==============================] - 0s 24ms/step\n",
            "1/1 [==============================] - 0s 22ms/step\n",
            "l 2 0.9999918\n",
            "[l] expected, [w] found with score [0.999992]\n"
          ]
        },
        {
          "output_type": "display_data",
          "data": {
            "image/png": "[encoded data removed]",
            "text/plain": [
              "<IPython.core.display.Image object>"
            ]
          },
          "metadata": {}
        },
        {
          "output_type": "stream",
          "name": "stdout",
          "text": [
            "1/1 [==============================] - 0s 20ms/step\n",
            "1/1 [==============================] - 0s 21ms/step\n",
            "1/1 [==============================] - 0s 20ms/step\n",
            "1/1 [==============================] - 0s 23ms/step\n",
            "1/1 [==============================] - 0s 21ms/step\n",
            "l 2 0.99997985\n",
            "[l] expected, [w] found with score [0.999980]\n"
          ]
        },
        {
          "output_type": "display_data",
          "data": {
            "image/png": "[encoded data removed]",
            "text/plain": [
              "<IPython.core.display.Image object>"
            ]
          },
          "metadata": {}
        },
        {
          "output_type": "stream",
          "name": "stdout",
          "text": [
            "1/1 [==============================] - 0s 21ms/step\n",
            "1/1 [==============================] - 0s 20ms/step\n",
            "1/1 [==============================] - 0s 21ms/step\n",
            "1/1 [==============================] - 0s 22ms/step\n",
            "l 2 0.9999981\n",
            "[l] expected, [w] found with score [0.999998]\n"
          ]
        },
        {
          "output_type": "display_data",
          "data": {
            "image/png": "[encoded data removed]",
            "text/plain": [
              "<IPython.core.display.Image object>"
            ]
          },
          "metadata": {}
        },
        {
          "output_type": "stream",
          "name": "stdout",
          "text": [
            "1/1 [==============================] - 0s 22ms/step\n",
            "1/1 [==============================] - 0s 30ms/step\n",
            "1/1 [==============================] - 0s 32ms/step\n",
            "1/1 [==============================] - 0s 29ms/step\n",
            "1/1 [==============================] - 0s 33ms/step\n",
            "1/1 [==============================] - 0s 37ms/step\n",
            "1/1 [==============================] - 0s 35ms/step\n",
            "1/1 [==============================] - 0s 34ms/step\n",
            "1/1 [==============================] - 0s 33ms/step\n",
            "l 2 0.99999106\n",
            "[l] expected, [w] found with score [0.999991]\n"
          ]
        },
        {
          "output_type": "display_data",
          "data": {
            "image/png": "[encoded data removed]",
            "text/plain": [
              "<IPython.core.display.Image object>"
            ]
          },
          "metadata": {}
        },
        {
          "output_type": "stream",
          "name": "stdout",
          "text": [
            "1/1 [==============================] - 0s 34ms/step\n",
            "1/1 [==============================] - 0s 47ms/step\n",
            "l 2 0.9999924\n",
            "[l] expected, [w] found with score [0.999992]\n"
          ]
        },
        {
          "output_type": "display_data",
          "data": {
            "image/png": "[encoded data removed]",
            "text/plain": [
              "<IPython.core.display.Image object>"
            ]
          },
          "metadata": {}
        },
        {
          "output_type": "stream",
          "name": "stdout",
          "text": [
            "1/1 [==============================] - 0s 33ms/step\n",
            "1/1 [==============================] - 0s 33ms/step\n",
            "1/1 [==============================] - 0s 31ms/step\n",
            "1/1 [==============================] - 0s 28ms/step\n",
            "1/1 [==============================] - 0s 29ms/step\n",
            "1/1 [==============================] - 0s 46ms/step\n",
            "1/1 [==============================] - 0s 30ms/step\n",
            "1/1 [==============================] - 0s 35ms/step\n",
            "1/1 [==============================] - 0s 38ms/step\n",
            "1/1 [==============================] - 0s 31ms/step\n",
            "1/1 [==============================] - 0s 29ms/step\n",
            "1/1 [==============================] - 0s 35ms/step\n",
            "1/1 [==============================] - 0s 30ms/step\n",
            "1/1 [==============================] - 0s 29ms/step\n",
            "1/1 [==============================] - 0s 31ms/step\n",
            "1/1 [==============================] - 0s 31ms/step\n",
            "1/1 [==============================] - 0s 34ms/step\n",
            "1/1 [==============================] - 0s 38ms/step\n",
            "1/1 [==============================] - 0s 21ms/step\n",
            "1/1 [==============================] - 0s 20ms/step\n",
            "1/1 [==============================] - 0s 20ms/step\n",
            "1/1 [==============================] - 0s 20ms/step\n",
            "1/1 [==============================] - 0s 20ms/step\n",
            "1/1 [==============================] - 0s 19ms/step\n",
            "1/1 [==============================] - 0s 20ms/step\n",
            "1/1 [==============================] - 0s 20ms/step\n",
            "1/1 [==============================] - 0s 24ms/step\n",
            "1/1 [==============================] - 0s 20ms/step\n",
            "1/1 [==============================] - 0s 19ms/step\n",
            "1/1 [==============================] - 0s 19ms/step\n",
            "1/1 [==============================] - 0s 20ms/step\n",
            "l 2 0.9998437\n",
            "[l] expected, [w] found with score [0.999844]\n"
          ]
        },
        {
          "output_type": "display_data",
          "data": {
            "image/png": "[encoded data removed]",
            "text/plain": [
              "<IPython.core.display.Image object>"
            ]
          },
          "metadata": {}
        },
        {
          "output_type": "stream",
          "name": "stdout",
          "text": [
            "1/1 [==============================] - 0s 20ms/step\n",
            "l 2 0.9998043\n",
            "[l] expected, [w] found with score [0.999804]\n"
          ]
        },
        {
          "output_type": "display_data",
          "data": {
            "image/png": "[encoded data removed]",
            "text/plain": [
              "<IPython.core.display.Image object>"
            ]
          },
          "metadata": {}
        },
        {
          "output_type": "stream",
          "name": "stdout",
          "text": [
            "1/1 [==============================] - 0s 21ms/step\n",
            "l 2 0.9999999\n",
            "[l] expected, [w] found with score [1.000000]\n"
          ]
        },
        {
          "output_type": "display_data",
          "data": {
            "image/png": "[encoded data removed]",
            "text/plain": [
              "<IPython.core.display.Image object>"
            ]
          },
          "metadata": {}
        },
        {
          "output_type": "stream",
          "name": "stdout",
          "text": [
            "1/1 [==============================] - 0s 20ms/step\n",
            "1/1 [==============================] - 0s 23ms/step\n",
            "1/1 [==============================] - 0s 26ms/step\n",
            "1/1 [==============================] - 0s 26ms/step\n",
            "l 2 0.9999994\n",
            "[l] expected, [w] found with score [0.999999]\n"
          ]
        },
        {
          "output_type": "display_data",
          "data": {
            "image/png": "[encoded data removed]",
            "text/plain": [
              "<IPython.core.display.Image object>"
            ]
          },
          "metadata": {}
        },
        {
          "output_type": "stream",
          "name": "stdout",
          "text": [
            "1/1 [==============================] - 0s 22ms/step\n",
            "1/1 [==============================] - 0s 23ms/step\n",
            "1/1 [==============================] - 0s 22ms/step\n",
            "1/1 [==============================] - 0s 25ms/step\n",
            "1/1 [==============================] - 0s 22ms/step\n",
            "1/1 [==============================] - 0s 24ms/step\n",
            "1/1 [==============================] - 0s 31ms/step\n",
            "1/1 [==============================] - 0s 23ms/step\n",
            "1/1 [==============================] - 0s 24ms/step\n",
            "1/1 [==============================] - 0s 25ms/step\n",
            "l 2 0.99990094\n",
            "[l] expected, [w] found with score [0.999901]\n"
          ]
        },
        {
          "output_type": "display_data",
          "data": {
            "image/png": "[encoded data removed]",
            "text/plain": [
              "<IPython.core.display.Image object>"
            ]
          },
          "metadata": {}
        },
        {
          "output_type": "stream",
          "name": "stdout",
          "text": [
            "1/1 [==============================] - 0s 26ms/step\n",
            "1/1 [==============================] - 0s 22ms/step\n",
            "1/1 [==============================] - 0s 28ms/step\n",
            "1/1 [==============================] - 0s 22ms/step\n",
            "1/1 [==============================] - 0s 24ms/step\n",
            "Testing Gesture:  w  with datasize:  55\n",
            "1/1 [==============================] - 0s 23ms/step\n",
            "1/1 [==============================] - 0s 24ms/step\n",
            "1/1 [==============================] - 0s 30ms/step\n",
            "1/1 [==============================] - 0s 25ms/step\n",
            "1/1 [==============================] - 0s 28ms/step\n",
            "1/1 [==============================] - 0s 22ms/step\n",
            "1/1 [==============================] - 0s 25ms/step\n",
            "1/1 [==============================] - 0s 22ms/step\n",
            "1/1 [==============================] - 0s 24ms/step\n",
            "1/1 [==============================] - 0s 24ms/step\n",
            "1/1 [==============================] - 0s 25ms/step\n",
            "1/1 [==============================] - 0s 24ms/step\n",
            "1/1 [==============================] - 0s 23ms/step\n",
            "1/1 [==============================] - 0s 37ms/step\n",
            "1/1 [==============================] - 0s 24ms/step\n",
            "1/1 [==============================] - 0s 20ms/step\n",
            "1/1 [==============================] - 0s 20ms/step\n",
            "1/1 [==============================] - 0s 20ms/step\n",
            "1/1 [==============================] - 0s 20ms/step\n",
            "w 0 0.9101928\n",
            "[w] expected, [l] found with score [0.910193]\n"
          ]
        },
        {
          "output_type": "display_data",
          "data": {
            "image/png": "[encoded data removed]",
            "text/plain": [
              "<IPython.core.display.Image object>"
            ]
          },
          "metadata": {}
        },
        {
          "output_type": "stream",
          "name": "stdout",
          "text": [
            "1/1 [==============================] - 0s 20ms/step\n",
            "1/1 [==============================] - 0s 19ms/step\n",
            "1/1 [==============================] - 0s 19ms/step\n",
            "1/1 [==============================] - 0s 24ms/step\n",
            "1/1 [==============================] - 0s 20ms/step\n",
            "1/1 [==============================] - 0s 19ms/step\n",
            "1/1 [==============================] - 0s 19ms/step\n",
            "1/1 [==============================] - 0s 22ms/step\n",
            "1/1 [==============================] - 0s 22ms/step\n",
            "1/1 [==============================] - 0s 20ms/step\n",
            "1/1 [==============================] - 0s 20ms/step\n",
            "w 0 0.7971336\n",
            "[w] expected, [l] found with score [0.797134]\n"
          ]
        },
        {
          "output_type": "display_data",
          "data": {
            "image/png": "[encoded data removed]",
            "text/plain": [
              "<IPython.core.display.Image object>"
            ]
          },
          "metadata": {}
        },
        {
          "output_type": "stream",
          "name": "stdout",
          "text": [
            "1/1 [==============================] - 0s 23ms/step\n",
            "1/1 [==============================] - 0s 19ms/step\n",
            "1/1 [==============================] - 0s 20ms/step\n",
            "1/1 [==============================] - 0s 19ms/step\n",
            "w 0 0.8794106\n",
            "[w] expected, [l] found with score [0.879411]\n"
          ]
        },
        {
          "output_type": "display_data",
          "data": {
            "image/png": "[encoded data removed]",
            "text/plain": [
              "<IPython.core.display.Image object>"
            ]
          },
          "metadata": {}
        },
        {
          "output_type": "stream",
          "name": "stdout",
          "text": [
            "1/1 [==============================] - 0s 20ms/step\n",
            "1/1 [==============================] - 0s 21ms/step\n",
            "1/1 [==============================] - 0s 20ms/step\n",
            "1/1 [==============================] - 0s 21ms/step\n",
            "1/1 [==============================] - 0s 21ms/step\n",
            "w 0 0.84442353\n",
            "[w] expected, [l] found with score [0.844424]\n"
          ]
        },
        {
          "output_type": "display_data",
          "data": {
            "image/png": "[encoded data removed]",
            "text/plain": [
              "<IPython.core.display.Image object>"
            ]
          },
          "metadata": {}
        },
        {
          "output_type": "stream",
          "name": "stdout",
          "text": [
            "1/1 [==============================] - 0s 20ms/step\n",
            "1/1 [==============================] - 0s 22ms/step\n",
            "1/1 [==============================] - 0s 20ms/step\n",
            "1/1 [==============================] - 0s 21ms/step\n",
            "1/1 [==============================] - 0s 20ms/step\n",
            "1/1 [==============================] - 0s 20ms/step\n",
            "w 0 0.8280253\n",
            "[w] expected, [l] found with score [0.828025]\n"
          ]
        },
        {
          "output_type": "display_data",
          "data": {
            "image/png": "[encoded data removed]",
            "text/plain": [
              "<IPython.core.display.Image object>"
            ]
          },
          "metadata": {}
        },
        {
          "output_type": "stream",
          "name": "stdout",
          "text": [
            "1/1 [==============================] - 0s 22ms/step\n",
            "1/1 [==============================] - 0s 20ms/step\n",
            "1/1 [==============================] - 0s 21ms/step\n",
            "1/1 [==============================] - 0s 20ms/step\n",
            "1/1 [==============================] - 0s 21ms/step\n",
            "1/1 [==============================] - 0s 23ms/step\n",
            "1/1 [==============================] - 0s 20ms/step\n",
            "1/1 [==============================] - 0s 28ms/step\n",
            "1/1 [==============================] - 0s 19ms/step\n",
            "w 0 0.8140753\n",
            "[w] expected, [l] found with score [0.814075]\n"
          ]
        },
        {
          "output_type": "display_data",
          "data": {
            "image/png": "[encoded data removed]",
            "text/plain": [
              "<IPython.core.display.Image object>"
            ]
          },
          "metadata": {}
        },
        {
          "output_type": "stream",
          "name": "stdout",
          "text": [
            "1/1 [==============================] - 0s 23ms/step\n",
            "Testing Gesture:  o  with datasize:  66\n",
            "1/1 [==============================] - 0s 21ms/step\n",
            "1/1 [==============================] - 0s 20ms/step\n",
            "1/1 [==============================] - 0s 25ms/step\n",
            "o 0 0.85783076\n",
            "[o] expected, [l] found with score [0.857831]\n"
          ]
        },
        {
          "output_type": "display_data",
          "data": {
            "image/png": "[encoded data removed]",
            "text/plain": [
              "<IPython.core.display.Image object>"
            ]
          },
          "metadata": {}
        },
        {
          "output_type": "stream",
          "name": "stdout",
          "text": [
            "1/1 [==============================] - 0s 20ms/step\n",
            "1/1 [==============================] - 0s 22ms/step\n",
            "1/1 [==============================] - 0s 22ms/step\n",
            "1/1 [==============================] - 0s 20ms/step\n",
            "1/1 [==============================] - 0s 19ms/step\n",
            "1/1 [==============================] - 0s 21ms/step\n",
            "1/1 [==============================] - 0s 22ms/step\n",
            "o 0 0.83699137\n",
            "[o] expected, [l] found with score [0.836991]\n"
          ]
        },
        {
          "output_type": "display_data",
          "data": {
            "image/png": "[encoded data removed]",
            "text/plain": [
              "<IPython.core.display.Image object>"
            ]
          },
          "metadata": {}
        },
        {
          "output_type": "stream",
          "name": "stdout",
          "text": [
            "1/1 [==============================] - 0s 22ms/step\n",
            "o 0 0.8077881\n",
            "[o] expected, [l] found with score [0.807788]\n"
          ]
        },
        {
          "output_type": "display_data",
          "data": {
            "image/png": "[encoded data removed]",
            "text/plain": [
              "<IPython.core.display.Image object>"
            ]
          },
          "metadata": {}
        },
        {
          "output_type": "stream",
          "name": "stdout",
          "text": [
            "1/1 [==============================] - 0s 20ms/step\n",
            "1/1 [==============================] - 0s 22ms/step\n",
            "o 0 0.8694871\n",
            "[o] expected, [l] found with score [0.869487]\n"
          ]
        },
        {
          "output_type": "display_data",
          "data": {
            "image/png": "[encoded data removed]",
            "text/plain": [
              "<IPython.core.display.Image object>"
            ]
          },
          "metadata": {}
        },
        {
          "output_type": "stream",
          "name": "stdout",
          "text": [
            "1/1 [==============================] - 0s 24ms/step\n",
            "1/1 [==============================] - 0s 28ms/step\n",
            "o 0 0.94871753\n",
            "[o] expected, [l] found with score [0.948718]\n"
          ]
        },
        {
          "output_type": "display_data",
          "data": {
            "image/png": "[encoded data removed]",
            "text/plain": [
              "<IPython.core.display.Image object>"
            ]
          },
          "metadata": {}
        },
        {
          "output_type": "stream",
          "name": "stdout",
          "text": [
            "1/1 [==============================] - 0s 21ms/step\n",
            "1/1 [==============================] - 0s 25ms/step\n",
            "o 0 0.9286062\n",
            "[o] expected, [l] found with score [0.928606]\n"
          ]
        },
        {
          "output_type": "display_data",
          "data": {
            "image/png": "[encoded data removed]",
            "text/plain": [
              "<IPython.core.display.Image object>"
            ]
          },
          "metadata": {}
        },
        {
          "output_type": "stream",
          "name": "stdout",
          "text": [
            "1/1 [==============================] - 0s 23ms/step\n",
            "1/1 [==============================] - 0s 22ms/step\n",
            "1/1 [==============================] - 0s 24ms/step\n",
            "1/1 [==============================] - 0s 23ms/step\n",
            "o 0 0.86625546\n",
            "[o] expected, [l] found with score [0.866255]\n"
          ]
        },
        {
          "output_type": "display_data",
          "data": {
            "image/png": "[encoded data removed]",
            "text/plain": [
              "<IPython.core.display.Image object>"
            ]
          },
          "metadata": {}
        },
        {
          "output_type": "stream",
          "name": "stdout",
          "text": [
            "1/1 [==============================] - 0s 32ms/step\n",
            "1/1 [==============================] - 0s 25ms/step\n",
            "1/1 [==============================] - 0s 22ms/step\n",
            "1/1 [==============================] - 0s 23ms/step\n",
            "1/1 [==============================] - 0s 25ms/step\n",
            "1/1 [==============================] - 0s 23ms/step\n",
            "1/1 [==============================] - 0s 26ms/step\n",
            "o 0 0.7812469\n",
            "[o] expected, [l] found with score [0.781247]\n"
          ]
        },
        {
          "output_type": "display_data",
          "data": {
            "image/png": "[encoded data removed]",
            "text/plain": [
              "<IPython.core.display.Image object>"
            ]
          },
          "metadata": {}
        },
        {
          "output_type": "stream",
          "name": "stdout",
          "text": [
            "1/1 [==============================] - 0s 24ms/step\n",
            "1/1 [==============================] - 0s 34ms/step\n",
            "1/1 [==============================] - 0s 36ms/step\n",
            "o 0 0.9030388\n",
            "[o] expected, [l] found with score [0.903039]\n"
          ]
        },
        {
          "output_type": "display_data",
          "data": {
            "image/png": "[encoded data removed]",
            "text/plain": [
              "<IPython.core.display.Image object>"
            ]
          },
          "metadata": {}
        },
        {
          "output_type": "stream",
          "name": "stdout",
          "text": [
            "1/1 [==============================] - 0s 42ms/step\n",
            "o 0 0.79459846\n",
            "[o] expected, [l] found with score [0.794598]\n"
          ]
        },
        {
          "output_type": "display_data",
          "data": {
            "image/png": "[encoded data removed]",
            "text/plain": [
              "<IPython.core.display.Image object>"
            ]
          },
          "metadata": {}
        },
        {
          "output_type": "stream",
          "name": "stdout",
          "text": [
            "1/1 [==============================] - 0s 33ms/step\n",
            "1/1 [==============================] - 0s 30ms/step\n",
            "o 0 0.9401692\n",
            "[o] expected, [l] found with score [0.940169]\n"
          ]
        },
        {
          "output_type": "display_data",
          "data": {
            "image/png": "[encoded data removed]",
            "text/plain": [
              "<IPython.core.display.Image object>"
            ]
          },
          "metadata": {}
        },
        {
          "output_type": "stream",
          "name": "stdout",
          "text": [
            "1/1 [==============================] - 0s 30ms/step\n",
            "1/1 [==============================] - 0s 29ms/step\n",
            "1/1 [==============================] - 0s 30ms/step\n",
            "1/1 [==============================] - 0s 30ms/step\n",
            "o 0 0.92057186\n",
            "[o] expected, [l] found with score [0.920572]\n"
          ]
        },
        {
          "output_type": "display_data",
          "data": {
            "image/png": "[encoded data removed]",
            "text/plain": [
              "<IPython.core.display.Image object>"
            ]
          },
          "metadata": {}
        },
        {
          "output_type": "stream",
          "name": "stdout",
          "text": [
            "1/1 [==============================] - 0s 30ms/step\n",
            "1/1 [==============================] - 0s 30ms/step\n",
            "1/1 [==============================] - 0s 49ms/step\n",
            "o 0 0.87209433\n",
            "[o] expected, [l] found with score [0.872094]\n"
          ]
        },
        {
          "output_type": "display_data",
          "data": {
            "image/png": "[encoded data removed]",
            "text/plain": [
              "<IPython.core.display.Image object>"
            ]
          },
          "metadata": {}
        },
        {
          "output_type": "stream",
          "name": "stdout",
          "text": [
            "1/1 [==============================] - 0s 28ms/step\n",
            "1/1 [==============================] - 0s 46ms/step\n",
            "1/1 [==============================] - 0s 30ms/step\n",
            "1/1 [==============================] - 0s 30ms/step\n",
            "o 0 0.89749795\n",
            "[o] expected, [l] found with score [0.897498]\n"
          ]
        },
        {
          "output_type": "display_data",
          "data": {
            "image/png": "[encoded data removed]",
            "text/plain": [
              "<IPython.core.display.Image object>"
            ]
          },
          "metadata": {}
        },
        {
          "output_type": "stream",
          "name": "stdout",
          "text": [
            "1/1 [==============================] - 0s 31ms/step\n",
            "o 0 0.8863398\n",
            "[o] expected, [l] found with score [0.886340]\n"
          ]
        },
        {
          "output_type": "display_data",
          "data": {
            "image/png": "[encoded data removed]",
            "text/plain": [
              "<IPython.core.display.Image object>"
            ]
          },
          "metadata": {}
        },
        {
          "output_type": "stream",
          "name": "stdout",
          "text": [
            "1/1 [==============================] - 0s 34ms/step\n",
            "1/1 [==============================] - 0s 33ms/step\n",
            "1/1 [==============================] - 0s 33ms/step\n",
            "o 0 0.95064175\n",
            "[o] expected, [l] found with score [0.950642]\n"
          ]
        },
        {
          "output_type": "display_data",
          "data": {
            "image/png": "[encoded data removed]",
            "text/plain": [
              "<IPython.core.display.Image object>"
            ]
          },
          "metadata": {}
        },
        {
          "output_type": "stream",
          "name": "stdout",
          "text": [
            "1/1 [==============================] - 0s 30ms/step\n",
            "1/1 [==============================] - 0s 36ms/step\n",
            "1/1 [==============================] - 0s 37ms/step\n",
            "1/1 [==============================] - 0s 37ms/step\n",
            "1/1 [==============================] - 0s 35ms/step\n",
            "1/1 [==============================] - 0s 38ms/step\n",
            "1/1 [==============================] - 0s 37ms/step\n",
            "1/1 [==============================] - 0s 29ms/step\n",
            "o 0 0.90319484\n",
            "[o] expected, [l] found with score [0.903195]\n"
          ]
        },
        {
          "output_type": "display_data",
          "data": {
            "image/png": "[encoded data removed]",
            "text/plain": [
              "<IPython.core.display.Image object>"
            ]
          },
          "metadata": {}
        },
        {
          "output_type": "stream",
          "name": "stdout",
          "text": [
            "1/1 [==============================] - 0s 26ms/step\n",
            "o 0 0.7979132\n",
            "[o] expected, [l] found with score [0.797913]\n"
          ]
        },
        {
          "output_type": "display_data",
          "data": {
            "image/png": "[encoded data removed]",
            "text/plain": [
              "<IPython.core.display.Image object>"
            ]
          },
          "metadata": {}
        },
        {
          "output_type": "stream",
          "name": "stdout",
          "text": [
            "1/1 [==============================] - 0s 22ms/step\n",
            "1/1 [==============================] - 0s 21ms/step\n",
            "1/1 [==============================] - 0s 20ms/step\n",
            "1/1 [==============================] - 0s 20ms/step\n",
            "1/1 [==============================] - 0s 21ms/step\n",
            "1/1 [==============================] - 0s 20ms/step\n",
            "o 0 0.83622384\n",
            "[o] expected, [l] found with score [0.836224]\n"
          ]
        },
        {
          "output_type": "display_data",
          "data": {
            "image/png": "[encoded data removed]",
            "text/plain": [
              "<IPython.core.display.Image object>"
            ]
          },
          "metadata": {}
        },
        {
          "output_type": "stream",
          "name": "stdout",
          "text": [
            "1/1 [==============================] - 0s 20ms/step\n",
            "1/1 [==============================] - 0s 25ms/step\n",
            "o 0 0.82839775\n",
            "[o] expected, [l] found with score [0.828398]\n"
          ]
        },
        {
          "output_type": "display_data",
          "data": {
            "image/png": "[encoded data removed]",
            "text/plain": [
              "<IPython.core.display.Image object>"
            ]
          },
          "metadata": {}
        },
        {
          "output_type": "stream",
          "name": "stdout",
          "text": [
            "76.1% correct (N=155, 43 unknown)\n"
          ]
        }
      ]
    },
    {
      "cell_type": "code",
      "source": [
        "converter = tf.lite.TFLiteConverter.from_saved_model(SAVED_MODEL_FILENAME)\n",
        "model_no_quant_tflite = converter.convert()"
      ],
      "metadata": {
        "id": "I82HnOwqJrc3"
      },
      "execution_count": null,
      "outputs": []
    },
    {
      "cell_type": "code",
      "source": [
        "# Save the model to disk\n",
        "open(FLOAT_TFL_MODEL_FILENAME, \"wb\").write(model_no_quant_tflite)\n",
        "\n",
        "def representative_dataset():\n",
        "  for filename in glob.glob(TEST_DIR + \"/*/*.png\"):\n",
        "    img = keras.preprocessing.image.load_img(filename, target_size=(IMAGE_WIDTH, IMAGE_HEIGHT))\n",
        "    img_array = keras.preprocessing.image.img_to_array(img)\n",
        "    img_array = tf.expand_dims(img_array, 0)  # Create batch axis for images, labels in train_ds.take(1):\n",
        "    yield([img_array])\n",
        "# Set the optimization flag.\n",
        "converter.optimizations = [tf.lite.Optimize.DEFAULT]\n",
        "# Enforce integer only quantization\n",
        "converter.target_spec.supported_ops = [tf.lite.OpsSet.TFLITE_BUILTINS_INT8]\n",
        "converter.inference_input_type = tf.int8\n",
        "converter.inference_output_type = tf.int8\n",
        "# Provide a representative dataset to ensure we quantize correctly.\n",
        "converter.representative_dataset = representative_dataset\n",
        "model_tflite = converter.convert()"
      ],
      "metadata": {
        "id": "tucR7KcM4Ldg"
      },
      "execution_count": null,
      "outputs": []
    },
    {
      "cell_type": "code",
      "source": [
        "# Save the model to disk\n",
        "open(QUANTIZED_TFL_MODEL_FILENAME, \"wb\").write(model_tflite)\n",
        "\n",
        "\"\"\"Compare the sizes of the Tensorflow, TensorFlow Lite and Quantized TensorFlow Lite models.\"\"\"\n",
        "\n",
        "def get_dir_size(dir):\n",
        "  size = 0\n",
        "  for f in os.scandir(dir):\n",
        "    if f.is_file():\n",
        "      size += f.stat().st_size\n",
        "    elif f.is_dir():\n",
        "      size += get_dir_size(f.path)\n",
        "  return size\n",
        "\n"
      ],
      "metadata": {
        "id": "28Fsq9SUIAF1"
      },
      "execution_count": null,
      "outputs": []
    },
    {
      "cell_type": "code",
      "source": [
        "# Calculate size\n",
        "size_tf = get_dir_size(SAVED_MODEL_FILENAME)\n",
        "size_no_quant_tflite = os.path.getsize(FLOAT_TFL_MODEL_FILENAME)\n",
        "size_tflite = os.path.getsize(QUANTIZED_TFL_MODEL_FILENAME)"
      ],
      "metadata": {
        "id": "zoLK-a9-KMXV"
      },
      "execution_count": null,
      "outputs": []
    },
    {
      "cell_type": "code",
      "source": [
        "# Compare size\n",
        "pd.DataFrame.from_records(\n",
        "    [[\"TensorFlow\", f\"{size_tf} bytes\", \"\"],\n",
        "     [\"TensorFlow Lite\", f\"{size_no_quant_tflite} bytes \", f\"(reduced by {size_tf - size_no_quant_tflite} bytes)\"],\n",
        "     [\"TensorFlow Lite Quantized\", f\"{size_tflite} bytes\", f\"(reduced by {size_no_quant_tflite - size_tflite} bytes)\"]],\n",
        "     columns = [\"Model\", \"Size\", \"\"], index=\"Model\")\n"
      ],
      "metadata": {
        "colab": {
          "base_uri": "https://localhost:8080/",
          "height": 175
        },
        "id": "iunFGMHwICPc",
        "outputId": "ab4adbf2-6b6d-4faa-ed60-a3fe5c09ca4c"
      },
      "execution_count": null,
      "outputs": [
        {
          "output_type": "execute_result",
          "data": {
            "text/plain": [
              "                                   Size                           \n",
              "Model                                                             \n",
              "TensorFlow                 643530 bytes                           \n",
              "TensorFlow Lite            98692 bytes   (reduced by 544838 bytes)\n",
              "TensorFlow Lite Quantized   30832 bytes   (reduced by 67860 bytes)"
            ],
            "text/html": [
              "\n",
              "  <div id=\"df-32ec5185-6aec-4be1-9947-c42c97bbeb73\" class=\"colab-df-container\">\n",
              "    <div>\n",
              "<style scoped>\n",
              "    .dataframe tbody tr th:only-of-type {\n",
              "        vertical-align: middle;\n",
              "    }\n",
              "\n",
              "    .dataframe tbody tr th {\n",
              "        vertical-align: top;\n",
              "    }\n",
              "\n",
              "    .dataframe thead th {\n",
              "        text-align: right;\n",
              "    }\n",
              "</style>\n",
              "<table border=\"1\" class=\"dataframe\">\n",
              "  <thead>\n",
              "    <tr style=\"text-align: right;\">\n",
              "      <th></th>\n",
              "      <th>Size</th>\n",
              "      <th></th>\n",
              "    </tr>\n",
              "    <tr>\n",
              "      <th>Model</th>\n",
              "      <th></th>\n",
              "      <th></th>\n",
              "    </tr>\n",
              "  </thead>\n",
              "  <tbody>\n",
              "    <tr>\n",
              "      <th>TensorFlow</th>\n",
              "      <td>643530 bytes</td>\n",
              "      <td></td>\n",
              "    </tr>\n",
              "    <tr>\n",
              "      <th>TensorFlow Lite</th>\n",
              "      <td>98692 bytes</td>\n",
              "      <td>(reduced by 544838 bytes)</td>\n",
              "    </tr>\n",
              "    <tr>\n",
              "      <th>TensorFlow Lite Quantized</th>\n",
              "      <td>30832 bytes</td>\n",
              "      <td>(reduced by 67860 bytes)</td>\n",
              "    </tr>\n",
              "  </tbody>\n",
              "</table>\n",
              "</div>\n",
              "    <div class=\"colab-df-buttons\">\n",
              "\n",
              "  <div class=\"colab-df-container\">\n",
              "    <button class=\"colab-df-convert\" onclick=\"convertToInteractive('df-32ec5185-6aec-4be1-9947-c42c97bbeb73')\"\n",
              "            title=\"Convert this dataframe to an interactive table.\"\n",
              "            style=\"display:none;\">\n",
              "\n",
              "  <svg xmlns=\"http://www.w3.org/2000/svg\" height=\"24px\" viewBox=\"0 -960 960 960\">\n",
              "    <path d=\"M120-120v-720h720v720H120Zm60-500h600v-160H180v160Zm220 220h160v-160H400v160Zm0 220h160v-160H400v160ZM180-400h160v-160H180v160Zm440 0h160v-160H620v160ZM180-180h160v-160H180v160Zm440 0h160v-160H620v160Z\"/>\n",
              "  </svg>\n",
              "    </button>\n",
              "\n",
              "  <style>\n",
              "    .colab-df-container {\n",
              "      display:flex;\n",
              "      gap: 12px;\n",
              "    }\n",
              "\n",
              "    .colab-df-convert {\n",
              "      background-color: #E8F0FE;\n",
              "      border: none;\n",
              "      border-radius: 50%;\n",
              "      cursor: pointer;\n",
              "      display: none;\n",
              "      fill: #1967D2;\n",
              "      height: 32px;\n",
              "      padding: 0 0 0 0;\n",
              "      width: 32px;\n",
              "    }\n",
              "\n",
              "    .colab-df-convert:hover {\n",
              "      background-color: #E2EBFA;\n",
              "      box-shadow: 0px 1px 2px rgba(60, 64, 67, 0.3), 0px 1px 3px 1px rgba(60, 64, 67, 0.15);\n",
              "      fill: #174EA6;\n",
              "    }\n",
              "\n",
              "    .colab-df-buttons div {\n",
              "      margin-bottom: 4px;\n",
              "    }\n",
              "\n",
              "    [theme=dark] .colab-df-convert {\n",
              "      background-color: #3B4455;\n",
              "      fill: #D2E3FC;\n",
              "    }\n",
              "\n",
              "    [theme=dark] .colab-df-convert:hover {\n",
              "      background-color: #434B5C;\n",
              "      box-shadow: 0px 1px 3px 1px rgba(0, 0, 0, 0.15);\n",
              "      filter: drop-shadow(0px 1px 2px rgba(0, 0, 0, 0.3));\n",
              "      fill: #FFFFFF;\n",
              "    }\n",
              "  </style>\n",
              "\n",
              "    <script>\n",
              "      const buttonEl =\n",
              "        document.querySelector('#df-32ec5185-6aec-4be1-9947-c42c97bbeb73 button.colab-df-convert');\n",
              "      buttonEl.style.display =\n",
              "        google.colab.kernel.accessAllowed ? 'block' : 'none';\n",
              "\n",
              "      async function convertToInteractive(key) {\n",
              "        const element = document.querySelector('#df-32ec5185-6aec-4be1-9947-c42c97bbeb73');\n",
              "        const dataTable =\n",
              "          await google.colab.kernel.invokeFunction('convertToInteractive',\n",
              "                                                    [key], {});\n",
              "        if (!dataTable) return;\n",
              "\n",
              "        const docLinkHtml = 'Like what you see? Visit the ' +\n",
              "          '<a target=\"_blank\" href=https://colab.research.google.com/notebooks/data_table.ipynb>data table notebook</a>'\n",
              "          + ' to learn more about interactive tables.';\n",
              "        element.innerHTML = '';\n",
              "        dataTable['output_type'] = 'display_data';\n",
              "        await google.colab.output.renderOutput(dataTable, element);\n",
              "        const docLink = document.createElement('div');\n",
              "        docLink.innerHTML = docLinkHtml;\n",
              "        element.appendChild(docLink);\n",
              "      }\n",
              "    </script>\n",
              "  </div>\n",
              "\n",
              "\n",
              "<div id=\"df-652d6ab7-8a04-4306-a817-40154ab08c5d\">\n",
              "  <button class=\"colab-df-quickchart\" onclick=\"quickchart('df-652d6ab7-8a04-4306-a817-40154ab08c5d')\"\n",
              "            title=\"Suggest charts\"\n",
              "            style=\"display:none;\">\n",
              "\n",
              "<svg xmlns=\"http://www.w3.org/2000/svg\" height=\"24px\"viewBox=\"0 0 24 24\"\n",
              "     width=\"24px\">\n",
              "    <g>\n",
              "        <path d=\"M19 3H5c-1.1 0-2 .9-2 2v14c0 1.1.9 2 2 2h14c1.1 0 2-.9 2-2V5c0-1.1-.9-2-2-2zM9 17H7v-7h2v7zm4 0h-2V7h2v10zm4 0h-2v-4h2v4z\"/>\n",
              "    </g>\n",
              "</svg>\n",
              "  </button>\n",
              "\n",
              "<style>\n",
              "  .colab-df-quickchart {\n",
              "      --bg-color: #E8F0FE;\n",
              "      --fill-color: #1967D2;\n",
              "      --hover-bg-color: #E2EBFA;\n",
              "      --hover-fill-color: #174EA6;\n",
              "      --disabled-fill-color: #AAA;\n",
              "      --disabled-bg-color: #DDD;\n",
              "  }\n",
              "\n",
              "  [theme=dark] .colab-df-quickchart {\n",
              "      --bg-color: #3B4455;\n",
              "      --fill-color: #D2E3FC;\n",
              "      --hover-bg-color: #434B5C;\n",
              "      --hover-fill-color: #FFFFFF;\n",
              "      --disabled-bg-color: #3B4455;\n",
              "      --disabled-fill-color: #666;\n",
              "  }\n",
              "\n",
              "  .colab-df-quickchart {\n",
              "    background-color: var(--bg-color);\n",
              "    border: none;\n",
              "    border-radius: 50%;\n",
              "    cursor: pointer;\n",
              "    display: none;\n",
              "    fill: var(--fill-color);\n",
              "    height: 32px;\n",
              "    padding: 0;\n",
              "    width: 32px;\n",
              "  }\n",
              "\n",
              "  .colab-df-quickchart:hover {\n",
              "    background-color: var(--hover-bg-color);\n",
              "    box-shadow: 0 1px 2px rgba(60, 64, 67, 0.3), 0 1px 3px 1px rgba(60, 64, 67, 0.15);\n",
              "    fill: var(--button-hover-fill-color);\n",
              "  }\n",
              "\n",
              "  .colab-df-quickchart-complete:disabled,\n",
              "  .colab-df-quickchart-complete:disabled:hover {\n",
              "    background-color: var(--disabled-bg-color);\n",
              "    fill: var(--disabled-fill-color);\n",
              "    box-shadow: none;\n",
              "  }\n",
              "\n",
              "  .colab-df-spinner {\n",
              "    border: 2px solid var(--fill-color);\n",
              "    border-color: transparent;\n",
              "    border-bottom-color: var(--fill-color);\n",
              "    animation:\n",
              "      spin 1s steps(1) infinite;\n",
              "  }\n",
              "\n",
              "  @keyframes spin {\n",
              "    0% {\n",
              "      border-color: transparent;\n",
              "      border-bottom-color: var(--fill-color);\n",
              "      border-left-color: var(--fill-color);\n",
              "    }\n",
              "    20% {\n",
              "      border-color: transparent;\n",
              "      border-left-color: var(--fill-color);\n",
              "      border-top-color: var(--fill-color);\n",
              "    }\n",
              "    30% {\n",
              "      border-color: transparent;\n",
              "      border-left-color: var(--fill-color);\n",
              "      border-top-color: var(--fill-color);\n",
              "      border-right-color: var(--fill-color);\n",
              "    }\n",
              "    40% {\n",
              "      border-color: transparent;\n",
              "      border-right-color: var(--fill-color);\n",
              "      border-top-color: var(--fill-color);\n",
              "    }\n",
              "    60% {\n",
              "      border-color: transparent;\n",
              "      border-right-color: var(--fill-color);\n",
              "    }\n",
              "    80% {\n",
              "      border-color: transparent;\n",
              "      border-right-color: var(--fill-color);\n",
              "      border-bottom-color: var(--fill-color);\n",
              "    }\n",
              "    90% {\n",
              "      border-color: transparent;\n",
              "      border-bottom-color: var(--fill-color);\n",
              "    }\n",
              "  }\n",
              "</style>\n",
              "\n",
              "  <script>\n",
              "    async function quickchart(key) {\n",
              "      const quickchartButtonEl =\n",
              "        document.querySelector('#' + key + ' button');\n",
              "      quickchartButtonEl.disabled = true;  // To prevent multiple clicks.\n",
              "      quickchartButtonEl.classList.add('colab-df-spinner');\n",
              "      try {\n",
              "        const charts = await google.colab.kernel.invokeFunction(\n",
              "            'suggestCharts', [key], {});\n",
              "      } catch (error) {\n",
              "        console.error('Error during call to suggestCharts:', error);\n",
              "      }\n",
              "      quickchartButtonEl.classList.remove('colab-df-spinner');\n",
              "      quickchartButtonEl.classList.add('colab-df-quickchart-complete');\n",
              "    }\n",
              "    (() => {\n",
              "      let quickchartButtonEl =\n",
              "        document.querySelector('#df-652d6ab7-8a04-4306-a817-40154ab08c5d button');\n",
              "      quickchartButtonEl.style.display =\n",
              "        google.colab.kernel.accessAllowed ? 'block' : 'none';\n",
              "    })();\n",
              "  </script>\n",
              "</div>\n",
              "    </div>\n",
              "  </div>\n"
            ]
          },
          "metadata": {},
          "execution_count": 28
        }
      ]
    },
    {
      "cell_type": "code",
      "source": [
        "def predict_tflite(tflite_model, filename):\n",
        "  img = keras.preprocessing.image.load_img(filename, target_size=(IMAGE_WIDTH, IMAGE_HEIGHT))\n",
        "  img_array = keras.preprocessing.image.img_to_array(img)\n",
        "  img_array = tf.expand_dims(img_array, 0)\n",
        "\n",
        "  # Initialize the TFLite interpreter\n",
        "  interpreter = tf.lite.Interpreter(model_content=tflite_model)\n",
        "  interpreter.allocate_tensors()\n",
        "\n",
        "  input_details = interpreter.get_input_details()[0]\n",
        "  output_details = interpreter.get_output_details()[0]\n",
        "\n",
        "  # If required, quantize the input layer (from float to integer)\n",
        "  input_scale, input_zero_point = input_details[\"quantization\"]\n",
        "  if (input_scale, input_zero_point) != (0.0, 0):\n",
        "    img_array = np.multiply(img_array, 1.0 / input_scale) + input_zero_point\n",
        "    img_array = img_array.astype(input_details[\"dtype\"])\n",
        "\n",
        "  # Invoke the interpreter\n",
        "  interpreter.set_tensor(input_details[\"index\"], img_array)\n",
        "  interpreter.invoke()\n",
        "  pred = interpreter.get_tensor(output_details[\"index\"])[0]\n",
        "\n",
        "  # If required, dequantized the output layer (from integer to float)\n",
        "  output_scale, output_zero_point = output_details[\"quantization\"]\n",
        "  if (output_scale, output_zero_point) != (0.0, 0):\n",
        "    pred = pred.astype(np.float32)\n",
        "    pred = np.multiply((pred - output_zero_point), output_scale)\n",
        "\n",
        "  predicted_label_index = np.argmax(pred)\n",
        "  predicted_score = pred[predicted_label_index]\n",
        "  return (predicted_label_index, predicted_score)\n",
        "\n",
        "def run_tflite_test(model_file):\n",
        "  correct_count = 0\n",
        "  wrong_count = 0\n",
        "  discarded_count = 0\n",
        "  for label_dir in glob.glob(TEST_DIR + \"/*\"):\n",
        "    label = label_dir.replace(TEST_DIR + \"/\", \"\")\n",
        "    print(\"Testing Gesture: \",label,\" with datasize: \",len(glob.glob(label_dir + \"/*.png\")))\n",
        "    for filename in glob.glob(label_dir + \"/*.png\"):\n",
        "      index, score = predict_tflite(model_file, filename)\n",
        "      if score < 0.75:\n",
        "        discarded_count += 1\n",
        "        continue\n",
        "      if index == labelToInt[label]:\n",
        "        correct_count += 1\n",
        "      else:\n",
        "        wrong_count += 1\n",
        "        print(\"[%s] expected, [%s] found with score [%f]\" % (label, intToLabel[index], score))\n",
        "        display(Image(filename=filename))\n",
        "\n",
        "  correct_percentage = (correct_count / (correct_count + wrong_count)) * 100\n",
        "\n",
        "  print(\"%.1f%% correct (N=%d, %d unknown)\" % (correct_percentage, (correct_count + wrong_count), discarded_count))\n",
        "\n",
        "\"\"\"First test the float model.\"\"\"\n",
        "\n",
        "run_tflite_test(model_no_quant_tflite)\n",
        "\n",
        "\"\"\"Then test the quantized model\"\"\"\n",
        "\n",
        "run_tflite_test(model_tflite)\n",
        "\n",
        "\"\"\"If you'd like to manually evaluate particular images you can uncomment, update, and run the below cell and select an image from the test folder.\"\"\"\n"
      ],
      "metadata": {
        "colab": {
          "base_uri": "https://localhost:8080/",
          "height": 1000
        },
        "id": "vVaq4bD64VP6",
        "outputId": "c591383c-d93e-465e-af2e-72285ef70b7d"
      },
      "execution_count": null,
      "outputs": [
        {
          "output_type": "stream",
          "name": "stdout",
          "text": [
            "Testing Gesture:  l  with datasize:  77\n",
            "[l] expected, [w] found with score [0.999999]\n"
          ]
        },
        {
          "output_type": "display_data",
          "data": {
            "image/png": "[encoded data removed]",
            "text/plain": [
              "<IPython.core.display.Image object>"
            ]
          },
          "metadata": {}
        },
        {
          "output_type": "stream",
          "name": "stdout",
          "text": [
            "[l] expected, [w] found with score [0.999992]\n"
          ]
        },
        {
          "output_type": "display_data",
          "data": {
            "image/png": "[encoded data removed]",
            "text/plain": [
              "<IPython.core.display.Image object>"
            ]
          },
          "metadata": {}
        },
        {
          "output_type": "stream",
          "name": "stdout",
          "text": [
            "[l] expected, [w] found with score [0.999980]\n"
          ]
        },
        {
          "output_type": "display_data",
          "data": {
            "image/png": "[encoded data removed]",
            "text/plain": [
              "<IPython.core.display.Image object>"
            ]
          },
          "metadata": {}
        },
        {
          "output_type": "stream",
          "name": "stdout",
          "text": [
            "[l] expected, [w] found with score [0.999998]\n"
          ]
        },
        {
          "output_type": "display_data",
          "data": {
            "image/png": "[encoded data removed]",
            "text/plain": [
              "<IPython.core.display.Image object>"
            ]
          },
          "metadata": {}
        },
        {
          "output_type": "stream",
          "name": "stdout",
          "text": [
            "[l] expected, [w] found with score [0.999991]\n"
          ]
        },
        {
          "output_type": "display_data",
          "data": {
            "image/png": "[encoded data removed]",
            "text/plain": [
              "<IPython.core.display.Image object>"
            ]
          },
          "metadata": {}
        },
        {
          "output_type": "stream",
          "name": "stdout",
          "text": [
            "[l] expected, [w] found with score [0.999992]\n"
          ]
        },
        {
          "output_type": "display_data",
          "data": {
            "image/png": "[encoded data removed]",
            "text/plain": [
              "<IPython.core.display.Image object>"
            ]
          },
          "metadata": {}
        },
        {
          "output_type": "stream",
          "name": "stdout",
          "text": [
            "[l] expected, [w] found with score [0.999844]\n"
          ]
        },
        {
          "output_type": "display_data",
          "data": {
            "image/png": "[encoded data removed]",
            "text/plain": [
              "<IPython.core.display.Image object>"
            ]
          },
          "metadata": {}
        },
        {
          "output_type": "stream",
          "name": "stdout",
          "text": [
            "[l] expected, [w] found with score [0.999804]\n"
          ]
        },
        {
          "output_type": "display_data",
          "data": {
            "image/png": "[encoded data removed]",
            "text/plain": [
              "<IPython.core.display.Image object>"
            ]
          },
          "metadata": {}
        },
        {
          "output_type": "stream",
          "name": "stdout",
          "text": [
            "[l] expected, [w] found with score [1.000000]\n"
          ]
        },
        {
          "output_type": "display_data",
          "data": {
            "image/png": "[encoded data removed]",
            "text/plain": [
              "<IPython.core.display.Image object>"
            ]
          },
          "metadata": {}
        },
        {
          "output_type": "stream",
          "name": "stdout",
          "text": [
            "[l] expected, [w] found with score [0.999999]\n"
          ]
        },
        {
          "output_type": "display_data",
          "data": {
            "image/png": "[encoded data removed]",
            "text/plain": [
              "<IPython.core.display.Image object>"
            ]
          },
          "metadata": {}
        },
        {
          "output_type": "stream",
          "name": "stdout",
          "text": [
            "[l] expected, [w] found with score [0.999901]\n"
          ]
        },
        {
          "output_type": "display_data",
          "data": {
            "image/png": "[encoded data removed]",
            "text/plain": [
              "<IPython.core.display.Image object>"
            ]
          },
          "metadata": {}
        },
        {
          "output_type": "stream",
          "name": "stdout",
          "text": [
            "Testing Gesture:  w  with datasize:  55\n",
            "[w] expected, [l] found with score [0.910193]\n"
          ]
        },
        {
          "output_type": "display_data",
          "data": {
            "image/png": "[encoded data removed]",
            "text/plain": [
              "<IPython.core.display.Image object>"
            ]
          },
          "metadata": {}
        },
        {
          "output_type": "stream",
          "name": "stdout",
          "text": [
            "[w] expected, [l] found with score [0.797134]\n"
          ]
        },
        {
          "output_type": "display_data",
          "data": {
            "image/png": "[encoded data removed]",
            "text/plain": [
              "<IPython.core.display.Image object>"
            ]
          },
          "metadata": {}
        },
        {
          "output_type": "stream",
          "name": "stdout",
          "text": [
            "[w] expected, [l] found with score [0.879411]\n"
          ]
        },
        {
          "output_type": "display_data",
          "data": {
            "image/png": "[encoded data removed]",
            "text/plain": [
              "<IPython.core.display.Image object>"
            ]
          },
          "metadata": {}
        },
        {
          "output_type": "stream",
          "name": "stdout",
          "text": [
            "[w] expected, [l] found with score [0.844424]\n"
          ]
        },
        {
          "output_type": "display_data",
          "data": {
            "image/png": "[encoded data removed]",
            "text/plain": [
              "<IPython.core.display.Image object>"
            ]
          },
          "metadata": {}
        },
        {
          "output_type": "stream",
          "name": "stdout",
          "text": [
            "[w] expected, [l] found with score [0.828025]\n"
          ]
        },
        {
          "output_type": "display_data",
          "data": {
            "image/png": "[encoded data removed]",
            "text/plain": [
              "<IPython.core.display.Image object>"
            ]
          },
          "metadata": {}
        },
        {
          "output_type": "stream",
          "name": "stdout",
          "text": [
            "[w] expected, [l] found with score [0.814075]\n"
          ]
        },
        {
          "output_type": "display_data",
          "data": {
            "image/png": "[encoded data removed]",
            "text/plain": [
              "<IPython.core.display.Image object>"
            ]
          },
          "metadata": {}
        },
        {
          "output_type": "stream",
          "name": "stdout",
          "text": [
            "Testing Gesture:  o  with datasize:  66\n",
            "[o] expected, [l] found with score [0.857831]\n"
          ]
        },
        {
          "output_type": "display_data",
          "data": {
            "image/png": "[encoded data removed]",
            "text/plain": [
              "<IPython.core.display.Image object>"
            ]
          },
          "metadata": {}
        },
        {
          "output_type": "stream",
          "name": "stdout",
          "text": [
            "[o] expected, [l] found with score [0.836991]\n"
          ]
        },
        {
          "output_type": "display_data",
          "data": {
            "image/png": "[encoded data removed]",
            "text/plain": [
              "<IPython.core.display.Image object>"
            ]
          },
          "metadata": {}
        },
        {
          "output_type": "stream",
          "name": "stdout",
          "text": [
            "[o] expected, [l] found with score [0.807788]\n"
          ]
        },
        {
          "output_type": "display_data",
          "data": {
            "image/png": "[encoded data removed]",
            "text/plain": [
              "<IPython.core.display.Image object>"
            ]
          },
          "metadata": {}
        },
        {
          "output_type": "stream",
          "name": "stdout",
          "text": [
            "[o] expected, [l] found with score [0.869487]\n"
          ]
        },
        {
          "output_type": "display_data",
          "data": {
            "image/png": "[encoded data removed]",
            "text/plain": [
              "<IPython.core.display.Image object>"
            ]
          },
          "metadata": {}
        },
        {
          "output_type": "stream",
          "name": "stdout",
          "text": [
            "[o] expected, [l] found with score [0.948718]\n"
          ]
        },
        {
          "output_type": "display_data",
          "data": {
            "image/png": "[encoded data removed]",
            "text/plain": [
              "<IPython.core.display.Image object>"
            ]
          },
          "metadata": {}
        },
        {
          "output_type": "stream",
          "name": "stdout",
          "text": [
            "[o] expected, [l] found with score [0.928606]\n"
          ]
        },
        {
          "output_type": "display_data",
          "data": {
            "image/png": "[encoded data removed]",
            "text/plain": [
              "<IPython.core.display.Image object>"
            ]
          },
          "metadata": {}
        },
        {
          "output_type": "stream",
          "name": "stdout",
          "text": [
            "[o] expected, [l] found with score [0.866255]\n"
          ]
        },
        {
          "output_type": "display_data",
          "data": {
            "image/png": "[encoded data removed]",
            "text/plain": [
              "<IPython.core.display.Image object>"
            ]
          },
          "metadata": {}
        },
        {
          "output_type": "stream",
          "name": "stdout",
          "text": [
            "[o] expected, [l] found with score [0.781247]\n"
          ]
        },
        {
          "output_type": "display_data",
          "data": {
            "image/png": "[encoded data removed]",
            "text/plain": [
              "<IPython.core.display.Image object>"
            ]
          },
          "metadata": {}
        },
        {
          "output_type": "stream",
          "name": "stdout",
          "text": [
            "[o] expected, [l] found with score [0.903039]\n"
          ]
        },
        {
          "output_type": "display_data",
          "data": {
            "image/png": "[encoded data removed]",
            "text/plain": [
              "<IPython.core.display.Image object>"
            ]
          },
          "metadata": {}
        },
        {
          "output_type": "stream",
          "name": "stdout",
          "text": [
            "[o] expected, [l] found with score [0.794598]\n"
          ]
        },
        {
          "output_type": "display_data",
          "data": {
            "image/png": "[encoded data removed]",
            "text/plain": [
              "<IPython.core.display.Image object>"
            ]
          },
          "metadata": {}
        },
        {
          "output_type": "stream",
          "name": "stdout",
          "text": [
            "[o] expected, [l] found with score [0.940169]\n"
          ]
        },
        {
          "output_type": "display_data",
          "data": {
            "image/png": "[encoded data removed]",
            "text/plain": [
              "<IPython.core.display.Image object>"
            ]
          },
          "metadata": {}
        },
        {
          "output_type": "stream",
          "name": "stdout",
          "text": [
            "[o] expected, [l] found with score [0.920572]\n"
          ]
        },
        {
          "output_type": "display_data",
          "data": {
            "image/png": "[encoded data removed]",
            "text/plain": [
              "<IPython.core.display.Image object>"
            ]
          },
          "metadata": {}
        },
        {
          "output_type": "stream",
          "name": "stdout",
          "text": [
            "[o] expected, [l] found with score [0.872094]\n"
          ]
        },
        {
          "output_type": "display_data",
          "data": {
            "image/png": "[encoded data removed]",
            "text/plain": [
              "<IPython.core.display.Image object>"
            ]
          },
          "metadata": {}
        },
        {
          "output_type": "stream",
          "name": "stdout",
          "text": [
            "[o] expected, [l] found with score [0.897498]\n"
          ]
        },
        {
          "output_type": "display_data",
          "data": {
            "image/png": "[encoded data removed]",
            "text/plain": [
              "<IPython.core.display.Image object>"
            ]
          },
          "metadata": {}
        },
        {
          "output_type": "stream",
          "name": "stdout",
          "text": [
            "[o] expected, [l] found with score [0.886340]\n"
          ]
        },
        {
          "output_type": "display_data",
          "data": {
            "image/png": "[encoded data removed]",
            "text/plain": [
              "<IPython.core.display.Image object>"
            ]
          },
          "metadata": {}
        },
        {
          "output_type": "stream",
          "name": "stdout",
          "text": [
            "[o] expected, [l] found with score [0.950642]\n"
          ]
        },
        {
          "output_type": "display_data",
          "data": {
            "image/png": "[encoded data removed]",
            "text/plain": [
              "<IPython.core.display.Image object>"
            ]
          },
          "metadata": {}
        },
        {
          "output_type": "stream",
          "name": "stdout",
          "text": [
            "[o] expected, [l] found with score [0.903195]\n"
          ]
        },
        {
          "output_type": "display_data",
          "data": {
            "image/png": "[encoded data removed]",
            "text/plain": [
              "<IPython.core.display.Image object>"
            ]
          },
          "metadata": {}
        },
        {
          "output_type": "stream",
          "name": "stdout",
          "text": [
            "[o] expected, [l] found with score [0.797913]\n"
          ]
        },
        {
          "output_type": "display_data",
          "data": {
            "image/png": "[encoded data removed]",
            "text/plain": [
              "<IPython.core.display.Image object>"
            ]
          },
          "metadata": {}
        },
        {
          "output_type": "stream",
          "name": "stdout",
          "text": [
            "[o] expected, [l] found with score [0.836224]\n"
          ]
        },
        {
          "output_type": "display_data",
          "data": {
            "image/png": "[encoded data removed]",
            "text/plain": [
              "<IPython.core.display.Image object>"
            ]
          },
          "metadata": {}
        },
        {
          "output_type": "stream",
          "name": "stdout",
          "text": [
            "[o] expected, [l] found with score [0.828398]\n"
          ]
        },
        {
          "output_type": "display_data",
          "data": {
            "image/png": "[encoded data removed]",
            "text/plain": [
              "<IPython.core.display.Image object>"
            ]
          },
          "metadata": {}
        },
        {
          "output_type": "stream",
          "name": "stdout",
          "text": [
            "76.1% correct (N=155, 43 unknown)\n",
            "Testing Gesture:  l  with datasize:  77\n",
            "[l] expected, [w] found with score [0.996094]\n"
          ]
        },
        {
          "output_type": "display_data",
          "data": {
            "image/png": "[encoded data removed]",
            "text/plain": [
              "<IPython.core.display.Image object>"
            ]
          },
          "metadata": {}
        },
        {
          "output_type": "stream",
          "name": "stdout",
          "text": [
            "[l] expected, [w] found with score [0.996094]\n"
          ]
        },
        {
          "output_type": "display_data",
          "data": {
            "image/png": "[encoded data removed]",
            "text/plain": [
              "<IPython.core.display.Image object>"
            ]
          },
          "metadata": {}
        },
        {
          "output_type": "stream",
          "name": "stdout",
          "text": [
            "[l] expected, [w] found with score [0.996094]\n"
          ]
        },
        {
          "output_type": "display_data",
          "data": {
            "image/png": "[encoded data removed]",
            "text/plain": [
              "<IPython.core.display.Image object>"
            ]
          },
          "metadata": {}
        },
        {
          "output_type": "stream",
          "name": "stdout",
          "text": [
            "[l] expected, [w] found with score [0.996094]\n"
          ]
        },
        {
          "output_type": "display_data",
          "data": {
            "image/png": "[encoded data removed]",
            "text/plain": [
              "<IPython.core.display.Image object>"
            ]
          },
          "metadata": {}
        },
        {
          "output_type": "stream",
          "name": "stdout",
          "text": [
            "[l] expected, [w] found with score [0.996094]\n"
          ]
        },
        {
          "output_type": "display_data",
          "data": {
            "image/png": "[encoded data removed]",
            "text/plain": [
              "<IPython.core.display.Image object>"
            ]
          },
          "metadata": {}
        },
        {
          "output_type": "stream",
          "name": "stdout",
          "text": [
            "[l] expected, [w] found with score [0.996094]\n"
          ]
        },
        {
          "output_type": "display_data",
          "data": {
            "image/png": "[encoded data removed]",
            "text/plain": [
              "<IPython.core.display.Image object>"
            ]
          },
          "metadata": {}
        },
        {
          "output_type": "stream",
          "name": "stdout",
          "text": [
            "[l] expected, [w] found with score [0.996094]\n"
          ]
        },
        {
          "output_type": "display_data",
          "data": {
            "image/png": "[encoded data removed]",
            "text/plain": [
              "<IPython.core.display.Image object>"
            ]
          },
          "metadata": {}
        },
        {
          "output_type": "stream",
          "name": "stdout",
          "text": [
            "[l] expected, [w] found with score [0.996094]\n"
          ]
        },
        {
          "output_type": "display_data",
          "data": {
            "image/png": "[encoded data removed]",
            "text/plain": [
              "<IPython.core.display.Image object>"
            ]
          },
          "metadata": {}
        },
        {
          "output_type": "stream",
          "name": "stdout",
          "text": [
            "[l] expected, [w] found with score [0.996094]\n"
          ]
        },
        {
          "output_type": "display_data",
          "data": {
            "image/png": "[encoded data removed]",
            "text/plain": [
              "<IPython.core.display.Image object>"
            ]
          },
          "metadata": {}
        },
        {
          "output_type": "stream",
          "name": "stdout",
          "text": [
            "[l] expected, [w] found with score [0.996094]\n"
          ]
        },
        {
          "output_type": "display_data",
          "data": {
            "image/png": "[encoded data removed]",
            "text/plain": [
              "<IPython.core.display.Image object>"
            ]
          },
          "metadata": {}
        },
        {
          "output_type": "stream",
          "name": "stdout",
          "text": [
            "[l] expected, [w] found with score [0.996094]\n"
          ]
        },
        {
          "output_type": "display_data",
          "data": {
            "image/png": "[encoded data removed]",
            "text/plain": [
              "<IPython.core.display.Image object>"
            ]
          },
          "metadata": {}
        },
        {
          "output_type": "stream",
          "name": "stdout",
          "text": [
            "Testing Gesture:  w  with datasize:  55\n",
            "[w] expected, [l] found with score [0.910156]\n"
          ]
        },
        {
          "output_type": "display_data",
          "data": {
            "image/png": "[encoded data removed]",
            "text/plain": [
              "<IPython.core.display.Image object>"
            ]
          },
          "metadata": {}
        },
        {
          "output_type": "stream",
          "name": "stdout",
          "text": [
            "[w] expected, [l] found with score [0.816406]\n"
          ]
        },
        {
          "output_type": "display_data",
          "data": {
            "image/png": "[encoded data removed]",
            "text/plain": [
              "<IPython.core.display.Image object>"
            ]
          },
          "metadata": {}
        },
        {
          "output_type": "stream",
          "name": "stdout",
          "text": [
            "[w] expected, [l] found with score [0.882812]\n"
          ]
        },
        {
          "output_type": "display_data",
          "data": {
            "image/png": "[encoded data removed]",
            "text/plain": [
              "<IPython.core.display.Image object>"
            ]
          },
          "metadata": {}
        },
        {
          "output_type": "stream",
          "name": "stdout",
          "text": [
            "[w] expected, [l] found with score [0.855469]\n"
          ]
        },
        {
          "output_type": "display_data",
          "data": {
            "image/png": "[encoded data removed]",
            "text/plain": [
              "<IPython.core.display.Image object>"
            ]
          },
          "metadata": {}
        },
        {
          "output_type": "stream",
          "name": "stdout",
          "text": [
            "[w] expected, [l] found with score [0.839844]\n"
          ]
        },
        {
          "output_type": "display_data",
          "data": {
            "image/png": "[encoded data removed]",
            "text/plain": [
              "<IPython.core.display.Image object>"
            ]
          },
          "metadata": {}
        },
        {
          "output_type": "stream",
          "name": "stdout",
          "text": [
            "[w] expected, [l] found with score [0.753906]\n"
          ]
        },
        {
          "output_type": "display_data",
          "data": {
            "image/png": "[encoded data removed]",
            "text/plain": [
              "<IPython.core.display.Image object>"
            ]
          },
          "metadata": {}
        },
        {
          "output_type": "stream",
          "name": "stdout",
          "text": [
            "[w] expected, [l] found with score [0.828125]\n"
          ]
        },
        {
          "output_type": "display_data",
          "data": {
            "image/png": "[encoded data removed]",
            "text/plain": [
              "<IPython.core.display.Image object>"
            ]
          },
          "metadata": {}
        },
        {
          "output_type": "stream",
          "name": "stdout",
          "text": [
            "Testing Gesture:  o  with datasize:  66\n",
            "[o] expected, [l] found with score [0.863281]\n"
          ]
        },
        {
          "output_type": "display_data",
          "data": {
            "image/png": "[encoded data removed]",
            "text/plain": [
              "<IPython.core.display.Image object>"
            ]
          },
          "metadata": {}
        },
        {
          "output_type": "stream",
          "name": "stdout",
          "text": [
            "[o] expected, [l] found with score [0.847656]\n"
          ]
        },
        {
          "output_type": "display_data",
          "data": {
            "image/png": "[encoded data removed]",
            "text/plain": [
              "<IPython.core.display.Image object>"
            ]
          },
          "metadata": {}
        },
        {
          "output_type": "stream",
          "name": "stdout",
          "text": [
            "[o] expected, [l] found with score [0.808594]\n"
          ]
        },
        {
          "output_type": "display_data",
          "data": {
            "image/png": "[encoded data removed]",
            "text/plain": [
              "<IPython.core.display.Image object>"
            ]
          },
          "metadata": {}
        },
        {
          "output_type": "stream",
          "name": "stdout",
          "text": [
            "[o] expected, [l] found with score [0.875000]\n"
          ]
        },
        {
          "output_type": "display_data",
          "data": {
            "image/png": "[encoded data removed]",
            "text/plain": [
              "<IPython.core.display.Image object>"
            ]
          },
          "metadata": {}
        },
        {
          "output_type": "stream",
          "name": "stdout",
          "text": [
            "[o] expected, [l] found with score [0.953125]\n"
          ]
        },
        {
          "output_type": "display_data",
          "data": {
            "image/png": "[encoded data removed]",
            "text/plain": [
              "<IPython.core.display.Image object>"
            ]
          },
          "metadata": {}
        },
        {
          "output_type": "stream",
          "name": "stdout",
          "text": [
            "[o] expected, [l] found with score [0.929688]\n"
          ]
        },
        {
          "output_type": "display_data",
          "data": {
            "image/png": "[encoded data removed]",
            "text/plain": [
              "<IPython.core.display.Image object>"
            ]
          },
          "metadata": {}
        },
        {
          "output_type": "stream",
          "name": "stdout",
          "text": [
            "[o] expected, [l] found with score [0.867188]\n"
          ]
        },
        {
          "output_type": "display_data",
          "data": {
            "image/png": "[encoded data removed]",
            "text/plain": [
              "<IPython.core.display.Image object>"
            ]
          },
          "metadata": {}
        },
        {
          "output_type": "stream",
          "name": "stdout",
          "text": [
            "[o] expected, [l] found with score [0.789062]\n"
          ]
        },
        {
          "output_type": "display_data",
          "data": {
            "image/png": "[encoded data removed]",
            "text/plain": [
              "<IPython.core.display.Image object>"
            ]
          },
          "metadata": {}
        },
        {
          "output_type": "stream",
          "name": "stdout",
          "text": [
            "[o] expected, [l] found with score [0.910156]\n"
          ]
        },
        {
          "output_type": "display_data",
          "data": {
            "image/png": "[encoded data removed]",
            "text/plain": [
              "<IPython.core.display.Image object>"
            ]
          },
          "metadata": {}
        },
        {
          "output_type": "stream",
          "name": "stdout",
          "text": [
            "[o] expected, [l] found with score [0.804688]\n"
          ]
        },
        {
          "output_type": "display_data",
          "data": {
            "image/png": "[encoded data removed]",
            "text/plain": [
              "<IPython.core.display.Image object>"
            ]
          },
          "metadata": {}
        },
        {
          "output_type": "stream",
          "name": "stdout",
          "text": [
            "[o] expected, [l] found with score [0.941406]\n"
          ]
        },
        {
          "output_type": "display_data",
          "data": {
            "image/png": "[encoded data removed]",
            "text/plain": [
              "<IPython.core.display.Image object>"
            ]
          },
          "metadata": {}
        },
        {
          "output_type": "stream",
          "name": "stdout",
          "text": [
            "[o] expected, [l] found with score [0.921875]\n"
          ]
        },
        {
          "output_type": "display_data",
          "data": {
            "image/png": "[encoded data removed]",
            "text/plain": [
              "<IPython.core.display.Image object>"
            ]
          },
          "metadata": {}
        },
        {
          "output_type": "stream",
          "name": "stdout",
          "text": [
            "[o] expected, [l] found with score [0.871094]\n"
          ]
        },
        {
          "output_type": "display_data",
          "data": {
            "image/png": "[encoded data removed]",
            "text/plain": [
              "<IPython.core.display.Image object>"
            ]
          },
          "metadata": {}
        },
        {
          "output_type": "stream",
          "name": "stdout",
          "text": [
            "[o] expected, [l] found with score [0.898438]\n"
          ]
        },
        {
          "output_type": "display_data",
          "data": {
            "image/png": "[encoded data removed]",
            "text/plain": [
              "<IPython.core.display.Image object>"
            ]
          },
          "metadata": {}
        },
        {
          "output_type": "stream",
          "name": "stdout",
          "text": [
            "[o] expected, [l] found with score [0.890625]\n"
          ]
        },
        {
          "output_type": "display_data",
          "data": {
            "image/png": "[encoded data removed]",
            "text/plain": [
              "<IPython.core.display.Image object>"
            ]
          },
          "metadata": {}
        },
        {
          "output_type": "stream",
          "name": "stdout",
          "text": [
            "[o] expected, [l] found with score [0.957031]\n"
          ]
        },
        {
          "output_type": "display_data",
          "data": {
            "image/png": "[encoded data removed]",
            "text/plain": [
              "<IPython.core.display.Image object>"
            ]
          },
          "metadata": {}
        },
        {
          "output_type": "stream",
          "name": "stdout",
          "text": [
            "[o] expected, [l] found with score [0.753906]\n"
          ]
        },
        {
          "output_type": "display_data",
          "data": {
            "image/png": "[encoded data removed]",
            "text/plain": [
              "<IPython.core.display.Image object>"
            ]
          },
          "metadata": {}
        },
        {
          "output_type": "stream",
          "name": "stdout",
          "text": [
            "[o] expected, [l] found with score [0.902344]\n"
          ]
        },
        {
          "output_type": "display_data",
          "data": {
            "image/png": "[encoded data removed]",
            "text/plain": [
              "<IPython.core.display.Image object>"
            ]
          },
          "metadata": {}
        },
        {
          "output_type": "stream",
          "name": "stdout",
          "text": [
            "[o] expected, [l] found with score [0.808594]\n"
          ]
        },
        {
          "output_type": "display_data",
          "data": {
            "image/png": "[encoded data removed]",
            "text/plain": [
              "<IPython.core.display.Image object>"
            ]
          },
          "metadata": {}
        },
        {
          "output_type": "stream",
          "name": "stdout",
          "text": [
            "[o] expected, [l] found with score [0.843750]\n"
          ]
        },
        {
          "output_type": "display_data",
          "data": {
            "image/png": "[encoded data removed]",
            "text/plain": [
              "<IPython.core.display.Image object>"
            ]
          },
          "metadata": {}
        },
        {
          "output_type": "stream",
          "name": "stdout",
          "text": [
            "[o] expected, [l] found with score [0.835938]\n"
          ]
        },
        {
          "output_type": "display_data",
          "data": {
            "image/png": "[encoded data removed]",
            "text/plain": [
              "<IPython.core.display.Image object>"
            ]
          },
          "metadata": {}
        },
        {
          "output_type": "stream",
          "name": "stdout",
          "text": [
            "75.3% correct (N=158, 40 unknown)\n"
          ]
        },
        {
          "output_type": "execute_result",
          "data": {
            "text/plain": [
              "\"If you'd like to manually evaluate particular images you can uncomment, update, and run the below cell and select an image from the test folder.\""
            ],
            "application/vnd.google.colaboratory.intrinsic+json": {
              "type": "string"
            }
          },
          "metadata": {},
          "execution_count": 29
        }
      ]
    },
    {
      "cell_type": "code",
      "source": [
        "# Convert to a C source file, i.e, a TensorFlow Lite for Microcontrollers model\n",
        "!xxd -i {QUANTIZED_TFL_MODEL_FILENAME} > {TFL_CC_MODEL_FILENAME}\n",
        "# Update variable names\n",
        "REPLACE_TEXT = QUANTIZED_TFL_MODEL_FILENAME.replace('/', '_').replace('.', '_')\n",
        "!sed -i 's/'{REPLACE_TEXT}'/g_magic_wand_model_data/g' {TFL_CC_MODEL_FILENAME}\n"
      ],
      "metadata": {
        "id": "_8I4kH-F4VQ_"
      },
      "execution_count": null,
      "outputs": []
    },
    {
      "cell_type": "code",
      "source": [
        "# Print the C source file\n",
        "!cat {TFL_CC_MODEL_FILENAME}\n",
        "# !tail {TFL_CC_MODEL_FILENAME} # run this command to just see the end of the file (aka the size)\n"
      ],
      "metadata": {
        "colab": {
          "base_uri": "https://localhost:8080/"
        },
        "id": "2Z4POtUG4VTD",
        "outputId": "a7c43ccb-de64-48d4-ac79-6be470cbc24b"
      },
      "execution_count": null,
      "outputs": [
        {
          "output_type": "stream",
          "name": "stdout",
          "text": [
            "unsigned char g_magic_wand_model_data[] = {\n",
            "  0x20, 0x00, 0x00, 0x00, 0x54, 0x46, 0x4c, 0x33, 0x00, 0x00, 0x00, 0x00,\n",
            "  0x14, 0x00, 0x20, 0x00, 0x1c, 0x00, 0x18, 0x00, 0x14, 0x00, 0x10, 0x00,\n",
            "  0x0c, 0x00, 0x00, 0x00, 0x08, 0x00, 0x04, 0x00, 0x14, 0x00, 0x00, 0x00,\n",
            "  0x1c, 0x00, 0x00, 0x00, 0x8c, 0x00, 0x00, 0x00, 0xe4, 0x00, 0x00, 0x00,\n",
            "  0x80, 0x60, 0x00, 0x00, 0x90, 0x60, 0x00, 0x00, 0xd8, 0x77, 0x00, 0x00,\n",
            "  0x03, 0x00, 0x00, 0x00, 0x01, 0x00, 0x00, 0x00, 0x10, 0x00, 0x00, 0x00,\n",
            "  0x00, 0x00, 0x0a, 0x00, 0x10, 0x00, 0x0c, 0x00, 0x08, 0x00, 0x04, 0x00,\n",
            "  0x0a, 0x00, 0x00, 0x00, 0x0c, 0x00, 0x00, 0x00, 0x1c, 0x00, 0x00, 0x00,\n",
            "  0x38, 0x00, 0x00, 0x00, 0x0f, 0x00, 0x00, 0x00, 0x73, 0x65, 0x72, 0x76,\n",
            "  0x69, 0x6e, 0x67, 0x5f, 0x64, 0x65, 0x66, 0x61, 0x75, 0x6c, 0x74, 0x00,\n",
            "  0x01, 0x00, 0x00, 0x00, 0x04, 0x00, 0x00, 0x00, 0x9c, 0xff, 0xff, 0xff,\n",
            "  0x0f, 0x00, 0x00, 0x00, 0x04, 0x00, 0x00, 0x00, 0x05, 0x00, 0x00, 0x00,\n",
            "  0x64, 0x65, 0x6e, 0x73, 0x65, 0x00, 0x00, 0x00, 0x01, 0x00, 0x00, 0x00,\n",
            "  0x04, 0x00, 0x00, 0x00, 0x6a, 0x9f, 0xff, 0xff, 0x04, 0x00, 0x00, 0x00,\n",
            "  0x07, 0x00, 0x00, 0x00, 0x69, 0x6e, 0x70, 0x75, 0x74, 0x5f, 0x31, 0x00,\n",
            "  0x02, 0x00, 0x00, 0x00, 0x34, 0x00, 0x00, 0x00, 0x04, 0x00, 0x00, 0x00,\n",
            "  0xdc, 0xff, 0xff, 0xff, 0x12, 0x00, 0x00, 0x00, 0x04, 0x00, 0x00, 0x00,\n",
            "  0x13, 0x00, 0x00, 0x00, 0x43, 0x4f, 0x4e, 0x56, 0x45, 0x52, 0x53, 0x49,\n",
            "  0x4f, 0x4e, 0x5f, 0x4d, 0x45, 0x54, 0x41, 0x44, 0x41, 0x54, 0x41, 0x00,\n",
            "  0x08, 0x00, 0x0c, 0x00, 0x08, 0x00, 0x04, 0x00, 0x08, 0x00, 0x00, 0x00,\n",
            "  0x11, 0x00, 0x00, 0x00, 0x04, 0x00, 0x00, 0x00, 0x13, 0x00, 0x00, 0x00,\n",
            "  0x6d, 0x69, 0x6e, 0x5f, 0x72, 0x75, 0x6e, 0x74, 0x69, 0x6d, 0x65, 0x5f,\n",
            "  0x76, 0x65, 0x72, 0x73, 0x69, 0x6f, 0x6e, 0x00, 0x13, 0x00, 0x00, 0x00,\n",
            "  0x98, 0x5f, 0x00, 0x00, 0x90, 0x5f, 0x00, 0x00, 0x78, 0x5f, 0x00, 0x00,\n",
            "  0x5c, 0x5f, 0x00, 0x00, 0x8c, 0x5e, 0x00, 0x00, 0x7c, 0x5d, 0x00, 0x00,\n",
            "  0x6c, 0x15, 0x00, 0x00, 0xdc, 0x14, 0x00, 0x00, 0xcc, 0x02, 0x00, 0x00,\n",
            "  0x7c, 0x02, 0x00, 0x00, 0xbc, 0x00, 0x00, 0x00, 0xb4, 0x00, 0x00, 0x00,\n",
            "  0xac, 0x00, 0x00, 0x00, 0xa4, 0x00, 0x00, 0x00, 0x9c, 0x00, 0x00, 0x00,\n",
            "  0x94, 0x00, 0x00, 0x00, 0x8c, 0x00, 0x00, 0x00, 0x6c, 0x00, 0x00, 0x00,\n",
            "  0x04, 0x00, 0x00, 0x00, 0x2a, 0xa0, 0xff, 0xff, 0x04, 0x00, 0x00, 0x00,\n",
            "  0x58, 0x00, 0x00, 0x00, 0x0c, 0x00, 0x00, 0x00, 0x08, 0x00, 0x0e, 0x00,\n",
            "  0x08, 0x00, 0x04, 0x00, 0x08, 0x00, 0x00, 0x00, 0x10, 0x00, 0x00, 0x00,\n",
            "  0x28, 0x00, 0x00, 0x00, 0x00, 0x00, 0x06, 0x00, 0x08, 0x00, 0x04, 0x00,\n",
            "  0x06, 0x00, 0x00, 0x00, 0x04, 0x00, 0x00, 0x00, 0x01, 0x00, 0x00, 0x00,\n",
            "  0xeb, 0x03, 0x00, 0x00, 0x00, 0x00, 0x0a, 0x00, 0x10, 0x00, 0x0c, 0x00,\n",
            "  0x08, 0x00, 0x04, 0x00, 0x0a, 0x00, 0x00, 0x00, 0x01, 0x00, 0x00, 0x00,\n",
            "  0x02, 0x00, 0x00, 0x00, 0x04, 0x00, 0x00, 0x00, 0x06, 0x00, 0x00, 0x00,\n",
            "  0x32, 0x2e, 0x31, 0x35, 0x2e, 0x30, 0x00, 0x00, 0x8e, 0xa0, 0xff, 0xff,\n",
            "  0x04, 0x00, 0x00, 0x00, 0x10, 0x00, 0x00, 0x00, 0x31, 0x2e, 0x31, 0x34,\n",
            "  0x2e, 0x30, 0x00, 0x00, 0x00, 0x00, 0x00, 0x00, 0x00, 0x00, 0x00, 0x00,\n",
            "  0xcc, 0x8a, 0xff, 0xff, 0xd0, 0x8a, 0xff, 0xff, 0xd4, 0x8a, 0xff, 0xff,\n",
            "  0xd8, 0x8a, 0xff, 0xff, 0xdc, 0x8a, 0xff, 0xff, 0xe0, 0x8a, 0xff, 0xff,\n",
            "  0xc2, 0xa0, 0xff, 0xff, 0x04, 0x00, 0x00, 0x00, 0xb0, 0x01, 0x00, 0x00,\n",
            "  0xe7, 0x16, 0x0d, 0x22, 0x81, 0xd5, 0xd3, 0x23, 0xff, 0x1e, 0x0d, 0xe8,\n",
            "  0xe8, 0x96, 0xb0, 0x24, 0xfe, 0x48, 0x38, 0x0b, 0xde, 0x94, 0xc7, 0xed,\n",
            "  0x14, 0x16, 0x27, 0xb1, 0xda, 0x00, 0x36, 0xfa, 0x3d, 0xa4, 0xeb, 0xd5,\n",
            "  0x94, 0xf2, 0x25, 0xe2, 0xf4, 0xbc, 0x22, 0xe8, 0x1f, 0xec, 0x20, 0x28,\n",
            "  0xd6, 0x9f, 0x81, 0xf6, 0x0a, 0x56, 0x25, 0x1f, 0xda, 0x05, 0x11, 0x08,\n",
            "  0x00, 0x12, 0xe6, 0x03, 0x13, 0x9a, 0xe5, 0x28, 0x7f, 0x31, 0xec, 0xc1,\n",
            "  0x1f, 0xf9, 0xfc, 0xec, 0x0c, 0xe4, 0x08, 0x26, 0x1c, 0xf5, 0x00, 0x0b,\n",
            "  0xf5, 0x0e, 0x43, 0x10, 0x02, 0x0f, 0x39, 0xf6, 0xc6, 0x13, 0x13, 0x81,\n",
            "  0x1a, 0x0f, 0x9e, 0x27, 0xc3, 0xcb, 0x14, 0xbf, 0xed, 0x08, 0xa4, 0xfe,\n",
            "  0x27, 0xdc, 0x03, 0x02, 0x1c, 0xb0, 0xce, 0x26, 0x81, 0xf0, 0x1c, 0xe6,\n",
            "  0xd9, 0x0c, 0xa7, 0xfa, 0x0a, 0xb5, 0x0f, 0x16, 0x18, 0x00, 0x07, 0xbd,\n",
            "  0xdd, 0x0a, 0xc6, 0xf6, 0xac, 0x04, 0x15, 0x15, 0xdc, 0x10, 0x17, 0x24,\n",
            "  0x93, 0xc7, 0x86, 0x2c, 0xfd, 0xf5, 0xff, 0xf9, 0x54, 0xf5, 0xc5, 0x81,\n",
            "  0xfa, 0xf9, 0x5e, 0x2b, 0xfe, 0xeb, 0x10, 0xaf, 0xb7, 0xf6, 0xbb, 0x4a,\n",
            "  0xf6, 0xe2, 0x43, 0x07, 0x15, 0xee, 0x00, 0xf3, 0xbc, 0xd0, 0x11, 0x25,\n",
            "  0xf0, 0x2c, 0x0e, 0xcf, 0x05, 0xdc, 0xda, 0x05, 0x81, 0x27, 0x08, 0xf8,\n",
            "  0x0b, 0x2a, 0xdb, 0xe3, 0xe8, 0x1b, 0xf2, 0xc0, 0xf9, 0xe8, 0xa0, 0x25,\n",
            "  0x40, 0xf8, 0x1e, 0x14, 0x0d, 0x04, 0x07, 0x1d, 0x9f, 0x8c, 0x02, 0x81,\n",
            "  0x32, 0x0c, 0xfd, 0xcf, 0x05, 0xc1, 0x0f, 0x21, 0x81, 0x05, 0xed, 0xe4,\n",
            "  0x16, 0xd0, 0xe1, 0x2b, 0xce, 0x02, 0xd5, 0xd1, 0xf3, 0xe6, 0x24, 0x0c,\n",
            "  0x2c, 0xf7, 0x00, 0xfe, 0xfa, 0x0e, 0xd5, 0xe9, 0x37, 0xf7, 0xf1, 0xb8,\n",
            "  0xbb, 0xee, 0x24, 0x13, 0xe4, 0x25, 0xda, 0x1b, 0x81, 0xd6, 0xf4, 0x10,\n",
            "  0x17, 0xf8, 0x00, 0xed, 0xf9, 0xfe, 0x21, 0x0c, 0x1b, 0xa3, 0x0f, 0xf2,\n",
            "  0x81, 0x14, 0x09, 0xb9, 0x1a, 0x11, 0xba, 0x18, 0x14, 0x93, 0x08, 0x07,\n",
            "  0x08, 0xfd, 0x2c, 0xd6, 0x09, 0x28, 0xaf, 0xfb, 0x38, 0x8a, 0xef, 0x34,\n",
            "  0x9b, 0x1b, 0x20, 0xfc, 0x02, 0x3a, 0x16, 0x98, 0xfa, 0x04, 0xee, 0x81,\n",
            "  0x1d, 0xf4, 0x96, 0x56, 0x92, 0x54, 0x45, 0xe7, 0x0a, 0xf4, 0x07, 0xe6,\n",
            "  0xc0, 0x13, 0x9b, 0x0a, 0x12, 0x98, 0x15, 0xfb, 0x1b, 0xe3, 0x08, 0xd4,\n",
            "  0xdd, 0x10, 0x81, 0x07, 0x02, 0x2a, 0xf1, 0x03, 0xcb, 0xe8, 0x0a, 0xff,\n",
            "  0x1c, 0xfa, 0x0e, 0xf4, 0xf6, 0xfc, 0xe4, 0xee, 0xf7, 0x00, 0xe1, 0xf1,\n",
            "  0x08, 0x18, 0x02, 0xfe, 0x14, 0xe4, 0xb5, 0x02, 0xc8, 0xfa, 0x0d, 0x13,\n",
            "  0xe4, 0x16, 0x00, 0xae, 0x09, 0x81, 0xc9, 0xb0, 0xc1, 0x02, 0x13, 0x06,\n",
            "  0xf7, 0xfd, 0x32, 0x0c, 0xb5, 0x81, 0xf7, 0x07, 0x4d, 0xc6, 0x06, 0x1f,\n",
            "  0x01, 0xde, 0xeb, 0xf4, 0xe8, 0x36, 0xb9, 0xe7, 0x10, 0x02, 0x00, 0xef,\n",
            "  0xf6, 0x9e, 0x24, 0xf5, 0x9a, 0x38, 0x4a, 0xe4, 0xd8, 0x67, 0xb0, 0xa6,\n",
            "  0x2c, 0x1f, 0xa1, 0x81, 0x1e, 0x11, 0x02, 0x2b, 0xe8, 0x53, 0xd8, 0x22,\n",
            "  0x7e, 0xa2, 0xff, 0xff, 0x04, 0x00, 0x00, 0x00, 0x40, 0x00, 0x00, 0x00,\n",
            "  0x7c, 0x01, 0x00, 0x00, 0xf5, 0xfd, 0xff, 0xff, 0xc7, 0xeb, 0xff, 0xff,\n",
            "  0x01, 0x05, 0x00, 0x00, 0xa4, 0xf9, 0xff, 0xff, 0xc9, 0x03, 0x00, 0x00,\n",
            "  0xa3, 0xfd, 0xff, 0xff, 0x8f, 0x00, 0x00, 0x00, 0xc9, 0xfe, 0xff, 0xff,\n",
            "  0x10, 0x01, 0x00, 0x00, 0x48, 0xfc, 0xff, 0xff, 0x29, 0x04, 0x00, 0x00,\n",
            "  0x50, 0xfa, 0xff, 0xff, 0xbf, 0xfd, 0xff, 0xff, 0x42, 0x02, 0x00, 0x00,\n",
            "  0x67, 0xfe, 0xff, 0xff, 0xca, 0xa2, 0xff, 0xff, 0x04, 0x00, 0x00, 0x00,\n",
            "  0x00, 0x12, 0x00, 0x00, 0xdc, 0xf4, 0xc2, 0xf9, 0xd5, 0x07, 0x16, 0x81,\n",
            "  0xcf, 0xf5, 0xa0, 0xea, 0xe0, 0xde, 0xf0, 0x1f, 0xf0, 0xcb, 0xc3, 0xfb,\n",
            "  0xcb, 0xf8, 0x29, 0x26, 0xd6, 0x07, 0xf0, 0x29, 0xf9, 0xec, 0x3d, 0x12,\n",
            "  0xee, 0x4f, 0xae, 0xf3, 0xb9, 0xb9, 0xf9, 0xd5, 0x94, 0x2d, 0xf7, 0xf7,\n",
            "  0xd4, 0xe9, 0x28, 0xe2, 0x15, 0xfa, 0xcc, 0xf5, 0xf7, 0x19, 0x3e, 0x4d,\n",
            "  0xf0, 0x1c, 0xca, 0x19, 0x11, 0x0c, 0xb8, 0x08, 0xac, 0x16, 0xf9, 0x2c,\n",
            "  0x02, 0x0a, 0xfe, 0x41, 0x2a, 0xae, 0x8a, 0xf0, 0x17, 0x03, 0xfb, 0x36,\n",
            "  0xc9, 0x13, 0xd5, 0x3b, 0xe7, 0x0a, 0x1c, 0x0f, 0x06, 0xed, 0x25, 0x01,\n",
            "  0xe8, 0x2d, 0xfc, 0x1e, 0x18, 0x1a, 0x1e, 0x21, 0x38, 0xf2, 0x3e, 0x2e,\n",
            "  0x45, 0xe9, 0x0c, 0xb3, 0x30, 0x47, 0xc6, 0x23, 0xe0, 0xf3, 0xfe, 0x2e,\n",
            "  0x23, 0xe2, 0x5c, 0x3f, 0x67, 0xc8, 0xd2, 0xf2, 0x01, 0x47, 0xe3, 0x7a,\n",
            "  0xd6, 0xf2, 0x3b, 0x1c, 0x13, 0xcc, 0x0f, 0x4c, 0x69, 0xdf, 0x07, 0xc6,\n",
            "  0x19, 0x3d, 0xcd, 0xe5, 0xef, 0xf6, 0xc8, 0x06, 0xa1, 0x05, 0xd8, 0xea,\n",
            "  0xa0, 0xc7, 0xfe, 0x27, 0x81, 0xae, 0x28, 0xe0, 0xf9, 0xb3, 0x05, 0x00,\n",
            "  0x31, 0x10, 0xa4, 0xdd, 0xf9, 0x54, 0xf6, 0x27, 0x17, 0xeb, 0x04, 0xbe,\n",
            "  0xd5, 0xe5, 0xde, 0x09, 0xdf, 0xa7, 0xe6, 0x10, 0xeb, 0x24, 0xd5, 0x27,\n",
            "  0xf4, 0xcf, 0xab, 0x07, 0x03, 0x31, 0xf0, 0x07, 0xdd, 0x18, 0x11, 0xd2,\n",
            "  0xde, 0x3e, 0x06, 0xe7, 0xd9, 0xd6, 0x19, 0xfd, 0xd4, 0x0c, 0x0b, 0x06,\n",
            "  0xe0, 0xd2, 0xf7, 0x26, 0xc9, 0x52, 0x18, 0x3b, 0x36, 0x0d, 0x3a, 0x40,\n",
            "  0xd1, 0xdc, 0xdf, 0xd9, 0x06, 0xe1, 0xb6, 0xc6, 0xda, 0x30, 0xc1, 0x2a,\n",
            "  0xc6, 0xd2, 0x1e, 0xdc, 0x01, 0xe9, 0xe5, 0xf0, 0xc5, 0xc3, 0x00, 0xf7,\n",
            "  0xc2, 0x04, 0xe6, 0xf8, 0xef, 0xda, 0xea, 0xac, 0x08, 0xeb, 0xf6, 0x21,\n",
            "  0x21, 0xa5, 0xf7, 0xcd, 0xc4, 0x42, 0xf5, 0x00, 0x34, 0xe8, 0xf2, 0xb9,\n",
            "  0x06, 0xe4, 0xb1, 0xf2, 0xf3, 0xd4, 0xee, 0x10, 0xee, 0x4e, 0xb2, 0x02,\n",
            "  0xb1, 0xd0, 0xe1, 0x27, 0xac, 0x0f, 0xbc, 0x1e, 0x01, 0x1f, 0x42, 0x4a,\n",
            "  0xc6, 0xca, 0xbd, 0x46, 0xff, 0x06, 0x21, 0x52, 0x12, 0x1d, 0x3b, 0x62,\n",
            "  0xba, 0x9e, 0x43, 0xe5, 0xb1, 0x22, 0x4d, 0x39, 0xa1, 0xc0, 0x52, 0x13,\n",
            "  0xbe, 0x63, 0xd0, 0xf9, 0xae, 0x9a, 0xec, 0xdf, 0x02, 0x1c, 0xea, 0xfb,\n",
            "  0x81, 0xd4, 0xa1, 0xad, 0xce, 0x0f, 0xff, 0xf7, 0xcb, 0xd3, 0x07, 0x62,\n",
            "  0x2a, 0xf7, 0xf2, 0xd8, 0xe9, 0x1d, 0xe0, 0xef, 0xba, 0x3d, 0xe7, 0xf5,\n",
            "  0x23, 0xe8, 0x67, 0x75, 0x13, 0xca, 0xe8, 0xdf, 0xc9, 0x48, 0xa5, 0xf0,\n",
            "  0xf5, 0x27, 0xea, 0x11, 0xe8, 0xca, 0x62, 0x1a, 0xca, 0x09, 0xe0, 0xce,\n",
            "  0xe7, 0x38, 0xb7, 0xbf, 0xa8, 0xec, 0x1f, 0x1a, 0x08, 0xb1, 0x3c, 0x24,\n",
            "  0x3f, 0xed, 0x37, 0xed, 0x1e, 0x19, 0xea, 0xfa, 0xba, 0x16, 0x01, 0xfc,\n",
            "  0x0e, 0xfe, 0x3e, 0x25, 0x1c, 0xf0, 0x2a, 0xd3, 0x24, 0x1f, 0xe4, 0x02,\n",
            "  0xbf, 0x03, 0x03, 0x12, 0x15, 0xdb, 0x05, 0x33, 0x17, 0xfe, 0xfb, 0xc9,\n",
            "  0x26, 0x40, 0xd4, 0xb7, 0xbc, 0x24, 0xee, 0x34, 0xeb, 0x32, 0x7b, 0xec,\n",
            "  0x37, 0xee, 0x32, 0x19, 0x3a, 0x05, 0x3b, 0xbb, 0x7b, 0xf9, 0x3f, 0x81,\n",
            "  0xfe, 0x63, 0x43, 0xcd, 0x1c, 0x3d, 0xf0, 0xca, 0x06, 0x4c, 0xf2, 0x61,\n",
            "  0xd4, 0xef, 0xd2, 0xf1, 0x2e, 0x4a, 0x28, 0x55, 0x08, 0xd0, 0x42, 0xba,\n",
            "  0xe3, 0xf5, 0xfa, 0xad, 0x44, 0x37, 0xf3, 0xe9, 0xea, 0x09, 0x55, 0xd5,\n",
            "  0xe9, 0xe6, 0x24, 0x91, 0x6a, 0x57, 0x4f, 0x15, 0x0d, 0x46, 0x0c, 0xd9,\n",
            "  0xf4, 0x54, 0x13, 0x23, 0x46, 0x5e, 0xf0, 0x9f, 0x1c, 0x3b, 0x01, 0xfd,\n",
            "  0xa4, 0xea, 0xeb, 0xc5, 0xfc, 0x21, 0x3d, 0x1c, 0x1a, 0x23, 0x37, 0xae,\n",
            "  0x52, 0x66, 0xf6, 0xc1, 0x2b, 0x04, 0x07, 0xbc, 0xf4, 0xf0, 0x02, 0xfa,\n",
            "  0x2f, 0x2e, 0xee, 0xa6, 0xfa, 0x34, 0x07, 0xa0, 0xe4, 0x03, 0x1e, 0xbd,\n",
            "  0xbb, 0x1e, 0xfe, 0xde, 0x45, 0x35, 0xe9, 0xb9, 0xc7, 0x06, 0x52, 0xef,\n",
            "  0x38, 0x43, 0x30, 0xf3, 0x20, 0x66, 0xdf, 0x51, 0x1e, 0x02, 0x3e, 0xaa,\n",
            "  0xe7, 0xbf, 0x3f, 0x86, 0xc0, 0xf4, 0xf3, 0xed, 0xf5, 0x02, 0xec, 0x3f,\n",
            "  0x8c, 0xf4, 0xc3, 0xe6, 0xe1, 0xc0, 0xec, 0x02, 0xe7, 0xac, 0x11, 0x1a,\n",
            "  0x7f, 0xf1, 0xc8, 0xf8, 0x16, 0x22, 0xf9, 0x0c, 0x1d, 0xb9, 0xa3, 0x23,\n",
            "  0x06, 0xf1, 0xfd, 0xf1, 0xbc, 0xdf, 0xc1, 0x04, 0xda, 0x0e, 0xe6, 0x29,\n",
            "  0xfd, 0xb5, 0xcb, 0x49, 0xd7, 0x96, 0xd1, 0xef, 0x48, 0xfd, 0xfc, 0x9f,\n",
            "  0x07, 0xdc, 0x0d, 0xce, 0x0b, 0xb6, 0x33, 0xea, 0xbf, 0x29, 0x10, 0xed,\n",
            "  0xaa, 0xb3, 0xde, 0x21, 0xba, 0x59, 0x43, 0x1d, 0xd9, 0xbd, 0xda, 0xeb,\n",
            "  0xee, 0x11, 0x07, 0x56, 0xd7, 0xa5, 0xcb, 0x10, 0x2f, 0x47, 0x44, 0x42,\n",
            "  0xa9, 0xb1, 0xe6, 0x09, 0xb3, 0xc0, 0xff, 0x20, 0xd6, 0x0c, 0xe6, 0x3d,\n",
            "  0x06, 0x33, 0x00, 0x12, 0xe0, 0xec, 0xfc, 0xea, 0xfd, 0xf8, 0xa3, 0x1a,\n",
            "  0xff, 0xc3, 0xdb, 0xd8, 0xde, 0x15, 0xf4, 0x24, 0xe3, 0xf2, 0xe0, 0xbd,\n",
            "  0x13, 0xe4, 0xa7, 0x54, 0xc1, 0xd7, 0x0f, 0xfe, 0x9d, 0xe3, 0x0b, 0x44,\n",
            "  0x90, 0xba, 0x01, 0xf3, 0x1d, 0x12, 0xf5, 0x8c, 0x21, 0x2e, 0x02, 0xcf,\n",
            "  0xf1, 0xfa, 0x17, 0xc5, 0x28, 0x14, 0x22, 0xc1, 0xfa, 0xe0, 0xf2, 0xc9,\n",
            "  0x17, 0xfe, 0x06, 0xee, 0x37, 0x28, 0x22, 0x2e, 0x13, 0xe7, 0x33, 0xc3,\n",
            "  0x38, 0x12, 0x18, 0xe4, 0x19, 0x50, 0x07, 0x03, 0x41, 0x36, 0x16, 0x54,\n",
            "  0x37, 0x14, 0x0d, 0x17, 0x0f, 0x3f, 0x0d, 0x92, 0x16, 0xfd, 0x0c, 0xf4,\n",
            "  0xf8, 0xf5, 0x2b, 0xc1, 0x30, 0x1c, 0xf8, 0x13, 0x39, 0x34, 0x17, 0x84,\n",
            "  0x20, 0x31, 0xf1, 0xbd, 0xff, 0x5e, 0x0e, 0x09, 0x1d, 0xff, 0x31, 0xa7,\n",
            "  0x3a, 0x22, 0x12, 0x81, 0x36, 0x30, 0xf3, 0xee, 0x2b, 0x22, 0x0c, 0x8b,\n",
            "  0x26, 0xe9, 0x15, 0x00, 0x14, 0x5b, 0x13, 0xdb, 0x1a, 0xe9, 0x2e, 0x2e,\n",
            "  0xca, 0x4b, 0x31, 0xec, 0x24, 0x23, 0x2c, 0x25, 0xfb, 0x51, 0x27, 0xb2,\n",
            "  0x26, 0x07, 0xe7, 0xcb, 0xb6, 0x77, 0x14, 0x23, 0x10, 0x01, 0x1d, 0xf6,\n",
            "  0x4e, 0xeb, 0x42, 0xef, 0x1c, 0x30, 0x1a, 0xdb, 0x2a, 0x1b, 0x13, 0x2a,\n",
            "  0x34, 0x21, 0x0f, 0xec, 0x21, 0x05, 0x1c, 0xb4, 0x32, 0x10, 0x09, 0xd1,\n",
            "  0xde, 0x39, 0xfa, 0xde, 0x3d, 0x21, 0x20, 0xe0, 0xff, 0x17, 0xf2, 0xe3,\n",
            "  0x44, 0x11, 0xea, 0xd7, 0x41, 0x28, 0x0c, 0x25, 0x1f, 0xdd, 0xf1, 0xdf,\n",
            "  0x3d, 0x31, 0xff, 0xda, 0xf9, 0x07, 0x03, 0x15, 0x2f, 0x20, 0x15, 0x6a,\n",
            "  0x32, 0x24, 0x16, 0xf9, 0x2c, 0x53, 0x0d, 0x9c, 0x1f, 0x13, 0x45, 0xb1,\n",
            "  0xdd, 0x6e, 0x08, 0xc2, 0x2e, 0x10, 0x30, 0x03, 0x1d, 0x00, 0x1a, 0x81,\n",
            "  0x26, 0x10, 0xfc, 0xc1, 0xe9, 0x65, 0x12, 0x18, 0x04, 0xf8, 0x58, 0xc5,\n",
            "  0x42, 0x02, 0x0a, 0x9c, 0x0a, 0x46, 0xe7, 0x19, 0x19, 0x20, 0xff, 0xf0,\n",
            "  0x17, 0xe7, 0x26, 0xff, 0x17, 0x59, 0xfd, 0x25, 0x15, 0x13, 0x33, 0x18,\n",
            "  0xba, 0x5a, 0x2b, 0x46, 0x07, 0x28, 0x2a, 0x09, 0xfc, 0x0f, 0x14, 0xb9,\n",
            "  0xf8, 0x28, 0x10, 0xec, 0xf8, 0x4d, 0x18, 0xf4, 0x0c, 0x03, 0x33, 0xff,\n",
            "  0x13, 0x1c, 0x1e, 0x02, 0x05, 0x36, 0x18, 0x07, 0x2a, 0x2a, 0x0e, 0x18,\n",
            "  0x27, 0xfe, 0x15, 0x01, 0x0d, 0x17, 0xe7, 0x0b, 0x24, 0x20, 0x53, 0xe0,\n",
            "  0xf6, 0xf1, 0x1a, 0xea, 0x3f, 0x32, 0x3b, 0xd6, 0xd1, 0x4d, 0x23, 0xe6,\n",
            "  0xe2, 0xaa, 0x63, 0xff, 0xf8, 0x0f, 0x1a, 0x20, 0x21, 0x16, 0x0e, 0x5b,\n",
            "  0xe3, 0x2b, 0x03, 0x10, 0xf6, 0x13, 0x18, 0xd4, 0x14, 0x16, 0x11, 0x03,\n",
            "  0xc6, 0x2d, 0xf0, 0x39, 0x27, 0x74, 0x23, 0xb0, 0x0d, 0xc9, 0x61, 0xf5,\n",
            "  0x22, 0x31, 0x3b, 0x81, 0x0e, 0x2d, 0x04, 0xae, 0xf8, 0xf7, 0xde, 0xd8,\n",
            "  0x4c, 0x54, 0x09, 0x2c, 0xd9, 0x5a, 0x0b, 0xb2, 0x05, 0x55, 0x16, 0xdd,\n",
            "  0x47, 0x21, 0xeb, 0xcd, 0x29, 0x09, 0x35, 0x5e, 0x1a, 0xf8, 0x17, 0x9b,\n",
            "  0x2f, 0x41, 0x13, 0xd2, 0xff, 0xeb, 0xdd, 0x01, 0xfc, 0x3f, 0xe8, 0x09,\n",
            "  0x02, 0x31, 0xfb, 0xea, 0xdd, 0x1e, 0xe7, 0xd5, 0x25, 0x01, 0x29, 0xda,\n",
            "  0x1f, 0x3c, 0x6b, 0x30, 0xfd, 0x0d, 0x0c, 0xc7, 0x06, 0xbe, 0xf9, 0x0c,\n",
            "  0x1e, 0x44, 0x04, 0xf7, 0x42, 0x41, 0xfc, 0x06, 0xd9, 0x14, 0x07, 0xd9,\n",
            "  0xeb, 0x13, 0x47, 0xb6, 0x31, 0xfa, 0x16, 0x11, 0x28, 0x01, 0x22, 0x06,\n",
            "  0x04, 0xad, 0x26, 0x21, 0x15, 0x20, 0xfa, 0x32, 0x07, 0x03, 0x20, 0x4f,\n",
            "  0xf6, 0xb7, 0x13, 0xe5, 0xdc, 0x09, 0x1f, 0x2d, 0xe0, 0x14, 0xdf, 0x42,\n",
            "  0x9e, 0xf5, 0xe0, 0x0e, 0xde, 0x98, 0x25, 0x20, 0x03, 0x0c, 0x20, 0x2a,\n",
            "  0xef, 0xe1, 0xc9, 0xfb, 0x05, 0xe8, 0x01, 0x37, 0x2f, 0xf8, 0x1d, 0x46,\n",
            "  0xd7, 0xbc, 0x09, 0x1e, 0x0e, 0x2e, 0xe4, 0x14, 0xf0, 0xf7, 0xe2, 0x63,\n",
            "  0xde, 0xc1, 0x15, 0x3d, 0x5c, 0xb2, 0xe3, 0x3f, 0xf6, 0x0d, 0xdb, 0x23,\n",
            "  0xc9, 0xc6, 0xef, 0x37, 0xf9, 0xa5, 0xf3, 0x7f, 0xdd, 0x09, 0xed, 0x0d,\n",
            "  0x0f, 0xe8, 0xe6, 0x1e, 0x39, 0x1c, 0x14, 0xcd, 0x1e, 0x09, 0x15, 0xd1,\n",
            "  0xfd, 0xe5, 0x21, 0xa5, 0x12, 0x1a, 0x12, 0x0e, 0xe1, 0x10, 0xcd, 0x2b,\n",
            "  0xf6, 0xba, 0x00, 0x00, 0xee, 0xc6, 0xcf, 0xfb, 0xfb, 0xf9, 0xb3, 0x44,\n",
            "  0x9a, 0xce, 0xc0, 0x20, 0xed, 0xa1, 0xcb, 0x21, 0xef, 0xa2, 0xd3, 0x01,\n",
            "  0xdd, 0xc1, 0x8f, 0x37, 0xe0, 0xf5, 0x05, 0xee, 0x07, 0x00, 0x1a, 0xff,\n",
            "  0xd9, 0x18, 0x20, 0xd6, 0xf3, 0x14, 0x12, 0x14, 0x02, 0x0a, 0x12, 0x1d,\n",
            "  0xf4, 0xf4, 0x3f, 0x24, 0xe8, 0x00, 0xf5, 0xfa, 0x13, 0x32, 0x16, 0x18,\n",
            "  0x01, 0x16, 0x29, 0xff, 0x08, 0x01, 0xff, 0x1b, 0xfc, 0xee, 0xf2, 0xe8,\n",
            "  0xe4, 0xfc, 0xf3, 0xff, 0x18, 0x1f, 0x00, 0xeb, 0xf3, 0x33, 0x43, 0x09,\n",
            "  0xf2, 0x36, 0x20, 0xc3, 0x10, 0x1e, 0x1a, 0xde, 0xf7, 0x2a, 0xf9, 0xfb,\n",
            "  0x1f, 0x03, 0x4d, 0x07, 0x14, 0x31, 0x1f, 0xd1, 0x14, 0x2c, 0x22, 0xf9,\n",
            "  0x01, 0x03, 0xfe, 0x14, 0x1a, 0x23, 0x05, 0xde, 0xde, 0xeb, 0xfc, 0xbb,\n",
            "  0x04, 0x1b, 0xf8, 0xf7, 0xe3, 0x26, 0x0d, 0xf1, 0x0e, 0xf9, 0x11, 0x0f,\n",
            "  0x22, 0x05, 0xe8, 0xf8, 0xe1, 0x28, 0x15, 0x02, 0x14, 0x31, 0x07, 0x00,\n",
            "  0xe6, 0xfd, 0x0b, 0x01, 0xda, 0xee, 0x00, 0xf8, 0x06, 0xfa, 0x04, 0x01,\n",
            "  0x0d, 0xff, 0x07, 0xc2, 0x05, 0x1f, 0x0e, 0x10, 0xf3, 0x14, 0x10, 0x81,\n",
            "  0x09, 0xfc, 0xfc, 0xe3, 0xe6, 0x25, 0xf6, 0xf7, 0x05, 0xfc, 0x15, 0xf2,\n",
            "  0xdb, 0x08, 0x05, 0x29, 0x1d, 0x1c, 0x2a, 0x36, 0x1e, 0x15, 0x10, 0x02,\n",
            "  0xf3, 0x30, 0x2b, 0xd0, 0x07, 0x46, 0x0a, 0x21, 0xd3, 0x18, 0x51, 0xea,\n",
            "  0xd0, 0x31, 0x38, 0xcf, 0x05, 0x55, 0x27, 0xfb, 0x18, 0x04, 0xf7, 0xc0,\n",
            "  0xf7, 0xe7, 0xff, 0xf9, 0x29, 0xfd, 0xfc, 0xd8, 0x1b, 0x1b, 0x09, 0x31,\n",
            "  0xd8, 0x08, 0x10, 0xad, 0x00, 0x39, 0x3c, 0xe2, 0xfa, 0x2c, 0x18, 0xcf,\n",
            "  0x27, 0x40, 0x26, 0x30, 0xe0, 0x55, 0xed, 0xc1, 0x08, 0x16, 0x2b, 0xce,\n",
            "  0x1b, 0x2e, 0x15, 0xe3, 0x07, 0x18, 0x1b, 0x31, 0x1a, 0x24, 0x09, 0x9a,\n",
            "  0x19, 0x03, 0x4d, 0xd5, 0x10, 0x32, 0x20, 0xd8, 0x0c, 0xdf, 0x21, 0xf0,\n",
            "  0x15, 0xf4, 0x22, 0x81, 0xe1, 0x48, 0x1a, 0x0b, 0x0c, 0x15, 0x2d, 0xb3,\n",
            "  0x09, 0x24, 0x0e, 0x08, 0x3b, 0x24, 0xec, 0xb2, 0xf7, 0x12, 0xf5, 0x18,\n",
            "  0x1b, 0x30, 0x23, 0xe2, 0x1c, 0x1a, 0xfa, 0x1e, 0xe5, 0xe5, 0x09, 0xab,\n",
            "  0x35, 0x11, 0xfb, 0xa0, 0x09, 0x2a, 0x03, 0xe4, 0x17, 0xf2, 0x31, 0xdc,\n",
            "  0x34, 0x19, 0x05, 0x02, 0x1b, 0x04, 0x2f, 0x03, 0x0c, 0x29, 0xfc, 0xca,\n",
            "  0xed, 0x21, 0x07, 0xf0, 0x1f, 0x19, 0x07, 0xf8, 0x1a, 0xfa, 0x24, 0xf2,\n",
            "  0x24, 0x0b, 0x0e, 0xe0, 0xe8, 0x26, 0x1f, 0x00, 0x2b, 0x26, 0xf5, 0x24,\n",
            "  0x25, 0x03, 0x2d, 0x0d, 0x0d, 0x10, 0x11, 0xae, 0x20, 0x05, 0x25, 0xec,\n",
            "  0xe9, 0x0e, 0x06, 0x99, 0x13, 0x16, 0x11, 0xef, 0xe7, 0x18, 0x12, 0x81,\n",
            "  0x1c, 0x2d, 0xec, 0xd4, 0xeb, 0x52, 0xfb, 0xd3, 0x0e, 0xf6, 0x1a, 0xe0,\n",
            "  0x50, 0x1a, 0xf6, 0xd9, 0x25, 0x38, 0x10, 0xe1, 0xf6, 0x29, 0x0c, 0xc6,\n",
            "  0x35, 0xe2, 0x1c, 0xca, 0x20, 0x3b, 0x1d, 0xe4, 0x20, 0xfb, 0x1c, 0xfb,\n",
            "  0xe8, 0x3b, 0x0c, 0xd5, 0xfd, 0x32, 0x11, 0x0f, 0x27, 0x15, 0x04, 0xb0,\n",
            "  0x17, 0x13, 0xe3, 0xd9, 0x17, 0x35, 0x14, 0xec, 0x25, 0x0c, 0x0b, 0xef,\n",
            "  0x48, 0x1c, 0x1a, 0xcf, 0x2e, 0x39, 0xf4, 0xe6, 0x25, 0x03, 0x10, 0xe2,\n",
            "  0x17, 0x05, 0x2b, 0xec, 0xa7, 0x6f, 0xd0, 0xfe, 0x09, 0xbb, 0x29, 0xc1,\n",
            "  0xb6, 0x3a, 0xdd, 0xe1, 0xdd, 0x0f, 0x42, 0x3e, 0xe4, 0xef, 0xd1, 0x4a,\n",
            "  0xaf, 0xe1, 0x55, 0xc3, 0xd8, 0xff, 0xfb, 0x09, 0xd4, 0xd0, 0x04, 0x0a,\n",
            "  0xf6, 0xd6, 0x0b, 0x40, 0xd5, 0x59, 0x29, 0xe2, 0x42, 0x00, 0xe9, 0x18,\n",
            "  0xf7, 0xd4, 0x19, 0x0d, 0x17, 0x02, 0x13, 0x02, 0x0f, 0xf9, 0x2b, 0x0c,\n",
            "  0xf2, 0x05, 0xf4, 0xe3, 0xeb, 0x1b, 0x15, 0xf0, 0xdb, 0x1b, 0xef, 0xd6,\n",
            "  0xf5, 0x27, 0x26, 0x43, 0xbb, 0xfe, 0xd0, 0xe0, 0x41, 0x18, 0x2f, 0x2a,\n",
            "  0x44, 0x29, 0xdc, 0xdb, 0x00, 0x31, 0x27, 0x05, 0x0b, 0xf8, 0xda, 0x03,\n",
            "  0x06, 0x17, 0x27, 0xf2, 0x33, 0x19, 0x2b, 0xc0, 0x2e, 0x03, 0x4f, 0x1b,\n",
            "  0x3f, 0xe7, 0x1f, 0x9a, 0xde, 0x3c, 0x2d, 0xe8, 0x3b, 0x28, 0xeb, 0xf2,\n",
            "  0x20, 0xfc, 0x0b, 0x0f, 0x22, 0xd9, 0xed, 0x99, 0x1f, 0x49, 0xfa, 0x49,\n",
            "  0xfa, 0x03, 0xf1, 0xe3, 0x1b, 0xee, 0x0e, 0x0d, 0x0e, 0xe5, 0xd8, 0x81,\n",
            "  0x32, 0x33, 0x21, 0xdc, 0xfe, 0x5e, 0x18, 0xae, 0x10, 0xe3, 0xfe, 0xe3,\n",
            "  0x02, 0x2c, 0x39, 0xce, 0x0a, 0x21, 0x06, 0xc2, 0xfe, 0x10, 0xe2, 0xe7,\n",
            "  0x0e, 0x2f, 0x0f, 0xea, 0x35, 0x0d, 0x33, 0xc8, 0x05, 0xf1, 0x36, 0x33,\n",
            "  0x45, 0x1d, 0xe4, 0xb2, 0x28, 0x16, 0x48, 0xf0, 0xee, 0x09, 0x1d, 0x01,\n",
            "  0xfc, 0x25, 0x0b, 0xe9, 0x03, 0x5b, 0x20, 0x96, 0x39, 0xe8, 0x20, 0xe1,\n",
            "  0xe5, 0x3f, 0x2a, 0xa3, 0x2b, 0x2b, 0x22, 0xbd, 0x08, 0x13, 0x1d, 0x8a,\n",
            "  0xea, 0xf5, 0xf2, 0xdb, 0xdf, 0x51, 0x43, 0xeb, 0x17, 0x1f, 0x56, 0x97,\n",
            "  0x33, 0x20, 0x05, 0x86, 0xec, 0x13, 0x1c, 0xdf, 0x15, 0x0c, 0x22, 0x81,\n",
            "  0x03, 0x1d, 0x05, 0xc9, 0x2b, 0x66, 0x01, 0xe3, 0x16, 0x30, 0x11, 0x0b,\n",
            "  0xc4, 0x39, 0x2a, 0xe9, 0x17, 0x37, 0x5b, 0x0e, 0x01, 0x33, 0x37, 0xc8,\n",
            "  0x0d, 0x02, 0x2b, 0xc9, 0x17, 0xfe, 0x25, 0xfe, 0x0f, 0x46, 0x3e, 0xce,\n",
            "  0x3d, 0xd7, 0x00, 0xdc, 0x2c, 0x2c, 0x1c, 0x25, 0xbf, 0x01, 0xf6, 0xb2,\n",
            "  0x15, 0xe5, 0x1d, 0xd0, 0x11, 0xe5, 0x00, 0x00, 0x08, 0x07, 0x0c, 0x12,\n",
            "  0x03, 0xac, 0xf4, 0xd6, 0xf2, 0x1d, 0xcb, 0x45, 0xe9, 0xfb, 0xa4, 0x14,\n",
            "  0xf2, 0xca, 0x20, 0xe6, 0xa8, 0xce, 0x00, 0x30, 0xda, 0x3c, 0xc3, 0x04,\n",
            "  0xad, 0x28, 0xb7, 0xe6, 0xe6, 0x8f, 0x1e, 0xdc, 0xa0, 0x8b, 0xd6, 0xb6,\n",
            "  0x81, 0xae, 0xaf, 0xe9, 0x08, 0x1c, 0x0a, 0x05, 0x05, 0x02, 0x33, 0x4d,\n",
            "  0x4c, 0xea, 0x42, 0xb3, 0xe7, 0x34, 0xfb, 0xe6, 0xc7, 0x31, 0xf8, 0x36,\n",
            "  0x16, 0xd1, 0x3d, 0x6e, 0x68, 0xe0, 0x00, 0xd1, 0x05, 0x36, 0xd3, 0xfe,\n",
            "  0x9a, 0x19, 0x03, 0x39, 0x16, 0xa3, 0x3f, 0x2a, 0xed, 0xf3, 0xd5, 0xe0,\n",
            "  0xfa, 0x20, 0xb5, 0x0b, 0xdc, 0xfd, 0xee, 0x11, 0x09, 0xcb, 0x48, 0x14,\n",
            "  0x37, 0xe8, 0x1c, 0xd0, 0x1a, 0x11, 0xcc, 0xf6, 0xc5, 0x15, 0xef, 0x0b,\n",
            "  0x07, 0xf3, 0x4b, 0x52, 0x3d, 0xdd, 0x10, 0xdc, 0xfa, 0x10, 0xfa, 0x36,\n",
            "  0x96, 0x0f, 0x0c, 0x18, 0x1f, 0xbc, 0x42, 0x26, 0xff, 0x03, 0xf0, 0xb3,\n",
            "  0x1f, 0x28, 0xa6, 0x1f, 0x01, 0x3e, 0xe8, 0x0c, 0xf3, 0xfc, 0x01, 0x25,\n",
            "  0x2e, 0xee, 0xfe, 0xdf, 0x23, 0x3d, 0x09, 0xfe, 0xe0, 0x09, 0x1d, 0xe0,\n",
            "  0xf1, 0xf3, 0x26, 0xcf, 0xca, 0x7f, 0xed, 0x26, 0xe4, 0xe9, 0x1b, 0x32,\n",
            "  0xfd, 0xe9, 0x3b, 0xc0, 0x06, 0x42, 0x15, 0xb8, 0xd5, 0xf9, 0x18, 0xd6,\n",
            "  0x26, 0x16, 0x2d, 0xf1, 0x28, 0x15, 0x06, 0xba, 0x2a, 0xe9, 0xdd, 0x51,\n",
            "  0x1b, 0x0d, 0x16, 0xa1, 0x08, 0x38, 0xf9, 0x09, 0xf4, 0x79, 0xe0, 0xa0,\n",
            "  0x08, 0x4f, 0x44, 0xed, 0xd2, 0x44, 0xe9, 0xee, 0x1b, 0x72, 0x0d, 0x12,\n",
            "  0x2a, 0x4e, 0x1f, 0xef, 0x10, 0xee, 0x7a, 0xc5, 0xcc, 0x58, 0x17, 0xa1,\n",
            "  0x2e, 0x48, 0x4a, 0xc6, 0xd5, 0x24, 0x0d, 0xd0, 0x0e, 0xfa, 0x4e, 0x07,\n",
            "  0xba, 0x0e, 0x29, 0x88, 0x09, 0x17, 0x1e, 0xf6, 0x19, 0x2f, 0x0e, 0xe6,\n",
            "  0x4a, 0x0c, 0xde, 0x3e, 0xae, 0xcd, 0x31, 0xe8, 0x15, 0x38, 0xfc, 0xc7,\n",
            "  0x4a, 0xe5, 0x32, 0xd5, 0x15, 0x20, 0xea, 0xf6, 0xcc, 0xf8, 0x1f, 0x2c,\n",
            "  0xfe, 0xef, 0x40, 0xc6, 0x9e, 0xa8, 0x9a, 0xe8, 0x81, 0xd2, 0xe5, 0xdb,\n",
            "  0xc4, 0xe9, 0xba, 0x1c, 0xbc, 0xa9, 0xa8, 0x10, 0x12, 0xe3, 0xb7, 0xf6,\n",
            "  0xf8, 0xf8, 0xde, 0x2e, 0xcd, 0xd2, 0xcd, 0xf9, 0xe7, 0xc7, 0xbc, 0xf6,\n",
            "  0x3e, 0x24, 0x27, 0xd8, 0x2b, 0x37, 0xfb, 0x02, 0xd5, 0xd7, 0x29, 0xd0,\n",
            "  0x2d, 0x05, 0x12, 0xbe, 0xbd, 0x11, 0xcb, 0xf7, 0xe8, 0xd3, 0x2c, 0x34,\n",
            "  0x02, 0xe6, 0xfa, 0x05, 0xc2, 0xa0, 0xce, 0x45, 0x0a, 0xbe, 0xff, 0x12,\n",
            "  0x04, 0x0b, 0x09, 0xe1, 0xee, 0xfd, 0x05, 0xe0, 0xdf, 0xd2, 0xd7, 0x36,\n",
            "  0x14, 0x29, 0x0e, 0x17, 0x0b, 0x03, 0x05, 0x20, 0x15, 0xb4, 0x2f, 0xeb,\n",
            "  0x1f, 0x07, 0x0c, 0x1f, 0x91, 0xf8, 0xd5, 0x36, 0xc7, 0xee, 0x47, 0x1b,\n",
            "  0x4a, 0x09, 0x3c, 0x23, 0xcf, 0x1d, 0xf1, 0x10, 0x14, 0xe7, 0xe6, 0x2a,\n",
            "  0xea, 0xfb, 0x37, 0x56, 0xfb, 0xf3, 0x1d, 0xed, 0xd6, 0xdd, 0x28, 0x30,\n",
            "  0x3f, 0x45, 0x17, 0xf5, 0x0e, 0x35, 0x1f, 0x00, 0x1e, 0xe5, 0x28, 0xd5,\n",
            "  0x1a, 0x2a, 0x12, 0x47, 0xbb, 0xe4, 0x95, 0xe1, 0xbe, 0xed, 0xbf, 0xc3,\n",
            "  0x95, 0xf3, 0x91, 0xf8, 0xcd, 0xa8, 0xea, 0xe2, 0x9a, 0xab, 0x18, 0xfe,\n",
            "  0x14, 0x0c, 0xe0, 0x05, 0xf3, 0x33, 0xd2, 0xf1, 0xe9, 0xa2, 0xed, 0xd0,\n",
            "  0xe2, 0xc3, 0xed, 0xe6, 0xbb, 0xc8, 0xbf, 0xcb, 0xa5, 0x04, 0xef, 0xf0,\n",
            "  0xc6, 0xec, 0xd1, 0x28, 0xd2, 0xb9, 0xfe, 0xc5, 0xd4, 0xf9, 0xdb, 0xed,\n",
            "  0x10, 0xa3, 0xf4, 0xec, 0xe8, 0xc2, 0x2e, 0xd0, 0x0d, 0x24, 0x11, 0xd2,\n",
            "  0x09, 0xdd, 0xe5, 0x7f, 0xa9, 0x5a, 0xd7, 0xeb, 0x1f, 0xf5, 0x37, 0x2a,\n",
            "  0x0d, 0x14, 0x06, 0x2d, 0x17, 0xbb, 0x87, 0xcf, 0x09, 0x59, 0xdb, 0x2e,\n",
            "  0xd0, 0xd8, 0xec, 0xd0, 0xfc, 0xb4, 0x10, 0x0c, 0xc9, 0xdd, 0xf8, 0x5a,\n",
            "  0xde, 0x6b, 0xc6, 0x17, 0xae, 0xbb, 0x09, 0xdc, 0x13, 0xd9, 0xf4, 0x42,\n",
            "  0x0f, 0xf0, 0x2d, 0x07, 0x9f, 0x20, 0xea, 0xee, 0x04, 0x1d, 0x76, 0xce,\n",
            "  0xe0, 0x00, 0xbe, 0xe0, 0xe3, 0xc4, 0xff, 0xa4, 0xe3, 0x48, 0xc7, 0xb1,\n",
            "  0xb1, 0xc0, 0x2f, 0xe1, 0x06, 0x27, 0x14, 0xcf, 0x17, 0x34, 0x3f, 0xd8,\n",
            "  0xde, 0x1c, 0x08, 0xd1, 0x31, 0x24, 0xff, 0xea, 0x22, 0x1b, 0x2c, 0xcb,\n",
            "  0xfb, 0x29, 0x30, 0x09, 0xe6, 0x23, 0x24, 0xdd, 0x03, 0xfc, 0x47, 0xf1,\n",
            "  0x06, 0x35, 0x06, 0xed, 0x0c, 0x36, 0x07, 0xf3, 0xf5, 0xfa, 0x16, 0x02,\n",
            "  0x1a, 0x03, 0x34, 0xe1, 0xec, 0x22, 0x2e, 0xb7, 0x14, 0x04, 0x3d, 0xee,\n",
            "  0xf0, 0x29, 0xfd, 0xc1, 0x18, 0x3b, 0x14, 0xea, 0x0d, 0x0f, 0x0c, 0x97,\n",
            "  0x1f, 0x0a, 0x30, 0xb5, 0xf7, 0x60, 0x19, 0x81, 0x45, 0x23, 0x3e, 0xc6,\n",
            "  0x3c, 0x28, 0x18, 0xac, 0xf8, 0x2d, 0x29, 0x14, 0x21, 0x22, 0x1d, 0xe3,\n",
            "  0xf7, 0xc3, 0x14, 0xfa, 0x0d, 0x19, 0x2f, 0xdb, 0x00, 0x06, 0x37, 0xe2,\n",
            "  0xbb, 0x25, 0x02, 0xa2, 0x15, 0x20, 0xe3, 0xd1, 0xfe, 0xf6, 0x35, 0xde,\n",
            "  0xf8, 0x0e, 0x09, 0xe9, 0xb4, 0xf8, 0xff, 0x08, 0xfe, 0xd5, 0x53, 0x00,\n",
            "  0x1c, 0x10, 0xee, 0xf0, 0x0b, 0x14, 0xf6, 0xdf, 0xe2, 0xe6, 0x1b, 0xd4,\n",
            "  0xf6, 0x02, 0x38, 0xc0, 0x19, 0x55, 0x09, 0x07, 0x13, 0xee, 0x14, 0xcd,\n",
            "  0x45, 0x0a, 0x09, 0x19, 0x33, 0x16, 0x45, 0x05, 0xe2, 0xeb, 0x0a, 0xc2,\n",
            "  0x15, 0x1a, 0x19, 0xf5, 0xff, 0x19, 0x0e, 0xfd, 0x38, 0x12, 0x27, 0xe9,\n",
            "  0x33, 0x2e, 0xef, 0xbd, 0x31, 0x0c, 0x19, 0x0c, 0x21, 0x17, 0x39, 0x98,\n",
            "  0x41, 0x00, 0x45, 0xc6, 0x03, 0x2b, 0x0e, 0xcc, 0x17, 0xf2, 0x0f, 0xc2,\n",
            "  0xe9, 0xee, 0x03, 0xa0, 0x20, 0x1d, 0x0f, 0xc7, 0x2d, 0xfa, 0x16, 0x81,\n",
            "  0x1f, 0x36, 0x0b, 0xbc, 0xdc, 0x61, 0x0e, 0xa2, 0x4e, 0xe4, 0xd0, 0xbc,\n",
            "  0x2b, 0x4c, 0x15, 0x08, 0x12, 0x4f, 0xd5, 0xfd, 0x36, 0x19, 0x1d, 0xb5,\n",
            "  0x18, 0xfa, 0x12, 0xbe, 0x1e, 0x0f, 0x09, 0xdb, 0x16, 0xe8, 0x28, 0xf6,\n",
            "  0xe3, 0x3e, 0x0d, 0xca, 0x08, 0x22, 0x25, 0xce, 0xfe, 0xef, 0x0a, 0xdc,\n",
            "  0x26, 0xed, 0x2c, 0x0a, 0x36, 0x1b, 0x1b, 0xd1, 0x17, 0x2a, 0x4c, 0x10,\n",
            "  0x39, 0xec, 0x1e, 0xf4, 0xfe, 0x68, 0x05, 0xe7, 0xd8, 0xe6, 0x04, 0xcd,\n",
            "  0x28, 0x03, 0x08, 0xf7, 0xea, 0x1c, 0x30, 0x34, 0x1c, 0x25, 0x2b, 0x54,\n",
            "  0x12, 0x03, 0xe7, 0xe1, 0xd5, 0x10, 0x34, 0x4a, 0xd6, 0x38, 0xcd, 0x2b,\n",
            "  0xd7, 0x8d, 0x7f, 0xb9, 0xe0, 0xcf, 0x12, 0x24, 0xbc, 0x30, 0x3a, 0x1c,\n",
            "  0x8d, 0xbd, 0xcf, 0x0c, 0xb2, 0x10, 0x31, 0x39, 0x26, 0x07, 0xf4, 0xfa,\n",
            "  0x0a, 0xb3, 0xb9, 0x34, 0xca, 0x9b, 0x01, 0x17, 0xe6, 0x45, 0xe1, 0x15,\n",
            "  0xe5, 0xff, 0x03, 0xd9, 0x0c, 0xec, 0x46, 0xcf, 0xe3, 0x08, 0x07, 0x20,\n",
            "  0x03, 0x2b, 0x4e, 0x1a, 0x42, 0xe4, 0xfe, 0xfa, 0x3d, 0x3e, 0x40, 0x13,\n",
            "  0xee, 0xf8, 0xc3, 0x42, 0xdc, 0xf2, 0x50, 0x6d, 0xfa, 0x12, 0xbd, 0xe9,\n",
            "  0x08, 0x08, 0x4a, 0x4e, 0xf5, 0x52, 0x0d, 0xa3, 0x0f, 0xf6, 0x2b, 0xe9,\n",
            "  0xe9, 0xa9, 0xd0, 0xcf, 0xd4, 0xd2, 0x3b, 0xde, 0xec, 0x28, 0xf7, 0x10,\n",
            "  0xea, 0xd5, 0x44, 0xf9, 0x4c, 0xed, 0x1c, 0xe4, 0xdf, 0xed, 0xf7, 0x37,\n",
            "  0xa1, 0x1c, 0x15, 0xeb, 0xe1, 0xe5, 0xf0, 0x11, 0x21, 0x23, 0xfe, 0xab,\n",
            "  0x47, 0x15, 0xdb, 0x34, 0xf5, 0xff, 0xd3, 0x15, 0x81, 0xa6, 0x0c, 0x16,\n",
            "  0x55, 0x25, 0x1b, 0x25, 0xcf, 0xd7, 0xd1, 0xa8, 0xd7, 0xc6, 0xf7, 0x06,\n",
            "  0xcd, 0x0b, 0xff, 0x47, 0xe9, 0xd8, 0x09, 0x28, 0xcd, 0xca, 0xe7, 0x07,\n",
            "  0x1b, 0x23, 0xf3, 0xff, 0xec, 0x33, 0x0a, 0xae, 0x09, 0x01, 0x3e, 0x27,\n",
            "  0x42, 0x01, 0x36, 0x22, 0xd2, 0xf0, 0xaa, 0x01, 0xb4, 0xc7, 0xf9, 0xc9,\n",
            "  0xe1, 0xfc, 0xbd, 0x44, 0xeb, 0xc6, 0xe7, 0x44, 0xc2, 0xe3, 0xc3, 0xf8,\n",
            "  0xb2, 0xde, 0xd5, 0xea, 0x42, 0xfb, 0xc5, 0x24, 0xec, 0xb4, 0xc3, 0xed,\n",
            "  0x19, 0xe8, 0x05, 0xe8, 0xeb, 0x27, 0x2b, 0x0c, 0xd4, 0x0a, 0x2b, 0xf5,\n",
            "  0x03, 0x04, 0xed, 0xeb, 0xdf, 0x2d, 0x09, 0x12, 0xf5, 0xcb, 0x1c, 0xf3,\n",
            "  0x21, 0xd2, 0x0f, 0x08, 0x25, 0x51, 0xe0, 0xdc, 0xaa, 0x1c, 0x0b, 0x25,\n",
            "  0x00, 0xd0, 0x3e, 0x4c, 0x08, 0xf2, 0xf7, 0xd8, 0xea, 0x19, 0xa8, 0x4a,\n",
            "  0x33, 0x29, 0x26, 0xf7, 0x0d, 0x2b, 0x27, 0x26, 0x4b, 0xcd, 0x31, 0xdd,\n",
            "  0x05, 0xf5, 0x24, 0x29, 0xf3, 0x06, 0x05, 0x87, 0x13, 0x17, 0x13, 0xe1,\n",
            "  0xf8, 0x04, 0xfe, 0xdd, 0x37, 0x23, 0x11, 0x01, 0xe2, 0x38, 0xf4, 0xe6,\n",
            "  0xe2, 0x20, 0x15, 0xea, 0xe6, 0x32, 0x14, 0xec, 0x2a, 0xf9, 0xf8, 0x11,\n",
            "  0x30, 0x28, 0x13, 0xd3, 0xff, 0x28, 0x34, 0x06, 0x20, 0x1c, 0xf1, 0x1e,\n",
            "  0x24, 0x0a, 0x19, 0x06, 0x1c, 0x12, 0x0b, 0x81, 0x1c, 0xf1, 0x05, 0xdc,\n",
            "  0xeb, 0x1a, 0x0d, 0xb0, 0x1a, 0x2e, 0x0f, 0xf0, 0x2b, 0x44, 0x30, 0x81,\n",
            "  0x26, 0x38, 0x1f, 0xdd, 0x15, 0x3e, 0xfa, 0xe7, 0x0c, 0xf1, 0x15, 0xc4,\n",
            "  0x54, 0xea, 0x34, 0xab, 0x0b, 0x3d, 0x00, 0xfc, 0x27, 0x33, 0x16, 0xf3,\n",
            "  0x0c, 0x10, 0x4f, 0xed, 0x1d, 0x0e, 0x19, 0xbf, 0x12, 0x2f, 0x21, 0xfc,\n",
            "  0xcd, 0x44, 0x12, 0xc5, 0x08, 0x24, 0x08, 0xfb, 0x0f, 0x14, 0x17, 0xbf,\n",
            "  0x16, 0x06, 0x0e, 0x01, 0xde, 0x26, 0x02, 0xc5, 0x11, 0x1e, 0x43, 0xbe,\n",
            "  0x25, 0xf8, 0x14, 0xc7, 0x24, 0x4d, 0x10, 0xe7, 0xfc, 0x16, 0x0d, 0xa8,\n",
            "  0x2e, 0x0f, 0x1a, 0xea, 0x11, 0x57, 0x2c, 0x84, 0x43, 0xf0, 0xe1, 0xd0,\n",
            "  0x38, 0x13, 0x22, 0xf0, 0x22, 0x3f, 0xee, 0xcd, 0xeb, 0xfe, 0xfa, 0xdf,\n",
            "  0x09, 0x0c, 0x34, 0x1d, 0x1e, 0x33, 0x0f, 0xaf, 0x4b, 0x1e, 0x37, 0x09,\n",
            "  0xf1, 0xd4, 0x12, 0xc6, 0xf8, 0x58, 0x3c, 0x27, 0x35, 0x38, 0x13, 0x6c,\n",
            "  0x33, 0x27, 0xf3, 0xee, 0x15, 0x6b, 0x29, 0xca, 0x4f, 0x27, 0xf1, 0xcb,\n",
            "  0x8c, 0x4f, 0x64, 0xb1, 0x4a, 0x3c, 0x2c, 0xb1, 0x0f, 0xf5, 0x0c, 0x93,\n",
            "  0x0e, 0x35, 0x2d, 0xa3, 0xb6, 0x52, 0x06, 0xd3, 0x12, 0xf6, 0x3b, 0x8f,\n",
            "  0x5d, 0x1f, 0x19, 0x8f, 0xf9, 0x61, 0x06, 0xcc, 0x23, 0x3c, 0x63, 0xe4,\n",
            "  0xbf, 0x0c, 0x4b, 0xf8, 0x05, 0x27, 0x0b, 0x17, 0x0b, 0xfb, 0x44, 0xf4,\n",
            "  0x9b, 0x6a, 0x3a, 0x09, 0x43, 0x31, 0x7f, 0xff, 0x2e, 0x48, 0x37, 0xd1,\n",
            "  0x12, 0x64, 0x02, 0xb6, 0x97, 0x56, 0x2a, 0x07, 0x29, 0x34, 0x40, 0xc4,\n",
            "  0x2e, 0x37, 0x19, 0x0d, 0x29, 0x54, 0x4b, 0xe9, 0x0a, 0x02, 0x32, 0x5d,\n",
            "  0x44, 0xcb, 0x4f, 0x96, 0x20, 0xe2, 0xff, 0xda, 0x2f, 0x1e, 0x24, 0x2b,\n",
            "  0x45, 0xb4, 0x09, 0xf0, 0xf5, 0x23, 0xdb, 0x04, 0xd6, 0xe4, 0xef, 0x17,\n",
            "  0xee, 0xea, 0x37, 0x3d, 0x1b, 0xe4, 0xce, 0x0e, 0xde, 0x0a, 0x17, 0x0b,\n",
            "  0xce, 0xe1, 0xc4, 0xfd, 0xea, 0xb9, 0x28, 0x29, 0xe6, 0x12, 0xe7, 0xfb,\n",
            "  0xc8, 0xe4, 0xd7, 0xc0, 0xe4, 0xee, 0x12, 0xca, 0x38, 0x29, 0xfe, 0x5e,\n",
            "  0x10, 0xe5, 0x14, 0xd0, 0x05, 0x1d, 0x1a, 0xdd, 0xb4, 0x00, 0xf8, 0x3d,\n",
            "  0x26, 0xb1, 0x5b, 0x17, 0x56, 0xcc, 0x12, 0xee, 0x2d, 0x37, 0xee, 0x27,\n",
            "  0x81, 0xb8, 0xe5, 0x19, 0x1f, 0x8e, 0x1b, 0x40, 0x00, 0xeb, 0x04, 0x13,\n",
            "  0x23, 0x36, 0xd8, 0xd9, 0xfe, 0x08, 0xe5, 0xe7, 0x1b, 0x22, 0x35, 0x17,\n",
            "  0x07, 0xdd, 0xd0, 0xfe, 0xe7, 0x12, 0x14, 0x34, 0xd3, 0xc2, 0x13, 0x19,\n",
            "  0xc2, 0xce, 0xed, 0x2a, 0x08, 0xed, 0x10, 0x1d, 0x06, 0xce, 0x15, 0xe3,\n",
            "  0x87, 0x0b, 0xb7, 0xd5, 0x16, 0x8f, 0x07, 0x2a, 0x29, 0xeb, 0xad, 0xfa,\n",
            "  0xfe, 0x07, 0xae, 0xb8, 0xd2, 0xce, 0xef, 0x1d, 0xbb, 0xd0, 0x12, 0x38,\n",
            "  0x54, 0xcb, 0x06, 0xdf, 0xde, 0xce, 0xd0, 0x06, 0xf2, 0xb1, 0x05, 0x1a,\n",
            "  0xf2, 0xfa, 0x3b, 0x1c, 0xea, 0x96, 0xfb, 0xee, 0xda, 0xd8, 0x9d, 0x23,\n",
            "  0x18, 0x20, 0x33, 0xeb, 0x15, 0x0a, 0x50, 0x3b, 0xc3, 0x1e, 0x41, 0xe3,\n",
            "  0x17, 0x31, 0x10, 0x21, 0xb4, 0x04, 0xe8, 0x43, 0xed, 0xc6, 0xd4, 0xc1,\n",
            "  0x16, 0x3c, 0x0a, 0x1e, 0x93, 0x89, 0xd6, 0xd8, 0xac, 0xef, 0xe4, 0x65,\n",
            "  0xf3, 0xe3, 0x13, 0xcb, 0x2d, 0x1f, 0x1c, 0x42, 0xf5, 0xb1, 0xd7, 0x00,\n",
            "  0x28, 0x35, 0x1d, 0x15, 0x04, 0x30, 0xf5, 0x25, 0x24, 0x32, 0x40, 0x0c,\n",
            "  0x2d, 0x07, 0x1f, 0x39, 0xbe, 0xbc, 0xbc, 0x42, 0x8e, 0xc5, 0xd9, 0xe7,\n",
            "  0x37, 0xc4, 0x8e, 0x5a, 0x90, 0x81, 0x96, 0xe7, 0xee, 0xe2, 0xdb, 0x38,\n",
            "  0xce, 0xec, 0xf9, 0xce, 0xef, 0xbb, 0xf3, 0x3b, 0xc5, 0xc3, 0xf9, 0x1b,\n",
            "  0x2f, 0x37, 0x0a, 0x23, 0xf5, 0x13, 0x11, 0xc2, 0xe2, 0x19, 0x45, 0xf7,\n",
            "  0x28, 0xfb, 0x2d, 0x24, 0xcc, 0x3b, 0xd1, 0x25, 0xe1, 0xfd, 0x23, 0xb1,\n",
            "  0x13, 0x01, 0x15, 0x15, 0x00, 0x00, 0x30, 0xb1, 0xe8, 0xd4, 0x1a, 0xed,\n",
            "  0xa2, 0x09, 0x30, 0x65, 0xfc, 0xfe, 0x16, 0xe0, 0x25, 0xe6, 0x1d, 0xee,\n",
            "  0xab, 0xee, 0x12, 0x0c, 0xae, 0x02, 0x16, 0xe5, 0xe2, 0xe4, 0x06, 0xcc,\n",
            "  0x10, 0x18, 0xf3, 0x57, 0x10, 0x38, 0xe5, 0xfc, 0x2a, 0xeb, 0x46, 0x20,\n",
            "  0xfd, 0xfa, 0xde, 0x04, 0xfd, 0x4f, 0x27, 0xda, 0x24, 0x14, 0xfc, 0xd9,\n",
            "  0xdd, 0x43, 0x1e, 0x34, 0x95, 0x2a, 0x2a, 0xc8, 0x02, 0xff, 0x4b, 0xb8,\n",
            "  0x19, 0x21, 0xf8, 0xda, 0xf2, 0x5f, 0x07, 0xb7, 0x37, 0x00, 0x20, 0x94,\n",
            "  0x10, 0x00, 0xf5, 0xb6, 0x08, 0x2e, 0x27, 0xa1, 0x03, 0x34, 0x09, 0xe2,\n",
            "  0xef, 0xff, 0x12, 0xa3, 0x13, 0x20, 0x0f, 0xa6, 0x4c, 0x0b, 0xdf, 0x15,\n",
            "  0xaf, 0xce, 0x20, 0xf8, 0x14, 0x08, 0x11, 0xd8, 0x18, 0x4b, 0x42, 0x7f,\n",
            "  0xff, 0xf0, 0x07, 0xb1, 0x10, 0x16, 0x24, 0x06, 0xe5, 0xeb, 0xfd, 0xbc,\n",
            "  0x1f, 0xcb, 0x1c, 0xad, 0xf6, 0x4f, 0x09, 0xab, 0x3a, 0xda, 0x01, 0xb0,\n",
            "  0x3a, 0xfd, 0xfb, 0x86, 0x17, 0x2c, 0x26, 0xe6, 0x09, 0x16, 0x0b, 0xd9,\n",
            "  0xd8, 0x1c, 0x30, 0x07, 0xc2, 0x35, 0x07, 0xee, 0x1b, 0x0a, 0xf1, 0xf3,\n",
            "  0xf0, 0x34, 0x0c, 0xe0, 0xf0, 0x2d, 0x1a, 0xf2, 0x30, 0x24, 0x18, 0x3e,\n",
            "  0x42, 0xda, 0x1b, 0x09, 0x06, 0x2f, 0x30, 0x91, 0x21, 0xf7, 0x16, 0xd9,\n",
            "  0xca, 0x29, 0x31, 0xcf, 0x4f, 0x10, 0x22, 0xcd, 0x25, 0xec, 0xee, 0x81,\n",
            "  0x19, 0x30, 0x0b, 0x91, 0x1c, 0x6e, 0xe9, 0xbe, 0x3c, 0xf0, 0x46, 0xcf,\n",
            "  0x2e, 0x2c, 0x1f, 0x9e, 0x49, 0x1a, 0x0a, 0xc1, 0x1b, 0x2f, 0x1d, 0xf8,\n",
            "  0x1d, 0xe7, 0xfc, 0xfa, 0xe0, 0x1b, 0x0e, 0xba, 0x04, 0xe5, 0x18, 0x0f,\n",
            "  0xab, 0x4b, 0x32, 0x96, 0xf2, 0x2e, 0x2b, 0xf6, 0x38, 0x09, 0x11, 0xc7,\n",
            "  0xf8, 0x47, 0x08, 0xf8, 0xea, 0x2c, 0x24, 0xe6, 0x11, 0x44, 0x4a, 0xdf,\n",
            "  0x77, 0xcb, 0x2e, 0xe0, 0x4a, 0x0d, 0x27, 0x27, 0x28, 0x0a, 0xee, 0xc9,\n",
            "  0x40, 0x0f, 0x25, 0x85, 0xfc, 0xff, 0xfe, 0xcf, 0xfe, 0x16, 0x1a, 0xda,\n",
            "  0x08, 0x0c, 0x1a, 0x15, 0x16, 0x20, 0x20, 0xbc, 0x0a, 0x14, 0x06, 0xc9,\n",
            "  0x06, 0x2c, 0x27, 0x02, 0x30, 0x18, 0x1c, 0xed, 0x37, 0x17, 0xf1, 0x46,\n",
            "  0x07, 0x42, 0x17, 0xa2, 0xd2, 0x30, 0x35, 0xf7, 0x05, 0xf5, 0x16, 0x82,\n",
            "  0x04, 0xee, 0x1e, 0xd1, 0xfc, 0x23, 0x03, 0xd0, 0x27, 0x20, 0x1c, 0xc0,\n",
            "  0xe4, 0x1f, 0x08, 0xa5, 0x1b, 0x41, 0x09, 0xec, 0x1a, 0xee, 0x01, 0xb7,\n",
            "  0x08, 0x3f, 0x3d, 0xdf, 0x0b, 0x73, 0x14, 0x89, 0x0d, 0x03, 0x29, 0xcb,\n",
            "  0x18, 0x3a, 0x0a, 0xb7, 0xeb, 0x38, 0x32, 0x2d, 0x0e, 0x45, 0x22, 0x81,\n",
            "  0x13, 0x15, 0x1d, 0xae, 0xff, 0x24, 0x14, 0xde, 0xee, 0x13, 0x1f, 0x01,\n",
            "  0x02, 0x15, 0xf2, 0x9e, 0xf8, 0x16, 0xee, 0xfc, 0xfe, 0x06, 0x2b, 0xce,\n",
            "  0xe2, 0xfa, 0x03, 0xe3, 0x0e, 0xf7, 0x18, 0xfe, 0xe9, 0x19, 0x55, 0xd1,\n",
            "  0x33, 0x13, 0xfe, 0x06, 0x18, 0x1c, 0x1d, 0x0e, 0xd2, 0xeb, 0x0f, 0xe4,\n",
            "  0x16, 0xf5, 0x26, 0x90, 0x8d, 0x71, 0xd9, 0x10, 0xc0, 0x82, 0x71, 0xd3,\n",
            "  0x09, 0xfc, 0xd7, 0x2f, 0x9e, 0x3f, 0x43, 0x2e, 0xe9, 0x44, 0x2e, 0x3e,\n",
            "  0x93, 0xd1, 0x1b, 0xfb, 0x12, 0x04, 0xff, 0x75, 0xe9, 0x98, 0xfd, 0xd5,\n",
            "  0x10, 0xca, 0x29, 0xc3, 0xac, 0xf0, 0x59, 0xdd, 0x0e, 0x45, 0x39, 0x85,\n",
            "  0x09, 0x0a, 0xe6, 0x23, 0xbf, 0xe2, 0xf0, 0x09, 0xbe, 0xe7, 0x53, 0x65,\n",
            "  0xbc, 0x2a, 0xcb, 0xe4, 0x1a, 0x32, 0x13, 0x1b, 0xc6, 0x26, 0xff, 0xcf,\n",
            "  0x2e, 0xee, 0x5a, 0xf1, 0x81, 0x2c, 0x12, 0xd8, 0xa8, 0x16, 0x2e, 0xfe,\n",
            "  0xf9, 0x0c, 0xc0, 0x1f, 0x2a, 0x12, 0x09, 0x33, 0x1b, 0xf5, 0x14, 0x9c,\n",
            "  0x3a, 0xd6, 0xf2, 0xe5, 0x03, 0x04, 0x31, 0x2c, 0x4d, 0x00, 0x0c, 0xd7,\n",
            "  0xe3, 0xe4, 0x4e, 0xd7, 0x1a, 0x28, 0x32, 0xee, 0x19, 0x46, 0xcb, 0xfd,\n",
            "  0x09, 0x00, 0x31, 0xde, 0x15, 0x1a, 0x1c, 0x95, 0xd8, 0x47, 0xd7, 0x25,\n",
            "  0x1a, 0x32, 0x89, 0xbd, 0x1d, 0xe9, 0xfc, 0x52, 0x3c, 0xef, 0x15, 0xb4,\n",
            "  0x19, 0x15, 0xe7, 0x1f, 0x0a, 0xb7, 0x24, 0x22, 0xb4, 0xf5, 0xd6, 0x06,\n",
            "  0xa9, 0xbd, 0xfd, 0x0d, 0xa5, 0xaf, 0x03, 0xc0, 0x04, 0xe2, 0xfb, 0x15,\n",
            "  0x0f, 0x26, 0xb6, 0xe0, 0x10, 0x2d, 0xf1, 0x0d, 0xd9, 0xe8, 0x4d, 0x06,\n",
            "  0xfa, 0xdc, 0xd4, 0x0b, 0xda, 0xc0, 0xc3, 0x18, 0xd9, 0x0b, 0x8f, 0x33,\n",
            "  0xcb, 0xc1, 0xa5, 0x32, 0xc9, 0x22, 0xdf, 0x32, 0xee, 0xc1, 0xf0, 0x1d,\n",
            "  0xff, 0xd5, 0x1b, 0x13, 0x02, 0xc3, 0x26, 0x0e, 0xf0, 0xf4, 0xfc, 0x1c,\n",
            "  0xde, 0xe5, 0x0e, 0x2c, 0xde, 0x10, 0xf9, 0x27, 0xdb, 0x20, 0x33, 0x4a,\n",
            "  0xfe, 0xf8, 0x26, 0xee, 0x09, 0xd4, 0x81, 0xf8, 0x2b, 0x4c, 0xd5, 0x13,\n",
            "  0xb7, 0x9e, 0xe8, 0xd2, 0x11, 0xec, 0xd6, 0x05, 0xd4, 0xfe, 0x20, 0x08,\n",
            "  0xd2, 0x15, 0x00, 0x23, 0x12, 0xd8, 0xf4, 0x03, 0xae, 0x1e, 0xff, 0xfd,\n",
            "  0x25, 0x01, 0xe6, 0x09, 0xcf, 0x4c, 0xb6, 0x34, 0xea, 0xff, 0x0d, 0xd3,\n",
            "  0x1f, 0xd4, 0xd4, 0xe8, 0xf2, 0x17, 0xe6, 0x00, 0xee, 0xf7, 0xe2, 0x33,\n",
            "  0xda, 0x9e, 0x08, 0x00, 0x5a, 0xfd, 0x10, 0xda, 0x50, 0x1b, 0xfe, 0xeb,\n",
            "  0x36, 0x4e, 0x17, 0xc7, 0x12, 0x05, 0x3c, 0x23, 0x0f, 0x29, 0x08, 0x9d,\n",
            "  0x2d, 0xfe, 0xe1, 0xaa, 0xea, 0x0e, 0x0e, 0xec, 0xd4, 0xfe, 0x30, 0xb2,\n",
            "  0x47, 0xfd, 0x12, 0xae, 0xf7, 0x25, 0x2e, 0xba, 0x38, 0x17, 0x06, 0x38,\n",
            "  0x2f, 0x11, 0x25, 0xce, 0x01, 0x49, 0x00, 0xae, 0x23, 0x37, 0xdf, 0xfa,\n",
            "  0x1f, 0x3e, 0x12, 0x9c, 0x04, 0x30, 0x48, 0xd7, 0x26, 0x26, 0x10, 0xe3,\n",
            "  0x21, 0x4b, 0xfc, 0x9a, 0xbe, 0x3e, 0xf5, 0xdc, 0x2e, 0xd1, 0x55, 0xa2,\n",
            "  0x0d, 0xfa, 0xf1, 0x8b, 0x35, 0x49, 0x06, 0xfe, 0x38, 0x22, 0x0e, 0x99,\n",
            "  0x33, 0xce, 0x12, 0xc7, 0x25, 0x2e, 0x24, 0xc6, 0x1b, 0xee, 0x0c, 0xce,\n",
            "  0xec, 0x7c, 0xf8, 0xbc, 0x19, 0x20, 0x05, 0xf9, 0xfb, 0x23, 0x1c, 0x97,\n",
            "  0x41, 0xe9, 0xd5, 0xc0, 0xec, 0x7f, 0x09, 0x98, 0x40, 0xf8, 0x14, 0x9f,\n",
            "  0x2a, 0x3c, 0x2a, 0xb8, 0x27, 0xfe, 0x2c, 0xde, 0xd6, 0x5a, 0xfe, 0xcb,\n",
            "  0x4e, 0x34, 0x2c, 0xc6, 0xd6, 0xb4, 0xff, 0xff, 0x04, 0x00, 0x00, 0x00,\n",
            "  0x80, 0x00, 0x00, 0x00, 0x42, 0xf5, 0xff, 0xff, 0x8a, 0x13, 0x00, 0x00,\n",
            "  0x3d, 0xfb, 0xff, 0xff, 0x48, 0xeb, 0xff, 0xff, 0xb5, 0x0e, 0x00, 0x00,\n",
            "  0x05, 0xd4, 0xff, 0xff, 0x51, 0xd8, 0xff, 0xff, 0x75, 0xe5, 0xff, 0xff,\n",
            "  0x57, 0xf0, 0xff, 0xff, 0x26, 0xf5, 0xff, 0xff, 0x28, 0xed, 0xff, 0xff,\n",
            "  0x66, 0xe9, 0xff, 0xff, 0x7a, 0xff, 0xff, 0xff, 0x36, 0xe4, 0xff, 0xff,\n",
            "  0x0f, 0xfd, 0xff, 0xff, 0xda, 0xe8, 0xff, 0xff, 0xd2, 0xfa, 0xff, 0xff,\n",
            "  0x6d, 0x20, 0x00, 0x00, 0x49, 0xe6, 0xff, 0xff, 0x49, 0xe5, 0xff, 0xff,\n",
            "  0x4e, 0xf8, 0xff, 0xff, 0xad, 0xfa, 0xff, 0xff, 0xef, 0xe5, 0xff, 0xff,\n",
            "  0xcb, 0xc0, 0xff, 0xff, 0x0f, 0x01, 0x00, 0x00, 0xd0, 0xf4, 0xff, 0xff,\n",
            "  0x97, 0x05, 0x00, 0x00, 0x94, 0xe1, 0xff, 0xff, 0x60, 0xf7, 0xff, 0xff,\n",
            "  0x41, 0xfd, 0xff, 0xff, 0xd4, 0x0e, 0x00, 0x00, 0x5e, 0xf3, 0xff, 0xff,\n",
            "  0x62, 0xb5, 0xff, 0xff, 0x04, 0x00, 0x00, 0x00, 0x00, 0x48, 0x00, 0x00,\n",
            "  0xcc, 0x03, 0xd0, 0xd3, 0x16, 0x20, 0x2c, 0xf8, 0xc5, 0xe7, 0xf7, 0x1c,\n",
            "  0xdc, 0x1b, 0xd4, 0xfe, 0xe4, 0x4c, 0xdc, 0xe6, 0xcf, 0xcf, 0x2f, 0x38,\n",
            "  0xb8, 0xf8, 0xc1, 0x01, 0xb3, 0xca, 0xd4, 0x07, 0xdd, 0x06, 0x23, 0x10,\n",
            "  0x31, 0x0d, 0x25, 0xd8, 0xf4, 0xe0, 0x03, 0x06, 0x00, 0xf3, 0xf3, 0x34,\n",
            "  0x17, 0xfe, 0xef, 0xeb, 0xec, 0xea, 0x29, 0xf7, 0xd3, 0x3f, 0xb8, 0x11,\n",
            "  0x02, 0xfa, 0x02, 0xfb, 0xe3, 0x05, 0xe1, 0x06, 0x18, 0x31, 0x29, 0xd8,\n",
            "  0x3d, 0xd7, 0xfd, 0x10, 0xef, 0x10, 0xde, 0xdd, 0x1d, 0x2d, 0xfe, 0x1d,\n",
            "  0xc2, 0xd7, 0x1f, 0xf6, 0xea, 0x29, 0xfb, 0xc5, 0x1b, 0x07, 0x47, 0x0c,\n",
            "  0xf5, 0x0c, 0x00, 0xc5, 0x1c, 0x19, 0x0d, 0xe2, 0x10, 0xfa, 0xcb, 0x01,\n",
            "  0xdc, 0xeb, 0xe3, 0xbd, 0x0e, 0x18, 0x06, 0xf8, 0xfa, 0x34, 0xe0, 0x0e,\n",
            "  0xbe, 0x02, 0xf8, 0xcd, 0xed, 0x28, 0xc4, 0xcb, 0xf8, 0x2f, 0xf1, 0xef,\n",
            "  0x50, 0x08, 0x26, 0xe8, 0x0c, 0x0d, 0x02, 0x12, 0x29, 0xe2, 0xf5, 0x11,\n",
            "  0x04, 0x13, 0x11, 0xdd, 0xfd, 0x1c, 0xdb, 0xc9, 0xfb, 0xee, 0xd3, 0xda,\n",
            "  0xff, 0x0b, 0x15, 0x0c, 0xe9, 0x17, 0x34, 0xfe, 0x34, 0x1d, 0xdb, 0xe7,\n",
            "  0x1e, 0xfa, 0xdb, 0x3f, 0x1a, 0xd5, 0xe7, 0xef, 0xf7, 0x4a, 0xc4, 0xfc,\n",
            "  0x05, 0x2c, 0x35, 0xc9, 0xe9, 0x11, 0xac, 0x1c, 0x1f, 0x05, 0x25, 0x25,\n",
            "  0xc6, 0xe4, 0xd4, 0xda, 0xff, 0x04, 0xc8, 0xe0, 0xe0, 0xd2, 0xd0, 0xef,\n",
            "  0xb3, 0xd3, 0xd8, 0xe9, 0xa7, 0x11, 0x0d, 0xf6, 0xc4, 0x8d, 0xef, 0xec,\n",
            "  0xce, 0x3b, 0xbe, 0xd1, 0xde, 0xd8, 0xcb, 0xd9, 0xab, 0x37, 0xf0, 0xf8,\n",
            "  0x14, 0x2b, 0xd7, 0xd9, 0x26, 0xf4, 0xfe, 0xf6, 0xc9, 0xd9, 0xf7, 0x1d,\n",
            "  0xb3, 0x0c, 0x25, 0xe7, 0xf1, 0xb9, 0x33, 0x2e, 0xf5, 0x05, 0xd5, 0xef,\n",
            "  0xed, 0x0c, 0x1e, 0x0d, 0xcd, 0x5f, 0xce, 0xce, 0x7f, 0xf4, 0x33, 0xff,\n",
            "  0xb2, 0xe3, 0x05, 0x17, 0xba, 0x04, 0xd9, 0xd8, 0x85, 0x39, 0x07, 0xff,\n",
            "  0xfa, 0xbe, 0x04, 0xcc, 0xa1, 0xd9, 0xd4, 0x28, 0xf9, 0xb7, 0x51, 0x1d,\n",
            "  0x2a, 0x06, 0x29, 0xf8, 0xf9, 0x03, 0xbf, 0xf8, 0x0a, 0xde, 0x0c, 0xef,\n",
            "  0x0a, 0x0b, 0x4c, 0x01, 0x24, 0x00, 0x15, 0xde, 0xe7, 0x12, 0x19, 0x1c,\n",
            "  0xe8, 0xcc, 0x0c, 0x2b, 0x03, 0x1a, 0xe4, 0xd3, 0x22, 0xec, 0x2a, 0x0d,\n",
            "  0x1d, 0xec, 0x15, 0x00, 0xd3, 0x1b, 0xe2, 0x15, 0xef, 0xe9, 0x24, 0xf4,\n",
            "  0xbb, 0x2d, 0x01, 0x22, 0x3d, 0xe9, 0x0b, 0x30, 0xf1, 0xc5, 0xf8, 0x0b,\n",
            "  0x2a, 0xf5, 0xf5, 0xce, 0x23, 0xea, 0x0f, 0x4d, 0xdc, 0x01, 0xf3, 0xec,\n",
            "  0xdb, 0xe0, 0x0e, 0x05, 0xfb, 0x0c, 0xd7, 0x0b, 0xfc, 0x10, 0xf8, 0x43,\n",
            "  0xf5, 0x10, 0xe2, 0xf1, 0xc3, 0xf7, 0xf2, 0xd0, 0x13, 0x27, 0xf4, 0xd6,\n",
            "  0xff, 0x0e, 0x08, 0x51, 0x1a, 0x19, 0x09, 0xde, 0xd6, 0x2b, 0x38, 0xfd,\n",
            "  0x28, 0xff, 0x11, 0x03, 0xa6, 0x13, 0x24, 0x08, 0x4d, 0xf3, 0xf6, 0x24,\n",
            "  0x44, 0xde, 0x43, 0x19, 0x30, 0x1e, 0xb8, 0x3b, 0x04, 0xee, 0x3a, 0xc5,\n",
            "  0xcb, 0x1f, 0x0e, 0xfa, 0xff, 0x16, 0x1e, 0xf0, 0x3b, 0x3c, 0x11, 0x09,\n",
            "  0xd0, 0x0d, 0x17, 0xd3, 0x4d, 0xf6, 0x33, 0x3e, 0x4f, 0xef, 0x4f, 0x05,\n",
            "  0x0e, 0x30, 0x10, 0x0c, 0xfb, 0x03, 0x26, 0x19, 0x02, 0x0e, 0x1e, 0x23,\n",
            "  0xdb, 0x7f, 0x1c, 0xe7, 0x18, 0xfb, 0x12, 0x2b, 0x10, 0xf3, 0x17, 0xf0,\n",
            "  0x55, 0x11, 0x3a, 0x62, 0xde, 0x2d, 0x34, 0xd9, 0x35, 0xde, 0x08, 0x37,\n",
            "  0x01, 0xb0, 0x25, 0x4d, 0x8f, 0xf0, 0x0e, 0x0d, 0xe8, 0x3b, 0x1e, 0x2c,\n",
            "  0x4f, 0x3f, 0x3a, 0x3a, 0xd5, 0xe2, 0x07, 0xf2, 0xf0, 0x01, 0xe2, 0xf0,\n",
            "  0x1f, 0xd3, 0x1a, 0x0c, 0x46, 0x0c, 0x9b, 0xfe, 0x3b, 0xe4, 0x2a, 0x33,\n",
            "  0xce, 0x2a, 0x0a, 0x2a, 0xde, 0x22, 0x35, 0x0c, 0x0d, 0x01, 0x32, 0x28,\n",
            "  0xb8, 0xfd, 0x67, 0x32, 0x25, 0x2f, 0x54, 0x34, 0xed, 0xa0, 0x07, 0x31,\n",
            "  0x44, 0xfd, 0xc6, 0x06, 0x29, 0xdb, 0x13, 0x29, 0x98, 0xd7, 0x09, 0x07,\n",
            "  0x92, 0x0a, 0x1b, 0x1d, 0x21, 0x3a, 0xff, 0x4d, 0x1b, 0xcd, 0x33, 0xfb,\n",
            "  0x12, 0x26, 0x1e, 0xdb, 0xf8, 0xe6, 0x11, 0x16, 0x02, 0x23, 0xa3, 0xe9,\n",
            "  0x0a, 0xf0, 0x2f, 0x1c, 0xfc, 0xcf, 0xec, 0x00, 0xfc, 0x13, 0x1e, 0xe5,\n",
            "  0xe3, 0xf8, 0x18, 0x54, 0x20, 0x0f, 0x03, 0xf5, 0xf7, 0xbe, 0xc3, 0xd3,\n",
            "  0x27, 0xda, 0x1e, 0xf0, 0xfd, 0x1a, 0xca, 0xfa, 0x2a, 0x02, 0x3a, 0x24,\n",
            "  0xf5, 0xaa, 0xdb, 0x2a, 0xe4, 0x15, 0x2c, 0xcc, 0x38, 0x35, 0x4d, 0xba,\n",
            "  0x25, 0xf4, 0xf5, 0x17, 0xd3, 0x09, 0xde, 0xfd, 0xde, 0xe9, 0x03, 0xf1,\n",
            "  0x05, 0x12, 0xda, 0xab, 0x3a, 0xd5, 0x07, 0x08, 0xd7, 0xde, 0xc6, 0x22,\n",
            "  0x29, 0xe3, 0x1c, 0xdf, 0xe0, 0xdf, 0x35, 0x41, 0xfd, 0xd4, 0x20, 0xca,\n",
            "  0x39, 0x1c, 0xf2, 0xe4, 0x1c, 0xf5, 0x26, 0x01, 0x19, 0x24, 0xd7, 0xcf,\n",
            "  0xf2, 0xe0, 0xd8, 0x4d, 0xf4, 0xdf, 0x10, 0x12, 0xbe, 0x21, 0xee, 0xf6,\n",
            "  0xc9, 0x34, 0x22, 0xeb, 0xf0, 0xf9, 0x0d, 0xf6, 0x42, 0x23, 0xea, 0x1b,\n",
            "  0x3a, 0x1b, 0x2d, 0x0a, 0x1f, 0xfa, 0xdc, 0x0f, 0x26, 0xe1, 0x58, 0x15,\n",
            "  0xd1, 0xa3, 0xbd, 0x2f, 0xda, 0x37, 0xfe, 0xaf, 0x37, 0x0d, 0x2c, 0x17,\n",
            "  0xdd, 0xf0, 0x16, 0x30, 0x5a, 0xe9, 0xe2, 0x04, 0x51, 0xe8, 0x00, 0xf7,\n",
            "  0x21, 0x35, 0xe5, 0xd1, 0x34, 0xfa, 0xed, 0x2e, 0x14, 0x0f, 0xc1, 0x06,\n",
            "  0xe4, 0x4d, 0x05, 0xf5, 0x12, 0xd0, 0xe2, 0xf3, 0xef, 0xf5, 0xfa, 0xea,\n",
            "  0xe4, 0x28, 0x09, 0xfb, 0x13, 0xee, 0x35, 0xe6, 0x08, 0xfe, 0x10, 0x2d,\n",
            "  0x55, 0xe4, 0x1f, 0x2a, 0xa5, 0xf4, 0xc2, 0x20, 0x0a, 0x05, 0xfd, 0xc5,\n",
            "  0x35, 0xa0, 0x16, 0x54, 0xcd, 0xc2, 0xe6, 0x16, 0xda, 0x40, 0xc7, 0xf6,\n",
            "  0x0f, 0x2f, 0xf7, 0xf9, 0x3b, 0x21, 0xce, 0xde, 0x6f, 0xc9, 0x40, 0x61,\n",
            "  0xc1, 0xd6, 0x2e, 0x1d, 0xef, 0x3a, 0x33, 0x3e, 0x12, 0x0c, 0xfe, 0xde,\n",
            "  0xcd, 0xc1, 0x2f, 0xe1, 0x27, 0xec, 0x10, 0xf4, 0x33, 0x14, 0x41, 0xf6,\n",
            "  0x49, 0xe7, 0xe1, 0x00, 0x0c, 0x81, 0x08, 0xfc, 0xcd, 0xf9, 0xb2, 0xde,\n",
            "  0xd7, 0x18, 0xfe, 0xf1, 0x39, 0x03, 0xf6, 0x29, 0xff, 0xfe, 0xc9, 0x1c,\n",
            "  0xd1, 0x30, 0x01, 0x03, 0xc0, 0xed, 0xfd, 0xcd, 0x0d, 0x3f, 0xc9, 0xf2,\n",
            "  0x13, 0x21, 0xde, 0xf0, 0x08, 0xf7, 0x03, 0xf5, 0x04, 0x14, 0xf6, 0x22,\n",
            "  0x04, 0xf3, 0xe1, 0xf9, 0xed, 0x1a, 0x06, 0xe8, 0x01, 0xf9, 0xee, 0xe8,\n",
            "  0x02, 0xd0, 0x1b, 0x01, 0x02, 0x09, 0xf9, 0x0f, 0x00, 0x03, 0x0c, 0xfa,\n",
            "  0x14, 0x1a, 0x02, 0x07, 0xf5, 0x38, 0x16, 0xf7, 0x25, 0x32, 0x14, 0x04,\n",
            "  0xca, 0x19, 0x51, 0x07, 0x14, 0xe6, 0xfa, 0xfa, 0xad, 0xbe, 0xf9, 0x0c,\n",
            "  0x06, 0xd6, 0xf8, 0xe5, 0x0c, 0xfa, 0xec, 0x1a, 0x0e, 0xe8, 0xf6, 0x20,\n",
            "  0xe0, 0xe7, 0x29, 0xf4, 0x26, 0x23, 0xb0, 0xe2, 0x1b, 0xf7, 0x00, 0xf6,\n",
            "  0xe5, 0x3f, 0x10, 0x30, 0xb9, 0xe8, 0x2f, 0xf3, 0x0d, 0x1a, 0xfa, 0xe8,\n",
            "  0x07, 0x08, 0x15, 0x24, 0x36, 0x03, 0x2d, 0xdf, 0x9e, 0x2a, 0x0b, 0xf9,\n",
            "  0xfd, 0x54, 0x31, 0x1a, 0xba, 0x04, 0x1b, 0xef, 0x3e, 0xf4, 0x08, 0x5d,\n",
            "  0x02, 0xe8, 0x32, 0xe0, 0x23, 0xfd, 0x01, 0xe7, 0x20, 0x18, 0x3b, 0xe6,\n",
            "  0xf7, 0x28, 0x24, 0x1c, 0xe2, 0x40, 0x26, 0x38, 0x1e, 0x42, 0x23, 0x2c,\n",
            "  0xd0, 0x0a, 0x23, 0x1f, 0x19, 0xf4, 0x4c, 0x27, 0x2a, 0xce, 0x42, 0x14,\n",
            "  0x39, 0x2d, 0x2e, 0xf9, 0xf7, 0xda, 0xec, 0x06, 0xf1, 0x17, 0x26, 0x3a,\n",
            "  0xbb, 0x57, 0x00, 0x12, 0x15, 0x10, 0x15, 0xe8, 0xd7, 0xf6, 0xfe, 0xee,\n",
            "  0x1d, 0xf8, 0xdb, 0x1a, 0x01, 0xfc, 0xf5, 0xe8, 0x1a, 0xf4, 0xd8, 0xd9,\n",
            "  0xc5, 0x17, 0x10, 0x19, 0xce, 0xfc, 0xff, 0xff, 0xc8, 0x1b, 0x0b, 0x33,\n",
            "  0x29, 0x4c, 0xfa, 0x3e, 0xa3, 0xe9, 0x49, 0xe9, 0xf7, 0xa7, 0x19, 0x26,\n",
            "  0xf1, 0x19, 0x22, 0x06, 0x1d, 0x07, 0xad, 0x23, 0xd8, 0x05, 0x1e, 0x2a,\n",
            "  0x00, 0x29, 0x48, 0x1b, 0xb4, 0x1d, 0x14, 0x25, 0x23, 0x26, 0xba, 0x28,\n",
            "  0xc0, 0xf5, 0x46, 0x24, 0x01, 0xd9, 0x51, 0x33, 0xc3, 0x9d, 0xfe, 0x2e,\n",
            "  0x20, 0x0b, 0x22, 0x26, 0xe8, 0xd1, 0xef, 0x10, 0xa4, 0x08, 0xe5, 0x44,\n",
            "  0xa6, 0x30, 0x0a, 0x18, 0xf8, 0xed, 0xdc, 0x1e, 0xdd, 0xe0, 0x2a, 0x1b,\n",
            "  0xf5, 0xfa, 0x0c, 0x33, 0xda, 0xc5, 0x22, 0x2c, 0x25, 0xf6, 0x81, 0x2e,\n",
            "  0xfe, 0xe9, 0x27, 0xf3, 0x07, 0x04, 0xfa, 0x06, 0x05, 0xf6, 0xed, 0xf0,\n",
            "  0xef, 0xfc, 0xef, 0xe9, 0x33, 0xf3, 0x02, 0xe1, 0xee, 0xff, 0xde, 0xf6,\n",
            "  0x16, 0x35, 0x12, 0x14, 0xd9, 0x0c, 0xed, 0xeb, 0x20, 0xfd, 0x04, 0xe5,\n",
            "  0xe3, 0xe7, 0xd2, 0xea, 0x3a, 0x04, 0xf7, 0xf5, 0x15, 0x0a, 0x30, 0x0b,\n",
            "  0x09, 0xca, 0xe4, 0xd6, 0x3b, 0x4f, 0xf2, 0xe0, 0x17, 0x53, 0xef, 0xf0,\n",
            "  0x07, 0x22, 0xc7, 0xfa, 0x09, 0x15, 0x27, 0xe0, 0x0f, 0xd6, 0xf1, 0x13,\n",
            "  0x60, 0x0e, 0xea, 0xe0, 0x0a, 0xff, 0x44, 0xf3, 0xee, 0xef, 0xf4, 0xf0,\n",
            "  0x37, 0x27, 0xd8, 0xe9, 0x40, 0x1d, 0x02, 0xf2, 0xcf, 0x17, 0xdd, 0x05,\n",
            "  0x19, 0xfb, 0x0b, 0xfd, 0x03, 0xed, 0xd8, 0x23, 0xf2, 0xd8, 0xe9, 0xe4,\n",
            "  0x03, 0xf4, 0x0a, 0x12, 0x27, 0x00, 0xe8, 0x13, 0xf9, 0xeb, 0xfd, 0xec,\n",
            "  0xeb, 0x1e, 0xda, 0xd0, 0x00, 0x32, 0xd6, 0xdc, 0xf7, 0xd6, 0x25, 0xe4,\n",
            "  0xdb, 0xf6, 0xec, 0xeb, 0x36, 0x26, 0xd9, 0xfb, 0xe0, 0xf9, 0x0d, 0x20,\n",
            "  0x50, 0xb4, 0xfc, 0xe4, 0x22, 0x23, 0xda, 0xe1, 0x03, 0x3b, 0xf6, 0xd7,\n",
            "  0x06, 0x3a, 0xad, 0xe6, 0x01, 0xef, 0x31, 0xf7, 0x1b, 0xe6, 0x01, 0x26,\n",
            "  0x3a, 0x00, 0x06, 0xf9, 0xfb, 0x22, 0x3f, 0xf0, 0x06, 0x15, 0xf5, 0xec,\n",
            "  0xfb, 0xe7, 0xfa, 0xf4, 0x0d, 0xf7, 0x17, 0xf2, 0x0c, 0x3a, 0x0f, 0xe7,\n",
            "  0xe2, 0xed, 0x00, 0xae, 0x2c, 0xde, 0xe1, 0xe9, 0x3f, 0xff, 0xf6, 0xe0,\n",
            "  0xd5, 0xe2, 0x0c, 0xbd, 0xc4, 0xff, 0xcb, 0xd3, 0x19, 0xe8, 0xb0, 0xdb,\n",
            "  0xf2, 0x2f, 0xeb, 0xe7, 0xe5, 0xc7, 0x0c, 0xc2, 0xe6, 0x1d, 0x04, 0xed,\n",
            "  0x08, 0xf6, 0xfb, 0xf2, 0x22, 0xdc, 0xd3, 0xf7, 0x0b, 0xd5, 0xe0, 0x08,\n",
            "  0x04, 0xd9, 0x04, 0xfd, 0x04, 0xde, 0xe0, 0xe6, 0xd5, 0x4a, 0xe1, 0xea,\n",
            "  0xf6, 0xdf, 0x1f, 0xdc, 0xbd, 0x53, 0x45, 0xc2, 0x7f, 0xdc, 0xfd, 0xda,\n",
            "  0x7b, 0xe6, 0xee, 0xe8, 0xd2, 0x01, 0xf2, 0xfc, 0xcb, 0x37, 0xcb, 0xdb,\n",
            "  0xf8, 0xf5, 0xe8, 0x09, 0x24, 0x12, 0xfe, 0xe1, 0xbc, 0xe4, 0x53, 0x17,\n",
            "  0x1c, 0x2c, 0xe4, 0xf7, 0x18, 0x0a, 0x31, 0xe7, 0xec, 0x0e, 0xf9, 0x27,\n",
            "  0x17, 0x20, 0xe3, 0x01, 0xe8, 0x2d, 0x0e, 0x1b, 0x04, 0xef, 0xfc, 0xdc,\n",
            "  0xbc, 0xe3, 0x18, 0x27, 0xcc, 0x0d, 0xef, 0xeb, 0x18, 0xe4, 0x15, 0x10,\n",
            "  0xe2, 0x3e, 0x18, 0x24, 0xc8, 0xf5, 0x11, 0x13, 0xf6, 0x0d, 0x0d, 0xdb,\n",
            "  0xcb, 0x47, 0x4b, 0x2b, 0x2d, 0xcd, 0x30, 0x33, 0xd4, 0xb0, 0xed, 0x0e,\n",
            "  0x12, 0xe1, 0x1f, 0xee, 0x16, 0x1e, 0xd6, 0x04, 0xee, 0xcb, 0x02, 0x29,\n",
            "  0xb3, 0xf3, 0x14, 0x10, 0x06, 0xde, 0xcc, 0x14, 0xf8, 0x09, 0x2c, 0x21,\n",
            "  0x0e, 0xe5, 0x19, 0xff, 0xa7, 0xcd, 0xf9, 0x1a, 0x23, 0x26, 0xd5, 0xe0,\n",
            "  0x10, 0x0b, 0x0f, 0x08, 0x13, 0x06, 0x26, 0x16, 0xa7, 0x0c, 0x2d, 0x29,\n",
            "  0x0b, 0x4f, 0x03, 0x08, 0xbf, 0x34, 0xf8, 0xda, 0x39, 0xdc, 0x24, 0x45,\n",
            "  0xe0, 0xcd, 0x1d, 0x0b, 0xf4, 0x2b, 0xfc, 0x30, 0x02, 0x08, 0x3e, 0x1a,\n",
            "  0x0b, 0x30, 0xfc, 0x32, 0xde, 0x24, 0x27, 0xee, 0xf9, 0x0e, 0x0c, 0x70,\n",
            "  0x9c, 0x42, 0x14, 0x58, 0x32, 0xa9, 0x43, 0x17, 0xd8, 0xf0, 0x3c, 0xea,\n",
            "  0x42, 0xfb, 0x56, 0x38, 0xda, 0x03, 0x0a, 0xf3, 0xe9, 0x00, 0x3d, 0x33,\n",
            "  0xb3, 0x55, 0x1a, 0x0e, 0x04, 0xf1, 0x03, 0x36, 0xe5, 0xe2, 0x2e, 0xdf,\n",
            "  0x2d, 0xf0, 0x0f, 0x1f, 0xda, 0xd4, 0x05, 0x1c, 0x30, 0x0c, 0xfb, 0x09,\n",
            "  0x13, 0xcd, 0x06, 0x19, 0xa0, 0x10, 0x32, 0x11, 0xba, 0x0d, 0x48, 0x56,\n",
            "  0x2b, 0x47, 0xe0, 0xef, 0xb3, 0xbe, 0x66, 0x0c, 0x14, 0x81, 0xee, 0x45,\n",
            "  0xeb, 0x9d, 0x1b, 0x09, 0xdc, 0x49, 0xbf, 0x01, 0xaf, 0xd7, 0xf0, 0x20,\n",
            "  0xf6, 0x45, 0x1e, 0xe9, 0xaf, 0x14, 0x04, 0x67, 0xda, 0x2c, 0xd1, 0x07,\n",
            "  0x9d, 0xd2, 0x2e, 0x2e, 0x22, 0x91, 0x41, 0x40, 0xcb, 0xce, 0x25, 0x55,\n",
            "  0x33, 0xf1, 0xf8, 0x09, 0xf1, 0xda, 0xe9, 0x47, 0xd7, 0x02, 0x0b, 0x3d,\n",
            "  0x83, 0x0f, 0x24, 0x29, 0x15, 0x25, 0xac, 0x1d, 0xd5, 0xb3, 0x1a, 0x0c,\n",
            "  0xe2, 0x05, 0x00, 0x06, 0xa2, 0xf1, 0x0e, 0x20, 0x0d, 0x3f, 0xd2, 0x44,\n",
            "  0x05, 0x03, 0x67, 0x02, 0x08, 0xf8, 0xe5, 0x2a, 0x21, 0x31, 0xf6, 0xe4,\n",
            "  0x0d, 0xde, 0x3d, 0x29, 0x1e, 0xc4, 0xe3, 0x0f, 0x0e, 0x35, 0xe1, 0xf1,\n",
            "  0x1c, 0x08, 0x00, 0xeb, 0xe2, 0x2a, 0xe9, 0xf0, 0x64, 0xce, 0x51, 0xe6,\n",
            "  0xde, 0xbc, 0xef, 0x07, 0x2c, 0xe4, 0x0d, 0xd2, 0x3a, 0xf8, 0x5d, 0xe2,\n",
            "  0x10, 0xcb, 0xcb, 0xa9, 0x5c, 0x4d, 0xfa, 0xe6, 0xf2, 0x10, 0x35, 0xfb,\n",
            "  0xd6, 0x22, 0xf1, 0xe3, 0x28, 0xfa, 0x56, 0xf0, 0xe8, 0xd6, 0xf3, 0xef,\n",
            "  0x4c, 0x0f, 0x17, 0x0e, 0x09, 0xef, 0x4a, 0xf3, 0xf1, 0xe1, 0xf2, 0xd0,\n",
            "  0x61, 0x40, 0x1b, 0xc5, 0x43, 0x06, 0xee, 0xdc, 0x0f, 0x1b, 0xc7, 0xca,\n",
            "  0x0e, 0xe9, 0x0d, 0x36, 0x00, 0x19, 0xf7, 0xe2, 0xe5, 0x0f, 0xd1, 0xe2,\n",
            "  0xd9, 0xd5, 0x0a, 0xec, 0x36, 0xed, 0xea, 0xf6, 0x28, 0xf5, 0xda, 0xd3,\n",
            "  0xf5, 0x1d, 0x04, 0x12, 0x20, 0xeb, 0xe5, 0x11, 0xef, 0xc5, 0x51, 0x13,\n",
            "  0xe3, 0x05, 0xe0, 0x07, 0xf3, 0x11, 0x22, 0x03, 0x1a, 0x2d, 0x5c, 0x09,\n",
            "  0x7f, 0xc5, 0xee, 0x03, 0x38, 0x1a, 0xf3, 0x15, 0x40, 0x44, 0x35, 0xf6,\n",
            "  0x0c, 0x21, 0xb0, 0xfe, 0x0f, 0xce, 0xfd, 0xfa, 0xf5, 0xd1, 0xf6, 0x00,\n",
            "  0x1a, 0x03, 0xf5, 0xd9, 0xfa, 0x0b, 0x14, 0xf4, 0xeb, 0xfa, 0xe8, 0xf4,\n",
            "  0x16, 0x08, 0xd3, 0xe5, 0x38, 0x54, 0xd6, 0xef, 0xe6, 0xfd, 0x0b, 0xd0,\n",
            "  0x04, 0xf7, 0xf3, 0xea, 0xbd, 0xd1, 0xb0, 0xc9, 0x2b, 0xb2, 0xcf, 0xe8,\n",
            "  0xc4, 0xe7, 0x8b, 0xce, 0x37, 0x01, 0xe2, 0xb2, 0x05, 0x25, 0xc8, 0xd4,\n",
            "  0x2b, 0x3c, 0xe2, 0xcf, 0x0e, 0x05, 0xff, 0xd4, 0x23, 0xe3, 0xc6, 0xed,\n",
            "  0x9d, 0xe1, 0x0c, 0xf9, 0x25, 0x00, 0x0b, 0x14, 0xe0, 0xe7, 0xfe, 0xbb,\n",
            "  0xda, 0xcf, 0x21, 0x10, 0x32, 0x22, 0xf6, 0xfb, 0x26, 0x4c, 0x18, 0xc7,\n",
            "  0x22, 0x05, 0xd1, 0x31, 0xd6, 0xe3, 0x48, 0xe4, 0xd0, 0xe2, 0xd7, 0x02,\n",
            "  0x4b, 0x0e, 0x16, 0xdc, 0x11, 0xcd, 0x13, 0xe2, 0x13, 0xf9, 0xc3, 0xd6,\n",
            "  0x27, 0xf7, 0xf7, 0xb4, 0x08, 0x00, 0x08, 0xe7, 0xe2, 0x14, 0xd5, 0xde,\n",
            "  0xfe, 0x15, 0xd5, 0x0c, 0x06, 0x2a, 0xe7, 0x0a, 0xf2, 0x1d, 0x09, 0xf9,\n",
            "  0x11, 0x0c, 0xd1, 0x0f, 0xe8, 0xfa, 0x13, 0x1c, 0x04, 0xfb, 0xf9, 0x20,\n",
            "  0xd2, 0xf0, 0x13, 0x1d, 0x00, 0x11, 0x0b, 0xf5, 0xf8, 0xdd, 0xe6, 0x28,\n",
            "  0x1e, 0x32, 0x23, 0x04, 0xcf, 0xef, 0x03, 0x40, 0xfd, 0x11, 0xf3, 0xf9,\n",
            "  0xde, 0x3b, 0x36, 0x1b, 0xf5, 0xd0, 0x21, 0x04, 0xd2, 0xae, 0xfe, 0xe9,\n",
            "  0x28, 0xea, 0x1d, 0x20, 0x24, 0x0d, 0x02, 0x28, 0xf8, 0x21, 0xeb, 0xe3,\n",
            "  0xea, 0x19, 0x01, 0x1d, 0x21, 0x04, 0xeb, 0x11, 0xff, 0xee, 0x22, 0x0d,\n",
            "  0x07, 0x09, 0x1f, 0x1a, 0xdb, 0xf1, 0x0b, 0x18, 0x08, 0x14, 0xe6, 0xdf,\n",
            "  0x01, 0x35, 0xe6, 0x17, 0xfe, 0x43, 0x24, 0xfd, 0xb8, 0x19, 0x26, 0x12,\n",
            "  0x29, 0x28, 0xda, 0x01, 0xbe, 0xf4, 0x22, 0xfb, 0x24, 0xce, 0x24, 0x38,\n",
            "  0xce, 0xce, 0xfb, 0xf9, 0x03, 0xff, 0xf6, 0x19, 0xfe, 0x17, 0x13, 0x08,\n",
            "  0x1c, 0x1a, 0x16, 0xed, 0xb1, 0x30, 0x4c, 0x2a, 0xfb, 0x1f, 0xcc, 0x48,\n",
            "  0xd5, 0x5f, 0x7f, 0x33, 0x2a, 0xdc, 0x33, 0x50, 0xe1, 0xc8, 0x13, 0x20,\n",
            "  0x0d, 0xfb, 0x45, 0x09, 0xf8, 0x2c, 0xf2, 0x23, 0xdd, 0x0a, 0x24, 0xf7,\n",
            "  0xde, 0x27, 0x0f, 0x09, 0x27, 0x2b, 0x09, 0x10, 0xd6, 0xf3, 0x17, 0x07,\n",
            "  0x08, 0xe7, 0x1d, 0x19, 0xcc, 0xe5, 0x04, 0xfa, 0x0f, 0xde, 0x2b, 0x13,\n",
            "  0xdd, 0xea, 0x03, 0x1c, 0xf5, 0xec, 0xe4, 0x1c, 0xec, 0x2b, 0xed, 0x05,\n",
            "  0xfc, 0x2d, 0xe7, 0x2f, 0xb0, 0xd0, 0xf7, 0x14, 0x08, 0xb4, 0x0f, 0x2a,\n",
            "  0xed, 0xd4, 0xf3, 0x0d, 0xfe, 0xfd, 0xe6, 0x11, 0xb9, 0xea, 0x01, 0x0e,\n",
            "  0xf8, 0x26, 0x17, 0xfe, 0xb9, 0x16, 0x00, 0x24, 0xee, 0x22, 0xcc, 0x1d,\n",
            "  0xae, 0xf9, 0x45, 0x2b, 0xcf, 0xa6, 0x2d, 0x3e, 0xe5, 0xbf, 0x0c, 0x3c,\n",
            "  0x33, 0xfe, 0xf7, 0x11, 0xfa, 0xf0, 0xfa, 0x24, 0xb3, 0x0d, 0x15, 0x1a,\n",
            "  0xc3, 0x07, 0x15, 0xf4, 0x00, 0x1d, 0xfe, 0x2c, 0xd8, 0xac, 0x2e, 0x0d,\n",
            "  0x15, 0x0e, 0x22, 0x13, 0xef, 0xdd, 0x04, 0xf5, 0xf9, 0x13, 0xc4, 0xf5,\n",
            "  0x2c, 0xff, 0x22, 0x33, 0xf6, 0xb6, 0xe3, 0x39, 0xd9, 0x39, 0x2c, 0xf2,\n",
            "  0x34, 0xe0, 0x26, 0x7d, 0x3c, 0x0f, 0xf4, 0x2a, 0xfd, 0xe9, 0xef, 0xeb,\n",
            "  0x2c, 0xe1, 0x01, 0x17, 0xf4, 0xeb, 0xe4, 0xdf, 0x1c, 0xf2, 0xde, 0x44,\n",
            "  0xef, 0xdf, 0xed, 0xed, 0x05, 0x3b, 0xf6, 0xc8, 0x26, 0x30, 0x1f, 0xd2,\n",
            "  0x15, 0xd5, 0xde, 0x06, 0x1e, 0x16, 0xe2, 0xff, 0xbb, 0xf4, 0x48, 0x03,\n",
            "  0xf1, 0x1e, 0xed, 0xfe, 0x4a, 0xd7, 0x55, 0x36, 0xf6, 0xe6, 0xc4, 0xf6,\n",
            "  0xf0, 0x51, 0x47, 0xa9, 0x07, 0x0d, 0x46, 0x35, 0xfe, 0xbc, 0xff, 0xb7,\n",
            "  0x2c, 0x4b, 0xef, 0xdc, 0x0b, 0xf3, 0x23, 0x1a, 0xfa, 0x1a, 0xff, 0xc7,\n",
            "  0x12, 0xe4, 0xff, 0x0e, 0x04, 0x12, 0xf4, 0xff, 0xc8, 0x45, 0xbc, 0xa7,\n",
            "  0xb4, 0xee, 0xfa, 0x12, 0x21, 0xf0, 0x0f, 0xd5, 0xdd, 0x37, 0xd4, 0x15,\n",
            "  0x57, 0x4d, 0xf0, 0xd5, 0xe0, 0xda, 0xf2, 0xe2, 0xe1, 0x08, 0x16, 0xd0,\n",
            "  0xe4, 0xb8, 0xce, 0x39, 0x10, 0x33, 0xf7, 0xd5, 0x13, 0x2c, 0x3a, 0x2d,\n",
            "  0xd5, 0xef, 0xd8, 0xc8, 0x1f, 0xee, 0xe9, 0xf9, 0x7f, 0x26, 0x5c, 0x05,\n",
            "  0x0e, 0x1f, 0xdf, 0xf4, 0x26, 0xde, 0xcf, 0x06, 0xee, 0xf5, 0xd9, 0x01,\n",
            "  0xbe, 0x30, 0xde, 0xb9, 0x08, 0xec, 0xed, 0xff, 0x18, 0xf8, 0xf6, 0xfa,\n",
            "  0x0f, 0x5a, 0xc5, 0xce, 0x01, 0x01, 0x39, 0x1c, 0x12, 0x05, 0xc8, 0xff,\n",
            "  0x41, 0xe9, 0x0f, 0x18, 0xfb, 0xf5, 0xd4, 0x35, 0xcf, 0x15, 0x0f, 0x16,\n",
            "  0x27, 0xca, 0x41, 0x53, 0x27, 0xab, 0x13, 0x2b, 0x58, 0x4e, 0x10, 0xbc,\n",
            "  0x2e, 0x1b, 0x14, 0xf1, 0x13, 0xeb, 0xc4, 0xd7, 0x51, 0xf2, 0x1c, 0x3d,\n",
            "  0xc9, 0xe4, 0x22, 0xf1, 0x29, 0x3e, 0x02, 0xf1, 0x27, 0x28, 0x66, 0xb0,\n",
            "  0x00, 0xc4, 0xd6, 0xd1, 0x56, 0x3c, 0xe4, 0xdb, 0x2b, 0x26, 0x68, 0xe5,\n",
            "  0x09, 0x1f, 0xc5, 0xe7, 0xdd, 0xa6, 0x33, 0xec, 0x8d, 0xcf, 0xbb, 0xe7,\n",
            "  0xe9, 0x17, 0x46, 0xad, 0x12, 0x00, 0x72, 0x2a, 0x12, 0xd0, 0xdb, 0xc7,\n",
            "  0xed, 0xec, 0xc0, 0xc1, 0x20, 0xdb, 0x16, 0xde, 0xf6, 0x06, 0xaa, 0xe5,\n",
            "  0xf2, 0xd3, 0xe0, 0xe8, 0x3b, 0xe4, 0x26, 0x03, 0xdd, 0xdf, 0xce, 0xe4,\n",
            "  0xc6, 0xe8, 0xb4, 0xd2, 0x11, 0xfa, 0xd6, 0xd7, 0xbf, 0xe8, 0xeb, 0x38,\n",
            "  0xcc, 0x1a, 0xc3, 0x41, 0xd5, 0xb9, 0x16, 0x05, 0xe9, 0x09, 0xe0, 0xec,\n",
            "  0x1f, 0xfc, 0xfc, 0xea, 0xcb, 0x0e, 0xfb, 0x02, 0xf5, 0xe7, 0x00, 0x3c,\n",
            "  0x3a, 0x09, 0xad, 0xd5, 0xed, 0xf2, 0x02, 0x16, 0x0b, 0x2b, 0xf0, 0xf1,\n",
            "  0x25, 0xde, 0x03, 0xdc, 0xb4, 0x27, 0xf8, 0x0c, 0x2e, 0x2b, 0x45, 0x27,\n",
            "  0x10, 0xe9, 0x02, 0x05, 0x0b, 0x09, 0xef, 0xd6, 0xd6, 0x56, 0xd5, 0xea,\n",
            "  0xfb, 0x13, 0xfd, 0x16, 0xfc, 0xd4, 0x12, 0xfe, 0x10, 0xf7, 0x1f, 0x0d,\n",
            "  0xf4, 0x12, 0x14, 0xbe, 0xd6, 0xde, 0xe4, 0xa3, 0xed, 0xde, 0x07, 0xed,\n",
            "  0xfc, 0x11, 0xf5, 0xbe, 0x06, 0xe4, 0x08, 0xed, 0x0a, 0x03, 0xfe, 0x09,\n",
            "  0xd3, 0xef, 0xe0, 0xd9, 0xc7, 0x0f, 0x02, 0x01, 0xd5, 0xf9, 0x04, 0xf6,\n",
            "  0x3d, 0x1b, 0x33, 0xe3, 0xea, 0xe8, 0xe0, 0xee, 0xf6, 0x01, 0xf5, 0xcc,\n",
            "  0x02, 0xf9, 0x00, 0x08, 0xe8, 0x43, 0xea, 0xdd, 0xec, 0xfb, 0x00, 0xfe,\n",
            "  0xd1, 0x3b, 0xfd, 0x2c, 0x2f, 0x56, 0x50, 0xcb, 0x3d, 0xf1, 0x04, 0x08,\n",
            "  0x2a, 0x05, 0xf3, 0x2f, 0x25, 0x02, 0xf2, 0xfc, 0x97, 0x2c, 0x0f, 0xf3,\n",
            "  0xf2, 0x12, 0xf5, 0xcc, 0x1b, 0xd7, 0xdd, 0xe8, 0xd5, 0x34, 0x42, 0xea,\n",
            "  0xaa, 0xf5, 0xbc, 0xcf, 0x13, 0xe5, 0xe1, 0xdb, 0xcc, 0xd7, 0xac, 0x12,\n",
            "  0xc5, 0xf3, 0xcc, 0xca, 0xd2, 0x3c, 0x13, 0x02, 0xbd, 0xf6, 0xea, 0xec,\n",
            "  0xc9, 0x0e, 0xbe, 0xf1, 0xdb, 0xb6, 0xdd, 0xe6, 0xac, 0x53, 0x13, 0xe8,\n",
            "  0x2b, 0x19, 0xfc, 0xc8, 0x10, 0xf5, 0xff, 0xf7, 0xbb, 0xf8, 0x14, 0x30,\n",
            "  0xe8, 0x44, 0xdf, 0xf5, 0xd8, 0xb3, 0xf0, 0xfe, 0xff, 0xcd, 0xc2, 0xcb,\n",
            "  0xef, 0x2b, 0x0a, 0x2b, 0x9a, 0x3d, 0xd1, 0xb0, 0x4d, 0x01, 0xba, 0xd9,\n",
            "  0xe3, 0xf5, 0xfe, 0x1b, 0xc8, 0x01, 0xb0, 0xf4, 0x81, 0x4e, 0x15, 0x07,\n",
            "  0xba, 0xcf, 0x02, 0x35, 0xd1, 0xad, 0xde, 0x10, 0xef, 0xf8, 0x41, 0x1b,\n",
            "  0xfd, 0xf0, 0x12, 0xed, 0x1c, 0x05, 0x09, 0x16, 0xe2, 0xd9, 0x1a, 0x0f,\n",
            "  0xc9, 0xf4, 0x2e, 0x13, 0xd9, 0x0e, 0xd5, 0xd2, 0xe7, 0xe4, 0xef, 0xc2,\n",
            "  0xd0, 0xcb, 0x23, 0xda, 0xc1, 0x44, 0xf6, 0xdf, 0x04, 0xf8, 0x0c, 0xd1,\n",
            "  0x0c, 0xba, 0xd2, 0x11, 0xdf, 0x1d, 0xe8, 0xef, 0x1f, 0xfd, 0xda, 0xca,\n",
            "  0x15, 0xfa, 0xd0, 0x04, 0x05, 0x1d, 0xde, 0xd3, 0xd0, 0xc3, 0x53, 0xe3,\n",
            "  0xe9, 0x03, 0xf1, 0xcd, 0x42, 0x1f, 0xd4, 0x41, 0x15, 0xf4, 0xe3, 0xbc,\n",
            "  0x18, 0xd2, 0xe3, 0x05, 0x10, 0x0d, 0x81, 0xe0, 0x14, 0x0b, 0xe4, 0x04,\n",
            "  0xee, 0x35, 0x0b, 0xdc, 0xeb, 0x08, 0x38, 0xd2, 0x31, 0x1d, 0xf2, 0xf7,\n",
            "  0xf6, 0xf5, 0xf7, 0x04, 0xf1, 0x17, 0x2f, 0x18, 0x02, 0x34, 0xd1, 0xd5,\n",
            "  0x30, 0x03, 0xf8, 0x22, 0x12, 0xfd, 0x06, 0x08, 0x21, 0x0c, 0xd3, 0x2a,\n",
            "  0x2c, 0x0a, 0x1b, 0xf4, 0x13, 0xf9, 0xea, 0x06, 0x19, 0xef, 0x4a, 0xc5,\n",
            "  0xf3, 0xe3, 0xf4, 0x3f, 0xff, 0x2a, 0x22, 0xd5, 0xfe, 0x47, 0x1b, 0x28,\n",
            "  0xdf, 0xf5, 0x0e, 0xdd, 0x17, 0xbe, 0x17, 0x25, 0x44, 0xc6, 0x23, 0xef,\n",
            "  0x2c, 0x27, 0xf5, 0xf1, 0xe8, 0xe6, 0xff, 0x2a, 0xec, 0xf2, 0xee, 0xf3,\n",
            "  0xeb, 0x2f, 0x00, 0xf5, 0xff, 0xff, 0xb2, 0xcd, 0xf3, 0xdc, 0x2f, 0xfc,\n",
            "  0x1b, 0x06, 0x10, 0xde, 0x35, 0xef, 0xdf, 0xf0, 0xd9, 0xda, 0xfd, 0x03,\n",
            "  0x34, 0xe0, 0x41, 0x33, 0xc0, 0x00, 0xeb, 0xff, 0xf0, 0xe8, 0x30, 0x24,\n",
            "  0x4b, 0x1e, 0x06, 0x27, 0x05, 0xdb, 0x1e, 0x1c, 0x4e, 0x1f, 0x3c, 0x14,\n",
            "  0xda, 0x05, 0x0b, 0x22, 0x3b, 0x35, 0xd3, 0x04, 0x3b, 0xde, 0x00, 0x35,\n",
            "  0xd2, 0x22, 0x15, 0x26, 0xbf, 0x3e, 0x23, 0x4c, 0x05, 0x45, 0x2a, 0xf4,\n",
            "  0xcc, 0xf6, 0x23, 0x29, 0x24, 0x25, 0x3a, 0x2e, 0xf2, 0xaa, 0x5a, 0x18,\n",
            "  0x38, 0x10, 0xd2, 0x02, 0x1d, 0xe5, 0x5a, 0x44, 0xa3, 0xf1, 0xe3, 0x24,\n",
            "  0xd4, 0xdf, 0x1a, 0x13, 0x1b, 0xd9, 0xec, 0x0e, 0xdd, 0xc8, 0x23, 0xe9,\n",
            "  0x1d, 0x0f, 0x27, 0x09, 0x02, 0xfc, 0x15, 0x20, 0x26, 0x4f, 0xc9, 0xef,\n",
            "  0x3b, 0xf6, 0x3c, 0x0a, 0x03, 0xe9, 0x12, 0x0b, 0xbf, 0xf9, 0x20, 0xda,\n",
            "  0x1b, 0x00, 0x2e, 0x35, 0x18, 0x0b, 0x0a, 0x14, 0x21, 0xd6, 0xc1, 0xc3,\n",
            "  0x37, 0xe0, 0x05, 0xe9, 0x17, 0x00, 0x09, 0xf1, 0x1e, 0x05, 0x07, 0x1f,\n",
            "  0x00, 0xda, 0xd3, 0xf2, 0x68, 0xed, 0x2a, 0xd7, 0x27, 0x20, 0x06, 0xc9,\n",
            "  0x10, 0xfe, 0x03, 0xce, 0x0b, 0x2b, 0xfe, 0x00, 0x13, 0xe5, 0x6a, 0x16,\n",
            "  0xfb, 0x10, 0xdf, 0xed, 0x13, 0xcb, 0x73, 0x39, 0xfd, 0xbc, 0xc0, 0xff,\n",
            "  0x1d, 0x0a, 0x0c, 0xea, 0xe4, 0x02, 0x3a, 0x38, 0xf2, 0xb8, 0x0c, 0x0c,\n",
            "  0x33, 0xff, 0xfa, 0xc1, 0x36, 0x11, 0xfe, 0x10, 0x39, 0x21, 0xac, 0xe7,\n",
            "  0x1f, 0xca, 0xea, 0x19, 0xd6, 0xe3, 0xe4, 0x0b, 0xcc, 0x3d, 0x14, 0xbd,\n",
            "  0xea, 0xf2, 0x07, 0xf2, 0x16, 0x10, 0xe6, 0x16, 0xc1, 0x48, 0x18, 0xf9,\n",
            "  0x3a, 0x35, 0x03, 0x10, 0x14, 0xf4, 0xe2, 0x0c, 0x31, 0xf1, 0x34, 0xee,\n",
            "  0x35, 0xc1, 0xeb, 0xc5, 0x54, 0xcf, 0xcf, 0xa0, 0x2b, 0x3d, 0x16, 0xf6,\n",
            "  0xf1, 0x16, 0xbf, 0xcb, 0x1e, 0x15, 0x00, 0x08, 0x3e, 0x2a, 0x40, 0xde,\n",
            "  0xf5, 0x07, 0xec, 0xfb, 0xf0, 0x01, 0x04, 0x1c, 0xf9, 0x0c, 0xda, 0xec,\n",
            "  0x9f, 0xcd, 0xb2, 0xaa, 0xee, 0x03, 0xff, 0x19, 0x2d, 0xff, 0xe7, 0xe3,\n",
            "  0xc2, 0xfa, 0xc8, 0x0a, 0xc9, 0x46, 0xe1, 0xda, 0xc5, 0xf9, 0xcb, 0xd1,\n",
            "  0x73, 0xab, 0x70, 0x35, 0x90, 0x18, 0xe0, 0x10, 0xea, 0xf4, 0xee, 0xd4,\n",
            "  0x01, 0xad, 0x36, 0x49, 0x46, 0xa5, 0xf5, 0x0c, 0x09, 0x3e, 0x0c, 0xfd,\n",
            "  0x37, 0x24, 0x0e, 0xe9, 0x0a, 0x0b, 0xd1, 0xd1, 0x6e, 0xd2, 0xfa, 0x44,\n",
            "  0xdd, 0x8f, 0xef, 0x34, 0xde, 0x55, 0x05, 0xf1, 0x0e, 0x01, 0x62, 0x0a,\n",
            "  0x04, 0xb6, 0x1f, 0xf2, 0x67, 0x5f, 0xb7, 0xb6, 0x28, 0xf9, 0x79, 0xf1,\n",
            "  0x0e, 0x30, 0xd1, 0xce, 0x23, 0x98, 0x18, 0xd3, 0x81, 0xc3, 0x98, 0xd9,\n",
            "  0xe1, 0x23, 0xfa, 0xe7, 0x23, 0xd5, 0x46, 0xee, 0xe0, 0xd4, 0x05, 0xa2,\n",
            "  0xcc, 0xff, 0xdc, 0xd8, 0x3f, 0x0b, 0x29, 0xf4, 0x0c, 0x21, 0xcb, 0xdd,\n",
            "  0x13, 0x0f, 0xd6, 0x04, 0x07, 0x26, 0xfd, 0xec, 0xdf, 0xf3, 0xe9, 0x2b,\n",
            "  0x10, 0x33, 0xb8, 0x58, 0xf9, 0xfd, 0x39, 0x3f, 0xf6, 0xe4, 0x17, 0x5f,\n",
            "  0xb6, 0xc2, 0x19, 0x0a, 0x5e, 0xe7, 0xca, 0x44, 0x00, 0x3e, 0x23, 0x21,\n",
            "  0x20, 0xf7, 0x5d, 0x37, 0xbd, 0xde, 0x16, 0x4f, 0x08, 0x2e, 0xe6, 0x2d,\n",
            "  0xb8, 0x3b, 0x4d, 0x44, 0x0d, 0xa9, 0x2a, 0x26, 0xb8, 0xb1, 0x23, 0x1e,\n",
            "  0x4c, 0xf0, 0x07, 0x0c, 0x14, 0x1e, 0xe9, 0x11, 0x12, 0x21, 0x45, 0xeb,\n",
            "  0xf2, 0xee, 0xf6, 0x18, 0x2c, 0xd4, 0xfa, 0x47, 0xf0, 0xdb, 0x30, 0x0c,\n",
            "  0x29, 0x3b, 0xfd, 0xd7, 0xec, 0xd5, 0x2b, 0x09, 0x2e, 0xee, 0xd7, 0x06,\n",
            "  0xc7, 0x29, 0x14, 0x06, 0x1c, 0xea, 0x16, 0x1a, 0xd9, 0x1b, 0x11, 0xf6,\n",
            "  0x48, 0x2d, 0xfc, 0xfa, 0x8f, 0x23, 0x1f, 0x31, 0x15, 0xb3, 0x21, 0x20,\n",
            "  0x02, 0xb2, 0x42, 0x38, 0xfb, 0xf2, 0x34, 0x16, 0xfb, 0x1f, 0x19, 0x04,\n",
            "  0x0c, 0x06, 0x03, 0xf4, 0xbd, 0x22, 0x34, 0x13, 0x08, 0x1d, 0xac, 0x57,\n",
            "  0xb5, 0x29, 0x58, 0x55, 0x0f, 0xd6, 0x36, 0x21, 0xc3, 0xc5, 0x2c, 0x15,\n",
            "  0x51, 0x19, 0x18, 0x34, 0xbf, 0x26, 0xd7, 0xfa, 0xd5, 0xd4, 0x39, 0x11,\n",
            "  0xb1, 0x27, 0x2e, 0xf7, 0x0b, 0xf7, 0xee, 0x27, 0x88, 0xfb, 0x0e, 0xee,\n",
            "  0x0b, 0x08, 0x29, 0x33, 0xb0, 0xa1, 0xf9, 0xfc, 0x16, 0x13, 0x2d, 0xf2,\n",
            "  0xfc, 0xd6, 0xe3, 0x39, 0xf8, 0x68, 0xde, 0x00, 0xb0, 0x21, 0x1b, 0x08,\n",
            "  0xfc, 0x0c, 0xf6, 0x0d, 0xd6, 0xce, 0x16, 0x0d, 0xfb, 0xb6, 0xf7, 0x79,\n",
            "  0x0c, 0xe4, 0x18, 0x2d, 0x1f, 0x25, 0xaa, 0x06, 0xbb, 0x08, 0xf5, 0x26,\n",
            "  0xf5, 0x22, 0x5e, 0x3a, 0x9b, 0x0e, 0x03, 0x36, 0x04, 0x7f, 0xe7, 0x3c,\n",
            "  0xb4, 0x11, 0x4c, 0x29, 0xd0, 0xa3, 0x41, 0x1c, 0xae, 0xcc, 0xff, 0x51,\n",
            "  0x66, 0xe8, 0x37, 0x1b, 0xd5, 0xeb, 0x0c, 0x01, 0x94, 0x43, 0x18, 0x3c,\n",
            "  0xb3, 0xf8, 0x20, 0xf3, 0x0e, 0x31, 0xd8, 0x7d, 0xfc, 0xbf, 0x3c, 0x55,\n",
            "  0xee, 0xe9, 0x12, 0x2b, 0xc8, 0xc1, 0xda, 0x35, 0x34, 0x11, 0xd4, 0x1c,\n",
            "  0x15, 0xfe, 0xc1, 0xf5, 0xe2, 0x2f, 0x12, 0x08, 0xe0, 0x00, 0x1c, 0x13,\n",
            "  0x31, 0x3a, 0xb8, 0x17, 0xe1, 0x28, 0x49, 0x3d, 0xfe, 0x35, 0xf6, 0x14,\n",
            "  0xb3, 0xc9, 0x14, 0x55, 0x0f, 0x22, 0x03, 0x12, 0xf1, 0x20, 0x03, 0x10,\n",
            "  0x0c, 0x24, 0x15, 0x14, 0xe3, 0xdc, 0x11, 0x48, 0x0b, 0xf4, 0xe5, 0x18,\n",
            "  0xbe, 0x41, 0x38, 0x32, 0xec, 0xc7, 0x31, 0x1d, 0xf8, 0xaf, 0x04, 0x30,\n",
            "  0x44, 0xe6, 0x19, 0x35, 0x0e, 0xe7, 0xf1, 0x2b, 0xe5, 0x34, 0x2c, 0xed,\n",
            "  0xa9, 0xef, 0x20, 0x0e, 0x21, 0x3b, 0xcf, 0x40, 0x09, 0x0e, 0x0b, 0x05,\n",
            "  0x1c, 0x03, 0x28, 0x27, 0xbf, 0xa6, 0x1b, 0x54, 0x03, 0x08, 0xc5, 0x38,\n",
            "  0xec, 0x3a, 0x0f, 0xee, 0x12, 0x1c, 0x27, 0x0e, 0xaf, 0xfe, 0x3d, 0x19,\n",
            "  0x35, 0x5a, 0xd4, 0xf9, 0xdf, 0x12, 0x0e, 0x00, 0x28, 0xfa, 0x1a, 0x42,\n",
            "  0xe7, 0xcb, 0x0d, 0x37, 0x01, 0xfa, 0x17, 0x2d, 0xff, 0x20, 0x0d, 0x45,\n",
            "  0x18, 0x33, 0x3d, 0xf9, 0xb6, 0x34, 0x42, 0x56, 0x2c, 0x3d, 0xec, 0x33,\n",
            "  0x8e, 0x0a, 0x2f, 0x0a, 0x14, 0xe1, 0x31, 0x2c, 0xe2, 0xdc, 0x23, 0x2d,\n",
            "  0x1b, 0x17, 0x1f, 0x4c, 0xe3, 0x1e, 0x0d, 0x08, 0x0b, 0x1c, 0x35, 0x15,\n",
            "  0xa9, 0x23, 0x14, 0x0d, 0x10, 0x17, 0x07, 0x19, 0xda, 0x23, 0x29, 0x17,\n",
            "  0x07, 0xeb, 0x1c, 0x23, 0xc3, 0xb1, 0xf1, 0x0c, 0x06, 0xf1, 0x06, 0xec,\n",
            "  0xbd, 0xb5, 0xfa, 0x0d, 0xbb, 0x6a, 0x28, 0x08, 0xa9, 0x0b, 0x19, 0x28,\n",
            "  0x1f, 0x4d, 0xe7, 0x11, 0xd2, 0xb4, 0xf7, 0x0d, 0x00, 0xb0, 0x38, 0x1b,\n",
            "  0xf5, 0xb0, 0x15, 0x0d, 0x19, 0x1f, 0xe1, 0x1a, 0xb4, 0xf1, 0xc8, 0xfb,\n",
            "  0xf2, 0x2a, 0x5c, 0x35, 0xb0, 0x1c, 0x25, 0x55, 0x10, 0x15, 0xc7, 0x51,\n",
            "  0xb0, 0xc4, 0x2a, 0x5c, 0xee, 0xb7, 0x2f, 0x2a, 0xd2, 0x81, 0x2d, 0x26,\n",
            "  0x1a, 0xd1, 0x0b, 0x1e, 0xda, 0xcb, 0xf3, 0x01, 0xc4, 0x50, 0x1a, 0x2d,\n",
            "  0xb1, 0x2b, 0xfb, 0x1b, 0x1c, 0x51, 0xcc, 0x10, 0xf9, 0xb7, 0x1e, 0x31,\n",
            "  0xf9, 0xcd, 0x20, 0x22, 0xec, 0xc7, 0x08, 0x24, 0xf8, 0xfe, 0x9a, 0xfa,\n",
            "  0xeb, 0xfb, 0xd8, 0xdc, 0xf2, 0xe7, 0xee, 0xe9, 0xc8, 0xc0, 0xdd, 0x05,\n",
            "  0xf7, 0xf6, 0xe4, 0x00, 0xef, 0x06, 0xce, 0x00, 0xea, 0xfa, 0x0a, 0xf8,\n",
            "  0xd1, 0x2b, 0xe9, 0xfc, 0xfd, 0xe0, 0xda, 0xf6, 0xee, 0x16, 0x14, 0xef,\n",
            "  0xf2, 0xe9, 0xf6, 0xfd, 0x0f, 0xfb, 0x0d, 0x13, 0xfe, 0x14, 0xf8, 0x2d,\n",
            "  0x2c, 0xf3, 0xed, 0x0d, 0x05, 0xff, 0x23, 0xf3, 0xdb, 0x56, 0xcc, 0xfa,\n",
            "  0xf1, 0x00, 0xf5, 0x02, 0xff, 0x33, 0xd8, 0xde, 0x25, 0x25, 0x02, 0xf8,\n",
            "  0x20, 0xea, 0xcf, 0xf5, 0xf5, 0xff, 0xff, 0xe7, 0xcc, 0x15, 0xfb, 0xfe,\n",
            "  0xec, 0xed, 0x0d, 0x2d, 0xf5, 0x00, 0xee, 0x07, 0xd6, 0xfd, 0x27, 0xe8,\n",
            "  0x07, 0x06, 0xe7, 0xd8, 0xdf, 0xf2, 0xf6, 0xc6, 0xf5, 0xe8, 0x08, 0x09,\n",
            "  0xe3, 0x17, 0x07, 0xd7, 0xec, 0xf6, 0xed, 0xf7, 0xfb, 0x30, 0xe8, 0xe3,\n",
            "  0xf7, 0x22, 0xef, 0xf2, 0xc6, 0xff, 0xfa, 0xd6, 0xf0, 0x14, 0x1f, 0xf6,\n",
            "  0x1f, 0x09, 0x15, 0xed, 0x2c, 0xda, 0x1d, 0xf9, 0xee, 0xed, 0x12, 0xf9,\n",
            "  0x40, 0x0e, 0xf9, 0x07, 0x10, 0x19, 0xf3, 0x14, 0xf8, 0x1e, 0xe5, 0x09,\n",
            "  0x13, 0x49, 0xec, 0x15, 0xe3, 0x39, 0x20, 0xf1, 0x3e, 0xe6, 0x19, 0xca,\n",
            "  0x3c, 0xdc, 0xef, 0xfd, 0x03, 0x00, 0x28, 0x01, 0x10, 0x32, 0xe8, 0x04,\n",
            "  0x09, 0xfa, 0x02, 0xfe, 0x06, 0x03, 0xf6, 0xeb, 0xd7, 0x0e, 0x2d, 0xd9,\n",
            "  0xdb, 0x1f, 0xf5, 0xe3, 0x38, 0x03, 0xea, 0xca, 0xee, 0xee, 0xd7, 0xf8,\n",
            "  0xcc, 0xec, 0xc4, 0xd3, 0xc2, 0x22, 0xea, 0x02, 0xec, 0xdf, 0x13, 0xf0,\n",
            "  0xf9, 0x20, 0xea, 0xef, 0xeb, 0xc3, 0xcc, 0x25, 0xc8, 0x4c, 0x28, 0xd3,\n",
            "  0x17, 0xf8, 0x0d, 0x08, 0x04, 0xf4, 0x0a, 0x1c, 0x0b, 0x14, 0x00, 0x4c,\n",
            "  0xf5, 0x07, 0xf5, 0x1e, 0xd3, 0xc8, 0x1f, 0xfe, 0xee, 0xef, 0xd4, 0xfd,\n",
            "  0xfc, 0x0b, 0x0e, 0xff, 0xc6, 0x3e, 0xdf, 0xdc, 0x7f, 0xf0, 0x17, 0xcf,\n",
            "  0xe9, 0x18, 0xe6, 0xe1, 0xe2, 0x03, 0xea, 0xf3, 0xaf, 0x5a, 0xe5, 0x09,\n",
            "  0xd7, 0xe5, 0x03, 0x22, 0x0c, 0xf9, 0xef, 0xf8, 0xe8, 0xeb, 0x46, 0xf7,\n",
            "  0xd1, 0x00, 0xd7, 0xd2, 0xf2, 0xe3, 0xf4, 0xe3, 0x0b, 0xd5, 0xf2, 0xff,\n",
            "  0xf9, 0xef, 0xf1, 0xdf, 0x0f, 0x16, 0xd3, 0xf6, 0xf4, 0xf6, 0xec, 0x11,\n",
            "  0xda, 0xf9, 0xe2, 0xea, 0xc9, 0xe4, 0xf4, 0xe3, 0x06, 0x00, 0x0a, 0x00,\n",
            "  0xe4, 0xff, 0xf8, 0xf6, 0x17, 0xc7, 0x00, 0x1f, 0xf2, 0x06, 0xff, 0x0b,\n",
            "  0x30, 0xde, 0xe8, 0x11, 0x0a, 0xff, 0xf0, 0x0f, 0x0e, 0x37, 0xf6, 0x07,\n",
            "  0x10, 0xdc, 0xe0, 0xf2, 0xea, 0x31, 0xd7, 0xe5, 0x3f, 0x0f, 0xfb, 0xd4,\n",
            "  0x64, 0x03, 0x0b, 0xf1, 0x0f, 0x16, 0xe6, 0xdf, 0x0d, 0x39, 0xef, 0xfb,\n",
            "  0x23, 0xdd, 0xf8, 0x0e, 0xf8, 0x06, 0x25, 0x16, 0xe9, 0x02, 0x34, 0xec,\n",
            "  0xe2, 0x21, 0xf5, 0xec, 0x1a, 0xcf, 0x08, 0xd1, 0xf7, 0xe0, 0xd6, 0x22,\n",
            "  0xf3, 0x08, 0xce, 0xe9, 0xde, 0xf7, 0x0b, 0xf9, 0x11, 0x36, 0xed, 0xd5,\n",
            "  0xe5, 0xfd, 0xcf, 0x00, 0xdb, 0xf3, 0xc7, 0xcf, 0x08, 0x03, 0x0c, 0x1a,\n",
            "  0x15, 0x16, 0xec, 0x00, 0x13, 0x08, 0x09, 0xfe, 0x04, 0xfe, 0xf5, 0xf9,\n",
            "  0x3d, 0x0e, 0xdf, 0xcb, 0xcd, 0x20, 0x06, 0xea, 0xdc, 0x4d, 0xfb, 0xf1,\n",
            "  0xe9, 0x04, 0xda, 0x09, 0x01, 0x20, 0x23, 0xe1, 0x39, 0xde, 0xef, 0xe3,\n",
            "  0x41, 0xdd, 0xe8, 0x03, 0xed, 0xf2, 0x1f, 0xeb, 0xde, 0x37, 0xf1, 0xd3,\n",
            "  0x2f, 0xdd, 0xeb, 0x0d, 0x2d, 0x05, 0x06, 0x0e, 0xfe, 0xe5, 0xec, 0xea,\n",
            "  0xc6, 0x0b, 0xc6, 0xc9, 0x2e, 0x03, 0xeb, 0xe2, 0x05, 0xe9, 0xdf, 0xf1,\n",
            "  0xa6, 0xde, 0xc9, 0xdb, 0xe2, 0x4d, 0xdd, 0xe5, 0xde, 0xbd, 0x0f, 0x04,\n",
            "  0xd6, 0x10, 0xcf, 0xf0, 0xc0, 0xa5, 0x0f, 0x16, 0xc9, 0x51, 0xf9, 0xef,\n",
            "  0x44, 0x3a, 0xe0, 0xfb, 0x14, 0x1a, 0xee, 0x15, 0xf5, 0x0d, 0x08, 0x2c,\n",
            "  0xdd, 0x23, 0xf3, 0x09, 0xfa, 0xf3, 0x09, 0x15, 0x18, 0xde, 0xd7, 0x04,\n",
            "  0xf8, 0x04, 0x2f, 0x14, 0x9d, 0x43, 0xcb, 0xee, 0x7f, 0xd1, 0xec, 0xe2,\n",
            "  0xf8, 0xfa, 0xcf, 0xf6, 0xc4, 0x12, 0xd4, 0xcb, 0xa4, 0x42, 0xfb, 0xdf,\n",
            "  0xdd, 0xfe, 0xd8, 0x06, 0x29, 0xf2, 0xd2, 0x09, 0xdb, 0xd1, 0x7c, 0xe8,\n",
            "  0x00, 0xf9, 0x4d, 0x3e, 0xfa, 0xd0, 0xd4, 0x2b, 0xeb, 0x29, 0x19, 0xc4,\n",
            "  0xdf, 0xf1, 0x23, 0x13, 0x1f, 0xec, 0xf9, 0xcd, 0xf5, 0x2b, 0xfb, 0xd8,\n",
            "  0x11, 0x46, 0xf0, 0xcb, 0xed, 0x24, 0xca, 0xe8, 0x51, 0x99, 0x46, 0xf5,\n",
            "  0xb5, 0xad, 0xc0, 0xf2, 0x1e, 0x2b, 0xfd, 0xb9, 0x3b, 0x01, 0x18, 0xc6,\n",
            "  0x46, 0xa7, 0xdf, 0xac, 0x4c, 0x46, 0xd4, 0x05, 0x06, 0x17, 0x10, 0x04,\n",
            "  0x1d, 0x1a, 0xf3, 0xd9, 0x60, 0xc9, 0x71, 0xdc, 0x15, 0xce, 0xca, 0x3b,\n",
            "  0x11, 0x3f, 0xdc, 0xce, 0x1a, 0xf9, 0x5b, 0xec, 0xe7, 0xda, 0x09, 0xbc,\n",
            "  0x13, 0x26, 0xd4, 0x04, 0x40, 0x15, 0xf6, 0xd9, 0x00, 0x43, 0xe0, 0xde,\n",
            "  0x15, 0xd9, 0xfb, 0x48, 0xf2, 0xcf, 0xd2, 0xfb, 0x06, 0x06, 0xfa, 0xd1,\n",
            "  0x17, 0xec, 0x19, 0x29, 0x1d, 0xe5, 0xdc, 0x36, 0xf2, 0xdf, 0xec, 0x04,\n",
            "  0x6b, 0x5a, 0x18, 0xfe, 0xfb, 0x00, 0xae, 0x00, 0xcf, 0x9a, 0x0e, 0x1a,\n",
            "  0xd9, 0xfa, 0x21, 0x12, 0x1e, 0x43, 0xf6, 0xfd, 0xf1, 0x22, 0x61, 0x1c,\n",
            "  0x2b, 0xaa, 0xfd, 0xef, 0x1d, 0xe8, 0xcb, 0xed, 0x7f, 0x3d, 0x48, 0xcc,\n",
            "  0x37, 0xf6, 0x92, 0xf0, 0x47, 0x03, 0xd2, 0x22, 0xd9, 0xd6, 0x08, 0xee,\n",
            "  0xcf, 0xf2, 0xf5, 0xbc, 0x0c, 0xd5, 0x0d, 0xd7, 0x18, 0xee, 0xce, 0xcd,\n",
            "  0x13, 0xf4, 0xdf, 0xe9, 0x0d, 0x4e, 0x1d, 0x0e, 0x25, 0x26, 0xf0, 0x0e,\n",
            "  0xca, 0x0c, 0x3d, 0x1e, 0xe6, 0xa8, 0xef, 0xc1, 0x60, 0xea, 0xfe, 0xdd,\n",
            "  0xdc, 0xa7, 0xde, 0xc1, 0x2a, 0xd7, 0xc4, 0xdc, 0xc5, 0x2e, 0xc8, 0xd9,\n",
            "  0x0a, 0x12, 0xcf, 0xbb, 0x1d, 0xd9, 0xf2, 0xdb, 0x51, 0xcd, 0x0b, 0x9e,\n",
            "  0xa3, 0x16, 0xd7, 0x15, 0x2a, 0xc0, 0x1a, 0xe5, 0xe5, 0xfb, 0x1b, 0xe1,\n",
            "  0x0c, 0xc6, 0xff, 0xcb, 0x59, 0x13, 0xcd, 0xfd, 0x00, 0x4a, 0x44, 0xe4,\n",
            "  0xe0, 0xef, 0xc8, 0x0c, 0x30, 0xfd, 0x1a, 0xf5, 0x21, 0xb2, 0xd4, 0xda,\n",
            "  0x3a, 0x14, 0x1b, 0xf2, 0xc5, 0xe3, 0x0a, 0xa5, 0xaa, 0x18, 0xe5, 0xce,\n",
            "  0x24, 0xc3, 0xcb, 0xf5, 0x0b, 0xfd, 0xf5, 0xd4, 0xc4, 0x30, 0xf2, 0xbe,\n",
            "  0x30, 0xfa, 0x66, 0x2a, 0x0c, 0xe2, 0xd1, 0x53, 0xdf, 0x45, 0x23, 0xc9,\n",
            "  0xed, 0xf6, 0x3e, 0x03, 0xef, 0x19, 0x28, 0xdc, 0x2e, 0xae, 0xec, 0x08,\n",
            "  0x38, 0xdd, 0x11, 0x10, 0x3b, 0x3d, 0xe4, 0xf3, 0x2a, 0xdf, 0x28, 0x31,\n",
            "  0xe6, 0xd2, 0xc1, 0xf8, 0x40, 0x68, 0xf3, 0xe5, 0x61, 0x2d, 0x0f, 0xfc,\n",
            "  0x99, 0x10, 0x1b, 0x0b, 0x28, 0x37, 0xbb, 0xc7, 0x00, 0xe3, 0x5a, 0xec,\n",
            "  0xff, 0x22, 0x03, 0xdb, 0x48, 0xe3, 0x0f, 0x70, 0x07, 0xdb, 0xa8, 0x21,\n",
            "  0xde, 0x24, 0x46, 0x14, 0xdc, 0xe3, 0x06, 0x1c, 0xd2, 0xd7, 0x3b, 0x0d,\n",
            "  0x1b, 0xdb, 0x28, 0x02, 0x0a, 0xe2, 0x13, 0xcd, 0x34, 0x52, 0xd6, 0xe8,\n",
            "  0x16, 0xe1, 0xf6, 0x10, 0xef, 0xae, 0x07, 0xe9, 0xc6, 0xf7, 0xe2, 0xca,\n",
            "  0x16, 0xcf, 0xec, 0xf3, 0xff, 0x0b, 0xaa, 0xf6, 0xd6, 0x03, 0x09, 0x0c,\n",
            "  0x49, 0x46, 0x12, 0x19, 0x21, 0xcd, 0xdd, 0xec, 0x11, 0x02, 0x48, 0xc7,\n",
            "  0x0d, 0xc2, 0xb8, 0x14, 0xff, 0x35, 0xcf, 0xcd, 0xd8, 0x07, 0x0e, 0xf7,\n",
            "  0x28, 0x14, 0xf7, 0xf7, 0x1e, 0x1f, 0xd8, 0x07, 0x54, 0xe5, 0x2a, 0xf6,\n",
            "  0x2a, 0x35, 0xd4, 0x99, 0x18, 0xdf, 0x16, 0xe1, 0xe7, 0xfc, 0xdb, 0xfd,\n",
            "  0xcf, 0x0a, 0xd8, 0xa5, 0x13, 0xf4, 0xcd, 0xd1, 0x17, 0x13, 0x96, 0xbd,\n",
            "  0x05, 0x3c, 0xea, 0xe5, 0xb2, 0x02, 0x14, 0xfa, 0xe5, 0xc3, 0xdd, 0xbd,\n",
            "  0x10, 0xbc, 0xf3, 0x42, 0xca, 0xd8, 0xad, 0x03, 0xe7, 0x46, 0x34, 0xed,\n",
            "  0x1f, 0xbd, 0x58, 0x5e, 0x53, 0x01, 0xed, 0x17, 0x66, 0x43, 0x21, 0xe7,\n",
            "  0xda, 0x29, 0x2a, 0xf5, 0x11, 0x07, 0xd7, 0xf6, 0x77, 0xaf, 0x41, 0x7e,\n",
            "  0x91, 0xb7, 0x0b, 0x10, 0x30, 0x36, 0x12, 0xd6, 0x15, 0x41, 0x20, 0x03,\n",
            "  0x00, 0xba, 0x44, 0xfc, 0x54, 0x31, 0x09, 0xeb, 0xfd, 0xd3, 0x65, 0x45,\n",
            "  0x3c, 0x41, 0xb8, 0xce, 0x53, 0xb6, 0x53, 0x04, 0x81, 0xd8, 0xb1, 0x21,\n",
            "  0xb3, 0x43, 0x11, 0xce, 0x20, 0x0a, 0x24, 0x04, 0xbb, 0x9f, 0x06, 0xda,\n",
            "  0x13, 0x12, 0xe2, 0xf4, 0x11, 0xf1, 0x5d, 0xfe, 0x1a, 0x77, 0xb1, 0xdf,\n",
            "  0x25, 0xf8, 0x24, 0x0a, 0xe8, 0xfe, 0xc1, 0x37, 0xf3, 0x37, 0x03, 0xea,\n",
            "  0x0c, 0xe6, 0x4b, 0x49, 0x0a, 0x02, 0x30, 0xda, 0x55, 0xde, 0xe2, 0xcb,\n",
            "  0x29, 0x0e, 0x06, 0x09, 0x0e, 0x24, 0xd3, 0xc5, 0x62, 0xdd, 0x2a, 0xd5,\n",
            "  0xd3, 0xbc, 0xcb, 0x06, 0xb6, 0x4b, 0xbb, 0xc4, 0x3f, 0x1d, 0x2d, 0xdf,\n",
            "  0x17, 0xef, 0x36, 0xf5, 0x23, 0x4a, 0x0c, 0xfa, 0x39, 0x03, 0x36, 0x0f,\n",
            "  0x16, 0x18, 0xcf, 0x87, 0xf8, 0xfe, 0x1e, 0x03, 0x00, 0xf2, 0x0b, 0x12,\n",
            "  0xdf, 0x43, 0x0a, 0xa8, 0xfa, 0xf8, 0x0f, 0x1e, 0xe0, 0xd3, 0x11, 0xc9,\n",
            "  0x1f, 0x24, 0xc0, 0x17, 0x51, 0xe2, 0xf5, 0xcf, 0x05, 0x0b, 0xfa, 0xef,\n",
            "  0xf0, 0xd8, 0xf5, 0x3d, 0x08, 0xd3, 0xfa, 0xff, 0xef, 0x1e, 0xfd, 0xf0,\n",
            "  0x25, 0xcf, 0xeb, 0x2c, 0x4a, 0xfc, 0xef, 0x00, 0xef, 0x08, 0xaf, 0x11,\n",
            "  0x15, 0x22, 0x3f, 0xd6, 0x14, 0x20, 0xe5, 0xe2, 0xf7, 0xd5, 0x6a, 0x32,\n",
            "  0x06, 0xca, 0xe8, 0x30, 0x01, 0x25, 0xf3, 0xf4, 0x26, 0x18, 0x35, 0xff,\n",
            "  0xf4, 0xf3, 0x0c, 0x0d, 0x2c, 0xe1, 0xdb, 0x18, 0x49, 0x06, 0x4e, 0x03,\n",
            "  0xde, 0xec, 0xe2, 0xe8, 0xd6, 0xe1, 0xe1, 0x27, 0xe9, 0x99, 0xf5, 0xe4,\n",
            "  0xb8, 0xf1, 0xdd, 0xd5, 0xf7, 0xc6, 0x14, 0xf4, 0xc4, 0x07, 0x03, 0xba,\n",
            "  0xde, 0x1b, 0xb9, 0xdd, 0xe1, 0x1f, 0xbe, 0xf4, 0xfc, 0xe7, 0xec, 0xbe,\n",
            "  0x7f, 0x18, 0x06, 0x0d, 0xdc, 0xe0, 0xe2, 0xdf, 0xe7, 0xf1, 0xf5, 0xfb,\n",
            "  0xd9, 0xb1, 0xbe, 0x1f, 0x21, 0xf8, 0x01, 0xb8, 0x4d, 0x23, 0x09, 0xa5,\n",
            "  0xe9, 0x0d, 0x27, 0xab, 0xf9, 0xf0, 0xd7, 0x24, 0x1e, 0xdf, 0xfc, 0x3c,\n",
            "  0xb7, 0xe3, 0xf5, 0x30, 0x41, 0x19, 0x2b, 0xe1, 0x15, 0x2e, 0x30, 0xe7,\n",
            "  0x1f, 0xca, 0x41, 0xd5, 0x4a, 0x1f, 0xfb, 0x2e, 0x1a, 0x12, 0x74, 0x26,\n",
            "  0x45, 0xee, 0xd9, 0xd3, 0x3b, 0xc4, 0x6b, 0x04, 0x9d, 0xe1, 0xc5, 0xf8,\n",
            "  0xd0, 0x16, 0x0c, 0xdf, 0x5d, 0xf0, 0x33, 0x1a, 0x37, 0xb8, 0xc4, 0xd8,\n",
            "  0xe8, 0x48, 0xfb, 0xe5, 0x25, 0x23, 0xf1, 0xdb, 0x34, 0x1e, 0x86, 0xb5,\n",
            "  0xdd, 0x0f, 0xd2, 0xe2, 0x0d, 0xfc, 0xfc, 0xf7, 0xb6, 0xf1, 0xee, 0xf9,\n",
            "  0xe3, 0x04, 0xfc, 0xd9, 0x00, 0x3b, 0xf0, 0xdb, 0x09, 0xce, 0xeb, 0x20,\n",
            "  0xee, 0xdf, 0xe5, 0xde, 0xdd, 0xde, 0xe8, 0x03, 0x02, 0xfe, 0xfc, 0xed,\n",
            "  0x20, 0x05, 0xfe, 0xdd, 0xd7, 0xcf, 0xc9, 0x03, 0xc1, 0xed, 0xf4, 0x1e,\n",
            "  0x18, 0xe9, 0xe7, 0x1d, 0x08, 0x00, 0x0a, 0x1d, 0xe7, 0x20, 0xe6, 0xe2,\n",
            "  0x05, 0xf6, 0x2b, 0x0c, 0xd0, 0x2d, 0xb5, 0xe1, 0x28, 0x1f, 0x3e, 0xef,\n",
            "  0x1f, 0xf2, 0xe3, 0xe3, 0xec, 0x26, 0x0c, 0xe0, 0xe7, 0x37, 0x0c, 0xed,\n",
            "  0xe5, 0xe4, 0x2f, 0x06, 0xf9, 0xf9, 0x0d, 0x04, 0x1c, 0x10, 0x07, 0x1c,\n",
            "  0x09, 0xf1, 0x17, 0xce, 0xef, 0xe6, 0x1b, 0xf8, 0x23, 0xe3, 0xd0, 0xdd,\n",
            "  0xe7, 0xe6, 0x1b, 0xeb, 0xc7, 0xda, 0xff, 0xf5, 0x00, 0x22, 0xde, 0xeb,\n",
            "  0xdd, 0x17, 0xe3, 0xf5, 0xd8, 0x20, 0x00, 0xf4, 0x0f, 0x36, 0x08, 0xfd,\n",
            "  0xff, 0x1e, 0x05, 0xf4, 0x0c, 0xeb, 0xfa, 0x09, 0x0e, 0xcc, 0x1c, 0xbe,\n",
            "  0xfb, 0xdc, 0xe1, 0xea, 0xec, 0x3c, 0xfd, 0x0b, 0xe7, 0x38, 0xf5, 0x0e,\n",
            "  0xe5, 0x3a, 0xfd, 0x05, 0xee, 0x1a, 0x36, 0x02, 0x00, 0x09, 0x33, 0x3f,\n",
            "  0x3a, 0xe1, 0x0d, 0xdb, 0xfc, 0x09, 0xea, 0xd6, 0xe1, 0x5a, 0xf8, 0xd4,\n",
            "  0x02, 0x29, 0xff, 0xf2, 0xe3, 0xf9, 0xb5, 0x14, 0xe9, 0x1f, 0x2a, 0xf0,\n",
            "  0xd4, 0x1d, 0xc1, 0xbf, 0x51, 0xea, 0x06, 0xd7, 0xda, 0xb7, 0xee, 0xcf,\n",
            "  0xa7, 0xd3, 0xe7, 0xde, 0xd4, 0x1b, 0xf4, 0xec, 0xdb, 0xb3, 0xd3, 0xda,\n",
            "  0xd8, 0x06, 0xcd, 0xbc, 0xee, 0xb9, 0x1c, 0xd4, 0xc4, 0x44, 0x2a, 0xe6,\n",
            "  0x03, 0x14, 0xed, 0xf6, 0xcf, 0xfe, 0xf6, 0xfe, 0xcc, 0xf7, 0xdc, 0x52,\n",
            "  0xee, 0x36, 0xec, 0x14, 0x0b, 0xc9, 0x15, 0x13, 0x07, 0x30, 0xec, 0x01,\n",
            "  0xea, 0x10, 0x2a, 0x2e, 0xd3, 0x25, 0xf3, 0xe9, 0x2f, 0x01, 0x1e, 0xbe,\n",
            "  0xf5, 0xf1, 0xf5, 0x02, 0xbf, 0x0c, 0xe6, 0xef, 0xa3, 0x5d, 0xfa, 0xc4,\n",
            "  0xd5, 0xe0, 0xed, 0x5a, 0xd9, 0xe4, 0xcb, 0xe9, 0xe4, 0xe8, 0x7f, 0xf8,\n",
            "  0xfa, 0xf1, 0xf9, 0x02, 0xfa, 0x04, 0xfd, 0xfc, 0x13, 0xe9, 0x25, 0x0b,\n",
            "  0x15, 0x21, 0xbd, 0x1c, 0xee, 0x18, 0xec, 0x13, 0x01, 0xde, 0xeb, 0x13,\n",
            "  0xb2, 0xdc, 0x13, 0xf9, 0xf8, 0xf6, 0xe5, 0x26, 0xdb, 0x16, 0x1d, 0x1b,\n",
            "  0x0f, 0xf8, 0x5c, 0x33, 0xe4, 0xf7, 0x02, 0x1a, 0xeb, 0x2a, 0xfc, 0x0b,\n",
            "  0xd3, 0x33, 0x17, 0x35, 0x15, 0xd9, 0x22, 0x08, 0xe8, 0xa8, 0x22, 0xfe,\n",
            "  0x39, 0xc9, 0xb9, 0xfd, 0x10, 0xfe, 0x04, 0x18, 0xdd, 0xf2, 0xe0, 0xf4,\n",
            "  0xe4, 0xf4, 0x23, 0x07, 0x25, 0x08, 0xdf, 0x2e, 0xe8, 0xed, 0x18, 0xfe,\n",
            "  0x0d, 0xf6, 0x11, 0x0e, 0xb6, 0xd5, 0x20, 0x22, 0xf4, 0x30, 0xdf, 0xe3,\n",
            "  0xeb, 0xff, 0x15, 0xfb, 0xee, 0x09, 0x3d, 0xfc, 0xbf, 0x1f, 0x3c, 0x19,\n",
            "  0x14, 0x21, 0xf5, 0x06, 0xde, 0x12, 0x1d, 0x02, 0xfa, 0xe5, 0x48, 0x4c,\n",
            "  0xe9, 0xd4, 0x1d, 0xef, 0xef, 0x13, 0xf5, 0x26, 0xf3, 0x21, 0x03, 0x14,\n",
            "  0x2e, 0x26, 0x2a, 0x21, 0xbe, 0x0d, 0x37, 0x2b, 0x06, 0x38, 0xe0, 0x55,\n",
            "  0xd9, 0x25, 0x3c, 0xfe, 0xf3, 0xcb, 0x17, 0x22, 0x12, 0xcf, 0x2c, 0x41,\n",
            "  0x22, 0x0c, 0x13, 0x2f, 0xd4, 0xfc, 0x19, 0x1a, 0xf0, 0x27, 0xfb, 0x02,\n",
            "  0xb4, 0x2f, 0x0a, 0x1c, 0x19, 0x22, 0x06, 0x23, 0xcf, 0xde, 0x17, 0x00,\n",
            "  0x0d, 0x14, 0xe6, 0xed, 0xf8, 0xcf, 0x13, 0x27, 0x2b, 0xf7, 0x25, 0x25,\n",
            "  0xca, 0xaa, 0xf6, 0x0a, 0xc6, 0xfe, 0x12, 0x01, 0xc6, 0xdd, 0xfb, 0x00,\n",
            "  0x1e, 0x23, 0xfe, 0xfe, 0xb9, 0xe0, 0xed, 0x07, 0x2f, 0xa5, 0x19, 0x19,\n",
            "  0x07, 0xd7, 0x19, 0x39, 0xfe, 0x13, 0x81, 0x19, 0xaf, 0x03, 0xed, 0x25,\n",
            "  0xe1, 0x3f, 0x22, 0x3b, 0xbc, 0x0c, 0x26, 0x6e, 0xf7, 0x47, 0xf2, 0x17,\n",
            "  0xbf, 0xf1, 0x36, 0x22, 0xf9, 0xe9, 0x39, 0x47, 0xdf, 0xd4, 0x16, 0x46,\n",
            "  0x48, 0xf2, 0xec, 0x37, 0xed, 0xad, 0xe9, 0x16, 0xbd, 0x23, 0x20, 0x53,\n",
            "  0x89, 0x04, 0x35, 0x5c, 0xf8, 0x20, 0xcd, 0x1d, 0x04, 0xb9, 0x0a, 0x34,\n",
            "  0xf4, 0xde, 0x3f, 0x44, 0xcf, 0xf9, 0x28, 0x54, 0x12, 0x21, 0xa5, 0x41,\n",
            "  0xf3, 0xd2, 0x06, 0x00, 0xed, 0xff, 0xf3, 0xd8, 0x10, 0xeb, 0xe2, 0xfc,\n",
            "  0xf8, 0xcf, 0x1b, 0xd4, 0xdc, 0x07, 0x08, 0xdf, 0xd4, 0xe5, 0x00, 0xec,\n",
            "  0xb9, 0x30, 0xcc, 0xff, 0xc8, 0xdc, 0xef, 0x0a, 0xfd, 0xe9, 0xf8, 0xfe,\n",
            "  0xb9, 0x14, 0x01, 0x0d, 0x3e, 0x13, 0xfb, 0x1b, 0x2a, 0xe9, 0x49, 0x0e,\n",
            "  0x35, 0xb7, 0x11, 0xdb, 0x0d, 0x28, 0x37, 0xca, 0x09, 0x36, 0xd2, 0x1d,\n",
            "  0x01, 0x00, 0xff, 0xfe, 0x14, 0x48, 0x31, 0xed, 0x5d, 0xf8, 0x1e, 0x30,\n",
            "  0x4a, 0xe7, 0xda, 0x11, 0x1e, 0x0a, 0x07, 0xc8, 0x21, 0xda, 0xfe, 0xe1,\n",
            "  0x1d, 0x54, 0xe0, 0x1b, 0xd7, 0x05, 0x0d, 0xf7, 0xe9, 0x25, 0x19, 0x29,\n",
            "  0xe4, 0xe5, 0xfb, 0xd6, 0x2d, 0x16, 0xf3, 0xcf, 0x18, 0xf5, 0xe4, 0xfe,\n",
            "  0xd8, 0xe8, 0x14, 0x06, 0x10, 0x1d, 0xc7, 0xe9, 0xf5, 0xf1, 0xfa, 0xae,\n",
            "  0x1c, 0x27, 0xcd, 0xd4, 0x0c, 0x11, 0xe9, 0x15, 0xeb, 0xca, 0xe3, 0xe3,\n",
            "  0x24, 0x26, 0x0e, 0xbd, 0x67, 0x1c, 0x21, 0x37, 0xf1, 0x1e, 0x13, 0x31,\n",
            "  0x2e, 0xae, 0xff, 0x0d, 0x3c, 0x3e, 0x20, 0xd8, 0x14, 0x51, 0xe8, 0xd7,\n",
            "  0xe9, 0x2c, 0xab, 0x0a, 0x1e, 0x15, 0x38, 0xdf, 0x18, 0x05, 0xbf, 0xf7,\n",
            "  0x1f, 0xcd, 0xf9, 0xdb, 0x0c, 0xf1, 0x3e, 0xf9, 0x18, 0x54, 0xfb, 0xf3,\n",
            "  0xd8, 0x01, 0xaf, 0x08, 0xf2, 0xee, 0x19, 0xcd, 0xf6, 0x43, 0x12, 0xd3,\n",
            "  0xa9, 0xf7, 0xef, 0xd6, 0x00, 0x1b, 0xe9, 0xf9, 0xd5, 0xdf, 0xd8, 0xfd,\n",
            "  0xb8, 0xcc, 0x0e, 0xef, 0xee, 0x1e, 0xda, 0x16, 0xe8, 0x0e, 0xff, 0x00,\n",
            "  0xad, 0x39, 0xe1, 0xd2, 0x04, 0xc4, 0x0f, 0x03, 0xbf, 0x54, 0x16, 0x07,\n",
            "  0x49, 0x05, 0x04, 0xc7, 0x31, 0xfc, 0xe2, 0x1d, 0xcf, 0x0e, 0x14, 0x29,\n",
            "  0x03, 0xd7, 0x20, 0xfa, 0xce, 0xf6, 0xd8, 0xea, 0x16, 0x76, 0xee, 0xe0,\n",
            "  0xd7, 0x05, 0x1d, 0x01, 0xf1, 0x2c, 0xfb, 0xe1, 0x7f, 0xd7, 0xee, 0xcf,\n",
            "  0x06, 0x11, 0xe0, 0xc8, 0xd8, 0xe8, 0xe7, 0xcd, 0xe1, 0x50, 0xe9, 0xe8,\n",
            "  0xe8, 0xf6, 0xd0, 0xf2, 0x07, 0x12, 0x00, 0xfa, 0xe6, 0xcc, 0x6e, 0xce,\n",
            "  0x12, 0xf8, 0xf3, 0x16, 0x04, 0xd4, 0xee, 0x0b, 0xe7, 0xf6, 0x1f, 0xd9,\n",
            "  0x26, 0x01, 0xe9, 0x13, 0x13, 0x0b, 0x00, 0x12, 0x0c, 0xe6, 0x07, 0xf2,\n",
            "  0xf8, 0xf7, 0x0f, 0xd7, 0x0c, 0xee, 0x03, 0xe0, 0x57, 0x0d, 0xf9, 0x13,\n",
            "  0xfd, 0xda, 0xfd, 0x06, 0xef, 0xf3, 0x2b, 0x0a, 0x10, 0x01, 0x13, 0xef,\n",
            "  0x13, 0xfd, 0x0b, 0xd4, 0x1d, 0x1d, 0x0c, 0xf2, 0xe4, 0xfa, 0xf9, 0x17,\n",
            "  0x00, 0xf3, 0x02, 0xe5, 0x44, 0xe6, 0x28, 0x3d, 0xda, 0xf5, 0xe6, 0x0b,\n",
            "  0x0d, 0xec, 0x20, 0xdd, 0x04, 0xf6, 0x48, 0x00, 0x16, 0xf4, 0x0f, 0xe8,\n",
            "  0x01, 0x21, 0xf4, 0x02, 0x30, 0xfe, 0x32, 0xf7, 0x1f, 0x27, 0xb8, 0xc0,\n",
            "  0x15, 0xf9, 0xdf, 0x1d, 0x17, 0xf8, 0x18, 0x0b, 0xfc, 0x46, 0xf6, 0xb0,\n",
            "  0x04, 0xfc, 0xe8, 0x12, 0xf2, 0x13, 0x24, 0x12, 0xee, 0x29, 0xe4, 0x02,\n",
            "  0x3d, 0x1d, 0x10, 0x01, 0x24, 0xc5, 0xec, 0x08, 0x18, 0xea, 0x3f, 0x0b,\n",
            "  0xe9, 0xbb, 0xf0, 0x2b, 0x04, 0x1b, 0xf9, 0xd6, 0xe7, 0x33, 0x35, 0xf8,\n",
            "  0x19, 0x09, 0xef, 0x01, 0x2e, 0x0b, 0xe7, 0xfe, 0x2b, 0xe3, 0x13, 0xf3,\n",
            "  0x0c, 0x0b, 0xf9, 0xd2, 0x10, 0xf4, 0xea, 0x05, 0xd9, 0xd7, 0xde, 0x25,\n",
            "  0xe9, 0xfe, 0xe2, 0xc7, 0xfc, 0x2d, 0x05, 0x22, 0xfa, 0xff, 0xec, 0x03,\n",
            "  0x19, 0xfc, 0xee, 0x20, 0xe5, 0x29, 0x2a, 0xf0, 0x0b, 0x07, 0xdd, 0x02,\n",
            "  0x49, 0xaa, 0x47, 0x44, 0x81, 0xea, 0xe2, 0x24, 0x02, 0x2c, 0x26, 0xe5,\n",
            "  0x3b, 0xd6, 0x09, 0x0d, 0x1e, 0xf3, 0x15, 0x16, 0x05, 0x39, 0x01, 0x0d,\n",
            "  0x3b, 0x0d, 0xe0, 0x17, 0x26, 0x32, 0xd2, 0xd9, 0x37, 0xd1, 0x1a, 0x34,\n",
            "  0xb7, 0xd4, 0x1b, 0x11, 0xf0, 0xfe, 0x2a, 0xd4, 0x1e, 0x03, 0x58, 0xe8,\n",
            "  0x03, 0xeb, 0x30, 0x0c, 0x42, 0x47, 0xf0, 0x06, 0x03, 0x0c, 0x47, 0x21,\n",
            "  0x10, 0x12, 0xd7, 0xc0, 0x1b, 0xdc, 0x41, 0xe0, 0xdf, 0xd9, 0xf1, 0xe6,\n",
            "  0x04, 0xfa, 0x1e, 0xed, 0x14, 0xfe, 0x40, 0x0f, 0x20, 0xe7, 0x1f, 0x15,\n",
            "  0x06, 0x49, 0x11, 0xf1, 0x1a, 0xf5, 0x31, 0xee, 0x17, 0x20, 0xa4, 0xe3,\n",
            "  0xfd, 0x48, 0xf8, 0x25, 0x20, 0x2c, 0x40, 0xec, 0x12, 0x26, 0xfe, 0x1c,\n",
            "  0xf8, 0x29, 0xd1, 0x05, 0xfd, 0x30, 0xe7, 0x30, 0xe7, 0x10, 0xe7, 0x0e,\n",
            "  0xf6, 0xee, 0x15, 0xdd, 0xf6, 0x27, 0xe4, 0x2a, 0xe5, 0x1f, 0xf7, 0x28,\n",
            "  0x19, 0x67, 0x22, 0x10, 0xe0, 0xff, 0x3a, 0x52, 0x00, 0x2d, 0xe5, 0x36,\n",
            "  0xbd, 0x05, 0x37, 0x47, 0x0c, 0xdc, 0x36, 0x26, 0xa3, 0xa7, 0xf9, 0x11,\n",
            "  0x4e, 0xb5, 0x08, 0x1b, 0x0d, 0xd9, 0xda, 0x04, 0xe5, 0x30, 0x23, 0x0a,\n",
            "  0xd8, 0xf5, 0x1e, 0x3c, 0x24, 0x41, 0xde, 0x14, 0xe7, 0xca, 0xfc, 0x09,\n",
            "  0x23, 0x15, 0xde, 0x08, 0xc3, 0xda, 0x05, 0x04, 0x19, 0xfa, 0xea, 0x0b,\n",
            "  0x0f, 0x2f, 0x23, 0x22, 0xf2, 0x29, 0x4a, 0x03, 0xb4, 0x0a, 0x66, 0x48,\n",
            "  0x22, 0x20, 0x02, 0x20, 0xe3, 0xc7, 0x03, 0x1a, 0x33, 0xb7, 0x0e, 0x29,\n",
            "  0xf1, 0xcb, 0xe0, 0x3d, 0x1a, 0x3c, 0x3f, 0x32, 0xe2, 0x52, 0x21, 0x0c,\n",
            "  0x46, 0x5d, 0x06, 0x21, 0xdf, 0x28, 0x3f, 0x49, 0xe4, 0x18, 0x03, 0x27,\n",
            "  0x8f, 0x5d, 0x33, 0x53, 0xe2, 0xda, 0x66, 0x41, 0xd9, 0x92, 0x17, 0x0c,\n",
            "  0x46, 0x06, 0x12, 0x2b, 0xe9, 0x3d, 0x08, 0x09, 0xd5, 0x66, 0x21, 0xe8,\n",
            "  0xaf, 0x17, 0x43, 0x2f, 0xfb, 0x0b, 0x12, 0x15, 0xd1, 0xe6, 0xe2, 0xff,\n",
            "  0xec, 0xce, 0xfe, 0x05, 0xf2, 0xe9, 0x12, 0x38, 0x3a, 0x21, 0x1e, 0x25,\n",
            "  0xf3, 0xc5, 0xd6, 0x08, 0xee, 0x30, 0x02, 0x18, 0xdd, 0x14, 0x07, 0x20,\n",
            "  0xf2, 0x1d, 0xf6, 0xda, 0xdb, 0x81, 0x15, 0xe2, 0x28, 0xf0, 0x21, 0x28,\n",
            "  0xfe, 0xcd, 0xeb, 0x32, 0x16, 0x36, 0xa4, 0x37, 0xcc, 0x23, 0xef, 0x39,\n",
            "  0xeb, 0x4c, 0x40, 0x43, 0x98, 0xf5, 0x34, 0x0e, 0x10, 0x48, 0xd9, 0x59,\n",
            "  0xb2, 0x17, 0x1f, 0x38, 0xd6, 0xb5, 0x49, 0x5e, 0xce, 0xd9, 0x1c, 0x3c,\n",
            "  0x41, 0xc7, 0x22, 0x1f, 0xaa, 0x1c, 0x0b, 0x1b, 0xeb, 0x39, 0x36, 0x67,\n",
            "  0xab, 0x1b, 0x15, 0x13, 0x33, 0x2c, 0xdd, 0x47, 0xe4, 0x94, 0x00, 0x3b,\n",
            "  0xe6, 0xe0, 0x36, 0x4c, 0xe7, 0x0a, 0x29, 0x3c, 0x20, 0x0c, 0xbe, 0x46,\n",
            "  0xfe, 0x06, 0x12, 0x24, 0xf9, 0x25, 0x24, 0xdc, 0xf8, 0xcb, 0x13, 0x15,\n",
            "  0x13, 0x13, 0xc2, 0x15, 0xf7, 0xfd, 0x0b, 0xe5, 0xf7, 0x1b, 0xf1, 0xff,\n",
            "  0xe1, 0xbc, 0x00, 0x11, 0xd9, 0x0f, 0xf4, 0xe9, 0x11, 0xe1, 0x03, 0x40,\n",
            "  0xf7, 0x06, 0x2b, 0xfc, 0xde, 0x18, 0x17, 0x41, 0x09, 0x12, 0x09, 0x15,\n",
            "  0xb9, 0x32, 0x31, 0xf9, 0xf4, 0xe7, 0x00, 0xf9, 0xd2, 0xec, 0x0c, 0x1d,\n",
            "  0x56, 0xf4, 0x27, 0x21, 0x20, 0xce, 0x07, 0x08, 0x13, 0xd3, 0x05, 0xe2,\n",
            "  0xb6, 0xcc, 0x0d, 0x30, 0xfe, 0x09, 0xd6, 0xf6, 0xe1, 0xf9, 0x58, 0x32,\n",
            "  0x06, 0x0d, 0xe8, 0xe5, 0xcb, 0xc7, 0x5e, 0xed, 0xd9, 0x4b, 0xc9, 0xfd,\n",
            "  0x0a, 0x07, 0xfd, 0x45, 0x2a, 0xfb, 0x34, 0x31, 0xe6, 0xe6, 0x0f, 0x29,\n",
            "  0x1c, 0x34, 0x24, 0x25, 0xc5, 0x1a, 0x0d, 0x2b, 0x0a, 0xeb, 0x2f, 0x3b,\n",
            "  0x07, 0xab, 0x1f, 0x2f, 0x41, 0xd2, 0xd1, 0x22, 0x51, 0x26, 0x51, 0x34,\n",
            "  0xf0, 0x22, 0x45, 0x17, 0xd9, 0x17, 0x43, 0x5d, 0xf2, 0x36, 0x03, 0x1b,\n",
            "  0xb4, 0x5e, 0x51, 0x43, 0x25, 0xb7, 0x2b, 0x30, 0x3b, 0xc7, 0x43, 0x27,\n",
            "  0x20, 0x06, 0x22, 0x22, 0x00, 0xff, 0xf2, 0x3c, 0xee, 0x1a, 0x41, 0xf2,\n",
            "  0xa4, 0x3a, 0x0c, 0x21, 0x04, 0x35, 0x0a, 0x14, 0xe3, 0xf5, 0x0c, 0x2d,\n",
            "  0x0c, 0xe5, 0x0f, 0xee, 0xe4, 0xb1, 0x09, 0xff, 0x30, 0x1d, 0xdb, 0x29,\n",
            "  0xb5, 0xd3, 0x2a, 0x58, 0xd6, 0x31, 0x23, 0x13, 0xdc, 0x0d, 0x1b, 0x12,\n",
            "  0xea, 0x21, 0x22, 0x10, 0xa1, 0xad, 0x28, 0x16, 0x0d, 0x91, 0x0e, 0x06,\n",
            "  0x03, 0xcd, 0x1f, 0x23, 0x15, 0x23, 0x81, 0x23, 0xb9, 0x03, 0xe8, 0x47,\n",
            "  0xc0, 0x21, 0x52, 0x2c, 0x90, 0x14, 0x20, 0x75, 0xdc, 0x3b, 0x06, 0x32,\n",
            "  0xa3, 0xc6, 0x27, 0x48, 0xe9, 0x88, 0x44, 0x6a, 0xb3, 0x96, 0xf9, 0x36,\n",
            "  0x55, 0xef, 0xb8, 0x09, 0x08, 0xf6, 0x04, 0x4a, 0xbd, 0x21, 0x10, 0x26,\n",
            "  0xae, 0xe1, 0xef, 0xe6, 0x05, 0xf6, 0xde, 0x5d, 0xfe, 0xb2, 0x62, 0x11,\n",
            "  0x0a, 0x0b, 0x5b, 0x3f, 0xcb, 0xf7, 0x30, 0x1d, 0x1f, 0xf3, 0xb9, 0xed,\n",
            "  0x1e, 0xff, 0xed, 0xdd, 0xf3, 0x1c, 0xf8, 0xe1, 0x37, 0xe5, 0x17, 0xfb,\n",
            "  0xf0, 0xdd, 0x2c, 0x06, 0x35, 0xda, 0xd7, 0xce, 0x2a, 0xfa, 0x0a, 0xe4,\n",
            "  0x1e, 0x28, 0x02, 0x1c, 0xf2, 0x0a, 0xe8, 0x04, 0x1f, 0xdc, 0x40, 0xd6,\n",
            "  0x9c, 0xd1, 0xe6, 0xe4, 0x6d, 0xcf, 0xe5, 0x00, 0x4a, 0x19, 0x6b, 0x01,\n",
            "  0x14, 0xb6, 0xf8, 0x16, 0x4f, 0x45, 0xf2, 0x0d, 0x55, 0x0f, 0x17, 0x20,\n",
            "  0xfd, 0x3d, 0xc4, 0x15, 0x29, 0xdd, 0x23, 0xfc, 0xd9, 0xa1, 0xbc, 0xd0,\n",
            "  0x4e, 0xfd, 0xc5, 0xbf, 0xff, 0xf3, 0x2d, 0xd1, 0x19, 0x03, 0xc2, 0xb9,\n",
            "  0x79, 0x2e, 0xf2, 0xdb, 0x23, 0xf0, 0xc3, 0xcd, 0xed, 0xf0, 0xd7, 0xf7,\n",
            "  0x14, 0xd7, 0x08, 0x03, 0xe3, 0x1c, 0xe5, 0x1e, 0x19, 0x2a, 0xda, 0xf0,\n",
            "  0xc6, 0xd2, 0xfd, 0xf6, 0x25, 0xed, 0xf7, 0xf4, 0xd4, 0xef, 0xf2, 0xf2,\n",
            "  0x1b, 0x4c, 0x0b, 0x12, 0xfc, 0x0d, 0xe4, 0xb3, 0xdf, 0xaf, 0x20, 0x1f,\n",
            "  0xf9, 0xe1, 0x0f, 0x1c, 0x32, 0x19, 0x08, 0xfd, 0xfc, 0x14, 0x6a, 0x2f,\n",
            "  0x7f, 0xd6, 0xdd, 0xea, 0x2f, 0x4f, 0xc2, 0xf3, 0x5a, 0x4d, 0x30, 0xf5,\n",
            "  0xff, 0x25, 0xa3, 0xc1, 0x71, 0xed, 0x19, 0x13, 0xfe, 0xbe, 0xf4, 0x15,\n",
            "  0x2a, 0x0b, 0xe0, 0xe2, 0xfd, 0x00, 0x44, 0xd9, 0x05, 0x17, 0xdf, 0xe7,\n",
            "  0xed, 0x04, 0xdc, 0x07, 0x1f, 0x30, 0x12, 0xe6, 0xf0, 0x23, 0xd8, 0x03,\n",
            "  0x1c, 0x03, 0x28, 0xf8, 0x25, 0xd1, 0xe4, 0xc5, 0x48, 0x02, 0xda, 0xc7,\n",
            "  0x98, 0xa7, 0xe6, 0xbe, 0x0f, 0x01, 0xe6, 0xd6, 0x0f, 0xe1, 0xdd, 0xf0,\n",
            "  0x14, 0x54, 0x17, 0xcb, 0xd7, 0x0f, 0xe3, 0x10, 0xf1, 0xd9, 0x07, 0xfb,\n",
            "  0x07, 0xe4, 0xf0, 0xf9, 0x6f, 0xd7, 0xb3, 0xe9, 0x00, 0xea, 0x14, 0xe3,\n",
            "  0x33, 0xc1, 0xe2, 0xd4, 0x56, 0x39, 0xe1, 0xdf, 0x35, 0x39, 0x27, 0xcc,\n",
            "  0xd5, 0x32, 0xdf, 0x10, 0xbe, 0x43, 0x1e, 0xc5, 0x40, 0xa9, 0xdc, 0xe3,\n",
            "  0x6a, 0xfd, 0xfc, 0xdf, 0xdd, 0xd3, 0xe7, 0xe6, 0xc6, 0xf7, 0xbc, 0xab,\n",
            "  0x30, 0xbe, 0xc7, 0x0e, 0x04, 0x21, 0xed, 0xd0, 0xb6, 0xfd, 0xf4, 0xc9,\n",
            "  0x04, 0x29, 0xcf, 0xf5, 0x0d, 0x2d, 0x32, 0xe8, 0xcd, 0xe9, 0x2c, 0x43,\n",
            "  0xf2, 0x3f, 0xaa, 0x16, 0x0b, 0x11, 0xfa, 0x10, 0xde, 0x06, 0xe6, 0x2f,\n",
            "  0xdf, 0xb3, 0x16, 0x67, 0x0f, 0x0a, 0x27, 0x03, 0xe3, 0x20, 0x11, 0x02,\n",
            "  0x26, 0x51, 0x3e, 0x27, 0xa7, 0xb3, 0x07, 0x37, 0xf5, 0x0c, 0xea, 0x21,\n",
            "  0xaf, 0x45, 0x3a, 0x58, 0x03, 0xb0, 0x1d, 0x38, 0xdb, 0xcc, 0xd5, 0x24,\n",
            "  0x45, 0x01, 0xe7, 0x0b, 0x01, 0xe8, 0x0e, 0x03, 0x0f, 0x1c, 0x29, 0x0c,\n",
            "  0xab, 0xea, 0x1a, 0x30, 0x22, 0x19, 0xed, 0x01, 0xe9, 0xb8, 0x28, 0x27,\n",
            "  0x17, 0x0d, 0xfc, 0xfb, 0xc7, 0xe4, 0x0b, 0x30, 0x2d, 0x1b, 0xe3, 0x03,\n",
            "  0xcf, 0xf7, 0x07, 0x21, 0x10, 0x0b, 0x38, 0x0a, 0xa8, 0x03, 0x47, 0x08,\n",
            "  0x07, 0x37, 0x05, 0xfb, 0xad, 0x04, 0x2b, 0x27, 0x0f, 0xcb, 0x23, 0x3b,\n",
            "  0xc3, 0xcb, 0x1a, 0x29, 0x24, 0x10, 0x1c, 0xfd, 0x0c, 0x4a, 0x13, 0x1a,\n",
            "  0x22, 0x3d, 0xfe, 0xf3, 0xab, 0x0e, 0x35, 0x60, 0x28, 0x30, 0xbc, 0x07,\n",
            "  0xd0, 0x41, 0x45, 0x26, 0xfa, 0xa1, 0x7f, 0x2b, 0xcb, 0x9e, 0x1d, 0x3b,\n",
            "  0x42, 0x33, 0x25, 0x46, 0xeb, 0x07, 0x2d, 0x01, 0xf2, 0x41, 0x1f, 0x12,\n",
            "  0xb9, 0x19, 0x2f, 0x33, 0x2c, 0x4a, 0xed, 0x24, 0xd5, 0xf3, 0x13, 0x37,\n",
            "  0x15, 0xe6, 0x37, 0x3a, 0xd9, 0xe7, 0x21, 0xf2, 0x1e, 0x08, 0x27, 0x16,\n",
            "  0xb2, 0xdb, 0xce, 0x16, 0xce, 0xf9, 0x52, 0x24, 0xd7, 0x12, 0x38, 0x02,\n",
            "  0xe7, 0x4e, 0xdb, 0x32, 0xae, 0xf9, 0x0e, 0xf1, 0x07, 0x95, 0xfe, 0x24,\n",
            "  0x01, 0xe9, 0x0d, 0x33, 0x03, 0xe8, 0xd2, 0x41, 0xb4, 0x1e, 0xe1, 0x2e,\n",
            "  0xe6, 0x51, 0x33, 0x2b, 0x9e, 0x27, 0x19, 0x22, 0xfa, 0x16, 0xcd, 0x15,\n",
            "  0x86, 0x07, 0x63, 0x37, 0xd3, 0xb1, 0x1a, 0x61, 0xa9, 0x9d, 0xd4, 0x20,\n",
            "  0x28, 0xdc, 0xe3, 0x44, 0xcb, 0xe9, 0xd0, 0x28, 0x8d, 0xf6, 0x33, 0x14,\n",
            "  0xb3, 0x1b, 0xde, 0x17, 0xe9, 0x1a, 0xe4, 0x22, 0xfc, 0xd0, 0x53, 0x3a,\n",
            "  0xeb, 0xce, 0xec, 0x0f, 0x01, 0xdc, 0xef, 0x07, 0x21, 0xef, 0xac, 0xd6,\n",
            "  0x09, 0x2a, 0xc9, 0x03, 0x0e, 0x29, 0xfd, 0xcf, 0xc5, 0xc9, 0xc9, 0xcc,\n",
            "  0xf0, 0xe2, 0xf0, 0x00, 0xf5, 0x44, 0xe3, 0xe3, 0xdc, 0xe5, 0xf6, 0xee,\n",
            "  0xc6, 0xff, 0xfc, 0xf3, 0xe7, 0xf6, 0xf5, 0xc1, 0xde, 0x16, 0xe1, 0xe5,\n",
            "  0x00, 0xf9, 0x28, 0xfb, 0xed, 0xd6, 0x0b, 0xc7, 0xc1, 0x05, 0x02, 0x14,\n",
            "  0x45, 0x0f, 0xe7, 0xf6, 0xd7, 0xee, 0xe9, 0xee, 0xfe, 0xf3, 0xca, 0x24,\n",
            "  0xea, 0xe0, 0x13, 0xde, 0xdd, 0x02, 0xfe, 0xcf, 0x15, 0x24, 0x50, 0x0d,\n",
            "  0x15, 0xfb, 0x09, 0x0e, 0xea, 0xf0, 0x17, 0xd1, 0x30, 0x2f, 0x1d, 0x16,\n",
            "  0xf3, 0x12, 0x09, 0x05, 0xf2, 0x25, 0x05, 0x22, 0xed, 0x13, 0x3f, 0x07,\n",
            "  0xd3, 0xee, 0xfc, 0xd5, 0xe1, 0x06, 0x09, 0xc3, 0xdf, 0xec, 0xca, 0xdc,\n",
            "  0xa6, 0x0b, 0xb3, 0xcc, 0xfa, 0xe0, 0xdf, 0xf8, 0xd7, 0x35, 0xdd, 0x0a,\n",
            "  0xec, 0x21, 0xea, 0xee, 0x00, 0xdb, 0xc2, 0x15, 0xf3, 0x59, 0x00, 0x06,\n",
            "  0x01, 0xfa, 0xf9, 0xbb, 0x15, 0xdf, 0xe5, 0xf1, 0xff, 0x05, 0x25, 0xff,\n",
            "  0xea, 0x13, 0xf3, 0xe4, 0x34, 0x49, 0xf3, 0x0a, 0xd4, 0xf6, 0x02, 0x05,\n",
            "  0x03, 0x25, 0x03, 0x0c, 0xef, 0x4f, 0x47, 0xb7, 0x32, 0x33, 0x40, 0xe9,\n",
            "  0x33, 0xcc, 0xff, 0x20, 0xe7, 0xde, 0x06, 0x3b, 0xfa, 0x47, 0xed, 0x0f,\n",
            "  0xe1, 0xe8, 0x32, 0xf2, 0xc7, 0xf4, 0xfd, 0x0f, 0x07, 0x22, 0xf5, 0x1c,\n",
            "  0xbf, 0x40, 0xcb, 0xfb, 0xf5, 0xc9, 0xd1, 0xdc, 0x08, 0xed, 0xb1, 0x0a,\n",
            "  0xd9, 0xdc, 0xd7, 0xe3, 0xd7, 0x2e, 0x15, 0xc7, 0xb6, 0x9b, 0xe9, 0xf2,\n",
            "  0xec, 0x24, 0xd4, 0xf2, 0xe2, 0xa5, 0x16, 0xc5, 0xc2, 0x4b, 0x23, 0xfa,\n",
            "  0x2d, 0x23, 0x09, 0xb9, 0x26, 0x0e, 0xe4, 0xfe, 0xbe, 0xf0, 0xeb, 0xec,\n",
            "  0xce, 0x2d, 0xd8, 0x09, 0xcc, 0xff, 0xe8, 0xf7, 0xdb, 0x10, 0xf2, 0xec,\n",
            "  0xf6, 0x1d, 0x06, 0x0e, 0xc1, 0x37, 0x00, 0x81, 0x58, 0x28, 0x09, 0x0a,\n",
            "  0xce, 0x05, 0xea, 0x13, 0xb8, 0x05, 0xd9, 0xea, 0x93, 0x2a, 0x22, 0xb9,\n",
            "  0x9e, 0xee, 0x0d, 0x4e, 0xb8, 0xd0, 0xf3, 0xf0, 0xdb, 0xe5, 0x5d, 0xf6,\n",
            "  0xc3, 0xcc, 0xc9, 0xcd, 0xe1, 0xf6, 0x1d, 0xed, 0x90, 0xbd, 0xbf, 0x07,\n",
            "  0xe4, 0xcf, 0xeb, 0x03, 0xef, 0x16, 0xcf, 0xf8, 0xad, 0xb8, 0x1b, 0x6c,\n",
            "  0xcf, 0x23, 0xda, 0x20, 0xd2, 0xc6, 0xfc, 0xdb, 0xef, 0x22, 0x11, 0xd2,\n",
            "  0x23, 0x06, 0xff, 0xd5, 0xf1, 0xea, 0x12, 0x29, 0xaf, 0x21, 0x0c, 0x41,\n",
            "  0xfd, 0xab, 0x19, 0xfb, 0xf6, 0xe1, 0x28, 0x3f, 0x0e, 0x3a, 0xe3, 0xeb,\n",
            "  0xee, 0xef, 0x2e, 0xc0, 0xf3, 0x03, 0xca, 0xdf, 0x03, 0x23, 0x36, 0x12,\n",
            "  0x1d, 0xf6, 0xe1, 0x4a, 0x13, 0x3c, 0xc7, 0xf4, 0x38, 0x2f, 0xf8, 0x05,\n",
            "  0x08, 0xd0, 0x24, 0x51, 0xeb, 0x1f, 0x35, 0x16, 0x1d, 0xff, 0x6a, 0x06,\n",
            "  0xe8, 0x1e, 0xf2, 0xea, 0xde, 0xee, 0xf9, 0xe9, 0x0e, 0xb0, 0xfa, 0x11,\n",
            "  0xdc, 0x1d, 0xcc, 0xee, 0xfb, 0x4f, 0x03, 0xd2, 0xee, 0x01, 0x06, 0xad,\n",
            "  0xfe, 0x06, 0x06, 0xe6, 0xe3, 0xfc, 0xe7, 0xcf, 0xee, 0xff, 0xde, 0xdf,\n",
            "  0xfc, 0xd9, 0xfc, 0xd1, 0x1a, 0xdc, 0xbd, 0xe4, 0x0f, 0xfe, 0xef, 0x07,\n",
            "  0x16, 0xeb, 0x19, 0x0a, 0x05, 0x18, 0xf7, 0x07, 0xbc, 0xed, 0xd9, 0xe5,\n",
            "  0x01, 0x07, 0x06, 0xeb, 0xfb, 0x3e, 0x28, 0xee, 0x29, 0x1a, 0xe1, 0x17,\n",
            "  0x7f, 0xed, 0xdd, 0x1d, 0x12, 0xde, 0x30, 0x03, 0xce, 0x62, 0x05, 0xd5,\n",
            "  0xfe, 0xef, 0xfe, 0x00, 0xcc, 0x15, 0xd9, 0xde, 0xe3, 0xfd, 0x07, 0x08,\n",
            "  0xb5, 0xf7, 0xa3, 0xd7, 0x07, 0x05, 0xca, 0xf2, 0xa6, 0xd5, 0xc2, 0xd7,\n",
            "  0xbf, 0x00, 0x99, 0xe0, 0x82, 0x18, 0xd6, 0xee, 0xe0, 0x9f, 0x05, 0xd6,\n",
            "  0xd2, 0xf5, 0x91, 0xdf, 0xe2, 0x86, 0xd7, 0xdd, 0xa6, 0x53, 0x24, 0x1d,\n",
            "  0x21, 0xfe, 0x04, 0xf8, 0x03, 0xf4, 0xf8, 0xf5, 0x97, 0x01, 0xc5, 0x04,\n",
            "  0xce, 0x18, 0xe9, 0xcd, 0xcb, 0xbd, 0xe4, 0xed, 0xd0, 0xde, 0xdc, 0xc0,\n",
            "  0xf0, 0xa4, 0x0d, 0x0a, 0xbd, 0x6f, 0xe5, 0xc7, 0x75, 0xe1, 0xbd, 0x25,\n",
            "  0x82, 0x09, 0xff, 0xf8, 0xe0, 0xf0, 0xb9, 0xe1, 0xc3, 0x43, 0x3b, 0xe8,\n",
            "  0xc5, 0xb9, 0x33, 0xeb, 0x9d, 0x9b, 0xdb, 0xed, 0xe2, 0xc7, 0x4a, 0xef,\n",
            "  0xe8, 0xd5, 0xf4, 0xd6, 0xf2, 0xf8, 0x02, 0xce, 0xf7, 0xec, 0xf0, 0xf3,\n",
            "  0xfb, 0x0c, 0xdc, 0xf1, 0xf8, 0x01, 0xd7, 0xf9, 0x07, 0xee, 0xf7, 0x00,\n",
            "  0xf8, 0x13, 0xfa, 0x02, 0xf2, 0xc7, 0xd4, 0xca, 0xe8, 0x06, 0x0b, 0xef,\n",
            "  0xed, 0xfe, 0xee, 0xff, 0x23, 0xd0, 0xe2, 0x1c, 0x02, 0xdc, 0x12, 0x1c,\n",
            "  0x27, 0xf0, 0xdf, 0xea, 0x20, 0x08, 0x25, 0xf3, 0xf9, 0x3b, 0xe7, 0xfb,\n",
            "  0xf9, 0xf1, 0xf4, 0x18, 0x09, 0x3d, 0xf5, 0xe2, 0x2b, 0xf0, 0x22, 0xed,\n",
            "  0x14, 0xe8, 0xfb, 0xe6, 0xfb, 0x18, 0x12, 0xdf, 0x20, 0x1b, 0xe6, 0xd6,\n",
            "  0x12, 0x1a, 0x05, 0x2b, 0x05, 0xed, 0x0e, 0x04, 0xcd, 0x00, 0xf3, 0xf7,\n",
            "  0x15, 0xea, 0xfb, 0xec, 0xfb, 0xf6, 0xec, 0xfd, 0x05, 0xc7, 0xd6, 0x04,\n",
            "  0xd5, 0xeb, 0x25, 0xf3, 0x16, 0xe4, 0xe9, 0x0c, 0x0d, 0x09, 0xfa, 0xf3,\n",
            "  0xf5, 0xf1, 0xe7, 0xf0, 0xdf, 0xf9, 0xe1, 0xf6, 0xf1, 0xfd, 0x07, 0x07,\n",
            "  0xf5, 0x15, 0xf2, 0xe6, 0x1d, 0x04, 0x05, 0xe9, 0x0e, 0xec, 0x10, 0xda,\n",
            "  0x32, 0xbd, 0xcf, 0xfe, 0x07, 0x0d, 0xe1, 0xfb, 0xed, 0x13, 0xfc, 0x05,\n",
            "  0xf3, 0x23, 0xe8, 0x1d, 0x3a, 0x0f, 0x10, 0xff, 0x39, 0xf6, 0x1e, 0xdd,\n",
            "  0x1e, 0xe1, 0xfa, 0x05, 0x21, 0x0c, 0x32, 0xd5, 0x12, 0x3d, 0xed, 0xf0,\n",
            "  0x2c, 0xeb, 0xf5, 0xde, 0x0a, 0xfd, 0xef, 0xdc, 0xf5, 0x13, 0x10, 0x0e,\n",
            "  0xb6, 0x12, 0x09, 0xd3, 0xf4, 0xf6, 0xea, 0xe6, 0xee, 0xec, 0xf1, 0xf9,\n",
            "  0xb4, 0xff, 0x07, 0xf6, 0xdc, 0xf9, 0xf6, 0xca, 0xe3, 0xd7, 0xe5, 0xee,\n",
            "  0xf0, 0x23, 0xd2, 0xfb, 0xe3, 0xbc, 0x0a, 0xe4, 0x05, 0x45, 0x14, 0xe5,\n",
            "  0x34, 0x0c, 0xcf, 0x07, 0x0a, 0x06, 0x05, 0xdf, 0xe5, 0xfd, 0x09, 0x32,\n",
            "  0x11, 0x18, 0xf9, 0xf7, 0xe8, 0xd8, 0x05, 0x0a, 0x20, 0x1f, 0xe7, 0x00,\n",
            "  0xf3, 0x1c, 0x06, 0xf9, 0xae, 0x40, 0x02, 0xd5, 0x7f, 0xff, 0x0d, 0xda,\n",
            "  0x34, 0xf1, 0xe2, 0xe0, 0xd2, 0xf9, 0x06, 0x00, 0xd6, 0x37, 0xd7, 0xc0,\n",
            "  0x01, 0xea, 0xe3, 0x29, 0xfe, 0x2f, 0xeb, 0xe7, 0xc5, 0xcd, 0x5e, 0xcd,\n",
            "  0xf8, 0x10, 0xdd, 0xe0, 0xe4, 0x24, 0xfd, 0x0a, 0xd0, 0x0e, 0x02, 0x15,\n",
            "  0x07, 0xfc, 0xbc, 0x16, 0xf2, 0x10, 0xfe, 0x1d, 0x03, 0xea, 0x26, 0x18,\n",
            "  0xc1, 0xe7, 0x0d, 0x31, 0x41, 0x1d, 0xfb, 0x26, 0xdd, 0x0b, 0x13, 0x06,\n",
            "  0x0f, 0x33, 0x5a, 0xe9, 0xcf, 0x05, 0x1e, 0x05, 0x0e, 0x1b, 0xeb, 0x1e,\n",
            "  0xaa, 0x0c, 0x46, 0x3a, 0xf6, 0xd0, 0x3a, 0x36, 0xc5, 0x9c, 0x0e, 0x1b,\n",
            "  0xff, 0xf6, 0x0f, 0x0f, 0x16, 0xf1, 0xe1, 0xf7, 0xdc, 0x1e, 0xec, 0xe1,\n",
            "  0xc1, 0x01, 0xe8, 0xfe, 0x1c, 0xfb, 0xc2, 0x45, 0x02, 0x08, 0x09, 0x1a,\n",
            "  0x11, 0x2b, 0x2a, 0x01, 0xc3, 0xc5, 0x32, 0x1a, 0x10, 0x0a, 0xd1, 0x0b,\n",
            "  0xd5, 0x08, 0x09, 0xf2, 0x05, 0x1c, 0x29, 0x1e, 0x9e, 0x1c, 0x2a, 0x03,\n",
            "  0x1e, 0x2d, 0xf9, 0x13, 0xc6, 0xef, 0x05, 0x14, 0xec, 0xed, 0x33, 0x31,\n",
            "  0xd9, 0xca, 0x0c, 0x21, 0x28, 0xfa, 0xf3, 0x4a, 0xf8, 0x31, 0xfe, 0x1e,\n",
            "  0x13, 0x1c, 0x2b, 0x1a, 0xb5, 0x26, 0x38, 0x21, 0x13, 0x1f, 0xf7, 0x4a,\n",
            "  0xab, 0x30, 0x3f, 0x14, 0x27, 0xbc, 0x31, 0x1a, 0xf4, 0xb6, 0x45, 0x27,\n",
            "  0x21, 0xfd, 0x2e, 0x17, 0x00, 0x4f, 0xf3, 0x27, 0xe6, 0x19, 0x2b, 0xff,\n",
            "  0xb4, 0x11, 0x0a, 0x37, 0x27, 0x34, 0x04, 0x14, 0xc2, 0xdd, 0x1b, 0x21,\n",
            "  0x03, 0xf8, 0x25, 0x3f, 0xd8, 0xe6, 0xf1, 0x13, 0x18, 0x1b, 0x2f, 0x1d,\n",
            "  0xe1, 0xe6, 0xdc, 0x1c, 0xd7, 0xc8, 0xe3, 0x2d, 0xae, 0x1b, 0xfd, 0xf1,\n",
            "  0xf5, 0x04, 0x04, 0x0a, 0xed, 0xdd, 0x00, 0x12, 0xe2, 0xcc, 0xe4, 0x27,\n",
            "  0xfa, 0xfe, 0x12, 0x29, 0x2a, 0xf3, 0xb0, 0xf7, 0xa7, 0xdb, 0xd8, 0xe5,\n",
            "  0x0b, 0x19, 0xf7, 0x45, 0xc5, 0x08, 0x18, 0x23, 0x09, 0x32, 0xc1, 0x2a,\n",
            "  0x81, 0x35, 0x49, 0x4c, 0xde, 0x99, 0x25, 0x5c, 0xed, 0xb9, 0xfc, 0x0f,\n",
            "  0x21, 0xf8, 0xfe, 0x04, 0xbf, 0xd5, 0xe8, 0x10, 0xcf, 0xfa, 0xfd, 0x2c,\n",
            "  0x98, 0x11, 0x13, 0x3f, 0x0c, 0x13, 0xdf, 0x2e, 0xec, 0xcb, 0x26, 0x1a,\n",
            "  0x15, 0x02, 0x2f, 0x36, 0x0d, 0xcc, 0xf4, 0x2d, 0x33, 0x26, 0xb4, 0x01,\n",
            "  0x51, 0xe2, 0x37, 0x0a, 0x08, 0xf5, 0xd9, 0x1a, 0x45, 0x20, 0x19, 0x0b,\n",
            "  0xe5, 0xf4, 0x16, 0xea, 0x04, 0xda, 0x06, 0xe3, 0xf8, 0x01, 0x03, 0xcf,\n",
            "  0x3c, 0x0f, 0x14, 0xf1, 0xf5, 0xe6, 0xef, 0xe2, 0x7f, 0xec, 0x47, 0xf9,\n",
            "  0xc1, 0xc2, 0x0c, 0x13, 0x49, 0xe6, 0x15, 0xd7, 0x3e, 0x02, 0x46, 0xce,\n",
            "  0x23, 0xc7, 0xf1, 0x05, 0x38, 0x48, 0xf0, 0xb5, 0x45, 0x07, 0x1c, 0xf4,\n",
            "  0x1f, 0x2f, 0xd1, 0xe0, 0x17, 0x00, 0x1d, 0xff, 0xcf, 0xc5, 0xd8, 0x0d,\n",
            "  0x40, 0xfe, 0x05, 0xe5, 0x11, 0xd2, 0x5d, 0xfb, 0xf1, 0x02, 0xf3, 0xb4,\n",
            "  0x3d, 0x3c, 0x03, 0xe1, 0x15, 0xfd, 0x17, 0xba, 0xe2, 0x3e, 0xe2, 0xba,\n",
            "  0x09, 0xd5, 0x00, 0x1c, 0x01, 0x05, 0xbe, 0x0a, 0xd9, 0x1e, 0xf2, 0xe7,\n",
            "  0xe0, 0xdd, 0x36, 0x0e, 0x4d, 0x06, 0xdb, 0xf1, 0x24, 0x0d, 0xc3, 0xfc,\n",
            "  0x0a, 0x1b, 0x0e, 0xd9, 0x16, 0x2a, 0xc6, 0x0e, 0x28, 0xc0, 0x6b, 0x44,\n",
            "  0xc7, 0xf3, 0xc5, 0x20, 0x11, 0x28, 0x0a, 0xbf, 0x14, 0xfa, 0x50, 0x05,\n",
            "  0x16, 0xd4, 0x0f, 0x06, 0x57, 0x41, 0xdf, 0x01, 0x61, 0x42, 0x18, 0x07,\n",
            "  0x16, 0x07, 0xbb, 0xf0, 0x01, 0x03, 0xce, 0x04, 0xe0, 0xd2, 0x0b, 0x10,\n",
            "  0xf3, 0x08, 0xe1, 0xaf, 0xea, 0xf2, 0x13, 0x01, 0x37, 0xf3, 0x0d, 0xf9,\n",
            "  0x02, 0xf6, 0xd0, 0xef, 0x5e, 0x35, 0x12, 0xe2, 0xff, 0x1a, 0xdd, 0x16,\n",
            "  0x0c, 0x1d, 0xfd, 0x07, 0xfe, 0xb6, 0xbe, 0xbf, 0x2a, 0xfb, 0xd6, 0xb3,\n",
            "  0xa8, 0xfc, 0x39, 0xbe, 0xf8, 0xda, 0xea, 0xbd, 0x02, 0x17, 0xcb, 0xe6,\n",
            "  0x29, 0x45, 0xd9, 0xe9, 0xd8, 0xee, 0xe5, 0xbd, 0x2c, 0xc3, 0x2a, 0x1a,\n",
            "  0xe1, 0xef, 0x00, 0x0b, 0x59, 0xdf, 0x04, 0xd7, 0x3e, 0xf0, 0xfb, 0xb7,\n",
            "  0x0f, 0xca, 0x16, 0xbf, 0x7b, 0xec, 0xdf, 0xdc, 0x01, 0xfb, 0xe8, 0xdb,\n",
            "  0xf1, 0x17, 0xc9, 0x01, 0x21, 0xfc, 0x44, 0xd6, 0x06, 0xdf, 0xc7, 0x0f,\n",
            "  0x29, 0xf9, 0xeb, 0xd0, 0x19, 0xde, 0xe8, 0xde, 0xeb, 0xe4, 0xe9, 0xaa,\n",
            "  0x19, 0x1f, 0xf3, 0xd2, 0x12, 0x11, 0xbd, 0xcc, 0xed, 0x26, 0x00, 0xe1,\n",
            "  0xf0, 0xc5, 0x00, 0xc7, 0x1a, 0xdc, 0x24, 0xdd, 0xc4, 0xd0, 0xd4, 0xeb,\n",
            "  0x02, 0xfe, 0xb3, 0xf5, 0xee, 0xef, 0xe0, 0x02, 0xd6, 0xe5, 0x07, 0x0a,\n",
            "  0xa1, 0xdb, 0xe3, 0x17, 0xd5, 0x11, 0xcb, 0xf9, 0xf8, 0xd4, 0xe7, 0xff,\n",
            "  0x17, 0x11, 0xf3, 0xe7, 0x00, 0x00, 0x0b, 0x14, 0x06, 0xe7, 0xe1, 0x19,\n",
            "  0x15, 0x09, 0xfe, 0xed, 0xf9, 0xfd, 0x1f, 0xf0, 0x1d, 0x50, 0xe3, 0xf6,\n",
            "  0xfa, 0xf0, 0x45, 0xf8, 0xd4, 0x3c, 0x08, 0xa8, 0x37, 0x06, 0x42, 0x0b,\n",
            "  0x27, 0x09, 0xe1, 0xdc, 0xfb, 0x03, 0xf8, 0xac, 0x21, 0x21, 0x08, 0xf6,\n",
            "  0x05, 0x01, 0x32, 0x2e, 0xe3, 0x40, 0x04, 0x24, 0xe2, 0xfc, 0x14, 0xfe,\n",
            "  0x0a, 0x03, 0xfe, 0xe7, 0x09, 0x09, 0x16, 0xc5, 0xcc, 0xc5, 0xd2, 0x30,\n",
            "  0xea, 0x15, 0xc8, 0xe9, 0xce, 0xe6, 0xfe, 0xdb, 0xb4, 0xee, 0x25, 0x19,\n",
            "  0xb6, 0x14, 0x01, 0xfb, 0xce, 0xf8, 0xd0, 0xf4, 0x04, 0x54, 0xd3, 0xd9,\n",
            "  0x2d, 0x0a, 0x34, 0xd9, 0x2d, 0xf3, 0xfc, 0x05, 0xde, 0xe5, 0x10, 0xe8,\n",
            "  0x13, 0xf2, 0x03, 0x00, 0xff, 0x31, 0x02, 0xd9, 0xdc, 0x28, 0xd8, 0x04,\n",
            "  0xc2, 0x29, 0xe4, 0x07, 0xaa, 0x36, 0x2f, 0xe7, 0x1e, 0x0b, 0xf1, 0xfd,\n",
            "  0x50, 0xe7, 0xf5, 0x0a, 0x40, 0xe7, 0x2e, 0xdc, 0xc5, 0x46, 0xff, 0xfc,\n",
            "  0xe6, 0x2c, 0x36, 0x04, 0x04, 0xd7, 0xe6, 0xf3, 0xe2, 0x06, 0x24, 0xf1,\n",
            "  0xe0, 0xf4, 0xbc, 0xd6, 0xf2, 0xed, 0x38, 0xe4, 0xd4, 0x01, 0xd2, 0x10,\n",
            "  0x99, 0x03, 0xd6, 0xb6, 0xca, 0x35, 0x10, 0xf9, 0xc0, 0x91, 0xf7, 0x11,\n",
            "  0xcb, 0x31, 0xb3, 0xf6, 0xcd, 0xc1, 0x3a, 0xef, 0xa5, 0x40, 0x0f, 0xcd,\n",
            "  0x53, 0x29, 0xf4, 0x04, 0x17, 0xf7, 0xd5, 0x19, 0xf4, 0xfc, 0xd4, 0x57,\n",
            "  0xd5, 0x00, 0x08, 0x4f, 0xea, 0xb3, 0xf0, 0x13, 0x0c, 0x0e, 0xc3, 0x0d,\n",
            "  0xff, 0x2d, 0x51, 0x1b, 0xb8, 0x6a, 0xc8, 0xce, 0x7f, 0xfc, 0x24, 0xcd,\n",
            "  0xef, 0x21, 0xf2, 0x17, 0xca, 0x20, 0xb1, 0xed, 0xbe, 0x66, 0x0a, 0x1a,\n",
            "  0xbf, 0xca, 0x13, 0xfd, 0xd4, 0xe3, 0xf2, 0x01, 0xf8, 0xc6, 0x3a, 0x24,\n",
            "  0xad, 0xde, 0xee, 0x01, 0xfb, 0x08, 0x20, 0xde, 0xdf, 0xd9, 0xf4, 0xe0,\n",
            "  0xef, 0xc7, 0xd7, 0xd0, 0xfa, 0x06, 0xfc, 0xb9, 0xd3, 0xe3, 0xd6, 0xf4,\n",
            "  0xbd, 0x10, 0xd7, 0x10, 0xdc, 0xb2, 0xcd, 0xec, 0xf5, 0x16, 0xec, 0xf4,\n",
            "  0x0e, 0x17, 0x0b, 0xfd, 0x01, 0xe6, 0xe9, 0xf8, 0x02, 0xff, 0x16, 0x2d,\n",
            "  0x17, 0x0a, 0xd8, 0xf9, 0xfa, 0xf0, 0x15, 0xf5, 0xf0, 0x43, 0xe5, 0xe6,\n",
            "  0xee, 0xf6, 0x03, 0xd9, 0xf4, 0x33, 0xe1, 0xeb, 0x11, 0xf5, 0x32, 0xeb,\n",
            "  0x38, 0x0e, 0x02, 0x31, 0x04, 0x1c, 0xe9, 0xd4, 0xdc, 0x17, 0x23, 0x4f,\n",
            "  0xe8, 0xe7, 0x29, 0x1f, 0xdf, 0x27, 0x13, 0x42, 0x06, 0x00, 0x25, 0x13,\n",
            "  0xfc, 0x0c, 0x15, 0x05, 0xfa, 0x12, 0x14, 0xbe, 0x3a, 0x00, 0xfb, 0xe1,\n",
            "  0xe2, 0xed, 0x03, 0xc7, 0xdc, 0xfd, 0xf9, 0x0a, 0x10, 0x05, 0xc8, 0xcd,\n",
            "  0xd9, 0x12, 0xf5, 0xff, 0xcc, 0xf7, 0x20, 0xe0, 0xeb, 0x48, 0xf8, 0xef,\n",
            "  0x19, 0x1f, 0xe4, 0xcf, 0x16, 0x01, 0xc6, 0x04, 0xef, 0x06, 0x00, 0xfd,\n",
            "  0x29, 0x2b, 0xfd, 0xea, 0xfb, 0x4b, 0xfe, 0xd3, 0xae, 0x4c, 0xf9, 0x09,\n",
            "  0xd0, 0x3b, 0x08, 0xf3, 0x22, 0x6a, 0x3d, 0x14, 0x3d, 0x08, 0x08, 0xed,\n",
            "  0x4c, 0x0a, 0x23, 0xf4, 0x00, 0x01, 0xfb, 0xd8, 0xf8, 0x4f, 0xe1, 0xa8,\n",
            "  0x22, 0xf2, 0xef, 0x0a, 0x0b, 0xec, 0xf4, 0xea, 0xe9, 0x1c, 0x05, 0xc5,\n",
            "  0x9e, 0x20, 0xc0, 0xdc, 0x45, 0xe9, 0x03, 0xf0, 0xf0, 0x03, 0x0b, 0xe6,\n",
            "  0xde, 0xe7, 0xb1, 0xfd, 0x9d, 0x16, 0xf8, 0xdf, 0xe2, 0xc8, 0xd5, 0xd6,\n",
            "  0xc6, 0xfb, 0xe8, 0xda, 0x96, 0xc9, 0xfa, 0xb9, 0xb1, 0x49, 0xeb, 0x1d,\n",
            "  0x4e, 0x1d, 0xfc, 0x15, 0x33, 0x11, 0x08, 0x2a, 0xd6, 0x07, 0x1e, 0x3b,\n",
            "  0xe1, 0x2d, 0x05, 0x06, 0xe3, 0xd0, 0x05, 0x22, 0x0e, 0x0d, 0xf3, 0xf3,\n",
            "  0x04, 0x20, 0x47, 0xf5, 0xd3, 0x4e, 0xdc, 0xde, 0x45, 0xf7, 0x41, 0x1c,\n",
            "  0x1a, 0xe1, 0xe7, 0x15, 0xe9, 0x26, 0xd2, 0xfa, 0x8f, 0x22, 0x1d, 0x0c,\n",
            "  0xaa, 0xee, 0x26, 0xf0, 0xea, 0x02, 0xe6, 0x28, 0xfc, 0xc1, 0x7f, 0x08,\n",
            "  0xef, 0x34, 0xc7, 0xfd, 0x2e, 0x11, 0x2d, 0xd6, 0x8f, 0xde, 0x07, 0xe7,\n",
            "  0xe2, 0x13, 0xfb, 0xea, 0xdd, 0x2e, 0xda, 0xe1, 0xcc, 0xd8, 0xd1, 0x4c,\n",
            "  0xf1, 0x0b, 0xe0, 0x10, 0xd6, 0xf4, 0xc3, 0xd3, 0xe1, 0x1b, 0x02, 0xfa,\n",
            "  0x03, 0x2d, 0x08, 0xe5, 0xf5, 0xe9, 0x21, 0xd0, 0xa4, 0x1f, 0x12, 0x30,\n",
            "  0x00, 0xed, 0x07, 0xfd, 0xd4, 0xce, 0x1b, 0xf3, 0xe8, 0x08, 0xf7, 0xff,\n",
            "  0xda, 0xe7, 0x24, 0x1a, 0x09, 0x19, 0xe2, 0xca, 0x16, 0x19, 0x22, 0xdb,\n",
            "  0x14, 0xef, 0xf8, 0xf7, 0x16, 0xf3, 0xf7, 0xd5, 0x09, 0x3f, 0x40, 0xf1,\n",
            "  0xef, 0xfc, 0x14, 0x24, 0xdb, 0x0e, 0x29, 0x09, 0x20, 0x15, 0x55, 0x1d,\n",
            "  0xbc, 0x02, 0xf1, 0xec, 0x23, 0xc8, 0xe8, 0x04, 0xd9, 0xc8, 0xee, 0x0d,\n",
            "  0xc6, 0xf0, 0xca, 0xd0, 0xda, 0xe8, 0x0c, 0x11, 0x10, 0x05, 0xee, 0xfc,\n",
            "  0x9b, 0x3c, 0xd0, 0x1c, 0xc4, 0xed, 0xf6, 0xd4, 0xe5, 0x39, 0x15, 0xfa,\n",
            "  0x40, 0x0c, 0x20, 0xfd, 0x3e, 0x13, 0x1b, 0x0d, 0xe2, 0xfb, 0xed, 0x0a,\n",
            "  0x1d, 0x72, 0xea, 0xdb, 0x12, 0x03, 0xd5, 0xf6, 0xd9, 0x33, 0xfe, 0xef,\n",
            "  0xf3, 0x35, 0x20, 0xff, 0x0b, 0x74, 0x3a, 0xd2, 0x05, 0x2e, 0xde, 0x0b,\n",
            "  0x70, 0xe7, 0x0a, 0x42, 0x34, 0xfa, 0xeb, 0x0d, 0xbe, 0x46, 0xe0, 0xcb,\n",
            "  0x19, 0x08, 0x0e, 0xe5, 0x12, 0x0b, 0xca, 0x4a, 0xac, 0xf6, 0x2c, 0xfe,\n",
            "  0x93, 0x14, 0xbf, 0xcb, 0x2b, 0xd1, 0xf5, 0x0d, 0xd9, 0x08, 0xce, 0x13,\n",
            "  0xcd, 0x0d, 0xcd, 0xcd, 0xb2, 0x3e, 0x1c, 0xdd, 0x01, 0xc6, 0xc2, 0xce,\n",
            "  0xa2, 0x5f, 0xbf, 0xf5, 0xbb, 0xa1, 0x01, 0xf6, 0xcb, 0x36, 0x36, 0xe7,\n",
            "  0x45, 0x4a, 0xfc, 0xb5, 0xea, 0x11, 0xf2, 0xf1, 0xde, 0xe4, 0xe0, 0x11,\n",
            "  0xcd, 0x64, 0xdc, 0xd4, 0x12, 0xe5, 0x1b, 0x02, 0xdb, 0xf8, 0xf0, 0x14,\n",
            "  0xfd, 0x23, 0xfd, 0xe2, 0xda, 0x2c, 0x9d, 0x10, 0x56, 0x4d, 0x43, 0x04,\n",
            "  0x81, 0x25, 0x00, 0xf7, 0xc9, 0x1e, 0xaf, 0xee, 0xc0, 0x53, 0x29, 0xd4,\n",
            "  0x8a, 0xca, 0xe8, 0xf2, 0xc1, 0xb1, 0xf6, 0x07, 0xe1, 0xe4, 0x40, 0x05,\n",
            "  0x34, 0xe1, 0x59, 0x3c, 0xd1, 0xd7, 0xe7, 0x15, 0x17, 0x3d, 0x2e, 0xeb,\n",
            "  0x3a, 0xf6, 0x01, 0x4b, 0x25, 0xf3, 0x0f, 0xdf, 0x15, 0x14, 0xe4, 0xdb,\n",
            "  0x1a, 0xfd, 0x07, 0xee, 0x1b, 0x64, 0xe2, 0xdf, 0x71, 0x0a, 0x50, 0x30,\n",
            "  0x21, 0xf5, 0xd8, 0x25, 0x25, 0x2b, 0xf8, 0xfe, 0x0e, 0xde, 0x50, 0xe2,\n",
            "  0xde, 0x0a, 0x06, 0x08, 0x64, 0x25, 0xe5, 0x1a, 0x47, 0x1e, 0x3b, 0x11,\n",
            "  0x10, 0x0a, 0xeb, 0xe4, 0x34, 0xc5, 0x66, 0x44, 0xe0, 0xdf, 0xf7, 0x00,\n",
            "  0x00, 0x09, 0x09, 0xd6, 0x02, 0x16, 0x59, 0x40, 0x1c, 0xe4, 0x02, 0xe0,\n",
            "  0x22, 0x06, 0xdd, 0xed, 0x75, 0xf7, 0x11, 0x06, 0x1b, 0x34, 0xe7, 0xf1,\n",
            "  0x1b, 0xed, 0xcc, 0x34, 0xfd, 0xd2, 0xce, 0xfa, 0xf4, 0xf9, 0xd1, 0xc8,\n",
            "  0x12, 0x07, 0x16, 0xe6, 0x06, 0xf8, 0xe8, 0xff, 0x39, 0xed, 0xe9, 0xf9,\n",
            "  0x4e, 0xd7, 0x10, 0x05, 0x43, 0xf2, 0xc6, 0x13, 0xdf, 0xff, 0x0b, 0x00,\n",
            "  0x2a, 0xec, 0xf8, 0xcd, 0x19, 0x01, 0xb2, 0xc9, 0x12, 0xf0, 0x23, 0xda,\n",
            "  0xef, 0x0a, 0x04, 0x13, 0x01, 0xf8, 0xe8, 0xe3, 0x5a, 0xf0, 0xc7, 0xf0,\n",
            "  0x08, 0xf0, 0xf9, 0xb6, 0xa8, 0xde, 0xc8, 0x30, 0xfa, 0xe1, 0xf3, 0x24,\n",
            "  0xd2, 0x20, 0x07, 0xdd, 0xe6, 0xf4, 0xea, 0x31, 0x20, 0x1b, 0x31, 0x29,\n",
            "  0x41, 0x32, 0xf3, 0x14, 0x32, 0x2f, 0x15, 0xf2, 0x09, 0xf4, 0xee, 0x03,\n",
            "  0x1f, 0xae, 0x20, 0xdb, 0xd2, 0xe7, 0x03, 0x0e, 0x0d, 0x04, 0xea, 0xd8,\n",
            "  0xf6, 0xf2, 0x41, 0x00, 0x14, 0xbb, 0xfa, 0xba, 0xd8, 0x25, 0x17, 0xdf,\n",
            "  0x35, 0x28, 0x01, 0x07, 0x00, 0x29, 0xa1, 0xdb, 0x45, 0xf1, 0x2f, 0xb8,\n",
            "  0xb6, 0xca, 0xf3, 0xe8, 0xed, 0xd6, 0xe9, 0x1b, 0x3d, 0xe9, 0x15, 0xdc,\n",
            "  0x2a, 0xd5, 0xb4, 0x00, 0xe3, 0x4d, 0xec, 0xcf, 0xf9, 0x15, 0x09, 0xe7,\n",
            "  0xad, 0x42, 0xca, 0xc3, 0x1a, 0x81, 0x42, 0xef, 0x9c, 0xd3, 0xc9, 0xde,\n",
            "  0xc8, 0xdb, 0x0d, 0xeb, 0xdb, 0xc9, 0x8e, 0xf5, 0x00, 0xa3, 0x16, 0xe0,\n",
            "  0x27, 0x2a, 0xe7, 0x04, 0x20, 0x0a, 0x13, 0x01, 0x0b, 0x04, 0x90, 0xe4,\n",
            "  0x1d, 0xfd, 0x05, 0xf6, 0xee, 0x1f, 0x0b, 0xfe, 0xf9, 0x07, 0x2a, 0x24,\n",
            "  0x0f, 0x0b, 0x09, 0x27, 0xf9, 0x19, 0xfd, 0x19, 0xdc, 0xe6, 0xf5, 0xe7,\n",
            "  0xbf, 0xce, 0x1f, 0x3a, 0x29, 0xed, 0xce, 0x04, 0x0e, 0xf8, 0x0d, 0x27,\n",
            "  0xdc, 0x08, 0x15, 0x12, 0xb3, 0x05, 0x08, 0x0d, 0xe0, 0x0d, 0xf0, 0x34,\n",
            "  0xb9, 0x4a, 0x4f, 0x50, 0x05, 0xdd, 0x25, 0x53, 0xe5, 0xb8, 0xfa, 0x23,\n",
            "  0x41, 0xb5, 0x3b, 0x1c, 0x23, 0x08, 0xd1, 0x13, 0xf1, 0x10, 0xfa, 0xfb,\n",
            "  0xdc, 0xec, 0xee, 0x02, 0x16, 0x31, 0xf5, 0x4d, 0xdb, 0xfb, 0x35, 0x04,\n",
            "  0x09, 0x0e, 0xe2, 0x01, 0xc5, 0xdf, 0x47, 0xe8, 0x09, 0x00, 0xbe, 0xf6,\n",
            "  0xf2, 0x1b, 0xf8, 0x31, 0x1c, 0x18, 0x14, 0x14, 0xe0, 0xfa, 0x2a, 0x09,\n",
            "  0xfb, 0x15, 0x01, 0x08, 0xdb, 0xef, 0xdd, 0xf3, 0x16, 0xb9, 0x1c, 0x54,\n",
            "  0xcc, 0xd8, 0x1c, 0xf0, 0x39, 0x01, 0x17, 0x34, 0x16, 0x14, 0x34, 0xf6,\n",
            "  0xda, 0x1c, 0x05, 0x26, 0xb4, 0xf9, 0x37, 0x0f, 0xf9, 0x19, 0xda, 0x48,\n",
            "  0xc5, 0x1f, 0x51, 0x1f, 0x3f, 0xbe, 0x5c, 0x55, 0xd7, 0xbd, 0x19, 0xf9,\n",
            "  0x50, 0xf4, 0x19, 0x0e, 0x00, 0x0e, 0xdd, 0xeb, 0xd9, 0xfa, 0x0c, 0x0e,\n",
            "  0x9c, 0x1f, 0x23, 0x20, 0x04, 0x42, 0xce, 0x25, 0xda, 0xde, 0x09, 0x10,\n",
            "  0x27, 0x0d, 0x21, 0x30, 0xae, 0xe3, 0x3d, 0x2f, 0x17, 0xfb, 0x0b, 0x05,\n",
            "  0xfe, 0xc5, 0xe8, 0x0e, 0xf5, 0xe3, 0x11, 0x30, 0xbb, 0x2c, 0xe3, 0xfb,\n",
            "  0x15, 0x12, 0xd0, 0x51, 0xa6, 0xec, 0x26, 0x0e, 0xe2, 0x81, 0x06, 0x29,\n",
            "  0xf2, 0xd2, 0x10, 0x39, 0x21, 0x08, 0xd4, 0x12, 0xc3, 0x02, 0xdf, 0x17,\n",
            "  0xab, 0x33, 0x1f, 0xf9, 0xc4, 0x22, 0x1c, 0x1e, 0xfc, 0x15, 0xc4, 0xf7,\n",
            "  0xae, 0x23, 0x44, 0x27, 0x03, 0xad, 0x17, 0x7f, 0xd6, 0xb7, 0x30, 0x52,\n",
            "  0x3a, 0xea, 0xdc, 0x3f, 0xa6, 0xd6, 0xec, 0x1c, 0xaa, 0x0b, 0x00, 0x17,\n",
            "  0xb8, 0x1c, 0x36, 0x50, 0x16, 0x1f, 0xc2, 0x28, 0xe5, 0x94, 0x15, 0x19,\n",
            "  0xf3, 0xef, 0x44, 0xfb, 0xb5, 0x0a, 0xfe, 0x27, 0x3e, 0x08, 0x85, 0x03,\n",
            "  0x28, 0x20, 0xbc, 0x19, 0x11, 0x3c, 0x02, 0xee, 0xee, 0xf2, 0x1b, 0x2a,\n",
            "  0x21, 0x06, 0xd5, 0x12, 0xf9, 0x1a, 0x1d, 0x00, 0xed, 0xf5, 0x01, 0x2e,\n",
            "  0xe2, 0xc5, 0x18, 0x25, 0x22, 0x00, 0xed, 0x13, 0x13, 0x2b, 0x10, 0x26,\n",
            "  0xe6, 0x33, 0x1e, 0x09, 0xc8, 0xf7, 0x05, 0x4a, 0xf3, 0x2a, 0xe2, 0x1a,\n",
            "  0xcc, 0x48, 0x6e, 0x65, 0x2d, 0xf1, 0xf8, 0x5f, 0xad, 0xa3, 0xf4, 0x0a,\n",
            "  0x21, 0xc6, 0xf2, 0x08, 0x2f, 0x0a, 0xf5, 0x0c, 0xe3, 0xfe, 0xde, 0x07,\n",
            "  0xd6, 0xea, 0x0b, 0x2e, 0x34, 0xe7, 0xf3, 0x10, 0x01, 0x0d, 0x04, 0x03,\n",
            "  0x13, 0x22, 0xf1, 0xe0, 0xd2, 0xe0, 0x1e, 0xfe, 0xf4, 0x20, 0x0d, 0xfc,\n",
            "  0x12, 0x25, 0x08, 0x16, 0x16, 0x10, 0x2d, 0x16, 0xe6, 0x38, 0xfb, 0x3a,\n",
            "  0x2e, 0x58, 0xe5, 0x01, 0xcb, 0x04, 0x3a, 0x34, 0x06, 0xc5, 0xf7, 0x2b,\n",
            "  0xfc, 0xb8, 0x2b, 0x28, 0x1a, 0x12, 0xfd, 0x3d, 0x19, 0x63, 0x05, 0x29,\n",
            "  0x0c, 0x1f, 0x0a, 0x0d, 0xab, 0x09, 0x36, 0x69, 0x11, 0xfd, 0xf2, 0x22,\n",
            "  0x97, 0x1a, 0x4d, 0x19, 0xfa, 0xd9, 0x6b, 0x3b, 0xcf, 0xa4, 0x2a, 0x0a,\n",
            "  0x38, 0x1c, 0x49, 0x2d, 0xe0, 0x44, 0xe3, 0xfc, 0x0d, 0x25, 0x25, 0xfe,\n",
            "  0xc1, 0xfc, 0x0d, 0x02, 0x06, 0x2b, 0x19, 0x12, 0xcd, 0xfe, 0x1b, 0xf3,\n",
            "  0xdb, 0xf2, 0x29, 0x18, 0xd3, 0xac, 0x2a, 0x22, 0x13, 0x0a, 0xea, 0x24,\n",
            "  0xce, 0x00, 0x04, 0x0a, 0xac, 0x22, 0x23, 0x41, 0xe9, 0xed, 0x14, 0xf9,\n",
            "  0xe8, 0x37, 0x11, 0x26, 0xec, 0xb1, 0x62, 0xff, 0x23, 0x9b, 0x14, 0x35,\n",
            "  0xc6, 0xc1, 0x38, 0x19, 0x39, 0xf9, 0xd6, 0x40, 0xe7, 0x20, 0xf9, 0x0c,\n",
            "  0xdb, 0x2f, 0x2c, 0x42, 0x9e, 0x17, 0x1c, 0x3b, 0xe3, 0x32, 0xa7, 0x0c,\n",
            "  0xa3, 0x19, 0x58, 0x59, 0xbc, 0x8b, 0x2e, 0x5b, 0xe2, 0x9a, 0xe4, 0x40,\n",
            "  0x5a, 0xe0, 0xf1, 0x1f, 0xc9, 0x81, 0xc7, 0x33, 0xcb, 0x1e, 0x23, 0x21,\n",
            "  0x90, 0xfe, 0x35, 0x4b, 0xee, 0x1b, 0xc9, 0x1e, 0xc9, 0xb4, 0x17, 0x16,\n",
            "  0x18, 0xfa, 0x4c, 0x15, 0x13, 0xbc, 0xfe, 0xeb, 0x20, 0x00, 0xb1, 0x18,\n",
            "  0x0a, 0xcb, 0x39, 0x2f, 0xff, 0xe8, 0xdb, 0xf9, 0xf9, 0x3e, 0xf2, 0xcb,\n",
            "  0xf2, 0x07, 0x35, 0x30, 0xf5, 0x14, 0x21, 0xeb, 0x2e, 0xf2, 0x19, 0xfe,\n",
            "  0x30, 0xc2, 0xe7, 0xcc, 0x00, 0x1d, 0x10, 0x0c, 0x56, 0xe3, 0x1f, 0xb5,\n",
            "  0x0a, 0xdf, 0xe1, 0x43, 0xff, 0xeb, 0x10, 0xea, 0x59, 0xfe, 0xfb, 0xdd,\n",
            "  0x0a, 0x09, 0xe2, 0xeb, 0x1e, 0x16, 0xc5, 0xf3, 0x16, 0x14, 0x2a, 0xfe,\n",
            "  0xfa, 0x24, 0xfc, 0xf2, 0xe3, 0xdd, 0x3a, 0x1b, 0x08, 0x0c, 0xd8, 0x0c,\n",
            "  0xf5, 0x3e, 0x0a, 0x03, 0xcd, 0x0c, 0x48, 0x24, 0xec, 0xd3, 0x2a, 0x24,\n",
            "  0x3a, 0x0a, 0xe3, 0xf5, 0x2e, 0xf2, 0x01, 0x12, 0xf1, 0x3a, 0xd4, 0xcf,\n",
            "  0x00, 0xc8, 0xe4, 0x2a, 0xf9, 0xe0, 0xeb, 0x07, 0xdb, 0x24, 0xf9, 0xed,\n",
            "  0x12, 0x1c, 0xf0, 0xce, 0x0c, 0xeb, 0x1b, 0xd2, 0x0e, 0x00, 0x9e, 0xfe,\n",
            "  0x25, 0x2e, 0x2b, 0x15, 0x3a, 0x0c, 0xe0, 0xf8, 0xdf, 0xe1, 0x65, 0xc1,\n",
            "  0xe3, 0xb3, 0xd7, 0xeb, 0x19, 0x13, 0xd7, 0xbc, 0x08, 0x13, 0x3e, 0x0c,\n",
            "  0xf8, 0x07, 0x0c, 0xd1, 0x37, 0xf6, 0x0e, 0xfb, 0x77, 0x17, 0x10, 0x1f,\n",
            "  0xfd, 0x09, 0xd4, 0xbc, 0x13, 0x00, 0xdc, 0xfa, 0xee, 0x14, 0xcb, 0x05,\n",
            "  0xc0, 0x44, 0xfe, 0xeb, 0xea, 0xdc, 0xfb, 0x15, 0x06, 0x09, 0x14, 0x0f,\n",
            "  0xf0, 0xe5, 0xee, 0xf1, 0x23, 0x56, 0x29, 0xf7, 0xd1, 0xe6, 0x00, 0xe1,\n",
            "  0x5b, 0xbd, 0x2d, 0x30, 0xe6, 0xdf, 0xb6, 0xe7, 0x02, 0xe7, 0x15, 0x1c,\n",
            "  0xdb, 0xf9, 0x07, 0xf4, 0xe9, 0xe7, 0x2b, 0xf0, 0x30, 0x39, 0xfd, 0xdb,\n",
            "  0x0f, 0xed, 0x18, 0x15, 0xfc, 0x27, 0xce, 0x0c, 0x1f, 0xdb, 0x22, 0x51,\n",
            "  0xce, 0x9e, 0xca, 0x33, 0xca, 0x2c, 0x32, 0xf4, 0x56, 0xf9, 0x53, 0xed,\n",
            "  0xf5, 0xec, 0x04, 0xfb, 0x7f, 0x15, 0x08, 0xf1, 0xf0, 0xe4, 0x3c, 0x2d,\n",
            "  0x59, 0x1b, 0xc8, 0xeb, 0x31, 0x83, 0x58, 0x04, 0xad, 0xdd, 0xce, 0x0e,\n",
            "  0xc4, 0xe8, 0x3f, 0xee, 0x11, 0xf3, 0xe6, 0x2a, 0x23, 0xa7, 0xf8, 0xa9,\n",
            "  0x02, 0x37, 0xce, 0xd6, 0x39, 0xac, 0x05, 0xce, 0xf5, 0x1a, 0x95, 0xb2,\n",
            "  0xe5, 0x1c, 0x3f, 0xd0, 0x27, 0x24, 0x35, 0x27, 0xe7, 0xd8, 0xf9, 0xdf,\n",
            "  0xe3, 0x1f, 0xf2, 0x02, 0xfa, 0x07, 0x1a, 0xd2, 0x0c, 0xd6, 0x10, 0xff,\n",
            "  0xf5, 0xea, 0x10, 0xea, 0x07, 0xe6, 0x02, 0x0a, 0xe8, 0x0a, 0xf6, 0x2c,\n",
            "  0x1f, 0xd2, 0xec, 0xc5, 0x3e, 0xda, 0xa7, 0x07, 0xdc, 0x0d, 0xf2, 0xa5,\n",
            "  0x33, 0xd5, 0xff, 0x02, 0x16, 0x16, 0x0e, 0x01, 0xe6, 0x20, 0xe1, 0xed,\n",
            "  0x9b, 0x11, 0xf0, 0xf2, 0x08, 0xdd, 0x16, 0x1a, 0x24, 0xfe, 0x27, 0x36,\n",
            "  0x2b, 0xf1, 0xde, 0x2e, 0xfd, 0xcd, 0x16, 0x0c, 0xf9, 0xda, 0xf8, 0x29,\n",
            "  0x25, 0x0d, 0x05, 0x3d, 0x07, 0x1f, 0x7f, 0x40, 0x0d, 0x08, 0x17, 0x56,\n",
            "  0x0a, 0x10, 0x23, 0x08, 0xfd, 0xb4, 0xd6, 0xdb, 0x1a, 0xcd, 0xd0, 0x16,\n",
            "  0xbe, 0xe0, 0x22, 0x23, 0xd7, 0xf5, 0xd6, 0xcd, 0x25, 0xfa, 0xf9, 0xc8,\n",
            "  0xf7, 0x15, 0xfd, 0x01, 0xfd, 0xda, 0xed, 0xea, 0x31, 0x04, 0x07, 0x24,\n",
            "  0x00, 0xf3, 0xc3, 0xf2, 0x18, 0xce, 0xfe, 0x06, 0xde, 0xc3, 0xf2, 0xda,\n",
            "  0xe1, 0x1b, 0xa3, 0xf6, 0xfc, 0x1b, 0xe8, 0xf3, 0xf6, 0xf1, 0xdc, 0x18,\n",
            "  0xd8, 0xc6, 0xf8, 0xb3, 0xee, 0x19, 0x56, 0x06, 0x3b, 0x42, 0x05, 0x05,\n",
            "  0x51, 0x04, 0x10, 0xea, 0x04, 0x3b, 0xf5, 0x44, 0x1b, 0x26, 0x41, 0xfe,\n",
            "  0xfc, 0x05, 0x44, 0xfa, 0x26, 0xfe, 0xfd, 0x45, 0xed, 0xfb, 0xec, 0x2c,\n",
            "  0x0f, 0x1e, 0x05, 0xf6, 0x5b, 0xfe, 0x01, 0xef, 0xfa, 0x1c, 0x13, 0x13,\n",
            "  0xe2, 0xc8, 0xff, 0x06, 0x01, 0x35, 0x14, 0xc5, 0xf4, 0x17, 0x03, 0xf1,\n",
            "  0xfa, 0xf0, 0xda, 0xcf, 0xc9, 0xcf, 0x17, 0xd9, 0xf8, 0x09, 0xd9, 0xe9,\n",
            "  0x1f, 0xb9, 0x02, 0xc3, 0xe8, 0xf7, 0xf6, 0xf9, 0xd5, 0xc9, 0xec, 0x01,\n",
            "  0xd8, 0x0d, 0xe8, 0xb2, 0xf4, 0x0d, 0xce, 0xdb, 0x00, 0x06, 0x12, 0xd6,\n",
            "  0x08, 0xf2, 0x05, 0xe5, 0x07, 0x26, 0x07, 0xed, 0x3a, 0xe7, 0x34, 0x14,\n",
            "  0xf8, 0x15, 0xf3, 0x27, 0xdb, 0x24, 0x20, 0x09, 0xe3, 0x0a, 0xf9, 0x33,\n",
            "  0x1f, 0xdd, 0x02, 0x0d, 0x0b, 0xd6, 0x0e, 0x0e, 0x27, 0xf1, 0x02, 0xf9,\n",
            "  0xc5, 0xdd, 0xe6, 0x00, 0x22, 0xef, 0xed, 0x08, 0xc1, 0xba, 0x01, 0xf2,\n",
            "  0xe6, 0x04, 0xd6, 0xfd, 0xec, 0x4a, 0xeb, 0xe6, 0xba, 0xca, 0x10, 0x21,\n",
            "  0xab, 0x25, 0xeb, 0x0b, 0xd1, 0xe1, 0xf5, 0xc4, 0xe7, 0xe7, 0xf7, 0x0a,\n",
            "  0xf8, 0xc3, 0xb3, 0xb7, 0xe2, 0xff, 0x0e, 0xd0, 0xeb, 0x2b, 0xd7, 0x30,\n",
            "  0x1e, 0xf2, 0xd9, 0xd9, 0x06, 0xc1, 0xf5, 0x07, 0x18, 0x0a, 0xdd, 0xbf,\n",
            "  0x02, 0xea, 0x28, 0x08, 0xd5, 0xec, 0x0e, 0xf5, 0x13, 0x2c, 0x31, 0x03,\n",
            "  0x2d, 0x0d, 0xe7, 0x05, 0xf7, 0x41, 0xe9, 0xdb, 0x33, 0x3c, 0xe4, 0xef,\n",
            "  0xed, 0x0e, 0x29, 0x47, 0xeb, 0x1a, 0x2b, 0xfe, 0x0f, 0xfa, 0x1d, 0xf1,\n",
            "  0x0a, 0x17, 0xf0, 0xcb, 0xd6, 0xc7, 0x01, 0xf8, 0xb3, 0xd6, 0x0c, 0xc7,\n",
            "  0xdd, 0xca, 0xcd, 0xc0, 0x06, 0xf7, 0xd6, 0x16, 0xe7, 0xfc, 0xe9, 0xfb,\n",
            "  0xb0, 0xe6, 0xef, 0x14, 0xd9, 0xd0, 0x21, 0xdb, 0x2a, 0x2d, 0x07, 0xf1,\n",
            "  0x34, 0xc0, 0xe8, 0xae, 0x1b, 0x04, 0x11, 0xd8, 0xc6, 0x0d, 0x0e, 0xc2,\n",
            "  0xe7, 0x49, 0xe7, 0xb6, 0x4b, 0xfb, 0xe3, 0xed, 0xfa, 0xeb, 0xac, 0xfd,\n",
            "  0xb6, 0x05, 0x18, 0x05, 0xd6, 0x33, 0x0e, 0xca, 0x30, 0x1c, 0xf9, 0x1c,\n",
            "  0x2d, 0xfe, 0x33, 0x0d, 0x21, 0xe7, 0x2d, 0x23, 0xe4, 0x07, 0xc9, 0x11,\n",
            "  0x24, 0xee, 0x42, 0xfe, 0xe1, 0xfc, 0xcb, 0x29, 0xe7, 0x23, 0x55, 0x1c,\n",
            "  0xf7, 0x15, 0xab, 0xee, 0x0e, 0xf4, 0xf8, 0xe6, 0xc1, 0xdd, 0xad, 0xfa,\n",
            "  0xa0, 0x08, 0xb7, 0xd7, 0xe1, 0x2b, 0xdf, 0xc6, 0xac, 0xe4, 0x02, 0xd7,\n",
            "  0x15, 0xf2, 0xac, 0xfe, 0xec, 0xb1, 0xdb, 0xe3, 0xd4, 0x60, 0xfa, 0xf2,\n",
            "  0x12, 0x02, 0xe8, 0xfd, 0xea, 0xca, 0x0a, 0x09, 0xc1, 0x11, 0xce, 0x1c,\n",
            "  0xc2, 0xed, 0x04, 0xec, 0xf9, 0x81, 0x12, 0x14, 0xce, 0xce, 0xe0, 0xf2,\n",
            "  0x0d, 0xf9, 0x0d, 0xdc, 0xa4, 0x58, 0x0f, 0xda, 0x58, 0x4d, 0x2d, 0x15,\n",
            "  0xca, 0xca, 0x06, 0x14, 0xf3, 0x13, 0xeb, 0xde, 0x97, 0x59, 0xfd, 0x39,\n",
            "  0xd4, 0xb7, 0xf8, 0x2b, 0xd5, 0xbf, 0xbf, 0x31, 0x07, 0x02, 0x3b, 0x26,\n",
            "  0x07, 0xf9, 0xeb, 0xfc, 0x06, 0x31, 0x12, 0xf5, 0xef, 0x19, 0xea, 0x1a,\n",
            "  0x09, 0xf7, 0xc1, 0x0d, 0xf5, 0xd7, 0x03, 0x1b, 0xf5, 0x05, 0xef, 0xfd,\n",
            "  0xe1, 0xb3, 0xf9, 0x16, 0x2e, 0x0f, 0x0c, 0xef, 0xfa, 0x12, 0x20, 0x19,\n",
            "  0x1b, 0x34, 0x1a, 0x1d, 0xb8, 0x00, 0x4f, 0xf2, 0x03, 0x05, 0xec, 0x29,\n",
            "  0xc0, 0x3c, 0x4f, 0xf2, 0xf6, 0xd0, 0x0d, 0x1b, 0xda, 0xb8, 0x18, 0x32,\n",
            "  0x40, 0x08, 0x03, 0x2f, 0x0a, 0x2b, 0xfa, 0x40, 0x14, 0x2a, 0x09, 0x0d,\n",
            "  0xce, 0x03, 0x04, 0x29, 0x17, 0x08, 0xd9, 0x1a, 0x13, 0x1a, 0x03, 0xec,\n",
            "  0xfb, 0x1b, 0x19, 0x07, 0xcb, 0xd7, 0x30, 0x12, 0xf5, 0x3e, 0xce, 0xbd,\n",
            "  0xdb, 0x12, 0x1b, 0x29, 0x25, 0xfc, 0x42, 0x14, 0xb2, 0x1f, 0x36, 0x08,\n",
            "  0x1c, 0xf6, 0x19, 0x0a, 0xba, 0x1d, 0xf9, 0x14, 0x1d, 0xc5, 0xff, 0x2e,\n",
            "  0xdd, 0x97, 0xf1, 0x10, 0x49, 0xff, 0x30, 0x25, 0xf0, 0x40, 0x26, 0xfc,\n",
            "  0x0f, 0x5c, 0x28, 0xfe, 0xd3, 0x0c, 0x25, 0x46, 0xf5, 0x0c, 0xd4, 0x54,\n",
            "  0xb0, 0x5d, 0x36, 0x3c, 0xfa, 0x96, 0x53, 0x0f, 0xd9, 0x9f, 0xf4, 0x32,\n",
            "  0x37, 0x2c, 0x41, 0x1e, 0xe8, 0x18, 0xfa, 0x08, 0xda, 0xf4, 0xec, 0x2e,\n",
            "  0xb0, 0x0f, 0x25, 0x30, 0x16, 0x2c, 0x03, 0x01, 0xa8, 0xcb, 0x14, 0x34,\n",
            "  0x13, 0xe2, 0x1a, 0x30, 0xd8, 0xd2, 0x3d, 0x29, 0x07, 0x0d, 0x02, 0x1f,\n",
            "  0xc6, 0x18, 0xd2, 0x10, 0xec, 0x27, 0x15, 0xfc, 0xd3, 0xf4, 0xf0, 0x24,\n",
            "  0x01, 0xff, 0x0a, 0x1f, 0xc3, 0xc3, 0x1b, 0xe0, 0x3c, 0xd3, 0x21, 0x54,\n",
            "  0xec, 0xbd, 0x11, 0xfc, 0x03, 0x2d, 0xa1, 0x20, 0xac, 0xf0, 0xe9, 0x27,\n",
            "  0x13, 0x2e, 0x3d, 0x33, 0xb3, 0x10, 0x3c, 0x48, 0xc6, 0x39, 0xad, 0x24,\n",
            "  0xbc, 0xf9, 0x51, 0x3d, 0x02, 0x9b, 0x59, 0x4e, 0xcb, 0x81, 0xee, 0x5a,\n",
            "  0x64, 0xf3, 0x22, 0xe9, 0xea, 0xda, 0xd0, 0x1b, 0xbe, 0x22, 0x06, 0x2e,\n",
            "  0xbb, 0x1a, 0xd9, 0x12, 0x0b, 0x20, 0xe9, 0x39, 0x02, 0xd7, 0x29, 0x26,\n",
            "  0xdb, 0xf8, 0x44, 0x04, 0xd8, 0xdb, 0xf9, 0x12, 0xe4, 0x19, 0xa7, 0x20,\n",
            "  0x47, 0xc6, 0x3b, 0x3b, 0xe4, 0xd5, 0xfe, 0xfb, 0x19, 0x26, 0x26, 0xdb,\n",
            "  0x18, 0xe9, 0x7b, 0x1d, 0x47, 0xb6, 0xd5, 0x1c, 0x21, 0x28, 0x10, 0xec,\n",
            "  0xf5, 0x2b, 0xe4, 0xe1, 0xe4, 0x08, 0xd2, 0xf3, 0x71, 0xa1, 0x7f, 0xcb,\n",
            "  0xd0, 0xa7, 0xce, 0xff, 0x5a, 0xc4, 0xbf, 0x03, 0x2d, 0x1a, 0x54, 0xf4,\n",
            "  0x19, 0xe7, 0xcb, 0xe2, 0x68, 0x57, 0x0d, 0x9c, 0x58, 0x2e, 0x3e, 0x10,\n",
            "  0xda, 0x21, 0xb5, 0xd6, 0x47, 0xf1, 0x51, 0x30, 0xf5, 0x8f, 0xd7, 0xf2,\n",
            "  0x72, 0x21, 0x4a, 0xe0, 0x42, 0xf6, 0x58, 0x0a, 0x09, 0xb3, 0xcd, 0xfd,\n",
            "  0x61, 0x40, 0x04, 0xb7, 0x3c, 0x19, 0xfc, 0xef, 0x03, 0x32, 0x98, 0xd0,\n",
            "  0xfa, 0xad, 0x31, 0x1e, 0xde, 0xce, 0xe3, 0xf4, 0x3b, 0x4f, 0xbe, 0xd8,\n",
            "  0xdd, 0xf9, 0xd4, 0xcc, 0x19, 0xe4, 0x23, 0xfe, 0xe8, 0x32, 0xb5, 0xe5,\n",
            "  0x31, 0x34, 0x43, 0x14, 0xe9, 0x4f, 0xc4, 0xeb, 0xdb, 0xbe, 0xfb, 0x07,\n",
            "  0xf5, 0xca, 0xe6, 0xe6, 0x03, 0x04, 0xd8, 0xab, 0x10, 0x18, 0x3f, 0x19,\n",
            "  0x45, 0xcd, 0x12, 0x0a, 0x4b, 0x54, 0xcd, 0xfe, 0x7d, 0x4c, 0x01, 0x05,\n",
            "  0x0c, 0x5f, 0xc3, 0xc4, 0x23, 0xae, 0xdb, 0xe6, 0xf0, 0xb9, 0xe7, 0x02,\n",
            "  0xea, 0x0e, 0xe4, 0x88, 0xf9, 0x2c, 0xc2, 0xed, 0x2e, 0x23, 0x05, 0xe8,\n",
            "  0x35, 0xfb, 0xc3, 0x23, 0x44, 0x36, 0xe8, 0xeb, 0x13, 0x2a, 0xef, 0x01,\n",
            "  0xe3, 0x07, 0xc2, 0xc9, 0xdf, 0x8d, 0xb9, 0xa3, 0x0b, 0x0a, 0xfd, 0xa0,\n",
            "  0xd3, 0xd9, 0x16, 0xcf, 0xeb, 0xb7, 0x05, 0xdf, 0xf4, 0x0b, 0xee, 0xaf,\n",
            "  0x61, 0x33, 0xb5, 0xd3, 0xb9, 0xe5, 0xdb, 0xc5, 0x20, 0x23, 0x9e, 0xaf,\n",
            "  0xec, 0xc7, 0xb5, 0xc9, 0xf9, 0x04, 0xe3, 0xf1, 0x2a, 0xcb, 0xf2, 0xe2,\n",
            "  0x09, 0x02, 0xda, 0xdb, 0x0b, 0xf6, 0xb1, 0xdd, 0x0b, 0xd2, 0xcb, 0x0a,\n",
            "  0xf9, 0x1b, 0xdc, 0xf3, 0xb1, 0x3c, 0x17, 0xc1, 0x03, 0x91, 0xda, 0xdf,\n",
            "  0xec, 0x0a, 0xeb, 0xf9, 0x15, 0xfd, 0xd8, 0xbf, 0x00, 0xe2, 0xea, 0xac,\n",
            "  0x15, 0x44, 0xf4, 0xc6, 0xc7, 0x33, 0xc7, 0xaf, 0x08, 0xb7, 0xe2, 0xf3,\n",
            "  0xfb, 0xec, 0x0a, 0x06, 0x04, 0xf2, 0xde, 0xde, 0xde, 0xf0, 0x14, 0xd7,\n",
            "  0xf7, 0x16, 0xfe, 0xf6, 0x0d, 0x29, 0xd8, 0xe8, 0xed, 0xef, 0xef, 0x05,\n",
            "  0x05, 0xe9, 0x34, 0xfb, 0xfc, 0x28, 0xe4, 0x1c, 0x23, 0x08, 0xe2, 0xdb,\n",
            "  0xfc, 0xbc, 0xe8, 0x14, 0xba, 0xde, 0x11, 0xcb, 0xee, 0x39, 0x0d, 0xd6,\n",
            "  0x3a, 0xd1, 0xf6, 0xc4, 0x48, 0x25, 0xc3, 0x1d, 0xa6, 0xb6, 0xf8, 0xe1,\n",
            "  0x07, 0x34, 0xf3, 0xcf, 0x3e, 0x03, 0x24, 0x19, 0xec, 0xf5, 0xe9, 0xd1,\n",
            "  0x05, 0xfa, 0x05, 0xf0, 0x11, 0xe5, 0xcf, 0xe5, 0x02, 0xfa, 0xed, 0xd8,\n",
            "  0xf2, 0x27, 0xdf, 0xbc, 0xbb, 0xdf, 0x3b, 0xf2, 0x3c, 0xfb, 0xdc, 0xc1,\n",
            "  0x18, 0xfa, 0x06, 0x2c, 0xf2, 0xf3, 0xff, 0x46, 0xec, 0x1e, 0xd2, 0xf9,\n",
            "  0x12, 0x2e, 0x0d, 0xdc, 0x03, 0xd4, 0xfb, 0xfa, 0x03, 0x25, 0xd4, 0x2c,\n",
            "  0x22, 0x0c, 0x41, 0xd5, 0xea, 0xff, 0x01, 0x06, 0x1f, 0xe1, 0x41, 0xdd,\n",
            "  0xeb, 0x20, 0x19, 0x32, 0xfa, 0x36, 0x0b, 0xcf, 0x0b, 0x5b, 0x0d, 0x08,\n",
            "  0x05, 0xfc, 0x09, 0x20, 0x3b, 0x04, 0x08, 0x04, 0x55, 0xd3, 0x17, 0xd2,\n",
            "  0x2c, 0x13, 0xe7, 0xf2, 0xd7, 0xfc, 0x37, 0x07, 0xc7, 0xcc, 0x22, 0x17,\n",
            "  0x05, 0x0d, 0xdb, 0x18, 0x27, 0xf2, 0x1a, 0xef, 0x05, 0xae, 0xe5, 0xdc,\n",
            "  0x0f, 0x13, 0xfb, 0x10, 0x14, 0x0a, 0xe7, 0xb6, 0xec, 0xf3, 0x1e, 0xd7,\n",
            "  0x47, 0xc7, 0x26, 0x4d, 0xe8, 0x00, 0xf3, 0x37, 0xf0, 0x23, 0x1e, 0xff,\n",
            "  0x75, 0x1f, 0x2b, 0xfb, 0x42, 0xdb, 0x54, 0x01, 0x32, 0x18, 0x18, 0x05,\n",
            "  0x0e, 0xf1, 0x18, 0xf9, 0x20, 0x32, 0xe0, 0x06, 0x1b, 0xdb, 0x1c, 0x52,\n",
            "  0xc0, 0x1f, 0x3d, 0x14, 0xc9, 0x3c, 0x39, 0x34, 0x11, 0x5c, 0x38, 0xdc,\n",
            "  0xdc, 0xd3, 0x7f, 0x20, 0x18, 0x12, 0x26, 0x15, 0x06, 0xd4, 0x56, 0x0e,\n",
            "  0x68, 0x03, 0xe2, 0xe9, 0x27, 0xe5, 0x32, 0x21, 0xbb, 0x33, 0x1a, 0x38,\n",
            "  0xcb, 0xff, 0x42, 0x0e, 0xef, 0x28, 0x1d, 0x2b, 0x15, 0xf5, 0x32, 0x20,\n",
            "  0x13, 0x5f, 0xf7, 0x12, 0xd1, 0xb0, 0x52, 0x0a, 0x40, 0x40, 0xd7, 0xda,\n",
            "  0x28, 0xd7, 0xda, 0x03, 0xfa, 0x09, 0xfe, 0xa8, 0xc6, 0xe0, 0xc2, 0x09,\n",
            "  0xdc, 0xec, 0xe2, 0xdc, 0x09, 0x42, 0xb5, 0xf5, 0x07, 0xd6, 0xf9, 0x08,\n",
            "  0xce, 0xf8, 0xdf, 0x21, 0xd3, 0xf2, 0x00, 0x16, 0xde, 0x14, 0x12, 0xf7,\n",
            "  0x22, 0xfe, 0x10, 0xd4, 0x08, 0xea, 0xf6, 0x2a, 0xc2, 0xe1, 0x0f, 0x4e,\n",
            "  0x25, 0xfd, 0xd6, 0x03, 0x0b, 0x13, 0x1d, 0x19, 0x0c, 0x4f, 0xdb, 0xf2,\n",
            "  0xd7, 0xec, 0x1a, 0xfd, 0x01, 0x35, 0xca, 0xe2, 0x26, 0x0e, 0x6a, 0xf6,\n",
            "  0x3a, 0xf6, 0xf0, 0xe7, 0xf1, 0x05, 0xfc, 0xdc, 0x09, 0x29, 0x04, 0xf0,\n",
            "  0x01, 0xea, 0xfe, 0x56, 0x00, 0x12, 0x12, 0x18, 0x06, 0xe7, 0x1c, 0x31,\n",
            "  0xab, 0xfd, 0xf8, 0xd5, 0x1c, 0xce, 0xf9, 0xb5, 0x19, 0xe5, 0xd7, 0xf0,\n",
            "  0xe6, 0x01, 0xf9, 0xe9, 0xec, 0xe0, 0xfd, 0xaf, 0x03, 0x31, 0xf9, 0x13,\n",
            "  0xef, 0x25, 0xcb, 0xe6, 0x07, 0x32, 0xf9, 0xd7, 0x21, 0xea, 0xe6, 0x02,\n",
            "  0xf1, 0x1f, 0x45, 0xf3, 0x15, 0xf7, 0xfa, 0x0e, 0xe3, 0x04, 0x13, 0xeb,\n",
            "  0x21, 0xd3, 0xe8, 0xd9, 0x09, 0x3f, 0xcc, 0xfc, 0xec, 0x03, 0xfc, 0xe6,\n",
            "  0xe2, 0x1c, 0x0c, 0x4e, 0xeb, 0x6d, 0x31, 0xda, 0x50, 0x0f, 0xf5, 0xf4,\n",
            "  0x77, 0xd2, 0x04, 0xf3, 0x1c, 0x21, 0xfc, 0x0d, 0xdb, 0x7d, 0xd7, 0xec,\n",
            "  0xe1, 0x2c, 0xfb, 0xf8, 0xfb, 0xfc, 0xcc, 0xdc, 0xfe, 0x1e, 0x35, 0xf8,\n",
            "  0xb0, 0x1e, 0xb0, 0xe9, 0x5a, 0xe8, 0x12, 0xd8, 0xdf, 0xff, 0xd9, 0xe8,\n",
            "  0xd1, 0xe7, 0xea, 0xcf, 0xda, 0xfe, 0xe7, 0xe0, 0xe0, 0xc5, 0xc7, 0x0e,\n",
            "  0xed, 0x17, 0xb2, 0xd9, 0xeb, 0xc6, 0x0e, 0x10, 0x81, 0x17, 0x04, 0xcd,\n",
            "  0x50, 0x38, 0x03, 0x03, 0x0b, 0xd8, 0xe5, 0x24, 0x06, 0xe8, 0xeb, 0x3d,\n",
            "  0xe8, 0xfc, 0x01, 0x13, 0xfd, 0xc6, 0xfe, 0x1d, 0xd5, 0x02, 0xcf, 0x2c,\n",
            "  0xca, 0x0e, 0x08, 0x0b, 0xbe, 0x5b, 0xc6, 0xcc, 0x43, 0xeb, 0x32, 0xfb,\n",
            "  0xe6, 0xf1, 0x02, 0xec, 0xc9, 0x17, 0xd9, 0xb4, 0xcc, 0x55, 0x03, 0x1c,\n",
            "  0xbb, 0xbf, 0xcc, 0x1a, 0xfb, 0xce, 0xc4, 0x04, 0xc1, 0xe2, 0x43, 0x24,\n",
            "  0x17, 0x10, 0xb6, 0x22, 0xd8, 0x26, 0x3b, 0x04, 0x08, 0x08, 0x1d, 0x0f,\n",
            "  0x12, 0x4b, 0xda, 0x0b, 0xf1, 0x1c, 0x3c, 0xfe, 0x0c, 0x15, 0xfd, 0x17,\n",
            "  0xc7, 0xb7, 0x11, 0x1b, 0x04, 0x17, 0xd1, 0xf7, 0xea, 0x1d, 0x01, 0x17,\n",
            "  0xf2, 0xe8, 0x3d, 0xe4, 0xbb, 0x08, 0x1f, 0x20, 0x15, 0xe2, 0x05, 0xe6,\n",
            "  0xce, 0x49, 0x5c, 0x3f, 0x04, 0xcd, 0x1d, 0x33, 0xc1, 0xe3, 0xf8, 0x12,\n",
            "  0x07, 0xe9, 0x16, 0xee, 0x30, 0xdf, 0xf8, 0x25, 0xdf, 0x01, 0x0f, 0x03,\n",
            "  0xb6, 0xff, 0x12, 0xf3, 0x3c, 0x05, 0xcc, 0x13, 0xec, 0x05, 0xec, 0x18,\n",
            "  0x22, 0x29, 0x27, 0x30, 0x81, 0xc3, 0x02, 0x43, 0xf0, 0x02, 0xa7, 0xf7,\n",
            "  0xc9, 0x20, 0x2b, 0xee, 0x14, 0x52, 0x3a, 0x10, 0xa0, 0x22, 0x15, 0x38,\n",
            "  0x39, 0x34, 0xec, 0x03, 0xc4, 0x09, 0x2c, 0xed, 0xff, 0xcc, 0x17, 0x12,\n",
            "  0xe6, 0xaf, 0x27, 0x19, 0x36, 0x22, 0x24, 0x1c, 0x02, 0x2b, 0x3a, 0x1b,\n",
            "  0x17, 0x25, 0x46, 0x20, 0xae, 0x35, 0x43, 0x30, 0x0a, 0x26, 0xfc, 0x51,\n",
            "  0xdb, 0x31, 0x0e, 0x5d, 0x01, 0xb7, 0x4a, 0x4e, 0xce, 0xb2, 0x2b, 0xee,\n",
            "  0x36, 0x22, 0x33, 0x4d, 0x04, 0x3a, 0x14, 0xdb, 0xfe, 0x0f, 0x35, 0x3a,\n",
            "  0xa3, 0x21, 0x3a, 0x34, 0x26, 0x00, 0xed, 0x24, 0xbd, 0x11, 0x33, 0x0c,\n",
            "  0x10, 0xcb, 0x20, 0x29, 0xc2, 0xe1, 0x24, 0x1e, 0x00, 0xfd, 0x21, 0x0b,\n",
            "  0xbe, 0x05, 0x14, 0x27, 0x04, 0x08, 0x1b, 0x38, 0xb9, 0x1d, 0x0e, 0xea,\n",
            "  0xf5, 0x2b, 0xe9, 0x25, 0xb6, 0xea, 0x14, 0x23, 0xf7, 0x85, 0xfe, 0x49,\n",
            "  0xf3, 0xa4, 0x09, 0x27, 0xfe, 0xf7, 0xb6, 0x06, 0xb0, 0xea, 0x26, 0x0d,\n",
            "  0xe6, 0x34, 0x41, 0x21, 0xb0, 0x38, 0x38, 0x33, 0xd7, 0x31, 0xc7, 0x2d,\n",
            "  0x95, 0x1c, 0x58, 0x59, 0xde, 0xa0, 0x32, 0x5f, 0xb9, 0x88, 0x0b, 0x1c,\n",
            "  0x4f, 0xff, 0xec, 0x2c, 0xe9, 0xe1, 0xe0, 0x4a, 0xdf, 0x21, 0x23, 0x28,\n",
            "  0x8e, 0xfd, 0x08, 0x1c, 0xf8, 0x3a, 0xc0, 0xfb, 0xd7, 0x90, 0x0b, 0x2f,\n",
            "  0xc0, 0xcf, 0x4c, 0x49, 0xcd, 0xf0, 0x05, 0x0f, 0x24, 0x13, 0xd4, 0x4f,\n",
            "  0x00, 0x1d, 0xe5, 0x11, 0x1a, 0x3f, 0x2f, 0x06, 0xd5, 0x2a, 0x35, 0x0b,\n",
            "  0x2e, 0x26, 0xa6, 0x19, 0xe5, 0x1b, 0x1e, 0x29, 0xfe, 0x0d, 0x09, 0x04,\n",
            "  0xc6, 0xd3, 0x16, 0x11, 0x38, 0x20, 0xed, 0x07, 0x07, 0x39, 0xf4, 0xfe,\n",
            "  0xf9, 0x1b, 0x5b, 0xfa, 0xbf, 0xf8, 0xf0, 0x00, 0x08, 0x08, 0xd7, 0x12,\n",
            "  0x91, 0x59, 0x31, 0x2b, 0x0c, 0xd9, 0x24, 0x3a, 0xef, 0xb0, 0x17, 0x40,\n",
            "  0x45, 0xff, 0x30, 0x1b, 0x10, 0x07, 0xc8, 0x35, 0xe1, 0xf2, 0x17, 0xce,\n",
            "  0xb5, 0xef, 0x30, 0x24, 0x33, 0xf5, 0xde, 0x44, 0xfb, 0xff, 0x19, 0x21,\n",
            "  0x21, 0x1e, 0x3a, 0x1a, 0xd8, 0xca, 0x13, 0x00, 0x2d, 0x08, 0xf5, 0xe5,\n",
            "  0xde, 0x07, 0x19, 0x1a, 0x05, 0x24, 0x11, 0x1b, 0xb7, 0x04, 0x14, 0x21,\n",
            "  0x3a, 0x15, 0x08, 0x3b, 0xc0, 0xf1, 0x1a, 0x32, 0x20, 0x03, 0x20, 0x47,\n",
            "  0xed, 0xd3, 0xfc, 0x32, 0x14, 0x48, 0x14, 0x21, 0xe5, 0x4c, 0x22, 0x14,\n",
            "  0x65, 0x7c, 0x49, 0x05, 0x81, 0x28, 0x69, 0x4b, 0xe8, 0x14, 0xc8, 0x59,\n",
            "  0xc1, 0x7c, 0x57, 0x28, 0x14, 0x9d, 0x56, 0x2d, 0xe8, 0xa1, 0x19, 0x01,\n",
            "  0x36, 0x0b, 0x6c, 0x4f, 0xe8, 0x17, 0xe7, 0xfb, 0xf5, 0x14, 0x10, 0x39,\n",
            "  0xc0, 0x02, 0x43, 0x17, 0x39, 0xfb, 0x2d, 0x2f, 0x91, 0xc7, 0x13, 0x0f,\n",
            "  0x1d, 0xd9, 0xe4, 0x39, 0xfa, 0xd3, 0x04, 0x28, 0xf3, 0xe4, 0x0b, 0x51,\n",
            "  0xb5, 0xef, 0xe8, 0x4d, 0xe4, 0x1e, 0x2b, 0x1b, 0xab, 0x1e, 0x2c, 0x28,\n",
            "  0xfa, 0x02, 0xf5, 0x2e, 0xc1, 0xd7, 0x04, 0x0a, 0xf3, 0xae, 0x05, 0x3e,\n",
            "  0xe7, 0xe2, 0x09, 0x2f, 0x20, 0xff, 0x97, 0x31, 0xbc, 0x4f, 0xdf, 0x37,\n",
            "  0xfd, 0x58, 0x55, 0x2b, 0xb9, 0x28, 0x02, 0x12, 0xd2, 0x4f, 0xfd, 0x03,\n",
            "  0x86, 0x19, 0x62, 0x65, 0xc1, 0x8a, 0x66, 0x5f, 0xc2, 0x8e, 0x2e, 0x33,\n",
            "  0x60, 0x06, 0xe7, 0x14, 0xd6, 0xe0, 0xf9, 0x1e, 0xb2, 0xe5, 0x12, 0x28,\n",
            "  0xae, 0x25, 0x3b, 0x2d, 0x0e, 0x34, 0xc9, 0x45, 0xe0, 0xb3, 0x39, 0x26,\n",
            "  0xe4, 0xe2, 0x2c, 0x24, 0xd1, 0xf5, 0xf4, 0x11, 0x3e, 0x37, 0x9c, 0x14,\n",
            "  0xf3, 0x09, 0x1b, 0xdb, 0xf1, 0xed, 0x17, 0xef, 0x45, 0xdf, 0xf2, 0xe1,\n",
            "  0x03, 0xe8, 0xe2, 0xcf, 0xe8, 0xd7, 0xe6, 0xdf, 0x16, 0x1b, 0x02, 0xf1,\n",
            "  0xcd, 0x23, 0x15, 0xfd, 0xf6, 0xf4, 0xcb, 0xc4, 0x39, 0xc4, 0x30, 0xe6,\n",
            "  0xbe, 0xfd, 0xd8, 0xe9, 0x79, 0x0e, 0xf4, 0xf8, 0x42, 0xf6, 0x27, 0x00,\n",
            "  0x7f, 0xa7, 0xee, 0xca, 0x26, 0x42, 0x10, 0xfe, 0x3d, 0x38, 0x12, 0xf7,\n",
            "  0xe7, 0x29, 0xd0, 0x21, 0x28, 0x19, 0x2f, 0x13, 0x22, 0xf2, 0xdc, 0xb9,\n",
            "  0x4a, 0x0f, 0xf8, 0xf1, 0x14, 0xe1, 0x2c, 0xec, 0xf3, 0x16, 0xbb, 0xdb,\n",
            "  0x44, 0x40, 0xfe, 0xdf, 0x01, 0x1a, 0xfe, 0xcd, 0xe4, 0x1a, 0xcc, 0xef,\n",
            "  0x01, 0xfd, 0xd7, 0xe6, 0xfc, 0xe7, 0xf9, 0x1f, 0x08, 0xe3, 0xf0, 0xe4,\n",
            "  0xe3, 0xce, 0xf5, 0xd1, 0x27, 0x10, 0xe9, 0xd2, 0x28, 0x0d, 0x0a, 0xca,\n",
            "  0x10, 0x30, 0xfc, 0xdb, 0xea, 0xfa, 0xef, 0x04, 0xed, 0xc9, 0x0c, 0x30,\n",
            "  0xf3, 0x04, 0x03, 0x20, 0x48, 0x1e, 0x0c, 0x18, 0x23, 0x18, 0x30, 0xed,\n",
            "  0x4f, 0xcc, 0xf8, 0xfe, 0x15, 0x37, 0x04, 0xe9, 0x3b, 0x36, 0x0c, 0x04,\n",
            "  0x04, 0x03, 0x9e, 0xef, 0x1a, 0xda, 0xe1, 0xe1, 0xf5, 0xd1, 0xc1, 0xdd,\n",
            "  0x24, 0x14, 0xe9, 0xd9, 0xf8, 0xdf, 0xf4, 0xd8, 0x11, 0xf6, 0xea, 0xe2,\n",
            "  0x0c, 0xed, 0xc7, 0x0b, 0x41, 0x0d, 0x18, 0xf3, 0xfb, 0x1b, 0x00, 0xfb,\n",
            "  0xc6, 0x38, 0x0b, 0xe2, 0x2a, 0xe5, 0xa5, 0xcc, 0x0d, 0xda, 0xdf, 0xf1,\n",
            "  0xd8, 0xeb, 0xfa, 0x03, 0xd4, 0xe8, 0xf6, 0xc3, 0xd6, 0x24, 0xdf, 0xcb,\n",
            "  0xf8, 0x2d, 0x03, 0xfa, 0xde, 0xc1, 0x0d, 0xe2, 0x03, 0x09, 0xf5, 0xd8,\n",
            "  0xec, 0x1f, 0xd7, 0x04, 0x0a, 0xcf, 0x07, 0xea, 0xee, 0xcf, 0xb9, 0x0f,\n",
            "  0x2c, 0xe8, 0xfa, 0x09, 0xee, 0xcc, 0x17, 0xd0, 0xa8, 0x62, 0xed, 0xd2,\n",
            "  0x08, 0x1c, 0xd8, 0xf7, 0x11, 0x46, 0x2e, 0xf1, 0x6b, 0xe4, 0xf7, 0xcc,\n",
            "  0x56, 0x0d, 0xfe, 0xc7, 0x08, 0xfb, 0xe8, 0x0c, 0xd0, 0x29, 0xbb, 0xd1,\n",
            "  0xd2, 0xfa, 0xcc, 0xb8, 0x11, 0x46, 0xe1, 0xdd, 0xe8, 0xd9, 0x15, 0xde,\n",
            "  0xe0, 0x06, 0xb1, 0xb2, 0xca, 0xe1, 0x3b, 0xf4, 0xf6, 0xb6, 0xb0, 0xe5,\n",
            "  0x11, 0x10, 0xe7, 0x08, 0x1a, 0xf4, 0xaf, 0xd0, 0xb3, 0xb5, 0xdb, 0x40,\n",
            "  0xaf, 0x21, 0xec, 0x0a, 0xd7, 0xbc, 0xba, 0xe0, 0xeb, 0xfc, 0xd6, 0x00,\n",
            "  0x46, 0x28, 0x27, 0xf7, 0xe4, 0xdd, 0xcd, 0xde, 0xe1, 0xfd, 0x0d, 0x17,\n",
            "  0x2c, 0x18, 0xfe, 0x02, 0x0a, 0xac, 0x13, 0xf9, 0xff, 0x39, 0xea, 0x14,\n",
            "  0xe5, 0xf5, 0xfa, 0x20, 0xe1, 0x4b, 0xd0, 0xfd, 0x44, 0x13, 0x24, 0x06,\n",
            "  0xf5, 0x11, 0xdb, 0x0f, 0xf3, 0x12, 0xdc, 0xb8, 0x2a, 0x51, 0xc3, 0x28,\n",
            "  0x08, 0xed, 0x28, 0x0a, 0xd2, 0x1d, 0xec, 0xcc, 0xed, 0x00, 0x22, 0xda,\n",
            "  0x00, 0x04, 0x2d, 0xca, 0x0f, 0xde, 0xcb, 0xfd, 0x27, 0xd9, 0xf1, 0x04,\n",
            "  0xc8, 0xf0, 0xd8, 0x00, 0xfe, 0xcc, 0xda, 0xe3, 0x2d, 0xe4, 0x15, 0xfb,\n",
            "  0xdb, 0xf9, 0xc2, 0xd3, 0xd9, 0x23, 0xe6, 0xf8, 0xe5, 0xf1, 0xe3, 0x1a,\n",
            "  0x25, 0x1c, 0x2b, 0xf1, 0x0d, 0xe0, 0xc8, 0xc8, 0xfc, 0x12, 0xef, 0xcf,\n",
            "  0x2c, 0x0e, 0xd0, 0xd8, 0xf8, 0xf6, 0x01, 0xfe, 0xeb, 0xee, 0xcd, 0xeb,\n",
            "  0xc0, 0x39, 0x03, 0x08, 0xdc, 0x5e, 0x24, 0xfb, 0x26, 0x1f, 0xfa, 0x03,\n",
            "  0x53, 0xc6, 0x21, 0x3d, 0x2b, 0x1f, 0x02, 0x20, 0xc6, 0x43, 0xd0, 0xea,\n",
            "  0xcc, 0x0b, 0x07, 0xeb, 0x14, 0xdd, 0xdc, 0xfa, 0xc6, 0x26, 0x34, 0x01,\n",
            "  0xd3, 0x02, 0xd0, 0xdf, 0x61, 0xcc, 0xdf, 0xdc, 0xf0, 0xe2, 0xa7, 0xcc,\n",
            "  0xca, 0xe8, 0xab, 0xe5, 0xd8, 0x43, 0xfb, 0xf0, 0xc7, 0xbd, 0x01, 0x0f,\n",
            "  0xd5, 0x03, 0x94, 0xd3, 0xcf, 0x8f, 0x0c, 0xe8, 0xd8, 0x24, 0x2c, 0x00,\n",
            "  0x3a, 0x17, 0xed, 0xf5, 0xec, 0x12, 0xed, 0x03, 0xea, 0xed, 0xe6, 0x5e,\n",
            "  0xd1, 0xe9, 0x1c, 0x1a, 0xed, 0xb2, 0x46, 0xf0, 0xfa, 0x0e, 0xe7, 0x00,\n",
            "  0xde, 0x1f, 0x58, 0xf5, 0xa6, 0x53, 0xe6, 0xd8, 0x55, 0xf5, 0xfa, 0x02,\n",
            "  0xdc, 0xe9, 0xc1, 0x08, 0xc8, 0x1f, 0xb6, 0xec, 0xbc, 0x42, 0xf1, 0xe9,\n",
            "  0xdc, 0xcd, 0xc9, 0xe5, 0xd3, 0xad, 0xe1, 0x02, 0xe0, 0xdb, 0x7f, 0xd5,\n",
            "  0xeb, 0xfe, 0xe0, 0x15, 0x00, 0x22, 0x1d, 0xe6, 0xf0, 0xff, 0x17, 0x1a,\n",
            "  0xf9, 0x27, 0xb4, 0xf0, 0xeb, 0x08, 0xf4, 0x0c, 0xf5, 0xf5, 0x1e, 0x18,\n",
            "  0xf9, 0xd2, 0x07, 0x30, 0xdf, 0x0d, 0xdc, 0x0c, 0xe9, 0x25, 0xfe, 0x2c,\n",
            "  0x19, 0x2b, 0x10, 0x06, 0xbc, 0x12, 0x31, 0x08, 0x15, 0x09, 0xf1, 0x43,\n",
            "  0xdc, 0x37, 0x26, 0x1f, 0xfb, 0xcc, 0x3e, 0x2e, 0xc7, 0xcb, 0x01, 0x32,\n",
            "  0x27, 0xf7, 0x19, 0x22, 0x0c, 0x02, 0xef, 0x11, 0x0c, 0x32, 0xfe, 0xf4,\n",
            "  0xbd, 0xf5, 0xfa, 0x06, 0x23, 0x10, 0xf0, 0x2f, 0xfd, 0x14, 0x19, 0xff,\n",
            "  0xf5, 0x18, 0x01, 0x1c, 0xd5, 0xe0, 0x0d, 0x14, 0x0a, 0x0f, 0xc9, 0x0d,\n",
            "  0xee, 0x0e, 0x0e, 0x03, 0x12, 0x02, 0x32, 0x06, 0xbf, 0x0a, 0x16, 0x2f,\n",
            "  0x10, 0x4e, 0xd0, 0x11, 0xcd, 0xf7, 0x31, 0x40, 0x03, 0xbc, 0x06, 0x18,\n",
            "  0xe1, 0x81, 0x29, 0xd7, 0x33, 0x16, 0x18, 0x32, 0xf8, 0x34, 0x26, 0x0b,\n",
            "  0x18, 0x24, 0x46, 0x00, 0xc7, 0x0e, 0x24, 0x1e, 0x0f, 0x21, 0xd9, 0x46,\n",
            "  0xad, 0x27, 0x30, 0x32, 0xe9, 0xda, 0x54, 0x26, 0xe8, 0xd1, 0x1b, 0xfa,\n",
            "  0x3b, 0x1e, 0x4c, 0x3b, 0xf0, 0x30, 0xe2, 0x1a, 0x00, 0x0f, 0x12, 0x1e,\n",
            "  0xa9, 0x12, 0x25, 0xf5, 0x02, 0x04, 0xf4, 0x20, 0xa7, 0xe6, 0xf4, 0xfe,\n",
            "  0x08, 0xf8, 0x23, 0x34, 0xc7, 0xe5, 0x0a, 0x24, 0x12, 0x1e, 0xe5, 0x23,\n",
            "  0xdf, 0xe8, 0xe2, 0x15, 0xf8, 0x07, 0x11, 0x3d, 0xba, 0x0e, 0xe8, 0x20,\n",
            "  0x2e, 0x3e, 0xea, 0x24, 0xd8, 0xdb, 0x17, 0xe7, 0x1e, 0xc6, 0x10, 0x63,\n",
            "  0xe1, 0xfd, 0x16, 0x22, 0x30, 0xfc, 0xb4, 0x0b, 0xc0, 0x09, 0x03, 0x0f,\n",
            "  0x09, 0x39, 0x12, 0x22, 0xd8, 0x0f, 0x1c, 0x0c, 0xf7, 0x1a, 0xe0, 0x10,\n",
            "  0xb4, 0x13, 0x47, 0x45, 0xde, 0x97, 0x15, 0x65, 0xcb, 0xb0, 0x08, 0x37,\n",
            "  0x49, 0xf3, 0xe0, 0x25, 0xbd, 0xb6, 0xf9, 0x3f, 0xdd, 0x1c, 0x09, 0x12,\n",
            "  0xc4, 0x24, 0x0a, 0x38, 0x0b, 0x18, 0xb7, 0x0f, 0x02, 0xc3, 0x19, 0x14,\n",
            "  0xcc, 0x27, 0x15, 0x42, 0xc4, 0xe7, 0x1d, 0x2c, 0x1e, 0x26, 0x9d, 0x1a,\n",
            "  0x06, 0xfd, 0xfe, 0xee, 0x26, 0x00, 0x18, 0x1b, 0xb5, 0xfe, 0xf2, 0xea,\n",
            "  0x15, 0x08, 0xf7, 0x00, 0xf2, 0x21, 0xe1, 0xf1, 0xd3, 0x07, 0x0b, 0xf1,\n",
            "  0xe7, 0x02, 0xd8, 0x01, 0xef, 0xec, 0xff, 0x11, 0xe7, 0x02, 0x25, 0x10,\n",
            "  0x1d, 0x26, 0x09, 0xde, 0x00, 0xca, 0xdf, 0x09, 0xf3, 0x0d, 0x08, 0x29,\n",
            "  0x10, 0x18, 0xfd, 0xd8, 0xec, 0xef, 0x08, 0xe7, 0x0b, 0x26, 0xde, 0x00,\n",
            "  0xf6, 0xf4, 0xd4, 0x18, 0xfc, 0xf8, 0xe0, 0x11, 0x38, 0x1c, 0x5c, 0x08,\n",
            "  0x1f, 0xf6, 0xc9, 0xf1, 0x08, 0x12, 0xfe, 0xf6, 0x32, 0x3b, 0xf0, 0xf8,\n",
            "  0xee, 0xee, 0x18, 0x1d, 0xe6, 0x2f, 0xfe, 0x00, 0x0c, 0xdb, 0x27, 0x02,\n",
            "  0xe5, 0x09, 0xe9, 0xc8, 0xf7, 0x12, 0x22, 0xc3, 0xf9, 0xd7, 0xe4, 0x00,\n",
            "  0xd2, 0xfd, 0xe7, 0xc4, 0xec, 0xf9, 0xfc, 0xee, 0xee, 0x2c, 0xf6, 0x01,\n",
            "  0xdf, 0x10, 0xd6, 0xde, 0xcd, 0x23, 0xfa, 0xfb, 0xf7, 0x26, 0xf7, 0x02,\n",
            "  0x0b, 0x0c, 0x17, 0xfc, 0x15, 0x03, 0x03, 0x08, 0xf9, 0xe3, 0x0e, 0xfc,\n",
            "  0x04, 0x11, 0xfc, 0xdf, 0xff, 0x06, 0x16, 0xf4, 0xf1, 0x2f, 0xf9, 0x0a,\n",
            "  0xff, 0x2a, 0xef, 0x07, 0x15, 0x11, 0x34, 0xc4, 0x29, 0xef, 0x04, 0x03,\n",
            "  0x57, 0xcc, 0x17, 0x10, 0x2e, 0x0e, 0xfa, 0xe4, 0xc7, 0x18, 0xf9, 0xf5,\n",
            "  0x25, 0xfe, 0x26, 0xeb, 0x07, 0x17, 0xf9, 0xf2, 0xf7, 0x13, 0x48, 0xfa,\n",
            "  0xd8, 0x23, 0xdd, 0xf6, 0x37, 0xeb, 0xfa, 0xed, 0xe1, 0xea, 0xe4, 0xe0,\n",
            "  0xf9, 0x09, 0xc4, 0xde, 0xe7, 0x29, 0x0e, 0xe6, 0xe3, 0xcd, 0xe6, 0x15,\n",
            "  0xc6, 0xf6, 0xc7, 0xf1, 0xfa, 0xcd, 0x29, 0xe7, 0xd9, 0x30, 0x1e, 0xe4,\n",
            "  0x59, 0x1e, 0x13, 0xe5, 0xf1, 0xe2, 0x19, 0xff, 0xc4, 0x18, 0xcb, 0x38,\n",
            "  0xe0, 0x2c, 0x13, 0xf0, 0xfc, 0xd5, 0xf1, 0x05, 0x06, 0xf0, 0xeb, 0x00,\n",
            "  0xf5, 0x1d, 0x4c, 0x16, 0xc1, 0x45, 0xcc, 0xf7, 0x7f, 0xea, 0x19, 0xf7,\n",
            "  0xe1, 0x1c, 0xea, 0xf6, 0xd6, 0xff, 0xd2, 0x02, 0x9e, 0x66, 0x14, 0x02,\n",
            "  0xdf, 0xd6, 0xf3, 0x0b, 0xee, 0xde, 0xea, 0x0a, 0xfe, 0xe9, 0x57, 0xf7,\n",
            "  0xdd, 0x34, 0xd6, 0xce, 0xda, 0xdb, 0xfb, 0xcb, 0xd0, 0xc7, 0xc4, 0xd9,\n",
            "  0xe7, 0xe1, 0xf6, 0x04, 0xdc, 0xe5, 0xdf, 0xac, 0x04, 0x00, 0xf9, 0x1d,\n",
            "  0xbf, 0x2a, 0xf9, 0xfc, 0x08, 0xe9, 0x0e, 0xff, 0xef, 0xc9, 0xe3, 0x0c,\n",
            "  0xe4, 0x02, 0xe5, 0x05, 0x02, 0xe0, 0x02, 0x10, 0xe3, 0x07, 0xde, 0x06,\n",
            "  0x39, 0xe9, 0xdb, 0x13, 0xd8, 0xe9, 0x01, 0x05, 0xf0, 0x4f, 0xf5, 0xed,\n",
            "  0xf4, 0xdf, 0xee, 0x26, 0xe8, 0x21, 0xee, 0xe1, 0x48, 0x31, 0x3b, 0x00,\n",
            "  0x27, 0x2c, 0xd1, 0xff, 0xf3, 0x02, 0x04, 0xea, 0x15, 0x63, 0xe0, 0x26,\n",
            "  0xfc, 0xe0, 0x2c, 0x15, 0xf2, 0x32, 0x01, 0x0d, 0xf3, 0xe5, 0x58, 0x24,\n",
            "  0xe9, 0x24, 0x0b, 0xe5, 0xf7, 0xd1, 0xe6, 0xde, 0xc2, 0xbe, 0xc2, 0x21,\n",
            "  0xeb, 0x21, 0xec, 0xeb, 0xbd, 0x05, 0xf5, 0x0d, 0x12, 0x1c, 0x1d, 0xe0,\n",
            "  0x00, 0x0d, 0xda, 0x0d, 0xc3, 0x1e, 0x08, 0xd1, 0x0c, 0x28, 0xf5, 0xfa,\n",
            "  0x6d, 0x22, 0x21, 0xec, 0xfb, 0xda, 0xe4, 0x20, 0xed, 0xe9, 0x09, 0xd8,\n",
            "  0x1c, 0x22, 0x01, 0xc9, 0x03, 0x1a, 0x1d, 0xe2, 0xf6, 0x26, 0xd7, 0xff,\n",
            "  0x00, 0x17, 0x19, 0xf6, 0xe6, 0x39, 0x02, 0xda, 0x39, 0xdd, 0x09, 0xdd,\n",
            "  0x2f, 0xdb, 0xbb, 0x2e, 0x1b, 0xe6, 0xfa, 0x07, 0xfc, 0x3f, 0xfd, 0xe5,\n",
            "  0x13, 0xfd, 0x32, 0xfa, 0x3b, 0xd9, 0xd0, 0xf3, 0xcb, 0x0f, 0x16, 0x1c,\n",
            "  0xe1, 0x2d, 0xfc, 0xf6, 0xf7, 0x06, 0xf7, 0x21, 0xd8, 0xda, 0xd1, 0xe6,\n",
            "  0x81, 0xef, 0xe1, 0xd5, 0xf6, 0x40, 0x0f, 0xc4, 0xc9, 0xc8, 0x02, 0x16,\n",
            "  0xd6, 0x1a, 0xc5, 0xc9, 0xbc, 0xa9, 0x18, 0xdb, 0xd1, 0x61, 0xf1, 0xe3,\n",
            "  0x2b, 0xe5, 0xf3, 0xf1, 0x2c, 0x34, 0xf8, 0xf5, 0xbd, 0xd6, 0xd6, 0x03,\n",
            "  0xe6, 0x30, 0x16, 0x1a, 0x12, 0xd6, 0xe4, 0xf4, 0xfd, 0xe4, 0xbd, 0x18,\n",
            "  0x0b, 0x20, 0x3f, 0x2c, 0xc4, 0x5d, 0xc2, 0x01, 0x6c, 0x05, 0x4f, 0x21,\n",
            "  0xf9, 0xf3, 0x0c, 0xf9, 0xb2, 0x0c, 0xcf, 0x0d, 0xdb, 0x79, 0x16, 0x1e,\n",
            "  0x08, 0xb4, 0x11, 0xf4, 0xc4, 0xd8, 0xc8, 0xe0, 0xe2, 0xcb, 0x64, 0xf5,\n",
            "  0x1d, 0xe0, 0x5c, 0x2b, 0xde, 0xd6, 0x03, 0xfe, 0xf8, 0x1e, 0x2c, 0xd3,\n",
            "  0x25, 0xf3, 0x4d, 0x1c, 0x35, 0xe4, 0x2f, 0x09, 0x36, 0x0b, 0xef, 0xce,\n",
            "  0x08, 0x03, 0x16, 0x0d, 0x05, 0x3d, 0xd2, 0xdf, 0x2f, 0xcb, 0x1d, 0x01,\n",
            "  0xd2, 0xd4, 0xd9, 0x22, 0x22, 0x0b, 0xe8, 0xf4, 0x48, 0x00, 0x1b, 0xf6,\n",
            "  0x48, 0xd5, 0xee, 0xcd, 0x51, 0x2e, 0xfa, 0xda, 0xe3, 0xe3, 0x3a, 0x0c,\n",
            "  0xe1, 0x4f, 0xdd, 0xda, 0x16, 0x00, 0x30, 0xea, 0xef, 0xc0, 0xf1, 0x17,\n",
            "  0x17, 0x17, 0x09, 0xda, 0x26, 0xef, 0x35, 0x13, 0x0c, 0xf8, 0x03, 0xca,\n",
            "  0x30, 0x45, 0x24, 0xed, 0x47, 0x07, 0x25, 0xea, 0x14, 0x2c, 0xd6, 0xca,\n",
            "  0xf7, 0xd7, 0x28, 0xf4, 0xe7, 0xed, 0xe2, 0x25, 0xdd, 0x04, 0x03, 0xbd,\n",
            "  0xfe, 0x0f, 0xfd, 0xf1, 0xfb, 0xfd, 0xeb, 0x0b, 0x1a, 0x0a, 0x10, 0xda,\n",
            "  0x27, 0x38, 0x21, 0xd7, 0xd8, 0x0b, 0xdc, 0x0f, 0xea, 0xbc, 0x34, 0x16,\n",
            "  0xfa, 0xd6, 0xd9, 0xf1, 0x38, 0x44, 0x05, 0xd6, 0x67, 0xdf, 0x31, 0xce,\n",
            "  0x29, 0xdb, 0xf4, 0xe7, 0x17, 0x1d, 0xdf, 0xf5, 0x30, 0x3a, 0x22, 0xdc,\n",
            "  0x3b, 0x3e, 0xc5, 0xf2, 0x2b, 0xca, 0x0c, 0xf9, 0xe4, 0xc7, 0x0c, 0x33,\n",
            "  0xef, 0x1b, 0x06, 0xb5, 0x17, 0x04, 0xfb, 0x01, 0x42, 0xeb, 0xea, 0xe1,\n",
            "  0xfb, 0xeb, 0xfa, 0x09, 0x22, 0xf2, 0x1d, 0xd9, 0xe3, 0x34, 0xbf, 0x16,\n",
            "  0x10, 0xfe, 0x05, 0xf7, 0xfd, 0xc0, 0xb3, 0x0e, 0x14, 0x34, 0xc0, 0xdc,\n",
            "  0xd7, 0xee, 0x24, 0xf6, 0xcf, 0x02, 0xbd, 0xe9, 0x29, 0xe2, 0xd1, 0xcb,\n",
            "  0x15, 0x1f, 0xfd, 0xdb, 0xe0, 0xd7, 0xf6, 0xc6, 0x62, 0xe3, 0x1a, 0xf1,\n",
            "  0xa4, 0xb3, 0xcd, 0x2d, 0x7f, 0xd4, 0xf2, 0xe5, 0x23, 0xf6, 0x15, 0xfa,\n",
            "  0x0b, 0xfe, 0xf9, 0xef, 0x39, 0x23, 0xe8, 0xc4, 0xf9, 0x4f, 0x34, 0x00,\n",
            "  0xfd, 0x20, 0xc2, 0xd5, 0xf7, 0xf6, 0x3c, 0xda, 0x03, 0x98, 0xd3, 0xf6,\n",
            "  0x32, 0x17, 0x00, 0xc6, 0xce, 0xd1, 0xf2, 0xd1, 0xd7, 0x08, 0xde, 0xc4,\n",
            "  0xd6, 0xfa, 0xc3, 0xc1, 0x0f, 0xe8, 0xdb, 0xd2, 0xd7, 0x19, 0xe5, 0xe9,\n",
            "  0x02, 0xd1, 0xf4, 0xdf, 0xe4, 0x13, 0x04, 0xf5, 0xd4, 0xe0, 0xca, 0x01,\n",
            "  0xe7, 0xea, 0xe0, 0x08, 0x0f, 0x28, 0xc7, 0x06, 0xe6, 0xd1, 0xf2, 0x2b,\n",
            "  0xcd, 0x10, 0xe1, 0xf9, 0xe0, 0xd2, 0xfb, 0xe0, 0xd3, 0xef, 0xf3, 0xfb,\n",
            "  0xff, 0x0b, 0xf1, 0xfa, 0x03, 0xef, 0xf5, 0x1d, 0xff, 0xf2, 0xf9, 0x1e,\n",
            "  0x1e, 0xdc, 0xf0, 0xfc, 0xe1, 0xeb, 0x0e, 0x17, 0x03, 0x2e, 0xe4, 0xff,\n",
            "  0x1c, 0xf2, 0xf6, 0xfe, 0xeb, 0x1e, 0x07, 0xe4, 0x3d, 0x13, 0x2b, 0x03,\n",
            "  0x10, 0xfe, 0xf4, 0x1b, 0x06, 0x39, 0xfb, 0xe8, 0x0c, 0x36, 0xdd, 0xe7,\n",
            "  0x2f, 0xe4, 0xfd, 0x4e, 0x01, 0x20, 0x01, 0x24, 0x05, 0x00, 0x26, 0xe9,\n",
            "  0xd8, 0x19, 0xff, 0xd8, 0x23, 0xe3, 0xfd, 0xfd, 0x22, 0xc9, 0xec, 0x1c,\n",
            "  0xf8, 0x06, 0xcf, 0xcc, 0xd3, 0xec, 0xfe, 0x01, 0x3c, 0x0c, 0x02, 0xee,\n",
            "  0xf5, 0x2a, 0xd8, 0xe5, 0xf7, 0x30, 0x12, 0xeb, 0xf2, 0xfd, 0xe0, 0xf3,\n",
            "  0x16, 0xf8, 0x0d, 0xfc, 0x35, 0xb2, 0xfb, 0x27, 0x11, 0xe9, 0x27, 0xf2,\n",
            "  0x19, 0x0b, 0xd3, 0xd5, 0x0c, 0x46, 0xf0, 0xd0, 0xe5, 0x09, 0x07, 0x10,\n",
            "  0xf6, 0x11, 0xfd, 0x0d, 0xfe, 0x34, 0x5d, 0xed, 0x2d, 0xee, 0x31, 0xfd,\n",
            "  0x36, 0xc8, 0x0a, 0xfc, 0xdd, 0x04, 0x0d, 0x0a, 0x05, 0x3c, 0x19, 0xdb,\n",
            "  0x19, 0x19, 0x2c, 0xf5, 0x29, 0x01, 0x08, 0x33, 0xee, 0x52, 0x60, 0x08,\n",
            "  0xb7, 0x31, 0xbd, 0xf3, 0xec, 0xc1, 0xfa, 0x05, 0xef, 0xe7, 0xba, 0xe7,\n",
            "  0x9e, 0xda, 0xca, 0xec, 0xb7, 0xf5, 0xed, 0xfd, 0xe5, 0xb1, 0xe0, 0xf0,\n",
            "  0xd7, 0x45, 0xb6, 0xf7, 0xe2, 0x87, 0x19, 0xf8, 0xf2, 0x3a, 0x1f, 0xf9,\n",
            "  0x53, 0x08, 0xee, 0x14, 0xf8, 0xdd, 0x02, 0x1b, 0xef, 0x2f, 0x01, 0x3b,\n",
            "  0x17, 0x1c, 0xeb, 0x06, 0xf1, 0xd7, 0x0d, 0xe9, 0x09, 0xe1, 0xd9, 0xe4,\n",
            "  0xee, 0xea, 0x31, 0x05, 0xd0, 0x7f, 0x1f, 0xed, 0x5b, 0x0f, 0x37, 0xe8,\n",
            "  0x11, 0x00, 0x18, 0xe9, 0xcc, 0x2a, 0xe6, 0xdd, 0xa8, 0x7b, 0x33, 0xf9,\n",
            "  0xd4, 0xc7, 0xdf, 0xf7, 0xec, 0xe4, 0xf8, 0x01, 0xc3, 0xc7, 0x7a, 0x43,\n",
            "  0x19, 0x0f, 0xe6, 0xf8, 0x1a, 0x31, 0xea, 0xf8, 0xf1, 0x0a, 0xf5, 0x2c,\n",
            "  0x3d, 0x1e, 0xc5, 0xff, 0xe7, 0x17, 0x2b, 0x17, 0x06, 0x00, 0x36, 0x3a,\n",
            "  0xed, 0x12, 0x08, 0x36, 0x1a, 0x1a, 0xe7, 0x32, 0xe3, 0x42, 0x01, 0x1c,\n",
            "  0x11, 0x21, 0x2f, 0x24, 0xbf, 0x0c, 0x22, 0x45, 0x1b, 0x09, 0xcb, 0x3d,\n",
            "  0xd8, 0x49, 0x50, 0x42, 0xfa, 0xf4, 0x50, 0x43, 0xd1, 0xbd, 0xef, 0x39,\n",
            "  0x3b, 0xe0, 0x4b, 0x13, 0x36, 0x1c, 0x07, 0x20, 0x04, 0x05, 0x07, 0x12,\n",
            "  0xca, 0xf2, 0x27, 0x26, 0x12, 0xf9, 0xe1, 0x1b, 0xf8, 0xf2, 0x07, 0x26,\n",
            "  0x23, 0x15, 0x19, 0x2b, 0xcf, 0xb7, 0x14, 0xf0, 0x15, 0x06, 0xf6, 0x1d,\n",
            "  0xf4, 0x13, 0x0a, 0x3f, 0x09, 0x2a, 0x35, 0x17, 0x96, 0x1f, 0x50, 0x2e,\n",
            "  0x17, 0x6a, 0xd6, 0x1c, 0xd6, 0xf8, 0x1d, 0x2a, 0x12, 0xc7, 0x26, 0x2c,\n",
            "  0xca, 0xb3, 0x2f, 0x0a, 0x16, 0x11, 0x11, 0xec, 0xf4, 0x76, 0x12, 0x28,\n",
            "  0x4a, 0x74, 0x37, 0x18, 0xa6, 0x11, 0x2c, 0x57, 0x0e, 0xee, 0xd4, 0x24,\n",
            "  0xbb, 0x4e, 0x60, 0x48, 0x09, 0x03, 0x51, 0x1d, 0xd1, 0xcf, 0x1e, 0x04,\n",
            "  0x35, 0x45, 0x2f, 0x1d, 0xf3, 0x2f, 0xc6, 0x01, 0xd1, 0x2c, 0x06, 0x21,\n",
            "  0xb0, 0x2b, 0x1f, 0x3d, 0x25, 0x2e, 0xe2, 0x15, 0xa4, 0xed, 0x06, 0x04,\n",
            "  0xf8, 0xc2, 0x1a, 0xff, 0xb8, 0xb4, 0xe3, 0x38, 0x3a, 0xe5, 0xe6, 0x2c,\n",
            "  0xe9, 0xfe, 0xd9, 0x25, 0xea, 0x12, 0x12, 0x1a, 0xc6, 0x3d, 0x3e, 0x1b,\n",
            "  0x02, 0x60, 0xda, 0xed, 0xb7, 0xb2, 0x20, 0xf9, 0xf5, 0x86, 0xf5, 0x65,\n",
            "  0x01, 0xd7, 0x20, 0xd7, 0x1a, 0xfd, 0xdb, 0x29, 0xc1, 0x22, 0x08, 0x01,\n",
            "  0xc9, 0x32, 0x5e, 0x32, 0xa9, 0x01, 0x02, 0x12, 0x00, 0x43, 0xaf, 0x34,\n",
            "  0x94, 0xf9, 0x40, 0x4f, 0xd5, 0x92, 0x42, 0x30, 0xb2, 0x81, 0x0b, 0x44,\n",
            "  0x49, 0xec, 0x12, 0x16, 0xd6, 0xdc, 0xf5, 0x1f, 0xdb, 0x03, 0xda, 0x2e,\n",
            "  0xc4, 0x48, 0x32, 0x5d, 0xf6, 0x2e, 0xb6, 0x37, 0xcb, 0xb0, 0x3f, 0x3a,\n",
            "  0xfe, 0xe2, 0x0d, 0x3e, 0xb0, 0xb5, 0x15, 0x26, 0x3e, 0x40, 0xb0, 0x12,\n",
            "  0x48, 0x0b, 0x48, 0x0a, 0xe0, 0x0b, 0xe1, 0x0c, 0xfc, 0x30, 0x21, 0xe6,\n",
            "  0xe7, 0xd7, 0x3f, 0x15, 0x24, 0xc0, 0xed, 0xec, 0x16, 0x34, 0xf5, 0xde,\n",
            "  0x11, 0x0e, 0x16, 0x01, 0x1b, 0x3c, 0xe3, 0xf3, 0x11, 0xea, 0x52, 0x2d,\n",
            "  0xe3, 0xd3, 0xf4, 0xf9, 0x35, 0x1d, 0x1d, 0xfe, 0x2d, 0x10, 0x4c, 0xe2,\n",
            "  0x16, 0xe9, 0xf4, 0xe8, 0x52, 0x36, 0x11, 0xfa, 0x08, 0x2d, 0x08, 0xd6,\n",
            "  0xea, 0x20, 0xf3, 0xf2, 0x0a, 0xfc, 0x43, 0xea, 0xee, 0xe6, 0xe6, 0xd9,\n",
            "  0x10, 0x11, 0xda, 0xd9, 0x23, 0xd7, 0x1e, 0x17, 0x17, 0xd4, 0xe9, 0xb7,\n",
            "  0xfa, 0x30, 0xf7, 0xc9, 0xfd, 0xfe, 0x14, 0xe6, 0xe3, 0xf6, 0x11, 0xdd,\n",
            "  0xfd, 0xe5, 0xfc, 0x0b, 0x03, 0xc9, 0xdb, 0x0b, 0x00, 0x16, 0xea, 0xf0,\n",
            "  0xf7, 0xd6, 0xfa, 0x26, 0x40, 0xe4, 0xf5, 0xeb, 0x05, 0x00, 0xff, 0xf8,\n",
            "  0x12, 0x14, 0xea, 0xee, 0x0b, 0xd8, 0xc5, 0xef, 0xed, 0xc4, 0x3c, 0xf3,\n",
            "  0xfb, 0xdf, 0xfb, 0x12, 0xfe, 0x2d, 0xe6, 0xe7, 0xfb, 0x09, 0x53, 0x06,\n",
            "  0x5f, 0xe6, 0x08, 0xfc, 0x11, 0xf5, 0xf9, 0x13, 0x7f, 0x1b, 0x27, 0xfd,\n",
            "  0x21, 0xf6, 0xca, 0xd5, 0x12, 0xde, 0xea, 0x02, 0x08, 0xc9, 0xf0, 0x1c,\n",
            "  0xeb, 0x07, 0xf9, 0xfb, 0x04, 0x01, 0x2a, 0x10, 0x17, 0xcb, 0xf4, 0xd8,\n",
            "  0xdf, 0xf2, 0xd7, 0xe2, 0x1f, 0x21, 0xe8, 0xe2, 0x0a, 0x02, 0xf9, 0xee,\n",
            "  0x29, 0xd9, 0x2d, 0xe3, 0xed, 0xc7, 0xcb, 0xcb, 0x3d, 0xf5, 0xdc, 0xcd,\n",
            "  0xf5, 0xf9, 0xdd, 0xda, 0x0b, 0xe6, 0xf3, 0xac, 0xd7, 0x21, 0xde, 0xe8,\n",
            "  0x17, 0x13, 0xd7, 0xba, 0xe7, 0xf9, 0xf6, 0xe7, 0xff, 0xe5, 0x0e, 0xfa,\n",
            "  0x06, 0xff, 0xc5, 0x00, 0xf6, 0x09, 0xf1, 0xdd, 0xe5, 0xe1, 0x2d, 0xcb,\n",
            "  0xf1, 0xdf, 0xdb, 0xf4, 0x35, 0x3a, 0xd0, 0xc8, 0xf4, 0x4d, 0x33, 0xe6,\n",
            "  0xff, 0xe6, 0xdf, 0x01, 0xfa, 0x2b, 0x24, 0xd7, 0xe5, 0xc5, 0xc6, 0x20,\n",
            "  0x4f, 0x24, 0xf0, 0xe9, 0x14, 0xe4, 0x07, 0x05, 0x1d, 0xee, 0xf0, 0xda,\n",
            "  0x09, 0x08, 0xe7, 0xce, 0x2f, 0x30, 0x12, 0xf3, 0xec, 0x0d, 0xe2, 0xe5,\n",
            "  0x02, 0x05, 0xd3, 0xfa, 0x01, 0x35, 0x18, 0x11, 0xe6, 0x07, 0x0e, 0x0f,\n",
            "  0x03, 0x12, 0xd0, 0x05, 0xf0, 0xf9, 0x22, 0x1a, 0x07, 0x03, 0x05, 0x13,\n",
            "  0xea, 0xdb, 0x06, 0x1b, 0x08, 0x06, 0xf3, 0xf9, 0xf2, 0x10, 0x1f, 0x1b,\n",
            "  0x16, 0x19, 0x30, 0x13, 0xc3, 0xf5, 0x19, 0x14, 0x15, 0x15, 0xda, 0xf9,\n",
            "  0xd1, 0x30, 0x34, 0x1f, 0xf8, 0xe5, 0x34, 0xf7, 0xcf, 0xb9, 0x0b, 0x16,\n",
            "  0x11, 0xf4, 0x1a, 0x31, 0x19, 0x18, 0x0c, 0x04, 0xf9, 0x18, 0xfd, 0x0a,\n",
            "  0xdb, 0xfb, 0xf3, 0x27, 0x13, 0x0a, 0xee, 0x0b, 0xe7, 0x23, 0x07, 0xf5,\n",
            "  0x15, 0x2c, 0xf1, 0x0c, 0xe3, 0xf1, 0x0e, 0xec, 0x28, 0x2b, 0xea, 0x02,\n",
            "  0xde, 0x01, 0x10, 0x22, 0x0a, 0x0d, 0x40, 0xf0, 0xae, 0x1b, 0xf9, 0x1a,\n",
            "  0x23, 0x24, 0xfd, 0xea, 0xcd, 0x06, 0x22, 0x08, 0xfb, 0xdc, 0x0b, 0x28,\n",
            "  0xdb, 0xbd, 0xfc, 0x0f, 0x14, 0x19, 0x2b, 0x0f, 0xf5, 0x21, 0x0d, 0xfb,\n",
            "  0x1f, 0x3a, 0x1a, 0x2b, 0xbe, 0x12, 0x41, 0x12, 0xfa, 0x0d, 0xea, 0x1e,\n",
            "  0xc7, 0x12, 0x43, 0x12, 0xfb, 0xb3, 0x48, 0x29, 0xf3, 0xa4, 0x0a, 0x0f,\n",
            "  0x24, 0xfd, 0x2e, 0x33, 0xe5, 0x22, 0x07, 0x26, 0xf6, 0x20, 0xfb, 0x31,\n",
            "  0xcd, 0xfa, 0x14, 0x14, 0x07, 0x19, 0xff, 0x3e, 0xdb, 0xfe, 0x0f, 0x0e,\n",
            "  0xfb, 0xe2, 0x2b, 0xf4, 0xd8, 0xe7, 0xf2, 0x3d, 0x15, 0x15, 0xfd, 0x19,\n",
            "  0xef, 0xd9, 0xe8, 0xee, 0xda, 0xf9, 0x22, 0xfd, 0xc2, 0x30, 0x19, 0x15,\n",
            "  0xe6, 0x34, 0xe7, 0x2a, 0xce, 0xeb, 0x18, 0x10, 0x20, 0xbd, 0x0c, 0x32,\n",
            "  0x0d, 0xf0, 0x0b, 0x28, 0xf2, 0x08, 0xcc, 0x0c, 0xc9, 0x1a, 0xf6, 0x0a,\n",
            "  0xeb, 0x37, 0x27, 0x08, 0xbb, 0xfa, 0x17, 0x35, 0xf7, 0x26, 0xcc, 0x0a,\n",
            "  0x81, 0x07, 0x2d, 0x41, 0xdc, 0x9a, 0x1b, 0x21, 0xda, 0xaa, 0x25, 0x56,\n",
            "  0x1f, 0xf8, 0x22, 0x30, 0xc0, 0xed, 0xd3, 0x04, 0xd4, 0x2e, 0x28, 0x0f,\n",
            "  0xa6, 0x17, 0x09, 0x2a, 0xf6, 0x23, 0xd3, 0x22, 0x08, 0xaf, 0x07, 0x05,\n",
            "  0xed, 0xe7, 0x00, 0x16, 0xe9, 0xeb, 0x07, 0xf8, 0x0a, 0x06, 0xcf, 0xea,\n",
            "  0xda, 0x16, 0xc5, 0xd4, 0x2b, 0xf8, 0xf8, 0xce, 0xa9, 0xea, 0xf7, 0xf7,\n",
            "  0xca, 0xe5, 0xe8, 0xe0, 0xe0, 0x32, 0xe5, 0xda, 0xe7, 0xb2, 0x15, 0x09,\n",
            "  0xec, 0x1a, 0xed, 0xf7, 0xc6, 0xef, 0xdd, 0xe6, 0xf1, 0x2c, 0xb9, 0x05,\n",
            "  0xf9, 0x3d, 0x03, 0xfa, 0xf0, 0xeb, 0xf8, 0x06, 0xe9, 0xf4, 0x00, 0x31,\n",
            "  0x15, 0xfa, 0xf0, 0xf1, 0xe0, 0x12, 0x1c, 0xfa, 0x0b, 0x33, 0xc3, 0xe1,\n",
            "  0xf2, 0xea, 0x0a, 0xec, 0xc0, 0x26, 0xd6, 0xca, 0x41, 0x64, 0x47, 0x01,\n",
            "  0x23, 0xee, 0xcc, 0x39, 0x1b, 0x46, 0x0f, 0xca, 0x2d, 0x13, 0x1e, 0xfa,\n",
            "  0xf7, 0x10, 0x24, 0x1a, 0x0f, 0x10, 0x11, 0x0c, 0xf9, 0x03, 0x58, 0x02,\n",
            "  0xd1, 0xf8, 0xeb, 0xe4, 0x04, 0xe4, 0x01, 0xd2, 0x20, 0xcf, 0xe1, 0xe9,\n",
            "  0xbc, 0x15, 0x06, 0xcb, 0xd6, 0x3f, 0x06, 0xf7, 0xf8, 0xfb, 0xfb, 0xdb,\n",
            "  0xbc, 0x2a, 0xb9, 0xef, 0x01, 0x08, 0x31, 0xfe, 0x09, 0x36, 0xf7, 0xdc,\n",
            "  0x33, 0x15, 0x0c, 0xf0, 0x11, 0xed, 0xed, 0x0f, 0xe5, 0xea, 0xf7, 0x21,\n",
            "  0xf3, 0x07, 0xf1, 0x0f, 0xf4, 0x48, 0x26, 0x0c, 0xcb, 0x2d, 0xe9, 0x30,\n",
            "  0xc9, 0x19, 0x25, 0x25, 0xbf, 0x2f, 0x37, 0xc0, 0xf2, 0x04, 0xf8, 0xff,\n",
            "  0x1e, 0xf8, 0xcb, 0xef, 0xfe, 0xf8, 0xf1, 0x3f, 0xf0, 0x2d, 0x26, 0x2a,\n",
            "  0x04, 0x3c, 0xf8, 0xee, 0xee, 0xd3, 0xd4, 0x01, 0xcd, 0x20, 0x07, 0x0e,\n",
            "  0xbb, 0x09, 0xa2, 0xc7, 0x06, 0x04, 0xf3, 0xeb, 0xef, 0xf2, 0xc3, 0xed,\n",
            "  0xbb, 0x0e, 0xc4, 0xd5, 0xca, 0x27, 0x1e, 0xc6, 0xfd, 0xf4, 0x00, 0xd9,\n",
            "  0xbb, 0xd5, 0xc0, 0x0e, 0xc5, 0xb1, 0x3f, 0xc3, 0xc9, 0x2f, 0x1e, 0xd4,\n",
            "  0x31, 0x2a, 0x21, 0x0e, 0xfe, 0xe6, 0xf7, 0x03, 0xa9, 0x2a, 0xf1, 0x53,\n",
            "  0xea, 0x4b, 0x12, 0x27, 0xba, 0xd5, 0x16, 0x20, 0xe0, 0x29, 0xc6, 0xd6,\n",
            "  0xc8, 0xfb, 0x30, 0x0a, 0xe6, 0x4b, 0xb7, 0xf6, 0x3c, 0xf6, 0x32, 0xe4,\n",
            "  0xc8, 0xe1, 0xff, 0xfd, 0xbf, 0x2a, 0xb9, 0xc1, 0x81, 0x4f, 0x05, 0xc5,\n",
            "  0xa9, 0xa3, 0x10, 0x32, 0xe8, 0xd0, 0xff, 0x08, 0xde, 0xff, 0x40, 0xeb,\n",
            "  0x1b, 0xec, 0x31, 0xf4, 0xf9, 0xea, 0xdf, 0x2c, 0x02, 0x06, 0x1c, 0xe6,\n",
            "  0xed, 0xcd, 0x57, 0x0d, 0x1a, 0x02, 0xf3, 0x02, 0x12, 0x27, 0xdc, 0xe6,\n",
            "  0xdd, 0x12, 0x12, 0xee, 0xde, 0x15, 0x05, 0xe6, 0x7f, 0xb5, 0x4e, 0xda,\n",
            "  0xd0, 0xe3, 0xec, 0x02, 0x2a, 0x20, 0xfb, 0x01, 0x41, 0xdd, 0x35, 0xd0,\n",
            "  0x3d, 0xe1, 0xf3, 0xe0, 0x52, 0x6d, 0x03, 0xd0, 0x32, 0xee, 0x26, 0xe8,\n",
            "  0xfd, 0x0a, 0xa6, 0x06, 0x54, 0xd0, 0x3e, 0xfb, 0x0b, 0xc9, 0xec, 0xf5,\n",
            "  0x31, 0x3a, 0x0a, 0xe9, 0xf5, 0xed, 0x21, 0xee, 0x0e, 0xc4, 0xc8, 0xea,\n",
            "  0x39, 0x39, 0xd5, 0xe4, 0x03, 0x0d, 0xf7, 0xbe, 0x0b, 0x3f, 0xf0, 0xec,\n",
            "  0x1b, 0xe2, 0xf2, 0x10, 0xfd, 0xfe, 0xd2, 0xf8, 0xe5, 0x1e, 0x05, 0x25,\n",
            "  0xe3, 0xf8, 0x15, 0xf1, 0x2a, 0xda, 0xfb, 0xf6, 0xee, 0x0a, 0xeb, 0xf4,\n",
            "  0x1c, 0x2f, 0x1d, 0xef, 0x0b, 0x07, 0xde, 0xf9, 0xd4, 0xb4, 0x27, 0x17,\n",
            "  0xfa, 0xf5, 0x07, 0x07, 0x55, 0x2e, 0xfa, 0xdd, 0xf2, 0x0a, 0x61, 0x04,\n",
            "  0x38, 0xb5, 0xf7, 0xea, 0x11, 0x22, 0xe3, 0x08, 0x67, 0x0d, 0x0b, 0x04,\n",
            "  0xfb, 0x0e, 0xac, 0x01, 0xe0, 0xd8, 0xec, 0xfe, 0xdd, 0xf6, 0xff, 0x22,\n",
            "  0x27, 0x17, 0xf8, 0xa7, 0xde, 0xfa, 0x34, 0xe7, 0x20, 0xfb, 0xea, 0xdc,\n",
            "  0xe6, 0x0e, 0xd4, 0xe3, 0x37, 0x16, 0xed, 0xe9, 0xf3, 0x18, 0xed, 0xed,\n",
            "  0x0b, 0x00, 0xd3, 0xe2, 0x15, 0xbf, 0xa6, 0xc5, 0x1d, 0xe3, 0x07, 0xe5,\n",
            "  0xd8, 0xb4, 0xb0, 0xe7, 0x11, 0xd9, 0xca, 0xa8, 0xf1, 0x37, 0x05, 0xc5,\n",
            "  0x0f, 0x09, 0xeb, 0xb3, 0xc9, 0xc8, 0xff, 0xcf, 0x05, 0xf8, 0xdb, 0x0a,\n",
            "  0xfe, 0xf1, 0xe9, 0x17, 0x28, 0x01, 0x10, 0xdf, 0xe2, 0xc4, 0xfb, 0xdc,\n",
            "  0xfb, 0xc0, 0xf8, 0xe1, 0x4d, 0x1b, 0x15, 0xe9, 0xc8, 0x1d, 0x2c, 0xf1,\n",
            "  0x25, 0x23, 0xd4, 0x01, 0x25, 0x11, 0x17, 0xef, 0x10, 0xc9, 0xdd, 0xfb,\n",
            "  0x24, 0x1e, 0x0b, 0xc0, 0xf0, 0xe7, 0x22, 0xee, 0x1a, 0x17, 0xb9, 0xd7,\n",
            "  0x13, 0x20, 0xdc, 0xb2, 0x12, 0xfb, 0xed, 0xe5, 0xcd, 0xf6, 0xc6, 0xfb,\n",
            "  0xfa, 0x20, 0xd7, 0xdc, 0x11, 0x30, 0xfc, 0x05, 0xa0, 0xd6, 0xc7, 0x01,\n",
            "  0xed, 0xb7, 0xf9, 0xdf, 0xf1, 0x56, 0xc8, 0xf7, 0xcf, 0xf6, 0x06, 0x1c,\n",
            "  0x82, 0xec, 0xd5, 0x19, 0xc9, 0xc0, 0xf0, 0x01, 0xf7, 0xcc, 0xf1, 0xeb,\n",
            "  0x2a, 0xd3, 0xff, 0xe9, 0xbb, 0xcd, 0xd7, 0x0e, 0xf0, 0xfe, 0x03, 0x2a,\n",
            "  0x1a, 0x15, 0xd7, 0xf9, 0x0a, 0xe0, 0x0e, 0x1d, 0xff, 0x0c, 0xf4, 0xe2,\n",
            "  0x13, 0xda, 0x19, 0x0d, 0xcd, 0x4a, 0xf1, 0xd5, 0x36, 0x4b, 0x5c, 0xf2,\n",
            "  0x13, 0x01, 0x09, 0x1e, 0x03, 0x09, 0xf0, 0xcb, 0x0b, 0x38, 0x0b, 0x1d,\n",
            "  0xee, 0x06, 0x23, 0xff, 0xd4, 0x2f, 0xe3, 0x11, 0x01, 0xef, 0x0f, 0x07,\n",
            "  0xda, 0xcd, 0xee, 0xc6, 0x2b, 0xfa, 0xe5, 0xc4, 0xba, 0xdb, 0xe5, 0x20,\n",
            "  0xfa, 0xff, 0xdc, 0xc4, 0xd6, 0x13, 0x0a, 0x08, 0xf0, 0x13, 0xc7, 0x12,\n",
            "  0x9b, 0x13, 0x0f, 0x07, 0xe3, 0x2a, 0xc9, 0xe9, 0xe5, 0x1e, 0xed, 0xe0,\n",
            "  0x54, 0x31, 0x12, 0x0c, 0xe9, 0xe7, 0xd7, 0xea, 0xfb, 0x05, 0xd5, 0xf0,\n",
            "  0x06, 0x33, 0xf0, 0x10, 0x18, 0xda, 0xe5, 0xfb, 0x07, 0xcf, 0x04, 0xfd,\n",
            "  0xd7, 0x07, 0x15, 0x2c, 0xab, 0x4d, 0x34, 0xcf, 0x14, 0xf7, 0xfe, 0x22,\n",
            "  0x23, 0xd8, 0xf5, 0x25, 0x20, 0xd6, 0xb4, 0x0a, 0xcf, 0x68, 0x01, 0xc7,\n",
            "  0x1c, 0x01, 0x36, 0xf7, 0xe1, 0xd9, 0xed, 0x41, 0xfc, 0x1e, 0x30, 0xde,\n",
            "  0xde, 0xfe, 0xbf, 0xe1, 0x26, 0xde, 0xfc, 0xc8, 0xb1, 0x06, 0x10, 0xe7,\n",
            "  0xad, 0x04, 0xf3, 0xea, 0xd5, 0x42, 0xf9, 0xf4, 0xc6, 0xdb, 0xde, 0xf5,\n",
            "  0xd6, 0x01, 0xd0, 0xda, 0xed, 0xb5, 0xd8, 0xfc, 0xa0, 0x40, 0xfa, 0xdf,\n",
            "  0x04, 0xfb, 0x05, 0x05, 0x0d, 0x0a, 0xe9, 0x1e, 0xd0, 0x05, 0xd6, 0x52,\n",
            "  0x81, 0x0a, 0xf6, 0x19, 0xf7, 0xb2, 0xf1, 0xf5, 0xf0, 0xf3, 0xe5, 0x1d,\n",
            "  0xd1, 0xfe, 0x17, 0x12, 0xc1, 0x22, 0xec, 0xe0, 0xf4, 0x11, 0x03, 0x0a,\n",
            "  0xe6, 0x03, 0x1c, 0xd4, 0xe3, 0x11, 0xaa, 0xaf, 0xb6, 0x56, 0x1d, 0x1b,\n",
            "  0xc2, 0xea, 0x20, 0x0e, 0xdd, 0xb0, 0xc8, 0x09, 0xcc, 0xe7, 0x2e, 0xf6,\n",
            "  0x14, 0x07, 0x09, 0x12, 0xfc, 0x08, 0x0b, 0xfc, 0xff, 0xf7, 0x0d, 0xe3,\n",
            "  0x20, 0x29, 0xad, 0xfe, 0xc2, 0xf6, 0xe8, 0x24, 0x1d, 0xee, 0x1d, 0xfc,\n",
            "  0xf2, 0xd2, 0x35, 0xf4, 0x20, 0xfd, 0xeb, 0x3d, 0xf1, 0xea, 0x0e, 0x01,\n",
            "  0xef, 0x3b, 0x13, 0x4d, 0xef, 0xfa, 0x21, 0x40, 0xf4, 0x23, 0xfe, 0x22,\n",
            "  0xad, 0x56, 0x19, 0xe9, 0x0d, 0xd6, 0x18, 0xea, 0xe2, 0xd8, 0x06, 0x1f,\n",
            "  0x10, 0xd3, 0xfd, 0x06, 0x12, 0x0d, 0xfc, 0x13, 0x14, 0x24, 0xe7, 0xe7,\n",
            "  0xab, 0xe3, 0x15, 0x09, 0x1f, 0x13, 0xfd, 0xec, 0xfa, 0xe4, 0x01, 0xe9,\n",
            "  0x1d, 0x08, 0xfe, 0x17, 0xf2, 0x03, 0x42, 0x30, 0x2d, 0x17, 0x05, 0xef,\n",
            "  0x03, 0x05, 0xe5, 0x02, 0xec, 0x08, 0x35, 0x00, 0xe6, 0x31, 0x2f, 0x35,\n",
            "  0x13, 0x15, 0xf4, 0xfe, 0xc2, 0x09, 0x31, 0xc3, 0x17, 0xb7, 0x06, 0xee,\n",
            "  0xf8, 0xa5, 0x17, 0x1b, 0x2e, 0xe8, 0x20, 0x2c, 0x04, 0x4f, 0xfb, 0xff,\n",
            "  0x15, 0x26, 0x38, 0x0e, 0xe1, 0x1f, 0x2b, 0x5f, 0x25, 0x19, 0xdc, 0x58,\n",
            "  0xdd, 0x37, 0x33, 0x2a, 0x42, 0xbd, 0x19, 0x47, 0xf8, 0x91, 0x45, 0x18,\n",
            "  0x0b, 0x29, 0x4b, 0x19, 0xd1, 0x1d, 0x23, 0xf3, 0xfe, 0x40, 0x4e, 0x12,\n",
            "  0xd5, 0x18, 0x3c, 0x19, 0x07, 0x0c, 0xe3, 0x46, 0x9b, 0xdc, 0x16, 0xf0,\n",
            "  0x0d, 0xf0, 0xdf, 0xf1, 0xee, 0xed, 0x28, 0x09, 0x3b, 0xff, 0xd5, 0xe7,\n",
            "  0xfe, 0xdd, 0x00, 0xee, 0x07, 0xeb, 0x09, 0x14, 0xd1, 0xf2, 0x1d, 0x10,\n",
            "  0xf1, 0x54, 0xd4, 0x15, 0xb7, 0xab, 0x46, 0x47, 0x1f, 0xa4, 0x3d, 0x4c,\n",
            "  0x29, 0xec, 0x29, 0xf5, 0xf5, 0x20, 0x9b, 0x14, 0xc4, 0x02, 0x1f, 0x2b,\n",
            "  0xf7, 0x56, 0x0d, 0x4f, 0xc6, 0x07, 0xea, 0x3e, 0xea, 0x3d, 0xbf, 0x0e,\n",
            "  0x9d, 0x02, 0x51, 0x2f, 0xde, 0x81, 0x3b, 0x3f, 0xa6, 0x90, 0x08, 0x36,\n",
            "  0x50, 0xf1, 0xe5, 0x3e, 0xc0, 0xa5, 0xf9, 0xe9, 0x9c, 0x25, 0x07, 0x42,\n",
            "  0xa5, 0x20, 0x18, 0x05, 0xe7, 0x19, 0xc3, 0x1e, 0x02, 0x82, 0x22, 0x2c,\n",
            "  0xe9, 0xe4, 0x65, 0x06, 0xd0, 0xd3, 0x3c, 0x44, 0x25, 0x0a, 0xb2, 0x20,\n",
            "  0xef, 0x01, 0x2e, 0x30, 0xec, 0xe9, 0xd6, 0x0c, 0xbc, 0x33, 0x16, 0xf9,\n",
            "  0x12, 0xf3, 0x3e, 0x52, 0x15, 0xe9, 0xfe, 0xf7, 0x26, 0x1d, 0x0e, 0xe7,\n",
            "  0x4a, 0x18, 0x07, 0xe5, 0x15, 0x09, 0xe4, 0xf6, 0x3d, 0xd0, 0xc9, 0xd7,\n",
            "  0xce, 0xca, 0xd1, 0x31, 0x46, 0x28, 0x35, 0xda, 0x4c, 0xee, 0xed, 0xc9,\n",
            "  0x41, 0xd4, 0xcd, 0xde, 0x06, 0x10, 0xe7, 0xe5, 0x0a, 0x22, 0x27, 0x58,\n",
            "  0x0e, 0x41, 0xdf, 0xa0, 0x21, 0xcd, 0x36, 0x23, 0xd9, 0xe2, 0xec, 0xf8,\n",
            "  0x03, 0x3e, 0x23, 0xd4, 0xf0, 0xeb, 0x34, 0x22, 0x34, 0xd2, 0x17, 0xe9,\n",
            "  0x14, 0xda, 0xe1, 0xd4, 0x30, 0x1a, 0xee, 0xc3, 0x35, 0x0a, 0xd0, 0xa5,\n",
            "  0x25, 0xd3, 0xe7, 0xf5, 0xee, 0xe0, 0xcc, 0xfa, 0xda, 0xfc, 0xec, 0xdb,\n",
            "  0xba, 0xe8, 0x22, 0x31, 0x33, 0x02, 0xff, 0xff, 0xda, 0x24, 0xb1, 0x14,\n",
            "  0x35, 0x6c, 0x09, 0xe8, 0x07, 0x1f, 0xb7, 0x07, 0xce, 0xa8, 0x33, 0x0f,\n",
            "  0xf0, 0xb7, 0xd0, 0x18, 0x1f, 0x52, 0xd2, 0xdc, 0xf2, 0x22, 0x53, 0xf8,\n",
            "  0x3f, 0xd4, 0xdd, 0xbb, 0x30, 0x0b, 0xe8, 0x13, 0x71, 0xde, 0x1b, 0xf2,\n",
            "  0x12, 0x0c, 0xd4, 0xd2, 0x19, 0xb7, 0xd8, 0x0c, 0xa8, 0xc6, 0xc1, 0x26,\n",
            "  0xb5, 0x02, 0xbb, 0xbf, 0xdd, 0x13, 0x05, 0xf6, 0x5e, 0x0c, 0xc5, 0xe6,\n",
            "  0x13, 0x0c, 0xd5, 0xdf, 0x21, 0x2a, 0x1f, 0xdb, 0xeb, 0x01, 0xf1, 0xf7,\n",
            "  0x29, 0xe3, 0x0d, 0x31, 0xbc, 0xc5, 0xd8, 0xf9, 0xf9, 0xea, 0xe9, 0xe4,\n",
            "  0x4f, 0xc2, 0x32, 0x04, 0x35, 0xd6, 0x1f, 0xcf, 0xfc, 0x30, 0xe3, 0xeb,\n",
            "  0x2e, 0x05, 0xc9, 0xbe, 0xe0, 0x28, 0x9e, 0x01, 0x26, 0xba, 0x2a, 0xf6,\n",
            "  0xb1, 0xd4, 0xfd, 0xf0, 0x4b, 0x27, 0x32, 0x02, 0x3b, 0xfc, 0x64, 0xb7,\n",
            "  0x11, 0x02, 0x06, 0xfe, 0x47, 0x54, 0x02, 0xf9, 0xfd, 0x48, 0x72, 0xe0,\n",
            "  0x04, 0x5a, 0xcf, 0xc7, 0x54, 0x8a, 0x7f, 0x1a, 0xd0, 0x99, 0x9d, 0x2b,\n",
            "  0x24, 0x22, 0xe6, 0xc2, 0x18, 0xfc, 0x12, 0x0f, 0x11, 0xad, 0xfa, 0xb8,\n",
            "  0x04, 0x2b, 0xb9, 0xa9, 0x53, 0xe9, 0xe1, 0xbb, 0x0b, 0x19, 0xad, 0xf0,\n",
            "  0x1f, 0x01, 0xe0, 0x1a, 0xf1, 0x22, 0x0f, 0xef, 0xfa, 0xee, 0x0a, 0xf8,\n",
            "  0x28, 0x67, 0xc5, 0x09, 0xca, 0x3a, 0x0a, 0x27, 0x27, 0x10, 0xe5, 0x1f,\n",
            "  0xf5, 0xa7, 0x27, 0x21, 0x1d, 0xf8, 0xed, 0x07, 0xfe, 0x30, 0x21, 0xfa,\n",
            "  0x20, 0x47, 0x2b, 0x0e, 0xb7, 0xe8, 0xe8, 0x36, 0xfd, 0x06, 0xf3, 0x34,\n",
            "  0xc4, 0x3d, 0x0a, 0x14, 0xea, 0xb1, 0x0c, 0x02, 0xe2, 0x91, 0x13, 0x07,\n",
            "  0x49, 0xec, 0x10, 0x12, 0x1d, 0xfd, 0xd1, 0x19, 0x10, 0xee, 0xfb, 0xea,\n",
            "  0xa9, 0xea, 0xfe, 0x11, 0x3c, 0x0b, 0xd6, 0xeb, 0x07, 0xfc, 0x3f, 0xfa,\n",
            "  0x1e, 0x0f, 0x19, 0x0d, 0xd2, 0xa2, 0xf9, 0xfa, 0xf0, 0x25, 0xd6, 0x1c,\n",
            "  0xb9, 0x1a, 0x26, 0x19, 0x30, 0x2e, 0x47, 0x38, 0xab, 0x33, 0xf8, 0x11,\n",
            "  0x2c, 0x25, 0xfb, 0x15, 0xc5, 0x37, 0xf8, 0x18, 0x0f, 0xdf, 0x32, 0x43,\n",
            "  0xde, 0xbd, 0x11, 0x39, 0x09, 0x10, 0x39, 0x57, 0xef, 0x22, 0x17, 0x31,\n",
            "  0x11, 0x47, 0x1f, 0x33, 0xc1, 0x0d, 0x38, 0x35, 0x20, 0xfd, 0x06, 0x0a,\n",
            "  0xc1, 0x5c, 0x42, 0x4b, 0x1a, 0xd3, 0x66, 0x36, 0xf9, 0xba, 0x19, 0x40,\n",
            "  0x33, 0x02, 0x12, 0x06, 0xe6, 0x1b, 0xd8, 0x22, 0x39, 0x04, 0x05, 0x15,\n",
            "  0xa5, 0x46, 0xef, 0x39, 0x26, 0x09, 0x0c, 0x01, 0xbc, 0xe8, 0xf7, 0x12,\n",
            "  0x12, 0xe1, 0x1c, 0x15, 0xbc, 0xec, 0x1f, 0xcf, 0x23, 0x0f, 0xfa, 0x2d,\n",
            "  0xcf, 0xdb, 0xfe, 0xf3, 0xa1, 0x1a, 0x28, 0x3e, 0xb1, 0x0f, 0x26, 0x20,\n",
            "  0xe5, 0x15, 0xfe, 0x27, 0xcb, 0xd6, 0x34, 0xe5, 0x2a, 0xd4, 0x18, 0x14,\n",
            "  0x03, 0xb9, 0x15, 0x57, 0xf7, 0x1e, 0xe4, 0x1c, 0xcd, 0x0f, 0xe5, 0x29,\n",
            "  0x09, 0x25, 0x51, 0x3f, 0x90, 0x22, 0x2c, 0x2b, 0x00, 0x20, 0xcb, 0x1c,\n",
            "  0xaa, 0x08, 0x1a, 0x3a, 0xfc, 0xac, 0x32, 0x78, 0xe0, 0x81, 0xdf, 0x64,\n",
            "  0x48, 0xe7, 0x12, 0xf4, 0xec, 0xcc, 0xfb, 0x35, 0xed, 0x36, 0xe7, 0x31,\n",
            "  0xab, 0x2b, 0xee, 0x63, 0x04, 0x1c, 0xb7, 0x18, 0xd5, 0xdd, 0x1b, 0x52,\n",
            "  0x1b, 0xf9, 0x40, 0x4d, 0xd6, 0xd2, 0xe1, 0x38, 0x12, 0x0f, 0x8b, 0x19,\n",
            "  0xf5, 0xe6, 0x57, 0x0d, 0xd1, 0x09, 0xeb, 0x42, 0x6b, 0x29, 0x1d, 0xdc,\n",
            "  0x34, 0xef, 0x3d, 0x05, 0x40, 0xd1, 0xf6, 0xde, 0x14, 0x07, 0xf3, 0xbf,\n",
            "  0x35, 0x43, 0xfb, 0xeb, 0xe9, 0x4e, 0xc7, 0xf8, 0x39, 0xc3, 0x08, 0xf2,\n",
            "  0xde, 0xbe, 0xd0, 0xff, 0x60, 0x06, 0x0a, 0xe2, 0x17, 0xec, 0x72, 0xf5,\n",
            "  0x11, 0xc4, 0xdc, 0xd1, 0x5b, 0x36, 0xd4, 0xe6, 0x1e, 0xf5, 0x1f, 0x0d,\n",
            "  0xdf, 0x53, 0xba, 0x06, 0x48, 0xe9, 0x54, 0x2f, 0xda, 0xbb, 0xac, 0xf7,\n",
            "  0x7f, 0x28, 0x05, 0xe4, 0x3a, 0xf0, 0x5c, 0x09, 0x09, 0xb7, 0xe4, 0xcd,\n",
            "  0x5d, 0x23, 0xda, 0x02, 0x64, 0x09, 0xfa, 0xd1, 0xfd, 0x36, 0xe0, 0xfc,\n",
            "  0x64, 0xae, 0x09, 0xf3, 0x1e, 0x0c, 0xe0, 0x2c, 0xb6, 0xff, 0xc2, 0xda,\n",
            "  0x0e, 0xf1, 0xef, 0x12, 0x2f, 0x13, 0xcd, 0x0a, 0x10, 0x1f, 0xc8, 0xdc,\n",
            "  0x49, 0xfa, 0x22, 0x27, 0xf2, 0x41, 0xe5, 0xec, 0x02, 0xc3, 0x68, 0x1a,\n",
            "  0xc0, 0xe5, 0xbe, 0xf7, 0xfb, 0x38, 0xf3, 0xd2, 0x28, 0xf2, 0x3d, 0x17,\n",
            "  0x6a, 0xba, 0xbd, 0xf9, 0x0a, 0xfe, 0xdf, 0x02, 0x5f, 0x4c, 0x28, 0xde,\n",
            "  0x08, 0x14, 0xc1, 0xf4, 0x3c, 0xc6, 0xeb, 0x00, 0xe8, 0xc2, 0x14, 0x2f,\n",
            "  0xe1, 0x33, 0xd4, 0xaf, 0xfa, 0xe1, 0x49, 0xfd, 0x2b, 0xf4, 0x16, 0xc4,\n",
            "  0x39, 0xf3, 0xd1, 0xf6, 0x2f, 0xfd, 0x27, 0xf0, 0xb4, 0x13, 0x03, 0xe7,\n",
            "  0xe6, 0xf5, 0xef, 0x0c, 0xea, 0xdd, 0xce, 0xfc, 0x3b, 0xe1, 0xab, 0xdb,\n",
            "  0xe7, 0xe8, 0x05, 0xee, 0x28, 0xed, 0xe6, 0xb1, 0xe1, 0xfb, 0xdc, 0xd5,\n",
            "  0xd1, 0x39, 0x09, 0xbe, 0xd5, 0xda, 0xd7, 0xef, 0xb9, 0xea, 0xee, 0xdb,\n",
            "  0xca, 0xf0, 0xfa, 0xe1, 0x34, 0x00, 0xdf, 0xde, 0xe5, 0xe1, 0xea, 0xe1,\n",
            "  0x14, 0xe4, 0x1b, 0xe4, 0x27, 0x3d, 0xe1, 0xb1, 0x2a, 0x68, 0x41, 0xcc,\n",
            "  0xef, 0x35, 0xf6, 0xfb, 0x11, 0x1f, 0x5f, 0xf7, 0xe6, 0xd6, 0xba, 0x1a,\n",
            "  0x01, 0x0d, 0xd4, 0xfc, 0x37, 0x02, 0x09, 0x0e, 0xf2, 0xee, 0xb9, 0xcc,\n",
            "  0x2b, 0xd7, 0x0d, 0xd4, 0x18, 0x3b, 0xd3, 0x0a, 0xfd, 0x27, 0xe3, 0xd6,\n",
            "  0x6e, 0xfd, 0xff, 0xff, 0x04, 0x00, 0x00, 0x00, 0x00, 0x01, 0x00, 0x00,\n",
            "  0x36, 0x0a, 0x00, 0x00, 0x4c, 0xcd, 0xff, 0xff, 0x49, 0x0b, 0x00, 0x00,\n",
            "  0xba, 0xc1, 0xff, 0xff, 0xea, 0x1b, 0x00, 0x00, 0xd4, 0xb1, 0xff, 0xff,\n",
            "  0x4f, 0x25, 0x00, 0x00, 0x9c, 0xbd, 0xff, 0xff, 0xc9, 0x0d, 0x00, 0x00,\n",
            "  0xdf, 0x25, 0x00, 0x00, 0x10, 0xf6, 0xff, 0xff, 0x1b, 0x0d, 0x00, 0x00,\n",
            "  0xf8, 0x9f, 0xff, 0xff, 0x21, 0xa6, 0xff, 0xff, 0x8c, 0x04, 0x00, 0x00,\n",
            "  0xf9, 0x16, 0x00, 0x00, 0x53, 0x44, 0x00, 0x00, 0xbf, 0x04, 0x00, 0x00,\n",
            "  0xa5, 0x11, 0x00, 0x00, 0x43, 0x07, 0x00, 0x00, 0xe2, 0xc6, 0xff, 0xff,\n",
            "  0x1d, 0x02, 0x00, 0x00, 0xd7, 0xf4, 0xff, 0xff, 0xd8, 0x7a, 0xff, 0xff,\n",
            "  0x74, 0xae, 0xff, 0xff, 0x57, 0x2e, 0x00, 0x00, 0x55, 0x92, 0xff, 0xff,\n",
            "  0x04, 0x13, 0x00, 0x00, 0xa4, 0x2f, 0x00, 0x00, 0x61, 0x23, 0x00, 0x00,\n",
            "  0x62, 0xd6, 0xff, 0xff, 0x1a, 0x2b, 0x00, 0x00, 0xaa, 0x0e, 0x00, 0x00,\n",
            "  0xab, 0xf6, 0xff, 0xff, 0x53, 0xf8, 0xff, 0xff, 0x3a, 0xfe, 0xff, 0xff,\n",
            "  0x3a, 0xd1, 0xff, 0xff, 0x89, 0x91, 0xff, 0xff, 0x17, 0x0a, 0x00, 0x00,\n",
            "  0x01, 0xcf, 0xff, 0xff, 0x5f, 0x1b, 0x00, 0x00, 0x94, 0x9e, 0xff, 0xff,\n",
            "  0xfe, 0x3b, 0x00, 0x00, 0x96, 0xf0, 0xff, 0xff, 0xc2, 0xfe, 0xff, 0xff,\n",
            "  0x0e, 0xb0, 0xff, 0xff, 0xc0, 0x70, 0xff, 0xff, 0x2a, 0x28, 0x00, 0x00,\n",
            "  0xb8, 0x28, 0x00, 0x00, 0x25, 0xa1, 0xff, 0xff, 0x9a, 0xf7, 0xff, 0xff,\n",
            "  0x2c, 0x08, 0x00, 0x00, 0x0e, 0x2d, 0x00, 0x00, 0x31, 0xf9, 0xff, 0xff,\n",
            "  0x63, 0x73, 0xff, 0xff, 0x3f, 0x20, 0x00, 0x00, 0x72, 0xbe, 0xff, 0xff,\n",
            "  0x2e, 0xfa, 0xff, 0xff, 0xa1, 0x2f, 0x00, 0x00, 0x7e, 0x1d, 0x00, 0x00,\n",
            "  0xc2, 0xb1, 0xff, 0xff, 0xd5, 0x33, 0x00, 0x00, 0xea, 0x94, 0xff, 0xff,\n",
            "  0xcb, 0x2d, 0x00, 0x00, 0x7a, 0xfe, 0xff, 0xff, 0x04, 0x00, 0x00, 0x00,\n",
            "  0xc0, 0x00, 0x00, 0x00, 0x28, 0xa6, 0xb5, 0xa4, 0x05, 0xc0, 0xe5, 0xbd,\n",
            "  0xc3, 0x32, 0x90, 0xbc, 0xc3, 0xbe, 0x38, 0x25, 0xd4, 0xc3, 0xd6, 0x36,\n",
            "  0xbd, 0x20, 0xbf, 0xd3, 0xb4, 0xf6, 0xd2, 0x39, 0x37, 0x19, 0xd3, 0xe6,\n",
            "  0x32, 0x2c, 0x38, 0xd8, 0xac, 0xb4, 0xb1, 0x38, 0x33, 0xd1, 0xd9, 0x97,\n",
            "  0x2f, 0xb8, 0xcf, 0x0a, 0x23, 0xc9, 0x33, 0x23, 0xe9, 0x1e, 0xc9, 0xde,\n",
            "  0xcb, 0x3c, 0xe8, 0x33, 0xba, 0xcc, 0xbe, 0xeb, 0xc6, 0x0b, 0x3c, 0xdf,\n",
            "  0x10, 0xc6, 0x40, 0xb2, 0x43, 0xc0, 0x13, 0x40, 0xaf, 0x92, 0xd2, 0xe6,\n",
            "  0x28, 0x38, 0x3a, 0xce, 0xbb, 0x07, 0x30, 0x95, 0xd0, 0x1d, 0x81, 0xc1,\n",
            "  0xb9, 0xe5, 0xaf, 0x2e, 0xc5, 0xd3, 0xc4, 0x5f, 0xc9, 0xa0, 0x4a, 0x1c,\n",
            "  0xdd, 0x89, 0x26, 0x2c, 0xcd, 0xa9, 0xaf, 0x1a, 0xcf, 0x99, 0xc6, 0xcb,\n",
            "  0x31, 0xd0, 0xa3, 0x2d, 0x8b, 0xc2, 0x36, 0xc0, 0xb5, 0x3c, 0xaf, 0x2e,\n",
            "  0xda, 0x46, 0x13, 0x76, 0x9d, 0x6d, 0xaa, 0x77, 0xde, 0xd0, 0x25, 0xcc,\n",
            "  0x5a, 0x5d, 0xbf, 0xc4, 0xab, 0xf7, 0xe1, 0xcd, 0x70, 0xbf, 0xff, 0x78,\n",
            "  0x6c, 0xac, 0x78, 0xc4, 0xdd, 0xa5, 0x4f, 0xab, 0xcf, 0xd0, 0xe7, 0xda,\n",
            "  0x71, 0x5b, 0xea, 0xff, 0xf2, 0x71, 0x88, 0x36, 0xc3, 0x60, 0x65, 0x94,\n",
            "  0xd2, 0x6d, 0xd1, 0xc0, 0x9e, 0xcd, 0x62, 0xa5, 0x6a, 0xde, 0xac, 0xea,\n",
            "  0x6d, 0xcb, 0x79, 0x9b, 0x46, 0xff, 0xff, 0xff, 0x04, 0x00, 0x00, 0x00,\n",
            "  0x0c, 0x00, 0x00, 0x00, 0x11, 0xf9, 0xff, 0xff, 0x7e, 0xfb, 0xff, 0xff,\n",
            "  0xbd, 0xcc, 0xff, 0xff, 0x5e, 0xff, 0xff, 0xff, 0x04, 0x00, 0x00, 0x00,\n",
            "  0x08, 0x00, 0x00, 0x00, 0x01, 0x00, 0x00, 0x00, 0x02, 0x00, 0x00, 0x00,\n",
            "  0x94, 0xe9, 0xff, 0xff, 0x98, 0xe9, 0xff, 0xff, 0x0f, 0x00, 0x00, 0x00,\n",
            "  0x4d, 0x4c, 0x49, 0x52, 0x20, 0x43, 0x6f, 0x6e, 0x76, 0x65, 0x72, 0x74,\n",
            "  0x65, 0x64, 0x2e, 0x00, 0x01, 0x00, 0x00, 0x00, 0x14, 0x00, 0x00, 0x00,\n",
            "  0x00, 0x00, 0x0e, 0x00, 0x18, 0x00, 0x14, 0x00, 0x10, 0x00, 0x0c, 0x00,\n",
            "  0x08, 0x00, 0x04, 0x00, 0x0e, 0x00, 0x00, 0x00, 0x14, 0x00, 0x00, 0x00,\n",
            "  0x1c, 0x00, 0x00, 0x00, 0xb0, 0x01, 0x00, 0x00, 0xb4, 0x01, 0x00, 0x00,\n",
            "  0xb8, 0x01, 0x00, 0x00, 0x04, 0x00, 0x00, 0x00, 0x6d, 0x61, 0x69, 0x6e,\n",
            "  0x00, 0x00, 0x00, 0x00, 0x06, 0x00, 0x00, 0x00, 0x4c, 0x01, 0x00, 0x00,\n",
            "  0xfc, 0x00, 0x00, 0x00, 0xbc, 0x00, 0x00, 0x00, 0x88, 0x00, 0x00, 0x00,\n",
            "  0x40, 0x00, 0x00, 0x00, 0x04, 0x00, 0x00, 0x00, 0x92, 0xff, 0xff, 0xff,\n",
            "  0x1c, 0x00, 0x00, 0x00, 0x00, 0x00, 0x00, 0x09, 0x1c, 0x00, 0x00, 0x00,\n",
            "  0x20, 0x00, 0x00, 0x00, 0x03, 0x00, 0x00, 0x00, 0x00, 0x00, 0x06, 0x00,\n",
            "  0x08, 0x00, 0x04, 0x00, 0x06, 0x00, 0x00, 0x00, 0x00, 0x00, 0x80, 0x3f,\n",
            "  0x01, 0x00, 0x00, 0x00, 0x0f, 0x00, 0x00, 0x00, 0x01, 0x00, 0x00, 0x00,\n",
            "  0x0e, 0x00, 0x00, 0x00, 0xca, 0xff, 0xff, 0xff, 0x14, 0x00, 0x00, 0x00,\n",
            "  0x00, 0x00, 0x00, 0x08, 0x10, 0x00, 0x00, 0x00, 0x14, 0x00, 0x00, 0x00,\n",
            "  0x02, 0x00, 0x00, 0x00, 0x58, 0xea, 0xff, 0xff, 0x01, 0x00, 0x00, 0x00,\n",
            "  0x0e, 0x00, 0x00, 0x00, 0x03, 0x00, 0x00, 0x00, 0x0d, 0x00, 0x00, 0x00,\n",
            "  0x03, 0x00, 0x00, 0x00, 0x02, 0x00, 0x00, 0x00, 0x00, 0x00, 0x0e, 0x00,\n",
            "  0x18, 0x00, 0x14, 0x00, 0x10, 0x00, 0x0c, 0x00, 0x0b, 0x00, 0x04, 0x00,\n",
            "  0x0e, 0x00, 0x00, 0x00, 0x14, 0x00, 0x00, 0x00, 0x00, 0x00, 0x00, 0x1b,\n",
            "  0x10, 0x00, 0x00, 0x00, 0x14, 0x00, 0x00, 0x00, 0x01, 0x00, 0x00, 0x00,\n",
            "  0x9c, 0xea, 0xff, 0xff, 0x01, 0x00, 0x00, 0x00, 0x0d, 0x00, 0x00, 0x00,\n",
            "  0x02, 0x00, 0x00, 0x00, 0x0c, 0x00, 0x00, 0x00, 0x01, 0x00, 0x00, 0x00,\n",
            "  0x86, 0xff, 0xff, 0xff, 0x10, 0x00, 0x00, 0x00, 0x00, 0x00, 0x00, 0x01,\n",
            "  0x18, 0x00, 0x00, 0x00, 0x1c, 0x00, 0x00, 0x00, 0x78, 0xff, 0xff, 0xff,\n",
            "  0x00, 0x00, 0x00, 0x01, 0x02, 0x00, 0x00, 0x00, 0x02, 0x00, 0x00, 0x00,\n",
            "  0x01, 0x00, 0x00, 0x00, 0x0c, 0x00, 0x00, 0x00, 0x03, 0x00, 0x00, 0x00,\n",
            "  0x0b, 0x00, 0x00, 0x00, 0x05, 0x00, 0x00, 0x00, 0x04, 0x00, 0x00, 0x00,\n",
            "  0xc2, 0xff, 0xff, 0xff, 0x10, 0x00, 0x00, 0x00, 0x00, 0x00, 0x00, 0x01,\n",
            "  0x18, 0x00, 0x00, 0x00, 0x1c, 0x00, 0x00, 0x00, 0xb4, 0xff, 0xff, 0xff,\n",
            "  0x00, 0x00, 0x00, 0x01, 0x02, 0x00, 0x00, 0x00, 0x02, 0x00, 0x00, 0x00,\n",
            "  0x01, 0x00, 0x00, 0x00, 0x0b, 0x00, 0x00, 0x00, 0x03, 0x00, 0x00, 0x00,\n",
            "  0x0a, 0x00, 0x00, 0x00, 0x07, 0x00, 0x00, 0x00, 0x06, 0x00, 0x00, 0x00,\n",
            "  0x00, 0x00, 0x0e, 0x00, 0x14, 0x00, 0x00, 0x00, 0x10, 0x00, 0x0c, 0x00,\n",
            "  0x0b, 0x00, 0x04, 0x00, 0x0e, 0x00, 0x00, 0x00, 0x1c, 0x00, 0x00, 0x00,\n",
            "  0x00, 0x00, 0x00, 0x01, 0x24, 0x00, 0x00, 0x00, 0x28, 0x00, 0x00, 0x00,\n",
            "  0x0c, 0x00, 0x10, 0x00, 0x00, 0x00, 0x0c, 0x00, 0x08, 0x00, 0x07, 0x00,\n",
            "  0x0c, 0x00, 0x00, 0x00, 0x00, 0x00, 0x00, 0x01, 0x02, 0x00, 0x00, 0x00,\n",
            "  0x02, 0x00, 0x00, 0x00, 0x01, 0x00, 0x00, 0x00, 0x0a, 0x00, 0x00, 0x00,\n",
            "  0x03, 0x00, 0x00, 0x00, 0x00, 0x00, 0x00, 0x00, 0x09, 0x00, 0x00, 0x00,\n",
            "  0x08, 0x00, 0x00, 0x00, 0x01, 0x00, 0x00, 0x00, 0x0f, 0x00, 0x00, 0x00,\n",
            "  0x01, 0x00, 0x00, 0x00, 0x00, 0x00, 0x00, 0x00, 0x10, 0x00, 0x00, 0x00,\n",
            "  0xcc, 0x14, 0x00, 0x00, 0x48, 0x14, 0x00, 0x00, 0xc0, 0x13, 0x00, 0x00,\n",
            "  0x5c, 0x13, 0x00, 0x00, 0x80, 0x0f, 0x00, 0x00, 0x1c, 0x0c, 0x00, 0x00,\n",
            "  0xc0, 0x09, 0x00, 0x00, 0xdc, 0x07, 0x00, 0x00, 0x48, 0x06, 0x00, 0x00,\n",
            "  0xac, 0x04, 0x00, 0x00, 0xa8, 0x03, 0x00, 0x00, 0x9c, 0x02, 0x00, 0x00,\n",
            "  0x90, 0x01, 0x00, 0x00, 0x0c, 0x01, 0x00, 0x00, 0x80, 0x00, 0x00, 0x00,\n",
            "  0x04, 0x00, 0x00, 0x00, 0x8a, 0xeb, 0xff, 0xff, 0x00, 0x00, 0x00, 0x01,\n",
            "  0x18, 0x00, 0x00, 0x00, 0x20, 0x00, 0x00, 0x00, 0x3c, 0x00, 0x00, 0x00,\n",
            "  0x10, 0x00, 0x00, 0x00, 0x00, 0x00, 0x00, 0x09, 0x50, 0x00, 0x00, 0x00,\n",
            "  0x02, 0x00, 0x00, 0x00, 0xff, 0xff, 0xff, 0xff, 0x03, 0x00, 0x00, 0x00,\n",
            "  0x6c, 0xeb, 0xff, 0xff, 0x08, 0x00, 0x00, 0x00, 0x10, 0x00, 0x00, 0x00,\n",
            "  0x01, 0x00, 0x00, 0x00, 0x80, 0xff, 0xff, 0xff, 0xff, 0xff, 0xff, 0xff,\n",
            "  0x01, 0x00, 0x00, 0x00, 0x00, 0x00, 0x80, 0x3b, 0x19, 0x00, 0x00, 0x00,\n",
            "  0x53, 0x74, 0x61, 0x74, 0x65, 0x66, 0x75, 0x6c, 0x50, 0x61, 0x72, 0x74,\n",
            "  0x69, 0x74, 0x69, 0x6f, 0x6e, 0x65, 0x64, 0x43, 0x61, 0x6c, 0x6c, 0x3a,\n",
            "  0x30, 0x00, 0x00, 0x00, 0x02, 0x00, 0x00, 0x00, 0x01, 0x00, 0x00, 0x00,\n",
            "  0x03, 0x00, 0x00, 0x00, 0x02, 0xec, 0xff, 0xff, 0x00, 0x00, 0x00, 0x01,\n",
            "  0x18, 0x00, 0x00, 0x00, 0x20, 0x00, 0x00, 0x00, 0x40, 0x00, 0x00, 0x00,\n",
            "  0x0f, 0x00, 0x00, 0x00, 0x00, 0x00, 0x00, 0x09, 0x60, 0x00, 0x00, 0x00,\n",
            "  0x02, 0x00, 0x00, 0x00, 0xff, 0xff, 0xff, 0xff, 0x03, 0x00, 0x00, 0x00,\n",
            "  0xe4, 0xeb, 0xff, 0xff, 0x08, 0x00, 0x00, 0x00, 0x14, 0x00, 0x00, 0x00,\n",
            "  0x01, 0x00, 0x00, 0x00, 0xf4, 0xff, 0xff, 0xff, 0xff, 0xff, 0xff, 0xff,\n",
            "  0x00, 0x00, 0x00, 0x00, 0x01, 0x00, 0x00, 0x00, 0x34, 0x2e, 0xa2, 0x3d,\n",
            "  0x26, 0x00, 0x00, 0x00, 0x6d, 0x6f, 0x64, 0x65, 0x6c, 0x2f, 0x64, 0x65,\n",
            "  0x6e, 0x73, 0x65, 0x2f, 0x4d, 0x61, 0x74, 0x4d, 0x75, 0x6c, 0x3b, 0x6d,\n",
            "  0x6f, 0x64, 0x65, 0x6c, 0x2f, 0x64, 0x65, 0x6e, 0x73, 0x65, 0x2f, 0x42,\n",
            "  0x69, 0x61, 0x73, 0x41, 0x64, 0x64, 0x00, 0x00, 0x02, 0x00, 0x00, 0x00,\n",
            "  0x01, 0x00, 0x00, 0x00, 0x03, 0x00, 0x00, 0x00, 0x8a, 0xec, 0xff, 0xff,\n",
            "  0x00, 0x00, 0x00, 0x01, 0x18, 0x00, 0x00, 0x00, 0x20, 0x00, 0x00, 0x00,\n",
            "  0x3c, 0x00, 0x00, 0x00, 0x0e, 0x00, 0x00, 0x00, 0x00, 0x00, 0x00, 0x09,\n",
            "  0x58, 0x00, 0x00, 0x00, 0x02, 0x00, 0x00, 0x00, 0xff, 0xff, 0xff, 0xff,\n",
            "  0x40, 0x00, 0x00, 0x00, 0x6c, 0xec, 0xff, 0xff, 0x08, 0x00, 0x00, 0x00,\n",
            "  0x10, 0x00, 0x00, 0x00, 0x01, 0x00, 0x00, 0x00, 0x80, 0xff, 0xff, 0xff,\n",
            "  0xff, 0xff, 0xff, 0xff, 0x01, 0x00, 0x00, 0x00, 0x2a, 0x0e, 0xd9, 0x3b,\n",
            "  0x23, 0x00, 0x00, 0x00, 0x6d, 0x6f, 0x64, 0x65, 0x6c, 0x2f, 0x67, 0x6c,\n",
            "  0x6f, 0x62, 0x61, 0x6c, 0x5f, 0x61, 0x76, 0x65, 0x72, 0x61, 0x67, 0x65,\n",
            "  0x5f, 0x70, 0x6f, 0x6f, 0x6c, 0x69, 0x6e, 0x67, 0x32, 0x64, 0x2f, 0x4d,\n",
            "  0x65, 0x61, 0x6e, 0x00, 0x02, 0x00, 0x00, 0x00, 0x01, 0x00, 0x00, 0x00,\n",
            "  0x40, 0x00, 0x00, 0x00, 0x0a, 0xed, 0xff, 0xff, 0x00, 0x00, 0x00, 0x01,\n",
            "  0x18, 0x00, 0x00, 0x00, 0x28, 0x00, 0x00, 0x00, 0x44, 0x00, 0x00, 0x00,\n",
            "  0x0d, 0x00, 0x00, 0x00, 0x00, 0x00, 0x00, 0x09, 0xd8, 0x00, 0x00, 0x00,\n",
            "  0x04, 0x00, 0x00, 0x00, 0xff, 0xff, 0xff, 0xff, 0x04, 0x00, 0x00, 0x00,\n",
            "  0x04, 0x00, 0x00, 0x00, 0x40, 0x00, 0x00, 0x00, 0xf4, 0xec, 0xff, 0xff,\n",
            "  0x08, 0x00, 0x00, 0x00, 0x10, 0x00, 0x00, 0x00, 0x01, 0x00, 0x00, 0x00,\n",
            "  0x80, 0xff, 0xff, 0xff, 0xff, 0xff, 0xff, 0xff, 0x01, 0x00, 0x00, 0x00,\n",
            "  0xb1, 0x26, 0x1e, 0x3d, 0x98, 0x00, 0x00, 0x00, 0x6d, 0x6f, 0x64, 0x65,\n",
            "  0x6c, 0x2f, 0x61, 0x63, 0x74, 0x69, 0x76, 0x61, 0x74, 0x69, 0x6f, 0x6e,\n",
            "  0x5f, 0x32, 0x2f, 0x52, 0x65, 0x6c, 0x75, 0x3b, 0x6d, 0x6f, 0x64, 0x65,\n",
            "  0x6c, 0x2f, 0x62, 0x61, 0x74, 0x63, 0x68, 0x5f, 0x6e, 0x6f, 0x72, 0x6d,\n",
            "  0x61, 0x6c, 0x69, 0x7a, 0x61, 0x74, 0x69, 0x6f, 0x6e, 0x5f, 0x32, 0x2f,\n",
            "  0x46, 0x75, 0x73, 0x65, 0x64, 0x42, 0x61, 0x74, 0x63, 0x68, 0x4e, 0x6f,\n",
            "  0x72, 0x6d, 0x56, 0x33, 0x3b, 0x6d, 0x6f, 0x64, 0x65, 0x6c, 0x2f, 0x63,\n",
            "  0x6f, 0x6e, 0x76, 0x32, 0x64, 0x5f, 0x32, 0x2f, 0x42, 0x69, 0x61, 0x73,\n",
            "  0x41, 0x64, 0x64, 0x2f, 0x52, 0x65, 0x61, 0x64, 0x56, 0x61, 0x72, 0x69,\n",
            "  0x61, 0x62, 0x6c, 0x65, 0x4f, 0x70, 0x3b, 0x6d, 0x6f, 0x64, 0x65, 0x6c,\n",
            "  0x2f, 0x63, 0x6f, 0x6e, 0x76, 0x32, 0x64, 0x5f, 0x32, 0x2f, 0x42, 0x69,\n",
            "  0x61, 0x73, 0x41, 0x64, 0x64, 0x3b, 0x6d, 0x6f, 0x64, 0x65, 0x6c, 0x2f,\n",
            "  0x63, 0x6f, 0x6e, 0x76, 0x32, 0x64, 0x5f, 0x32, 0x2f, 0x43, 0x6f, 0x6e,\n",
            "  0x76, 0x32, 0x44, 0x31, 0x00, 0x00, 0x00, 0x00, 0x04, 0x00, 0x00, 0x00,\n",
            "  0x01, 0x00, 0x00, 0x00, 0x04, 0x00, 0x00, 0x00, 0x04, 0x00, 0x00, 0x00,\n",
            "  0x40, 0x00, 0x00, 0x00, 0x12, 0xee, 0xff, 0xff, 0x00, 0x00, 0x00, 0x01,\n",
            "  0x18, 0x00, 0x00, 0x00, 0x28, 0x00, 0x00, 0x00, 0x44, 0x00, 0x00, 0x00,\n",
            "  0x0c, 0x00, 0x00, 0x00, 0x00, 0x00, 0x00, 0x09, 0xd8, 0x00, 0x00, 0x00,\n",
            "  0x04, 0x00, 0x00, 0x00, 0xff, 0xff, 0xff, 0xff, 0x08, 0x00, 0x00, 0x00,\n",
            "  0x08, 0x00, 0x00, 0x00, 0x20, 0x00, 0x00, 0x00, 0xfc, 0xed, 0xff, 0xff,\n",
            "  0x08, 0x00, 0x00, 0x00, 0x10, 0x00, 0x00, 0x00, 0x01, 0x00, 0x00, 0x00,\n",
            "  0x80, 0xff, 0xff, 0xff, 0xff, 0xff, 0xff, 0xff, 0x01, 0x00, 0x00, 0x00,\n",
            "  0x1d, 0xe7, 0xb3, 0x3c, 0x98, 0x00, 0x00, 0x00, 0x6d, 0x6f, 0x64, 0x65,\n",
            "  0x6c, 0x2f, 0x61, 0x63, 0x74, 0x69, 0x76, 0x61, 0x74, 0x69, 0x6f, 0x6e,\n",
            "  0x5f, 0x31, 0x2f, 0x52, 0x65, 0x6c, 0x75, 0x3b, 0x6d, 0x6f, 0x64, 0x65,\n",
            "  0x6c, 0x2f, 0x62, 0x61, 0x74, 0x63, 0x68, 0x5f, 0x6e, 0x6f, 0x72, 0x6d,\n",
            "  0x61, 0x6c, 0x69, 0x7a, 0x61, 0x74, 0x69, 0x6f, 0x6e, 0x5f, 0x31, 0x2f,\n",
            "  0x46, 0x75, 0x73, 0x65, 0x64, 0x42, 0x61, 0x74, 0x63, 0x68, 0x4e, 0x6f,\n",
            "  0x72, 0x6d, 0x56, 0x33, 0x3b, 0x6d, 0x6f, 0x64, 0x65, 0x6c, 0x2f, 0x63,\n",
            "  0x6f, 0x6e, 0x76, 0x32, 0x64, 0x5f, 0x31, 0x2f, 0x42, 0x69, 0x61, 0x73,\n",
            "  0x41, 0x64, 0x64, 0x2f, 0x52, 0x65, 0x61, 0x64, 0x56, 0x61, 0x72, 0x69,\n",
            "  0x61, 0x62, 0x6c, 0x65, 0x4f, 0x70, 0x3b, 0x6d, 0x6f, 0x64, 0x65, 0x6c,\n",
            "  0x2f, 0x63, 0x6f, 0x6e, 0x76, 0x32, 0x64, 0x5f, 0x31, 0x2f, 0x42, 0x69,\n",
            "  0x61, 0x73, 0x41, 0x64, 0x64, 0x3b, 0x6d, 0x6f, 0x64, 0x65, 0x6c, 0x2f,\n",
            "  0x63, 0x6f, 0x6e, 0x76, 0x32, 0x64, 0x5f, 0x31, 0x2f, 0x43, 0x6f, 0x6e,\n",
            "  0x76, 0x32, 0x44, 0x31, 0x00, 0x00, 0x00, 0x00, 0x04, 0x00, 0x00, 0x00,\n",
            "  0x01, 0x00, 0x00, 0x00, 0x08, 0x00, 0x00, 0x00, 0x08, 0x00, 0x00, 0x00,\n",
            "  0x20, 0x00, 0x00, 0x00, 0x1a, 0xef, 0xff, 0xff, 0x00, 0x00, 0x00, 0x01,\n",
            "  0x18, 0x00, 0x00, 0x00, 0x28, 0x00, 0x00, 0x00, 0x48, 0x00, 0x00, 0x00,\n",
            "  0x0b, 0x00, 0x00, 0x00, 0x00, 0x00, 0x00, 0x09, 0xd0, 0x00, 0x00, 0x00,\n",
            "  0x04, 0x00, 0x00, 0x00, 0xff, 0xff, 0xff, 0xff, 0x10, 0x00, 0x00, 0x00,\n",
            "  0x10, 0x00, 0x00, 0x00, 0x10, 0x00, 0x00, 0x00, 0x04, 0xef, 0xff, 0xff,\n",
            "  0x08, 0x00, 0x00, 0x00, 0x14, 0x00, 0x00, 0x00, 0x01, 0x00, 0x00, 0x00,\n",
            "  0x80, 0xff, 0xff, 0xff, 0xff, 0xff, 0xff, 0xff, 0x00, 0x00, 0x00, 0x00,\n",
            "  0x01, 0x00, 0x00, 0x00, 0xdf, 0xbe, 0xde, 0x3c, 0x8e, 0x00, 0x00, 0x00,\n",
            "  0x6d, 0x6f, 0x64, 0x65, 0x6c, 0x2f, 0x61, 0x63, 0x74, 0x69, 0x76, 0x61,\n",
            "  0x74, 0x69, 0x6f, 0x6e, 0x2f, 0x52, 0x65, 0x6c, 0x75, 0x3b, 0x6d, 0x6f,\n",
            "  0x64, 0x65, 0x6c, 0x2f, 0x62, 0x61, 0x74, 0x63, 0x68, 0x5f, 0x6e, 0x6f,\n",
            "  0x72, 0x6d, 0x61, 0x6c, 0x69, 0x7a, 0x61, 0x74, 0x69, 0x6f, 0x6e, 0x2f,\n",
            "  0x46, 0x75, 0x73, 0x65, 0x64, 0x42, 0x61, 0x74, 0x63, 0x68, 0x4e, 0x6f,\n",
            "  0x72, 0x6d, 0x56, 0x33, 0x3b, 0x6d, 0x6f, 0x64, 0x65, 0x6c, 0x2f, 0x63,\n",
            "  0x6f, 0x6e, 0x76, 0x32, 0x64, 0x2f, 0x42, 0x69, 0x61, 0x73, 0x41, 0x64,\n",
            "  0x64, 0x2f, 0x52, 0x65, 0x61, 0x64, 0x56, 0x61, 0x72, 0x69, 0x61, 0x62,\n",
            "  0x6c, 0x65, 0x4f, 0x70, 0x3b, 0x6d, 0x6f, 0x64, 0x65, 0x6c, 0x2f, 0x63,\n",
            "  0x6f, 0x6e, 0x76, 0x32, 0x64, 0x2f, 0x42, 0x69, 0x61, 0x73, 0x41, 0x64,\n",
            "  0x64, 0x3b, 0x6d, 0x6f, 0x64, 0x65, 0x6c, 0x2f, 0x63, 0x6f, 0x6e, 0x76,\n",
            "  0x32, 0x64, 0x2f, 0x43, 0x6f, 0x6e, 0x76, 0x32, 0x44, 0x32, 0x00, 0x00,\n",
            "  0x04, 0x00, 0x00, 0x00, 0x01, 0x00, 0x00, 0x00, 0x10, 0x00, 0x00, 0x00,\n",
            "  0x10, 0x00, 0x00, 0x00, 0x10, 0x00, 0x00, 0x00, 0x9a, 0xf0, 0xff, 0xff,\n",
            "  0x00, 0x00, 0x00, 0x01, 0x14, 0x00, 0x00, 0x00, 0xe4, 0x00, 0x00, 0x00,\n",
            "  0x0a, 0x00, 0x00, 0x00, 0x00, 0x00, 0x00, 0x09, 0x6c, 0x01, 0x00, 0x00,\n",
            "  0xec, 0xef, 0xff, 0xff, 0x08, 0x00, 0x00, 0x00, 0x88, 0x00, 0x00, 0x00,\n",
            "  0x10, 0x00, 0x00, 0x00, 0x00, 0x00, 0x00, 0x00, 0x00, 0x00, 0x00, 0x00,\n",
            "  0x00, 0x00, 0x00, 0x00, 0x00, 0x00, 0x00, 0x00, 0x00, 0x00, 0x00, 0x00,\n",
            "  0x00, 0x00, 0x00, 0x00, 0x00, 0x00, 0x00, 0x00, 0x00, 0x00, 0x00, 0x00,\n",
            "  0x00, 0x00, 0x00, 0x00, 0x00, 0x00, 0x00, 0x00, 0x00, 0x00, 0x00, 0x00,\n",
            "  0x00, 0x00, 0x00, 0x00, 0x00, 0x00, 0x00, 0x00, 0x00, 0x00, 0x00, 0x00,\n",
            "  0x00, 0x00, 0x00, 0x00, 0x00, 0x00, 0x00, 0x00, 0x00, 0x00, 0x00, 0x00,\n",
            "  0x00, 0x00, 0x00, 0x00, 0x00, 0x00, 0x00, 0x00, 0x00, 0x00, 0x00, 0x00,\n",
            "  0x00, 0x00, 0x00, 0x00, 0x00, 0x00, 0x00, 0x00, 0x00, 0x00, 0x00, 0x00,\n",
            "  0x00, 0x00, 0x00, 0x00, 0x00, 0x00, 0x00, 0x00, 0x00, 0x00, 0x00, 0x00,\n",
            "  0x00, 0x00, 0x00, 0x00, 0x00, 0x00, 0x00, 0x00, 0x00, 0x00, 0x00, 0x00,\n",
            "  0x00, 0x00, 0x00, 0x00, 0x00, 0x00, 0x00, 0x00, 0x00, 0x00, 0x00, 0x00,\n",
            "  0x10, 0x00, 0x00, 0x00, 0x34, 0xb2, 0xca, 0x38, 0x72, 0xef, 0xfa, 0x38,\n",
            "  0x0e, 0x0e, 0x00, 0x39, 0xb8, 0x09, 0x1c, 0x39, 0xd7, 0xa8, 0x12, 0x39,\n",
            "  0x69, 0x12, 0xf8, 0x38, 0x24, 0x9f, 0x1e, 0x39, 0x8f, 0x58, 0x32, 0x39,\n",
            "  0x37, 0x3f, 0x31, 0x39, 0x43, 0xae, 0x62, 0x39, 0x83, 0xea, 0xeb, 0x38,\n",
            "  0x2c, 0x86, 0xfc, 0x38, 0x39, 0xe3, 0x4c, 0x39, 0xaa, 0xe3, 0x68, 0x39,\n",
            "  0xa0, 0x9f, 0x01, 0x39, 0x45, 0x39, 0xe4, 0x38, 0x8d, 0x00, 0x00, 0x00,\n",
            "  0x6d, 0x6f, 0x64, 0x65, 0x6c, 0x2f, 0x61, 0x63, 0x74, 0x69, 0x76, 0x61,\n",
            "  0x74, 0x69, 0x6f, 0x6e, 0x2f, 0x52, 0x65, 0x6c, 0x75, 0x3b, 0x6d, 0x6f,\n",
            "  0x64, 0x65, 0x6c, 0x2f, 0x62, 0x61, 0x74, 0x63, 0x68, 0x5f, 0x6e, 0x6f,\n",
            "  0x72, 0x6d, 0x61, 0x6c, 0x69, 0x7a, 0x61, 0x74, 0x69, 0x6f, 0x6e, 0x2f,\n",
            "  0x46, 0x75, 0x73, 0x65, 0x64, 0x42, 0x61, 0x74, 0x63, 0x68, 0x4e, 0x6f,\n",
            "  0x72, 0x6d, 0x56, 0x33, 0x3b, 0x6d, 0x6f, 0x64, 0x65, 0x6c, 0x2f, 0x63,\n",
            "  0x6f, 0x6e, 0x76, 0x32, 0x64, 0x2f, 0x42, 0x69, 0x61, 0x73, 0x41, 0x64,\n",
            "  0x64, 0x2f, 0x52, 0x65, 0x61, 0x64, 0x56, 0x61, 0x72, 0x69, 0x61, 0x62,\n",
            "  0x6c, 0x65, 0x4f, 0x70, 0x3b, 0x6d, 0x6f, 0x64, 0x65, 0x6c, 0x2f, 0x63,\n",
            "  0x6f, 0x6e, 0x76, 0x32, 0x64, 0x2f, 0x42, 0x69, 0x61, 0x73, 0x41, 0x64,\n",
            "  0x64, 0x3b, 0x6d, 0x6f, 0x64, 0x65, 0x6c, 0x2f, 0x63, 0x6f, 0x6e, 0x76,\n",
            "  0x32, 0x64, 0x2f, 0x43, 0x6f, 0x6e, 0x76, 0x32, 0x44, 0x00, 0x00, 0x00,\n",
            "  0x04, 0x00, 0x00, 0x00, 0x10, 0x00, 0x00, 0x00, 0x03, 0x00, 0x00, 0x00,\n",
            "  0x03, 0x00, 0x00, 0x00, 0x03, 0x00, 0x00, 0x00, 0x32, 0xf2, 0xff, 0xff,\n",
            "  0x00, 0x00, 0x00, 0x01, 0x14, 0x00, 0x00, 0x00, 0xe8, 0x00, 0x00, 0x00,\n",
            "  0x09, 0x00, 0x00, 0x00, 0x00, 0x00, 0x00, 0x02, 0x70, 0x01, 0x00, 0x00,\n",
            "  0x84, 0xf1, 0xff, 0xff, 0x08, 0x00, 0x00, 0x00, 0x8c, 0x00, 0x00, 0x00,\n",
            "  0x10, 0x00, 0x00, 0x00, 0x00, 0x00, 0x00, 0x00, 0x00, 0x00, 0x00, 0x00,\n",
            "  0x00, 0x00, 0x00, 0x00, 0x00, 0x00, 0x00, 0x00, 0x00, 0x00, 0x00, 0x00,\n",
            "  0x00, 0x00, 0x00, 0x00, 0x00, 0x00, 0x00, 0x00, 0x00, 0x00, 0x00, 0x00,\n",
            "  0x00, 0x00, 0x00, 0x00, 0x00, 0x00, 0x00, 0x00, 0x00, 0x00, 0x00, 0x00,\n",
            "  0x00, 0x00, 0x00, 0x00, 0x00, 0x00, 0x00, 0x00, 0x00, 0x00, 0x00, 0x00,\n",
            "  0x00, 0x00, 0x00, 0x00, 0x00, 0x00, 0x00, 0x00, 0x00, 0x00, 0x00, 0x00,\n",
            "  0x00, 0x00, 0x00, 0x00, 0x00, 0x00, 0x00, 0x00, 0x00, 0x00, 0x00, 0x00,\n",
            "  0x00, 0x00, 0x00, 0x00, 0x00, 0x00, 0x00, 0x00, 0x00, 0x00, 0x00, 0x00,\n",
            "  0x00, 0x00, 0x00, 0x00, 0x00, 0x00, 0x00, 0x00, 0x00, 0x00, 0x00, 0x00,\n",
            "  0x00, 0x00, 0x00, 0x00, 0x00, 0x00, 0x00, 0x00, 0x00, 0x00, 0x00, 0x00,\n",
            "  0x00, 0x00, 0x00, 0x00, 0x00, 0x00, 0x00, 0x00, 0x00, 0x00, 0x00, 0x00,\n",
            "  0x00, 0x00, 0x00, 0x00, 0x10, 0x00, 0x00, 0x00, 0x34, 0xb2, 0xca, 0x38,\n",
            "  0x72, 0xef, 0xfa, 0x38, 0x0e, 0x0e, 0x00, 0x39, 0xb8, 0x09, 0x1c, 0x39,\n",
            "  0xd7, 0xa8, 0x12, 0x39, 0x69, 0x12, 0xf8, 0x38, 0x24, 0x9f, 0x1e, 0x39,\n",
            "  0x8f, 0x58, 0x32, 0x39, 0x37, 0x3f, 0x31, 0x39, 0x43, 0xae, 0x62, 0x39,\n",
            "  0x83, 0xea, 0xeb, 0x38, 0x2c, 0x86, 0xfc, 0x38, 0x39, 0xe3, 0x4c, 0x39,\n",
            "  0xaa, 0xe3, 0x68, 0x39, 0xa0, 0x9f, 0x01, 0x39, 0x45, 0x39, 0xe4, 0x38,\n",
            "  0x8e, 0x00, 0x00, 0x00, 0x6d, 0x6f, 0x64, 0x65, 0x6c, 0x2f, 0x61, 0x63,\n",
            "  0x74, 0x69, 0x76, 0x61, 0x74, 0x69, 0x6f, 0x6e, 0x2f, 0x52, 0x65, 0x6c,\n",
            "  0x75, 0x3b, 0x6d, 0x6f, 0x64, 0x65, 0x6c, 0x2f, 0x62, 0x61, 0x74, 0x63,\n",
            "  0x68, 0x5f, 0x6e, 0x6f, 0x72, 0x6d, 0x61, 0x6c, 0x69, 0x7a, 0x61, 0x74,\n",
            "  0x69, 0x6f, 0x6e, 0x2f, 0x46, 0x75, 0x73, 0x65, 0x64, 0x42, 0x61, 0x74,\n",
            "  0x63, 0x68, 0x4e, 0x6f, 0x72, 0x6d, 0x56, 0x33, 0x3b, 0x6d, 0x6f, 0x64,\n",
            "  0x65, 0x6c, 0x2f, 0x63, 0x6f, 0x6e, 0x76, 0x32, 0x64, 0x2f, 0x42, 0x69,\n",
            "  0x61, 0x73, 0x41, 0x64, 0x64, 0x2f, 0x52, 0x65, 0x61, 0x64, 0x56, 0x61,\n",
            "  0x72, 0x69, 0x61, 0x62, 0x6c, 0x65, 0x4f, 0x70, 0x3b, 0x6d, 0x6f, 0x64,\n",
            "  0x65, 0x6c, 0x2f, 0x63, 0x6f, 0x6e, 0x76, 0x32, 0x64, 0x2f, 0x42, 0x69,\n",
            "  0x61, 0x73, 0x41, 0x64, 0x64, 0x3b, 0x6d, 0x6f, 0x64, 0x65, 0x6c, 0x2f,\n",
            "  0x63, 0x6f, 0x6e, 0x76, 0x32, 0x64, 0x2f, 0x43, 0x6f, 0x6e, 0x76, 0x32,\n",
            "  0x44, 0x31, 0x00, 0x00, 0x01, 0x00, 0x00, 0x00, 0x10, 0x00, 0x00, 0x00,\n",
            "  0xc2, 0xf3, 0xff, 0xff, 0x00, 0x00, 0x00, 0x01, 0x14, 0x00, 0x00, 0x00,\n",
            "  0xa4, 0x01, 0x00, 0x00, 0x08, 0x00, 0x00, 0x00, 0x00, 0x00, 0x00, 0x09,\n",
            "  0xb4, 0x01, 0x00, 0x00, 0x14, 0xf3, 0xff, 0xff, 0x08, 0x00, 0x00, 0x00,\n",
            "  0x08, 0x01, 0x00, 0x00, 0x20, 0x00, 0x00, 0x00, 0x00, 0x00, 0x00, 0x00,\n",
            "  0x00, 0x00, 0x00, 0x00, 0x00, 0x00, 0x00, 0x00, 0x00, 0x00, 0x00, 0x00,\n",
            "  0x00, 0x00, 0x00, 0x00, 0x00, 0x00, 0x00, 0x00, 0x00, 0x00, 0x00, 0x00,\n",
            "  0x00, 0x00, 0x00, 0x00, 0x00, 0x00, 0x00, 0x00, 0x00, 0x00, 0x00, 0x00,\n",
            "  0x00, 0x00, 0x00, 0x00, 0x00, 0x00, 0x00, 0x00, 0x00, 0x00, 0x00, 0x00,\n",
            "  0x00, 0x00, 0x00, 0x00, 0x00, 0x00, 0x00, 0x00, 0x00, 0x00, 0x00, 0x00,\n",
            "  0x00, 0x00, 0x00, 0x00, 0x00, 0x00, 0x00, 0x00, 0x00, 0x00, 0x00, 0x00,\n",
            "  0x00, 0x00, 0x00, 0x00, 0x00, 0x00, 0x00, 0x00, 0x00, 0x00, 0x00, 0x00,\n",
            "  0x00, 0x00, 0x00, 0x00, 0x00, 0x00, 0x00, 0x00, 0x00, 0x00, 0x00, 0x00,\n",
            "  0x00, 0x00, 0x00, 0x00, 0x00, 0x00, 0x00, 0x00, 0x00, 0x00, 0x00, 0x00,\n",
            "  0x00, 0x00, 0x00, 0x00, 0x00, 0x00, 0x00, 0x00, 0x00, 0x00, 0x00, 0x00,\n",
            "  0x00, 0x00, 0x00, 0x00, 0x00, 0x00, 0x00, 0x00, 0x00, 0x00, 0x00, 0x00,\n",
            "  0x00, 0x00, 0x00, 0x00, 0x00, 0x00, 0x00, 0x00, 0x00, 0x00, 0x00, 0x00,\n",
            "  0x00, 0x00, 0x00, 0x00, 0x00, 0x00, 0x00, 0x00, 0x00, 0x00, 0x00, 0x00,\n",
            "  0x00, 0x00, 0x00, 0x00, 0x00, 0x00, 0x00, 0x00, 0x00, 0x00, 0x00, 0x00,\n",
            "  0x00, 0x00, 0x00, 0x00, 0x00, 0x00, 0x00, 0x00, 0x00, 0x00, 0x00, 0x00,\n",
            "  0x00, 0x00, 0x00, 0x00, 0x00, 0x00, 0x00, 0x00, 0x00, 0x00, 0x00, 0x00,\n",
            "  0x00, 0x00, 0x00, 0x00, 0x00, 0x00, 0x00, 0x00, 0x00, 0x00, 0x00, 0x00,\n",
            "  0x00, 0x00, 0x00, 0x00, 0x00, 0x00, 0x00, 0x00, 0x00, 0x00, 0x00, 0x00,\n",
            "  0x00, 0x00, 0x00, 0x00, 0x00, 0x00, 0x00, 0x00, 0x00, 0x00, 0x00, 0x00,\n",
            "  0x00, 0x00, 0x00, 0x00, 0x00, 0x00, 0x00, 0x00, 0x00, 0x00, 0x00, 0x00,\n",
            "  0x00, 0x00, 0x00, 0x00, 0x00, 0x00, 0x00, 0x00, 0x00, 0x00, 0x00, 0x00,\n",
            "  0x20, 0x00, 0x00, 0x00, 0x30, 0x8e, 0x82, 0x3b, 0x14, 0x79, 0x7a, 0x3b,\n",
            "  0xe6, 0x87, 0x6f, 0x3b, 0xaf, 0x80, 0x2b, 0x3b, 0x6a, 0xd9, 0x77, 0x3b,\n",
            "  0x04, 0x30, 0x2a, 0x3b, 0x85, 0x96, 0x47, 0x3b, 0x82, 0x42, 0x25, 0x3b,\n",
            "  0xb9, 0x5a, 0x8f, 0x3b, 0x15, 0xa5, 0xa7, 0x3b, 0x32, 0x38, 0x59, 0x3b,\n",
            "  0xea, 0x80, 0x79, 0x3b, 0xad, 0xfc, 0x82, 0x3b, 0x36, 0xdb, 0x22, 0x3b,\n",
            "  0xff, 0x1c, 0x7f, 0x3b, 0x34, 0x69, 0x43, 0x3b, 0xb3, 0x04, 0x77, 0x3b,\n",
            "  0x61, 0x71, 0x5c, 0x3b, 0x14, 0x8a, 0x46, 0x3b, 0x34, 0x0a, 0x3e, 0x3b,\n",
            "  0x9e, 0x33, 0x7e, 0x3b, 0x0f, 0x4b, 0x83, 0x3b, 0x06, 0xc7, 0x40, 0x3b,\n",
            "  0x0e, 0xa4, 0x01, 0x3b, 0x94, 0x5b, 0x89, 0x3b, 0x8b, 0xd2, 0x5e, 0x3b,\n",
            "  0x91, 0x46, 0x82, 0x3b, 0x8b, 0xfb, 0x19, 0x3b, 0xd3, 0xd3, 0x60, 0x3b,\n",
            "  0xad, 0xd2, 0x51, 0x3b, 0xed, 0x9b, 0x7d, 0x3b, 0xf6, 0x9d, 0x21, 0x3b,\n",
            "  0x15, 0x00, 0x00, 0x00, 0x6d, 0x6f, 0x64, 0x65, 0x6c, 0x2f, 0x63, 0x6f,\n",
            "  0x6e, 0x76, 0x32, 0x64, 0x5f, 0x31, 0x2f, 0x43, 0x6f, 0x6e, 0x76, 0x32,\n",
            "  0x44, 0x00, 0x00, 0x00, 0x04, 0x00, 0x00, 0x00, 0x20, 0x00, 0x00, 0x00,\n",
            "  0x03, 0x00, 0x00, 0x00, 0x03, 0x00, 0x00, 0x00, 0x10, 0x00, 0x00, 0x00,\n",
            "  0xa2, 0xf5, 0xff, 0xff, 0x00, 0x00, 0x00, 0x01, 0x14, 0x00, 0x00, 0x00,\n",
            "  0xa8, 0x01, 0x00, 0x00, 0x07, 0x00, 0x00, 0x00, 0x00, 0x00, 0x00, 0x02,\n",
            "  0x38, 0x02, 0x00, 0x00, 0xf4, 0xf4, 0xff, 0xff, 0x08, 0x00, 0x00, 0x00,\n",
            "  0x0c, 0x01, 0x00, 0x00, 0x20, 0x00, 0x00, 0x00, 0x00, 0x00, 0x00, 0x00,\n",
            "  0x00, 0x00, 0x00, 0x00, 0x00, 0x00, 0x00, 0x00, 0x00, 0x00, 0x00, 0x00,\n",
            "  0x00, 0x00, 0x00, 0x00, 0x00, 0x00, 0x00, 0x00, 0x00, 0x00, 0x00, 0x00,\n",
            "  0x00, 0x00, 0x00, 0x00, 0x00, 0x00, 0x00, 0x00, 0x00, 0x00, 0x00, 0x00,\n",
            "  0x00, 0x00, 0x00, 0x00, 0x00, 0x00, 0x00, 0x00, 0x00, 0x00, 0x00, 0x00,\n",
            "  0x00, 0x00, 0x00, 0x00, 0x00, 0x00, 0x00, 0x00, 0x00, 0x00, 0x00, 0x00,\n",
            "  0x00, 0x00, 0x00, 0x00, 0x00, 0x00, 0x00, 0x00, 0x00, 0x00, 0x00, 0x00,\n",
            "  0x00, 0x00, 0x00, 0x00, 0x00, 0x00, 0x00, 0x00, 0x00, 0x00, 0x00, 0x00,\n",
            "  0x00, 0x00, 0x00, 0x00, 0x00, 0x00, 0x00, 0x00, 0x00, 0x00, 0x00, 0x00,\n",
            "  0x00, 0x00, 0x00, 0x00, 0x00, 0x00, 0x00, 0x00, 0x00, 0x00, 0x00, 0x00,\n",
            "  0x00, 0x00, 0x00, 0x00, 0x00, 0x00, 0x00, 0x00, 0x00, 0x00, 0x00, 0x00,\n",
            "  0x00, 0x00, 0x00, 0x00, 0x00, 0x00, 0x00, 0x00, 0x00, 0x00, 0x00, 0x00,\n",
            "  0x00, 0x00, 0x00, 0x00, 0x00, 0x00, 0x00, 0x00, 0x00, 0x00, 0x00, 0x00,\n",
            "  0x00, 0x00, 0x00, 0x00, 0x00, 0x00, 0x00, 0x00, 0x00, 0x00, 0x00, 0x00,\n",
            "  0x00, 0x00, 0x00, 0x00, 0x00, 0x00, 0x00, 0x00, 0x00, 0x00, 0x00, 0x00,\n",
            "  0x00, 0x00, 0x00, 0x00, 0x00, 0x00, 0x00, 0x00, 0x00, 0x00, 0x00, 0x00,\n",
            "  0x00, 0x00, 0x00, 0x00, 0x00, 0x00, 0x00, 0x00, 0x00, 0x00, 0x00, 0x00,\n",
            "  0x00, 0x00, 0x00, 0x00, 0x00, 0x00, 0x00, 0x00, 0x00, 0x00, 0x00, 0x00,\n",
            "  0x00, 0x00, 0x00, 0x00, 0x00, 0x00, 0x00, 0x00, 0x00, 0x00, 0x00, 0x00,\n",
            "  0x00, 0x00, 0x00, 0x00, 0x00, 0x00, 0x00, 0x00, 0x00, 0x00, 0x00, 0x00,\n",
            "  0x00, 0x00, 0x00, 0x00, 0x00, 0x00, 0x00, 0x00, 0x00, 0x00, 0x00, 0x00,\n",
            "  0x00, 0x00, 0x00, 0x00, 0x00, 0x00, 0x00, 0x00, 0x00, 0x00, 0x00, 0x00,\n",
            "  0x00, 0x00, 0x00, 0x00, 0x20, 0x00, 0x00, 0x00, 0x4a, 0x31, 0xe3, 0x38,\n",
            "  0xbf, 0xef, 0xd9, 0x38, 0x71, 0x6a, 0xd0, 0x38, 0x77, 0x39, 0x95, 0x38,\n",
            "  0x55, 0xa7, 0xd7, 0x38, 0x87, 0x14, 0x94, 0x38, 0x57, 0xa9, 0xad, 0x38,\n",
            "  0xe4, 0xca, 0x8f, 0x38, 0x1d, 0x77, 0xf9, 0x38, 0x27, 0xde, 0x11, 0x39,\n",
            "  0xb0, 0x00, 0xbd, 0x38, 0xd2, 0x17, 0xd9, 0x38, 0x8f, 0xf1, 0xe3, 0x38,\n",
            "  0x85, 0xb3, 0x8d, 0x38, 0x5b, 0xf9, 0xdd, 0x38, 0xed, 0x06, 0xaa, 0x38,\n",
            "  0x40, 0xee, 0xd6, 0x38, 0xae, 0xce, 0xbf, 0x38, 0xc5, 0xbf, 0xac, 0x38,\n",
            "  0x8a, 0x5a, 0xa5, 0x38, 0x4b, 0x2e, 0xdd, 0x38, 0xf6, 0x79, 0xe4, 0x38,\n",
            "  0x53, 0xbc, 0xa7, 0x38, 0xda, 0x99, 0x61, 0x38, 0xa8, 0x07, 0xef, 0x38,\n",
            "  0xb7, 0xe0, 0xc1, 0x38, 0xa7, 0xb4, 0xe2, 0x38, 0xf1, 0xfa, 0x85, 0x38,\n",
            "  0x52, 0x9f, 0xc3, 0x38, 0x23, 0x91, 0xb6, 0x38, 0x4e, 0xaa, 0xdc, 0x38,\n",
            "  0x7b, 0x9f, 0x8c, 0x38, 0x97, 0x00, 0x00, 0x00, 0x6d, 0x6f, 0x64, 0x65,\n",
            "  0x6c, 0x2f, 0x61, 0x63, 0x74, 0x69, 0x76, 0x61, 0x74, 0x69, 0x6f, 0x6e,\n",
            "  0x5f, 0x31, 0x2f, 0x52, 0x65, 0x6c, 0x75, 0x3b, 0x6d, 0x6f, 0x64, 0x65,\n",
            "  0x6c, 0x2f, 0x62, 0x61, 0x74, 0x63, 0x68, 0x5f, 0x6e, 0x6f, 0x72, 0x6d,\n",
            "  0x61, 0x6c, 0x69, 0x7a, 0x61, 0x74, 0x69, 0x6f, 0x6e, 0x5f, 0x31, 0x2f,\n",
            "  0x46, 0x75, 0x73, 0x65, 0x64, 0x42, 0x61, 0x74, 0x63, 0x68, 0x4e, 0x6f,\n",
            "  0x72, 0x6d, 0x56, 0x33, 0x3b, 0x6d, 0x6f, 0x64, 0x65, 0x6c, 0x2f, 0x63,\n",
            "  0x6f, 0x6e, 0x76, 0x32, 0x64, 0x5f, 0x31, 0x2f, 0x42, 0x69, 0x61, 0x73,\n",
            "  0x41, 0x64, 0x64, 0x2f, 0x52, 0x65, 0x61, 0x64, 0x56, 0x61, 0x72, 0x69,\n",
            "  0x61, 0x62, 0x6c, 0x65, 0x4f, 0x70, 0x3b, 0x6d, 0x6f, 0x64, 0x65, 0x6c,\n",
            "  0x2f, 0x63, 0x6f, 0x6e, 0x76, 0x32, 0x64, 0x5f, 0x31, 0x2f, 0x42, 0x69,\n",
            "  0x61, 0x73, 0x41, 0x64, 0x64, 0x3b, 0x6d, 0x6f, 0x64, 0x65, 0x6c, 0x2f,\n",
            "  0x63, 0x6f, 0x6e, 0x76, 0x32, 0x64, 0x5f, 0x31, 0x2f, 0x43, 0x6f, 0x6e,\n",
            "  0x76, 0x32, 0x44, 0x00, 0x01, 0x00, 0x00, 0x00, 0x20, 0x00, 0x00, 0x00,\n",
            "  0xfa, 0xf7, 0xff, 0xff, 0x00, 0x00, 0x00, 0x01, 0x14, 0x00, 0x00, 0x00,\n",
            "  0x24, 0x03, 0x00, 0x00, 0x06, 0x00, 0x00, 0x00, 0x00, 0x00, 0x00, 0x09,\n",
            "  0x34, 0x03, 0x00, 0x00, 0x4c, 0xf7, 0xff, 0xff, 0x08, 0x00, 0x00, 0x00,\n",
            "  0x08, 0x02, 0x00, 0x00, 0x40, 0x00, 0x00, 0x00, 0x00, 0x00, 0x00, 0x00,\n",
            "  0x00, 0x00, 0x00, 0x00, 0x00, 0x00, 0x00, 0x00, 0x00, 0x00, 0x00, 0x00,\n",
            "  0x00, 0x00, 0x00, 0x00, 0x00, 0x00, 0x00, 0x00, 0x00, 0x00, 0x00, 0x00,\n",
            "  0x00, 0x00, 0x00, 0x00, 0x00, 0x00, 0x00, 0x00, 0x00, 0x00, 0x00, 0x00,\n",
            "  0x00, 0x00, 0x00, 0x00, 0x00, 0x00, 0x00, 0x00, 0x00, 0x00, 0x00, 0x00,\n",
            "  0x00, 0x00, 0x00, 0x00, 0x00, 0x00, 0x00, 0x00, 0x00, 0x00, 0x00, 0x00,\n",
            "  0x00, 0x00, 0x00, 0x00, 0x00, 0x00, 0x00, 0x00, 0x00, 0x00, 0x00, 0x00,\n",
            "  0x00, 0x00, 0x00, 0x00, 0x00, 0x00, 0x00, 0x00, 0x00, 0x00, 0x00, 0x00,\n",
            "  0x00, 0x00, 0x00, 0x00, 0x00, 0x00, 0x00, 0x00, 0x00, 0x00, 0x00, 0x00,\n",
            "  0x00, 0x00, 0x00, 0x00, 0x00, 0x00, 0x00, 0x00, 0x00, 0x00, 0x00, 0x00,\n",
            "  0x00, 0x00, 0x00, 0x00, 0x00, 0x00, 0x00, 0x00, 0x00, 0x00, 0x00, 0x00,\n",
            "  0x00, 0x00, 0x00, 0x00, 0x00, 0x00, 0x00, 0x00, 0x00, 0x00, 0x00, 0x00,\n",
            "  0x00, 0x00, 0x00, 0x00, 0x00, 0x00, 0x00, 0x00, 0x00, 0x00, 0x00, 0x00,\n",
            "  0x00, 0x00, 0x00, 0x00, 0x00, 0x00, 0x00, 0x00, 0x00, 0x00, 0x00, 0x00,\n",
            "  0x00, 0x00, 0x00, 0x00, 0x00, 0x00, 0x00, 0x00, 0x00, 0x00, 0x00, 0x00,\n",
            "  0x00, 0x00, 0x00, 0x00, 0x00, 0x00, 0x00, 0x00, 0x00, 0x00, 0x00, 0x00,\n",
            "  0x00, 0x00, 0x00, 0x00, 0x00, 0x00, 0x00, 0x00, 0x00, 0x00, 0x00, 0x00,\n",
            "  0x00, 0x00, 0x00, 0x00, 0x00, 0x00, 0x00, 0x00, 0x00, 0x00, 0x00, 0x00,\n",
            "  0x00, 0x00, 0x00, 0x00, 0x00, 0x00, 0x00, 0x00, 0x00, 0x00, 0x00, 0x00,\n",
            "  0x00, 0x00, 0x00, 0x00, 0x00, 0x00, 0x00, 0x00, 0x00, 0x00, 0x00, 0x00,\n",
            "  0x00, 0x00, 0x00, 0x00, 0x00, 0x00, 0x00, 0x00, 0x00, 0x00, 0x00, 0x00,\n",
            "  0x00, 0x00, 0x00, 0x00, 0x00, 0x00, 0x00, 0x00, 0x00, 0x00, 0x00, 0x00,\n",
            "  0x00, 0x00, 0x00, 0x00, 0x00, 0x00, 0x00, 0x00, 0x00, 0x00, 0x00, 0x00,\n",
            "  0x00, 0x00, 0x00, 0x00, 0x00, 0x00, 0x00, 0x00, 0x00, 0x00, 0x00, 0x00,\n",
            "  0x00, 0x00, 0x00, 0x00, 0x00, 0x00, 0x00, 0x00, 0x00, 0x00, 0x00, 0x00,\n",
            "  0x00, 0x00, 0x00, 0x00, 0x00, 0x00, 0x00, 0x00, 0x00, 0x00, 0x00, 0x00,\n",
            "  0x00, 0x00, 0x00, 0x00, 0x00, 0x00, 0x00, 0x00, 0x00, 0x00, 0x00, 0x00,\n",
            "  0x00, 0x00, 0x00, 0x00, 0x00, 0x00, 0x00, 0x00, 0x00, 0x00, 0x00, 0x00,\n",
            "  0x00, 0x00, 0x00, 0x00, 0x00, 0x00, 0x00, 0x00, 0x00, 0x00, 0x00, 0x00,\n",
            "  0x00, 0x00, 0x00, 0x00, 0x00, 0x00, 0x00, 0x00, 0x00, 0x00, 0x00, 0x00,\n",
            "  0x00, 0x00, 0x00, 0x00, 0x00, 0x00, 0x00, 0x00, 0x00, 0x00, 0x00, 0x00,\n",
            "  0x00, 0x00, 0x00, 0x00, 0x00, 0x00, 0x00, 0x00, 0x00, 0x00, 0x00, 0x00,\n",
            "  0x00, 0x00, 0x00, 0x00, 0x00, 0x00, 0x00, 0x00, 0x00, 0x00, 0x00, 0x00,\n",
            "  0x00, 0x00, 0x00, 0x00, 0x00, 0x00, 0x00, 0x00, 0x00, 0x00, 0x00, 0x00,\n",
            "  0x00, 0x00, 0x00, 0x00, 0x00, 0x00, 0x00, 0x00, 0x00, 0x00, 0x00, 0x00,\n",
            "  0x00, 0x00, 0x00, 0x00, 0x00, 0x00, 0x00, 0x00, 0x00, 0x00, 0x00, 0x00,\n",
            "  0x00, 0x00, 0x00, 0x00, 0x00, 0x00, 0x00, 0x00, 0x00, 0x00, 0x00, 0x00,\n",
            "  0x00, 0x00, 0x00, 0x00, 0x00, 0x00, 0x00, 0x00, 0x00, 0x00, 0x00, 0x00,\n",
            "  0x00, 0x00, 0x00, 0x00, 0x00, 0x00, 0x00, 0x00, 0x00, 0x00, 0x00, 0x00,\n",
            "  0x00, 0x00, 0x00, 0x00, 0x00, 0x00, 0x00, 0x00, 0x00, 0x00, 0x00, 0x00,\n",
            "  0x00, 0x00, 0x00, 0x00, 0x00, 0x00, 0x00, 0x00, 0x00, 0x00, 0x00, 0x00,\n",
            "  0x00, 0x00, 0x00, 0x00, 0x00, 0x00, 0x00, 0x00, 0x00, 0x00, 0x00, 0x00,\n",
            "  0x00, 0x00, 0x00, 0x00, 0x00, 0x00, 0x00, 0x00, 0x00, 0x00, 0x00, 0x00,\n",
            "  0x00, 0x00, 0x00, 0x00, 0x40, 0x00, 0x00, 0x00, 0x9f, 0x7c, 0xbb, 0x3a,\n",
            "  0x7a, 0xd7, 0xb2, 0x3a, 0xf9, 0xf3, 0xdf, 0x3a, 0x1f, 0xfa, 0xb5, 0x3a,\n",
            "  0xa0, 0x56, 0xd3, 0x3a, 0xe2, 0x49, 0x99, 0x3a, 0xfb, 0xc1, 0xc6, 0x3a,\n",
            "  0x94, 0xdb, 0xc9, 0x3a, 0x3c, 0x97, 0xd5, 0x3a, 0x4a, 0x1d, 0xa5, 0x3a,\n",
            "  0x3a, 0x96, 0xc0, 0x3a, 0x13, 0xfa, 0xb7, 0x3a, 0xa0, 0x6b, 0x95, 0x3a,\n",
            "  0x70, 0x04, 0x8b, 0x3a, 0x27, 0xa4, 0x00, 0x3b, 0x1d, 0xda, 0xe5, 0x3a,\n",
            "  0x1e, 0x10, 0xa3, 0x3a, 0x11, 0x40, 0xbf, 0x3a, 0xe4, 0xed, 0xd1, 0x3a,\n",
            "  0x7a, 0xce, 0xcc, 0x3a, 0x4d, 0x65, 0x9c, 0x3a, 0xcc, 0x4e, 0xc4, 0x3a,\n",
            "  0x22, 0xbb, 0x07, 0x3b, 0x58, 0xa1, 0x84, 0x3a, 0xa7, 0x9e, 0x82, 0x3a,\n",
            "  0x2d, 0xbf, 0xa8, 0x3a, 0x9b, 0x49, 0x84, 0x3a, 0x79, 0xfc, 0xa2, 0x3a,\n",
            "  0x6d, 0xc4, 0x8d, 0x3a, 0xb7, 0x2a, 0xea, 0x3a, 0xaf, 0x60, 0xbd, 0x3a,\n",
            "  0xab, 0xcf, 0xbd, 0x3a, 0xc6, 0x75, 0xd6, 0x3a, 0x09, 0x82, 0xc2, 0x3a,\n",
            "  0x07, 0x07, 0x9e, 0x3a, 0x6d, 0x58, 0xad, 0x3a, 0xfa, 0x36, 0x96, 0x3a,\n",
            "  0x71, 0xd1, 0x88, 0x3a, 0x63, 0xc8, 0xde, 0x3a, 0xab, 0x4a, 0x8d, 0x3a,\n",
            "  0xf1, 0x24, 0x82, 0x3a, 0x58, 0xde, 0x9b, 0x3a, 0x60, 0xbe, 0x78, 0x3a,\n",
            "  0x3d, 0x4a, 0xba, 0x3a, 0xe5, 0x8f, 0xd2, 0x3a, 0x89, 0xbd, 0x97, 0x3a,\n",
            "  0x6b, 0xed, 0x8a, 0x3a, 0x83, 0xd9, 0xbb, 0x3a, 0x34, 0x06, 0xab, 0x3a,\n",
            "  0xe8, 0xd2, 0xaf, 0x3a, 0x54, 0xfc, 0xfc, 0x3a, 0xaa, 0xf4, 0xac, 0x3a,\n",
            "  0xc4, 0x43, 0xc4, 0x3a, 0x8b, 0x38, 0xd0, 0x3a, 0xd2, 0x03, 0x8f, 0x3a,\n",
            "  0x86, 0xec, 0xdc, 0x3a, 0x0b, 0x6b, 0xce, 0x3a, 0x5d, 0x82, 0xb4, 0x3a,\n",
            "  0xfd, 0x85, 0xc2, 0x3a, 0x6d, 0x15, 0xc2, 0x3a, 0x98, 0x2a, 0xa0, 0x3a,\n",
            "  0xbc, 0xd5, 0xc0, 0x3a, 0xad, 0x90, 0x93, 0x3a, 0xf6, 0x57, 0xb4, 0x3a,\n",
            "  0x15, 0x00, 0x00, 0x00, 0x6d, 0x6f, 0x64, 0x65, 0x6c, 0x2f, 0x63, 0x6f,\n",
            "  0x6e, 0x76, 0x32, 0x64, 0x5f, 0x32, 0x2f, 0x43, 0x6f, 0x6e, 0x76, 0x32,\n",
            "  0x44, 0x00, 0x00, 0x00, 0x04, 0x00, 0x00, 0x00, 0x40, 0x00, 0x00, 0x00,\n",
            "  0x03, 0x00, 0x00, 0x00, 0x03, 0x00, 0x00, 0x00, 0x20, 0x00, 0x00, 0x00,\n",
            "  0x5a, 0xfb, 0xff, 0xff, 0x00, 0x00, 0x00, 0x01, 0x14, 0x00, 0x00, 0x00,\n",
            "  0x28, 0x03, 0x00, 0x00, 0x05, 0x00, 0x00, 0x00, 0x00, 0x00, 0x00, 0x02,\n",
            "  0xb8, 0x03, 0x00, 0x00, 0xac, 0xfa, 0xff, 0xff, 0x08, 0x00, 0x00, 0x00,\n",
            "  0x0c, 0x02, 0x00, 0x00, 0x40, 0x00, 0x00, 0x00, 0x00, 0x00, 0x00, 0x00,\n",
            "  0x00, 0x00, 0x00, 0x00, 0x00, 0x00, 0x00, 0x00, 0x00, 0x00, 0x00, 0x00,\n",
            "  0x00, 0x00, 0x00, 0x00, 0x00, 0x00, 0x00, 0x00, 0x00, 0x00, 0x00, 0x00,\n",
            "  0x00, 0x00, 0x00, 0x00, 0x00, 0x00, 0x00, 0x00, 0x00, 0x00, 0x00, 0x00,\n",
            "  0x00, 0x00, 0x00, 0x00, 0x00, 0x00, 0x00, 0x00, 0x00, 0x00, 0x00, 0x00,\n",
            "  0x00, 0x00, 0x00, 0x00, 0x00, 0x00, 0x00, 0x00, 0x00, 0x00, 0x00, 0x00,\n",
            "  0x00, 0x00, 0x00, 0x00, 0x00, 0x00, 0x00, 0x00, 0x00, 0x00, 0x00, 0x00,\n",
            "  0x00, 0x00, 0x00, 0x00, 0x00, 0x00, 0x00, 0x00, 0x00, 0x00, 0x00, 0x00,\n",
            "  0x00, 0x00, 0x00, 0x00, 0x00, 0x00, 0x00, 0x00, 0x00, 0x00, 0x00, 0x00,\n",
            "  0x00, 0x00, 0x00, 0x00, 0x00, 0x00, 0x00, 0x00, 0x00, 0x00, 0x00, 0x00,\n",
            "  0x00, 0x00, 0x00, 0x00, 0x00, 0x00, 0x00, 0x00, 0x00, 0x00, 0x00, 0x00,\n",
            "  0x00, 0x00, 0x00, 0x00, 0x00, 0x00, 0x00, 0x00, 0x00, 0x00, 0x00, 0x00,\n",
            "  0x00, 0x00, 0x00, 0x00, 0x00, 0x00, 0x00, 0x00, 0x00, 0x00, 0x00, 0x00,\n",
            "  0x00, 0x00, 0x00, 0x00, 0x00, 0x00, 0x00, 0x00, 0x00, 0x00, 0x00, 0x00,\n",
            "  0x00, 0x00, 0x00, 0x00, 0x00, 0x00, 0x00, 0x00, 0x00, 0x00, 0x00, 0x00,\n",
            "  0x00, 0x00, 0x00, 0x00, 0x00, 0x00, 0x00, 0x00, 0x00, 0x00, 0x00, 0x00,\n",
            "  0x00, 0x00, 0x00, 0x00, 0x00, 0x00, 0x00, 0x00, 0x00, 0x00, 0x00, 0x00,\n",
            "  0x00, 0x00, 0x00, 0x00, 0x00, 0x00, 0x00, 0x00, 0x00, 0x00, 0x00, 0x00,\n",
            "  0x00, 0x00, 0x00, 0x00, 0x00, 0x00, 0x00, 0x00, 0x00, 0x00, 0x00, 0x00,\n",
            "  0x00, 0x00, 0x00, 0x00, 0x00, 0x00, 0x00, 0x00, 0x00, 0x00, 0x00, 0x00,\n",
            "  0x00, 0x00, 0x00, 0x00, 0x00, 0x00, 0x00, 0x00, 0x00, 0x00, 0x00, 0x00,\n",
            "  0x00, 0x00, 0x00, 0x00, 0x00, 0x00, 0x00, 0x00, 0x00, 0x00, 0x00, 0x00,\n",
            "  0x00, 0x00, 0x00, 0x00, 0x00, 0x00, 0x00, 0x00, 0x00, 0x00, 0x00, 0x00,\n",
            "  0x00, 0x00, 0x00, 0x00, 0x00, 0x00, 0x00, 0x00, 0x00, 0x00, 0x00, 0x00,\n",
            "  0x00, 0x00, 0x00, 0x00, 0x00, 0x00, 0x00, 0x00, 0x00, 0x00, 0x00, 0x00,\n",
            "  0x00, 0x00, 0x00, 0x00, 0x00, 0x00, 0x00, 0x00, 0x00, 0x00, 0x00, 0x00,\n",
            "  0x00, 0x00, 0x00, 0x00, 0x00, 0x00, 0x00, 0x00, 0x00, 0x00, 0x00, 0x00,\n",
            "  0x00, 0x00, 0x00, 0x00, 0x00, 0x00, 0x00, 0x00, 0x00, 0x00, 0x00, 0x00,\n",
            "  0x00, 0x00, 0x00, 0x00, 0x00, 0x00, 0x00, 0x00, 0x00, 0x00, 0x00, 0x00,\n",
            "  0x00, 0x00, 0x00, 0x00, 0x00, 0x00, 0x00, 0x00, 0x00, 0x00, 0x00, 0x00,\n",
            "  0x00, 0x00, 0x00, 0x00, 0x00, 0x00, 0x00, 0x00, 0x00, 0x00, 0x00, 0x00,\n",
            "  0x00, 0x00, 0x00, 0x00, 0x00, 0x00, 0x00, 0x00, 0x00, 0x00, 0x00, 0x00,\n",
            "  0x00, 0x00, 0x00, 0x00, 0x00, 0x00, 0x00, 0x00, 0x00, 0x00, 0x00, 0x00,\n",
            "  0x00, 0x00, 0x00, 0x00, 0x00, 0x00, 0x00, 0x00, 0x00, 0x00, 0x00, 0x00,\n",
            "  0x00, 0x00, 0x00, 0x00, 0x00, 0x00, 0x00, 0x00, 0x00, 0x00, 0x00, 0x00,\n",
            "  0x00, 0x00, 0x00, 0x00, 0x00, 0x00, 0x00, 0x00, 0x00, 0x00, 0x00, 0x00,\n",
            "  0x00, 0x00, 0x00, 0x00, 0x00, 0x00, 0x00, 0x00, 0x00, 0x00, 0x00, 0x00,\n",
            "  0x00, 0x00, 0x00, 0x00, 0x00, 0x00, 0x00, 0x00, 0x00, 0x00, 0x00, 0x00,\n",
            "  0x00, 0x00, 0x00, 0x00, 0x00, 0x00, 0x00, 0x00, 0x00, 0x00, 0x00, 0x00,\n",
            "  0x00, 0x00, 0x00, 0x00, 0x00, 0x00, 0x00, 0x00, 0x00, 0x00, 0x00, 0x00,\n",
            "  0x00, 0x00, 0x00, 0x00, 0x00, 0x00, 0x00, 0x00, 0x00, 0x00, 0x00, 0x00,\n",
            "  0x00, 0x00, 0x00, 0x00, 0x00, 0x00, 0x00, 0x00, 0x00, 0x00, 0x00, 0x00,\n",
            "  0x00, 0x00, 0x00, 0x00, 0x00, 0x00, 0x00, 0x00, 0x00, 0x00, 0x00, 0x00,\n",
            "  0x00, 0x00, 0x00, 0x00, 0x00, 0x00, 0x00, 0x00, 0x40, 0x00, 0x00, 0x00,\n",
            "  0x66, 0xc1, 0x03, 0x38, 0x3e, 0x5c, 0xfb, 0x37, 0xc6, 0x61, 0x1d, 0x38,\n",
            "  0x5a, 0xc4, 0xff, 0x37, 0x5d, 0x84, 0x14, 0x38, 0x18, 0x72, 0xd7, 0x37,\n",
            "  0x12, 0xad, 0x0b, 0x38, 0xc4, 0xda, 0x0d, 0x38, 0x93, 0x19, 0x16, 0x38,\n",
            "  0x16, 0x11, 0xe8, 0x37, 0xe8, 0x56, 0x07, 0x38, 0xf3, 0x49, 0x01, 0x38,\n",
            "  0x4c, 0x02, 0xd2, 0x37, 0x36, 0x63, 0xc3, 0x37, 0xd4, 0xcd, 0x34, 0x38,\n",
            "  0x04, 0x87, 0x21, 0x38, 0xf6, 0x2e, 0xe5, 0x37, 0x74, 0x66, 0x06, 0x38,\n",
            "  0xdc, 0x86, 0x13, 0x38, 0x45, 0xed, 0x0f, 0x38, 0x0c, 0xd0, 0xdb, 0x37,\n",
            "  0x52, 0xf4, 0x09, 0x38, 0xc4, 0xc4, 0x3e, 0x38, 0x1a, 0x69, 0xba, 0x37,\n",
            "  0xb5, 0x95, 0xb7, 0x37, 0x08, 0x2c, 0xed, 0x37, 0xca, 0xed, 0xb9, 0x37,\n",
            "  0x5a, 0x13, 0xe5, 0x37, 0xa9, 0x40, 0xc7, 0x37, 0x45, 0x8f, 0x24, 0x38,\n",
            "  0x92, 0x15, 0x05, 0x38, 0x90, 0x63, 0x05, 0x38, 0xf6, 0xb5, 0x16, 0x38,\n",
            "  0x86, 0xb0, 0x08, 0x38, 0x28, 0x1b, 0xde, 0x37, 0xa5, 0xa2, 0xf3, 0x37,\n",
            "  0x1b, 0x20, 0xd3, 0x37, 0xed, 0x4b, 0xc0, 0x37, 0x3d, 0x8f, 0x1c, 0x38,\n",
            "  0x88, 0x95, 0xc6, 0x37, 0xa5, 0xea, 0xb6, 0x37, 0x5e, 0x12, 0xdb, 0x37,\n",
            "  0xad, 0xcd, 0xae, 0x37, 0x17, 0xea, 0x02, 0x38, 0xb5, 0xf8, 0x13, 0x38,\n",
            "  0x08, 0x45, 0xd5, 0x37, 0xdc, 0x42, 0xc3, 0x37, 0xad, 0x02, 0x04, 0x38,\n",
            "  0x79, 0x5f, 0xf0, 0x37, 0x67, 0x1e, 0xf7, 0x37, 0xd3, 0xc8, 0x31, 0x38,\n",
            "  0x6e, 0x16, 0xf3, 0x37, 0x91, 0xec, 0x09, 0x38, 0x84, 0x53, 0x12, 0x38,\n",
            "  0x91, 0x01, 0xc9, 0x37, 0xd4, 0x40, 0x1b, 0x38, 0x33, 0x0f, 0x11, 0x38,\n",
            "  0x3a, 0xb4, 0xfd, 0x37, 0x4d, 0xb3, 0x08, 0x38, 0x33, 0x64, 0x08, 0x38,\n",
            "  0xc2, 0x1c, 0xe1, 0x37, 0x89, 0x83, 0x07, 0x38, 0xc2, 0x66, 0xcf, 0x37,\n",
            "  0xa2, 0x78, 0xfd, 0x37, 0x97, 0x00, 0x00, 0x00, 0x6d, 0x6f, 0x64, 0x65,\n",
            "  0x6c, 0x2f, 0x61, 0x63, 0x74, 0x69, 0x76, 0x61, 0x74, 0x69, 0x6f, 0x6e,\n",
            "  0x5f, 0x32, 0x2f, 0x52, 0x65, 0x6c, 0x75, 0x3b, 0x6d, 0x6f, 0x64, 0x65,\n",
            "  0x6c, 0x2f, 0x62, 0x61, 0x74, 0x63, 0x68, 0x5f, 0x6e, 0x6f, 0x72, 0x6d,\n",
            "  0x61, 0x6c, 0x69, 0x7a, 0x61, 0x74, 0x69, 0x6f, 0x6e, 0x5f, 0x32, 0x2f,\n",
            "  0x46, 0x75, 0x73, 0x65, 0x64, 0x42, 0x61, 0x74, 0x63, 0x68, 0x4e, 0x6f,\n",
            "  0x72, 0x6d, 0x56, 0x33, 0x3b, 0x6d, 0x6f, 0x64, 0x65, 0x6c, 0x2f, 0x63,\n",
            "  0x6f, 0x6e, 0x76, 0x32, 0x64, 0x5f, 0x32, 0x2f, 0x42, 0x69, 0x61, 0x73,\n",
            "  0x41, 0x64, 0x64, 0x2f, 0x52, 0x65, 0x61, 0x64, 0x56, 0x61, 0x72, 0x69,\n",
            "  0x61, 0x62, 0x6c, 0x65, 0x4f, 0x70, 0x3b, 0x6d, 0x6f, 0x64, 0x65, 0x6c,\n",
            "  0x2f, 0x63, 0x6f, 0x6e, 0x76, 0x32, 0x64, 0x5f, 0x32, 0x2f, 0x42, 0x69,\n",
            "  0x61, 0x73, 0x41, 0x64, 0x64, 0x3b, 0x6d, 0x6f, 0x64, 0x65, 0x6c, 0x2f,\n",
            "  0x63, 0x6f, 0x6e, 0x76, 0x32, 0x64, 0x5f, 0x32, 0x2f, 0x43, 0x6f, 0x6e,\n",
            "  0x76, 0x32, 0x44, 0x00, 0x01, 0x00, 0x00, 0x00, 0x40, 0x00, 0x00, 0x00,\n",
            "  0x32, 0xff, 0xff, 0xff, 0x00, 0x00, 0x00, 0x01, 0x14, 0x00, 0x00, 0x00,\n",
            "  0x30, 0x00, 0x00, 0x00, 0x04, 0x00, 0x00, 0x00, 0x00, 0x00, 0x00, 0x09,\n",
            "  0x3c, 0x00, 0x00, 0x00, 0x84, 0xfe, 0xff, 0xff, 0x08, 0x00, 0x00, 0x00,\n",
            "  0x10, 0x00, 0x00, 0x00, 0x01, 0x00, 0x00, 0x00, 0x00, 0x00, 0x00, 0x00,\n",
            "  0x00, 0x00, 0x00, 0x00, 0x01, 0x00, 0x00, 0x00, 0xb1, 0x1e, 0x7b, 0x3b,\n",
            "  0x12, 0x00, 0x00, 0x00, 0x6d, 0x6f, 0x64, 0x65, 0x6c, 0x2f, 0x64, 0x65,\n",
            "  0x6e, 0x73, 0x65, 0x2f, 0x4d, 0x61, 0x74, 0x4d, 0x75, 0x6c, 0x00, 0x00,\n",
            "  0x02, 0x00, 0x00, 0x00, 0x03, 0x00, 0x00, 0x00, 0x40, 0x00, 0x00, 0x00,\n",
            "  0x92, 0xff, 0xff, 0xff, 0x00, 0x00, 0x00, 0x01, 0x14, 0x00, 0x00, 0x00,\n",
            "  0x30, 0x00, 0x00, 0x00, 0x03, 0x00, 0x00, 0x00, 0x00, 0x00, 0x00, 0x02,\n",
            "  0x4c, 0x00, 0x00, 0x00, 0xe4, 0xfe, 0xff, 0xff, 0x08, 0x00, 0x00, 0x00,\n",
            "  0x10, 0x00, 0x00, 0x00, 0x01, 0x00, 0x00, 0x00, 0x00, 0x00, 0x00, 0x00,\n",
            "  0x00, 0x00, 0x00, 0x00, 0x01, 0x00, 0x00, 0x00, 0xe9, 0xea, 0xd4, 0x37,\n",
            "  0x22, 0x00, 0x00, 0x00, 0x6d, 0x6f, 0x64, 0x65, 0x6c, 0x2f, 0x64, 0x65,\n",
            "  0x6e, 0x73, 0x65, 0x2f, 0x42, 0x69, 0x61, 0x73, 0x41, 0x64, 0x64, 0x2f,\n",
            "  0x52, 0x65, 0x61, 0x64, 0x56, 0x61, 0x72, 0x69, 0x61, 0x62, 0x6c, 0x65,\n",
            "  0x4f, 0x70, 0x00, 0x00, 0x01, 0x00, 0x00, 0x00, 0x03, 0x00, 0x00, 0x00,\n",
            "  0x00, 0x00, 0x16, 0x00, 0x1c, 0x00, 0x18, 0x00, 0x17, 0x00, 0x10, 0x00,\n",
            "  0x0c, 0x00, 0x08, 0x00, 0x00, 0x00, 0x00, 0x00, 0x00, 0x00, 0x07, 0x00,\n",
            "  0x16, 0x00, 0x00, 0x00, 0x00, 0x00, 0x00, 0x01, 0x18, 0x00, 0x00, 0x00,\n",
            "  0x18, 0x00, 0x00, 0x00, 0x02, 0x00, 0x00, 0x00, 0x00, 0x00, 0x00, 0x02,\n",
            "  0x48, 0x00, 0x00, 0x00, 0x04, 0x00, 0x04, 0x00, 0x04, 0x00, 0x00, 0x00,\n",
            "  0x35, 0x00, 0x00, 0x00, 0x6d, 0x6f, 0x64, 0x65, 0x6c, 0x2f, 0x67, 0x6c,\n",
            "  0x6f, 0x62, 0x61, 0x6c, 0x5f, 0x61, 0x76, 0x65, 0x72, 0x61, 0x67, 0x65,\n",
            "  0x5f, 0x70, 0x6f, 0x6f, 0x6c, 0x69, 0x6e, 0x67, 0x32, 0x64, 0x2f, 0x4d,\n",
            "  0x65, 0x61, 0x6e, 0x2f, 0x72, 0x65, 0x64, 0x75, 0x63, 0x74, 0x69, 0x6f,\n",
            "  0x6e, 0x5f, 0x69, 0x6e, 0x64, 0x69, 0x63, 0x65, 0x73, 0x00, 0x00, 0x00,\n",
            "  0x01, 0x00, 0x00, 0x00, 0x02, 0x00, 0x00, 0x00, 0x00, 0x00, 0x16, 0x00,\n",
            "  0x20, 0x00, 0x1c, 0x00, 0x1b, 0x00, 0x14, 0x00, 0x10, 0x00, 0x0c, 0x00,\n",
            "  0x00, 0x00, 0x00, 0x00, 0x08, 0x00, 0x07, 0x00, 0x16, 0x00, 0x00, 0x00,\n",
            "  0x00, 0x00, 0x00, 0x01, 0x18, 0x00, 0x00, 0x00, 0x34, 0x00, 0x00, 0x00,\n",
            "  0x54, 0x00, 0x00, 0x00, 0x01, 0x00, 0x00, 0x00, 0x00, 0x00, 0x00, 0x09,\n",
            "  0x68, 0x00, 0x00, 0x00, 0x04, 0x00, 0x00, 0x00, 0xff, 0xff, 0xff, 0xff,\n",
            "  0x20, 0x00, 0x00, 0x00, 0x20, 0x00, 0x00, 0x00, 0x03, 0x00, 0x00, 0x00,\n",
            "  0x0c, 0x00, 0x0c, 0x00, 0x00, 0x00, 0x00, 0x00, 0x08, 0x00, 0x04, 0x00,\n",
            "  0x0c, 0x00, 0x00, 0x00, 0x08, 0x00, 0x00, 0x00, 0x14, 0x00, 0x00, 0x00,\n",
            "  0x01, 0x00, 0x00, 0x00, 0x80, 0xff, 0xff, 0xff, 0xff, 0xff, 0xff, 0xff,\n",
            "  0x00, 0x00, 0x00, 0x00, 0x01, 0x00, 0x00, 0x00, 0x00, 0x00, 0x80, 0x3f,\n",
            "  0x19, 0x00, 0x00, 0x00, 0x73, 0x65, 0x72, 0x76, 0x69, 0x6e, 0x67, 0x5f,\n",
            "  0x64, 0x65, 0x66, 0x61, 0x75, 0x6c, 0x74, 0x5f, 0x69, 0x6e, 0x70, 0x75,\n",
            "  0x74, 0x5f, 0x31, 0x3a, 0x30, 0x00, 0x00, 0x00, 0x04, 0x00, 0x00, 0x00,\n",
            "  0x01, 0x00, 0x00, 0x00, 0x20, 0x00, 0x00, 0x00, 0x20, 0x00, 0x00, 0x00,\n",
            "  0x03, 0x00, 0x00, 0x00, 0x04, 0x00, 0x00, 0x00, 0x4c, 0x00, 0x00, 0x00,\n",
            "  0x2c, 0x00, 0x00, 0x00, 0x18, 0x00, 0x00, 0x00, 0x04, 0x00, 0x00, 0x00,\n",
            "  0xd0, 0xff, 0xff, 0xff, 0x19, 0x00, 0x00, 0x00, 0x02, 0x00, 0x00, 0x00,\n",
            "  0x00, 0x00, 0x00, 0x19, 0xe0, 0xff, 0xff, 0xff, 0x09, 0x00, 0x00, 0x00,\n",
            "  0x04, 0x00, 0x00, 0x00, 0x00, 0x00, 0x00, 0x09, 0xf0, 0xff, 0xff, 0xff,\n",
            "  0x28, 0x00, 0x00, 0x00, 0x02, 0x00, 0x00, 0x00, 0x00, 0x00, 0x00, 0x28,\n",
            "  0x0c, 0x00, 0x10, 0x00, 0x0f, 0x00, 0x00, 0x00, 0x08, 0x00, 0x04, 0x00,\n",
            "  0x0c, 0x00, 0x00, 0x00, 0x03, 0x00, 0x00, 0x00, 0x03, 0x00, 0x00, 0x00,\n",
            "  0x00, 0x00, 0x00, 0x03\n",
            "};\n",
            "unsigned int g_magic_wand_model_data_len = 30832;\n"
          ]
        }
      ]
    },
    {
      "cell_type": "code",
      "source": [],
      "metadata": {
        "id": "hohZlueN4VVJ"
      },
      "execution_count": null,
      "outputs": []
    }
  ]
}